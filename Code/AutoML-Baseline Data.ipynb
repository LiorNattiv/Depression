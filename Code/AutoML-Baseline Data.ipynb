{
 "cells": [
  {
   "cell_type": "markdown",
   "id": "70ce53c5",
   "metadata": {},
   "source": [
    "## With H20:"
   ]
  },
  {
   "cell_type": "code",
   "execution_count": 4,
   "id": "c1c72514",
   "metadata": {
    "ExecuteTime": {
     "end_time": "2021-07-22T11:14:54.147432Z",
     "start_time": "2021-07-22T11:14:54.135320Z"
    }
   },
   "outputs": [],
   "source": [
    "import pandas as pd\n",
    "import numpy as np\n",
    "import matplotlib.pyplot as plt\n",
    "import seaborn as sns\n",
    "from datetime import datetime\n",
    "from sklearn.preprocessing import StandardScaler\n",
    "from sklearn.model_selection import StratifiedKFold\n",
    "from sklearn.ensemble import GradientBoostingClassifier\n",
    "import h2o\n",
    "from h2o.automl import H2OAutoML"
   ]
  },
  {
   "cell_type": "code",
   "execution_count": 5,
   "id": "a638b7a5",
   "metadata": {
    "ExecuteTime": {
     "end_time": "2021-07-22T11:15:04.361276Z",
     "start_time": "2021-07-22T11:14:54.149317Z"
    }
   },
   "outputs": [
    {
     "name": "stdout",
     "output_type": "stream",
     "text": [
      "Checking whether there is an H2O instance running at http://localhost:54321 . connected.\n"
     ]
    },
    {
     "data": {
      "text/html": [
       "<div style=\"overflow:auto\"><table style=\"width:50%\"><tr><td>H2O_cluster_uptime:</td>\n",
       "<td>12 mins 15 secs</td></tr>\n",
       "<tr><td>H2O_cluster_timezone:</td>\n",
       "<td>Asia/Jerusalem</td></tr>\n",
       "<tr><td>H2O_data_parsing_timezone:</td>\n",
       "<td>UTC</td></tr>\n",
       "<tr><td>H2O_cluster_version:</td>\n",
       "<td>3.32.1.3</td></tr>\n",
       "<tr><td>H2O_cluster_version_age:</td>\n",
       "<td>2 months and 2 days </td></tr>\n",
       "<tr><td>H2O_cluster_name:</td>\n",
       "<td>H2O_from_python_liorn_2hplcc</td></tr>\n",
       "<tr><td>H2O_cluster_total_nodes:</td>\n",
       "<td>1</td></tr>\n",
       "<tr><td>H2O_cluster_free_memory:</td>\n",
       "<td>7.919 Gb</td></tr>\n",
       "<tr><td>H2O_cluster_total_cores:</td>\n",
       "<td>8</td></tr>\n",
       "<tr><td>H2O_cluster_allowed_cores:</td>\n",
       "<td>8</td></tr>\n",
       "<tr><td>H2O_cluster_status:</td>\n",
       "<td>locked, healthy</td></tr>\n",
       "<tr><td>H2O_connection_url:</td>\n",
       "<td>http://localhost:54321</td></tr>\n",
       "<tr><td>H2O_connection_proxy:</td>\n",
       "<td>{\"http\": null, \"https\": null}</td></tr>\n",
       "<tr><td>H2O_internal_security:</td>\n",
       "<td>False</td></tr>\n",
       "<tr><td>H2O_API_Extensions:</td>\n",
       "<td>Amazon S3, Algos, AutoML, Core V3, TargetEncoder, Core V4</td></tr>\n",
       "<tr><td>Python_version:</td>\n",
       "<td>3.8.8 final</td></tr></table></div>"
      ],
      "text/plain": [
       "--------------------------  ---------------------------------------------------------\n",
       "H2O_cluster_uptime:         12 mins 15 secs\n",
       "H2O_cluster_timezone:       Asia/Jerusalem\n",
       "H2O_data_parsing_timezone:  UTC\n",
       "H2O_cluster_version:        3.32.1.3\n",
       "H2O_cluster_version_age:    2 months and 2 days\n",
       "H2O_cluster_name:           H2O_from_python_liorn_2hplcc\n",
       "H2O_cluster_total_nodes:    1\n",
       "H2O_cluster_free_memory:    7.919 Gb\n",
       "H2O_cluster_total_cores:    8\n",
       "H2O_cluster_allowed_cores:  8\n",
       "H2O_cluster_status:         locked, healthy\n",
       "H2O_connection_url:         http://localhost:54321\n",
       "H2O_connection_proxy:       {\"http\": null, \"https\": null}\n",
       "H2O_internal_security:      False\n",
       "H2O_API_Extensions:         Amazon S3, Algos, AutoML, Core V3, TargetEncoder, Core V4\n",
       "Python_version:             3.8.8 final\n",
       "--------------------------  ---------------------------------------------------------"
      ]
     },
     "metadata": {},
     "output_type": "display_data"
    }
   ],
   "source": [
    "h2o.init()"
   ]
  },
  {
   "cell_type": "markdown",
   "id": "eafdba8d",
   "metadata": {},
   "source": [
    "# Classification"
   ]
  },
  {
   "cell_type": "markdown",
   "id": "3c6a6e46",
   "metadata": {},
   "source": [
    "Pre-Processing included:\n",
    "\n",
    "On CAN'd data:\n",
    "* White spaces to nan\n",
    "\n",
    "* `abn_pap` column - 99 to mode\n",
    "\n",
    "* imputing missing values to modes\n",
    "\n",
    "* new features - `weight_diff`, `num_of_prior_diseases`, `body_BMI`\n",
    "\n",
    "* removed columns containing only zeros\n",
    "\n",
    "On combined dataset:\n",
    "\n",
    "* Removed sessions with duration of less than 5 minutes\n",
    "\n",
    "* dropped columns - `body_meas_height`, `body_meas_bmi`, `body_meas_prior_pregnancy_weight`, `body_meas_prior_pregnancy_weight`, `mon_sess_time_zone_diff`, `mon_sess_date`, `mon_sess_start_time`, `on_sess_duration`, `dem_det_age`, `subject_id`, `session_id`, `current_weight_kg`, `weight_before_kg`, `current_height_cm`, `body_meas_current_weight`, `MasterID`.\n",
    "\n",
    "* Dropped features with a high portion of missing values\n",
    "\n",
    "* Configured LTI_STI features\n",
    "\n",
    "* Filled missing values with means\n",
    "\n",
    "* One-Hot encoded demographic features\n",
    "\n",
    "* Dropped features with low cardinality"
   ]
  },
  {
   "cell_type": "markdown",
   "id": "ecae746d",
   "metadata": {},
   "source": [
    "#### Importing data:"
   ]
  },
  {
   "cell_type": "code",
   "execution_count": 6,
   "id": "2ae93ce9",
   "metadata": {
    "ExecuteTime": {
     "end_time": "2021-07-22T11:15:04.392532Z",
     "start_time": "2021-07-22T11:15:04.363134Z"
    }
   },
   "outputs": [],
   "source": [
    "df_feats = pd.read_csv('df_feats_baselines.csv')\n",
    "\n",
    "df_targets = pd.read_csv('df_targets_baselines.csv')"
   ]
  },
  {
   "cell_type": "markdown",
   "id": "06378943",
   "metadata": {},
   "source": [
    "#### Training (5-Fold CV)"
   ]
  },
  {
   "cell_type": "code",
   "execution_count": null,
   "id": "821a6323",
   "metadata": {
    "ExecuteTime": {
     "start_time": "2021-07-22T11:14:54.145Z"
    },
    "hide_input": false
   },
   "outputs": [
    {
     "name": "stdout",
     "output_type": "stream",
     "text": [
      "Parse progress: |█████████████████████████████████████████████████████████| 100%\n",
      "AutoML progress: |█"
     ]
    }
   ],
   "source": [
    "X = df_feats.drop(columns=['study_id'])\n",
    "\n",
    "df_auto = pd.concat([X, df_targets[\"cesdclinmA\"]], axis=1)\n",
    "\n",
    "# converting to h20 data object\n",
    "df_h2o = h2o.H2OFrame(df_auto)\n",
    "\n",
    "# configuring y as binary target\n",
    "y = \"cesdclinmA\"\n",
    "df_h2o[y] = df_h2o[y].asfactor()\n",
    "\n",
    "# training with 5Fold CV\n",
    "aml_proc_clf = H2OAutoML(max_models = 10, seed = 1, nfolds=5, sort_metric='auc', keep_cross_validation_predictions=True)\n",
    "\n",
    "aml_proc_clf.train(y = y, training_frame = df_h2o)\n",
    "\n",
    "aml_proc_clf.leaderboard"
   ]
  },
  {
   "cell_type": "markdown",
   "id": "9729fc74",
   "metadata": {
    "ExecuteTime": {
     "end_time": "2021-07-14T08:48:06.376885Z",
     "start_time": "2021-07-14T08:48:06.364374Z"
    },
    "hide_input": true
   },
   "source": [
    "#### Top Model"
   ]
  },
  {
   "cell_type": "code",
   "execution_count": null,
   "id": "58dee8fb",
   "metadata": {
    "ExecuteTime": {
     "start_time": "2021-07-22T11:14:54.147Z"
    },
    "hide_input": false
   },
   "outputs": [],
   "source": [
    "top_model_proc = aml_proc_clf.leader\n",
    "print(top_model_proc.model_id)\n",
    "top_model_proc.summary()"
   ]
  },
  {
   "cell_type": "markdown",
   "id": "dd2e580e",
   "metadata": {},
   "source": [
    "#### Top Model CV Results:"
   ]
  },
  {
   "cell_type": "code",
   "execution_count": null,
   "id": "9167fbaa",
   "metadata": {
    "ExecuteTime": {
     "start_time": "2021-07-22T11:14:54.151Z"
    },
    "hide_input": false
   },
   "outputs": [],
   "source": [
    "top_model_proc_cv_metrics = top_model_proc.cross_validation_metrics_summary().as_data_frame()\n",
    "print(top_model_proc.model_id)\n",
    "top_model_proc_cv_metrics"
   ]
  },
  {
   "cell_type": "markdown",
   "id": "771e4174",
   "metadata": {
    "hide_input": true
   },
   "source": [
    "#### Top models vs Top features heatmap"
   ]
  },
  {
   "cell_type": "code",
   "execution_count": null,
   "id": "cffa62ba",
   "metadata": {
    "ExecuteTime": {
     "start_time": "2021-07-22T11:14:54.154Z"
    },
    "hide_input": false
   },
   "outputs": [],
   "source": [
    "# leaderboard to dataframe\n",
    "leaderboard = aml_proc_clf.leaderboard.as_data_frame()\n",
    "\n",
    "# getting feature names and sorting\n",
    "column_names = [col for col, rel_imp, scal_imp, percent in top_model_proc.varimp()]\n",
    "column_names.sort()\n",
    "\n",
    "df_imp = pd.DataFrame(columns=column_names)\n",
    "\n",
    "model_ids = []\n",
    "\n",
    "for i in range(len(leaderboard)):\n",
    "    \n",
    "    # Accessing the information of each model in the leaderboard\n",
    "    model_id = leaderboard.iloc[i]['model_id']\n",
    "    \n",
    "    if not model_id.startswith('Stacked'):\n",
    "        \n",
    "        model_ids.append(model_id)\n",
    "        model = h2o.get_model(model_id)\n",
    "    \n",
    "        # getting the name and importance of each feature\n",
    "        coefs = [(col, percent) for col, rel_imp, scal_imp, percent in model.varimp()]\n",
    "    \n",
    "        # sorting alphabetically to insert properly all the values to the dataframe\n",
    "        coefs.sort()\n",
    "        coefs = [percent for col, percent in coefs]\n",
    "        # adding to dataframe\n",
    "        df_len = len(df_imp)\n",
    "        df_imp.loc[df_len] = coefs\n",
    "    \n",
    "df_imp['Model'] = model_ids\n",
    "df_imp = df_imp.set_index(['Model'])\n",
    "\n",
    "# normalizing coefficients\n",
    "df_imp = df_imp.abs()\n",
    "df_imp = (df_imp.T / df_imp.T.sum()).T"
   ]
  },
  {
   "cell_type": "code",
   "execution_count": null,
   "id": "41d673f8",
   "metadata": {
    "ExecuteTime": {
     "start_time": "2021-07-22T11:14:54.155Z"
    },
    "hide_input": false,
    "scrolled": false
   },
   "outputs": [],
   "source": [
    "fig, ax = plt.subplots(figsize=(12,10))\n",
    "\n",
    "# Filtering values\n",
    "top_coefs = df_imp.loc[df_imp.max(axis=1) > 0.05, df_imp.max(axis=0) > 0.05]\n",
    "\n",
    "sns.heatmap(top_coefs, robust=True, annot=True, cmap=\"Blues\")\n",
    "ax.set_xticklabels(top_coefs.columns, rotation=45)\n",
    "plt.show()"
   ]
  },
  {
   "cell_type": "markdown",
   "id": "2ecde8a6",
   "metadata": {},
   "source": [
    "#### Feature Importances of top 3 models"
   ]
  },
  {
   "cell_type": "code",
   "execution_count": null,
   "id": "7756c73f",
   "metadata": {
    "ExecuteTime": {
     "start_time": "2021-07-22T11:14:54.158Z"
    },
    "hide_input": false,
    "scrolled": false
   },
   "outputs": [],
   "source": [
    "for i in range(3):\n",
    "    m_id = leaderboard.iloc[i]['model_id']\n",
    "    print(m_id)\n",
    "    model = h2o.get_model(m_id)\n",
    "    model.varimp_plot()"
   ]
  },
  {
   "cell_type": "code",
   "execution_count": null,
   "id": "efe306ac",
   "metadata": {
    "ExecuteTime": {
     "start_time": "2021-07-22T11:14:54.159Z"
    },
    "scrolled": false
   },
   "outputs": [],
   "source": [
    "for i in range(3):\n",
    "    m_id = leaderboard.iloc[i]['model_id']\n",
    "    print(m_id)\n",
    "    model = h2o.get_model(m_id)\n",
    "    print(model.cross_validation_metrics_summary())"
   ]
  },
  {
   "cell_type": "markdown",
   "id": "0cfdc104",
   "metadata": {},
   "source": [
    "#### Saving coefficients of top model to csv"
   ]
  },
  {
   "cell_type": "code",
   "execution_count": null,
   "id": "5f3054ee",
   "metadata": {
    "ExecuteTime": {
     "start_time": "2021-07-22T11:14:54.162Z"
    }
   },
   "outputs": [],
   "source": [
    "top_clf_coefs = top_model_proc.varimp()\n",
    "\n",
    "top_clf_coefs_df = pd.DataFrame(top_clf_coefs, columns = \n",
    "                                ['variable', 'relative_importance', 'scaled_importance', 'percentage'])\n",
    "\n",
    "top_clf_coefs_df.to_csv('Top_AutoML_Classifier_Coefficients_5_fold(Processed_Data - baseline_data).csv')"
   ]
  },
  {
   "cell_type": "markdown",
   "id": "7b1b269b",
   "metadata": {},
   "source": [
    "#### Training with 10-Fold CV:"
   ]
  },
  {
   "cell_type": "code",
   "execution_count": null,
   "id": "3fcd5929",
   "metadata": {
    "ExecuteTime": {
     "start_time": "2021-07-22T11:14:54.164Z"
    }
   },
   "outputs": [],
   "source": [
    "X = df_feats.drop(columns=['study_id'])\n",
    "\n",
    "df_auto = pd.concat([X, df_targets[\"cesdclinmA\"]], axis=1)\n",
    "\n",
    "# converting to h20 data object\n",
    "df_h2o = h2o.H2OFrame(df_auto)\n",
    "\n",
    "# configuring y as binary target\n",
    "y = \"cesdclinmA\"\n",
    "df_h2o[y] = df_h2o[y].asfactor()\n",
    "\n",
    "# training with 10Fold CV,\n",
    "aml_proc_clf_ten = H2OAutoML(max_models = 10, seed = 1, nfolds=10, sort_metric='auc', exclude_algos = [\"DeepLearning\"],\n",
    "                            keep_cross_validation_predictions=True)\n",
    "\n",
    "aml_proc_clf_ten.train(y = y, training_frame = df_h2o)\n",
    "\n",
    "aml_proc_clf_ten.leaderboard"
   ]
  },
  {
   "cell_type": "markdown",
   "id": "8b7fd337",
   "metadata": {
    "ExecuteTime": {
     "end_time": "2021-07-14T08:48:06.376885Z",
     "start_time": "2021-07-14T08:48:06.364374Z"
    },
    "hide_input": false
   },
   "source": [
    "#### Top Model"
   ]
  },
  {
   "cell_type": "code",
   "execution_count": null,
   "id": "a83993c6",
   "metadata": {
    "ExecuteTime": {
     "start_time": "2021-07-22T11:14:54.167Z"
    },
    "hide_input": false
   },
   "outputs": [],
   "source": [
    "top_model_proc_ten = aml_proc_clf_ten.leader\n",
    "print(top_model_proc_ten.model_id)\n",
    "top_model_proc_ten.summary()"
   ]
  },
  {
   "cell_type": "markdown",
   "id": "aa7d24d8",
   "metadata": {
    "hide_input": true
   },
   "source": [
    "#### Top Model CV Results:"
   ]
  },
  {
   "cell_type": "code",
   "execution_count": null,
   "id": "e1c75021",
   "metadata": {
    "ExecuteTime": {
     "start_time": "2021-07-22T11:14:54.169Z"
    },
    "hide_input": false
   },
   "outputs": [],
   "source": [
    "top_model_proc_ten_cv_metrics = top_model_proc_ten.cross_validation_metrics_summary().as_data_frame()\n",
    "print(top_model_proc_ten.model_id)\n",
    "top_model_proc_ten_cv_metrics"
   ]
  },
  {
   "cell_type": "markdown",
   "id": "644f634e",
   "metadata": {
    "hide_input": true
   },
   "source": [
    "#### Top models vs Top features heatmap"
   ]
  },
  {
   "cell_type": "code",
   "execution_count": null,
   "id": "9562798c",
   "metadata": {
    "ExecuteTime": {
     "start_time": "2021-07-22T11:14:54.171Z"
    },
    "hide_input": false
   },
   "outputs": [],
   "source": [
    "# leaderboard to dataframe\n",
    "leaderboard = aml_proc_clf_ten.leaderboard.as_data_frame()\n",
    "\n",
    "# getting feature names and sorting\n",
    "column_names = [col for col, rel_imp, scal_imp, percent in top_model_proc_ten.varimp()]\n",
    "column_names.sort()\n",
    "\n",
    "df_imp = pd.DataFrame(columns=column_names)\n",
    "\n",
    "model_ids = []\n",
    "\n",
    "for i in range(len(leaderboard)):\n",
    "    \n",
    "    # Accessing the information of each model in the leaderboard\n",
    "    model_id = leaderboard.iloc[i]['model_id']\n",
    "    \n",
    "    if not model_id.startswith('Stacked'):\n",
    "        \n",
    "        model_ids.append(model_id)\n",
    "        model = h2o.get_model(model_id)\n",
    "    \n",
    "        # getting the name and importance of each feature\n",
    "        coefs = [(col, percent) for col, rel_imp, scal_imp, percent in model.varimp()]\n",
    "    \n",
    "        # sorting alphabetically to insert properly all the values to the dataframe\n",
    "        coefs.sort()\n",
    "        coefs = [percent for col, percent in coefs]\n",
    "        # adding to dataframe\n",
    "        df_len = len(df_imp)\n",
    "        df_imp.loc[df_len] = coefs\n",
    "    \n",
    "df_imp['Model'] = model_ids\n",
    "df_imp = df_imp.set_index(['Model'])"
   ]
  },
  {
   "cell_type": "code",
   "execution_count": null,
   "id": "a94e8253",
   "metadata": {
    "ExecuteTime": {
     "start_time": "2021-07-22T11:14:54.172Z"
    },
    "hide_input": false,
    "scrolled": false
   },
   "outputs": [],
   "source": [
    "fig, ax = plt.subplots(figsize=(12,10))\n",
    "\n",
    "# Filtering values\n",
    "top_coefs = df_imp.loc[df_imp.max(axis=1) > 0.05, df_imp.max(axis=0) > 0.05]\n",
    "\n",
    "sns.heatmap(top_coefs, robust=True, annot=True, cmap=\"Blues\")\n",
    "plt.show()"
   ]
  },
  {
   "cell_type": "markdown",
   "id": "20ee76df",
   "metadata": {
    "hide_input": false
   },
   "source": [
    "#### Feature Importances of top 3 models"
   ]
  },
  {
   "cell_type": "code",
   "execution_count": null,
   "id": "89e06799",
   "metadata": {
    "ExecuteTime": {
     "start_time": "2021-07-22T11:14:54.174Z"
    },
    "hide_input": false,
    "scrolled": false
   },
   "outputs": [],
   "source": [
    "for i in range(3):\n",
    "    m_id = leaderboard.iloc[i]['model_id']\n",
    "    print(m_id)\n",
    "    model = h2o.get_model(m_id)\n",
    "    model.varimp_plot()"
   ]
  },
  {
   "cell_type": "code",
   "execution_count": null,
   "id": "fd017afe",
   "metadata": {
    "ExecuteTime": {
     "start_time": "2021-07-22T11:14:54.175Z"
    },
    "scrolled": false
   },
   "outputs": [],
   "source": [
    "for i in range(3):\n",
    "    m_id = leaderboard.iloc[i]['model_id']\n",
    "    print(m_id)\n",
    "    model = h2o.get_model(m_id)\n",
    "    print(model.cross_validation_metrics_summary())"
   ]
  },
  {
   "cell_type": "markdown",
   "id": "18083658",
   "metadata": {},
   "source": [
    "#### Saving coefficients of top model to csv"
   ]
  },
  {
   "cell_type": "code",
   "execution_count": null,
   "id": "36459c8e",
   "metadata": {
    "ExecuteTime": {
     "start_time": "2021-07-22T11:14:54.178Z"
    }
   },
   "outputs": [],
   "source": [
    "top_clf_coefs = top_model_proc_ten.varimp()\n",
    "\n",
    "top_clf_coefs_df = pd.DataFrame(top_clf_coefs, columns = \n",
    "                                ['variable', 'relative_importance', 'scaled_importance', 'percentage'])\n",
    "\n",
    "top_clf_coefs_df.to_csv('Top_AutoML_Classifier_Coefficients_10_fold(Processed_Data - baseline_data).csv')"
   ]
  },
  {
   "cell_type": "markdown",
   "id": "bd78af5a",
   "metadata": {},
   "source": [
    "#### Combining results of both K-Fold (5 and 10) CV to one dataframe:"
   ]
  },
  {
   "cell_type": "code",
   "execution_count": null,
   "id": "25edcd6c",
   "metadata": {
    "ExecuteTime": {
     "start_time": "2021-07-22T11:14:54.181Z"
    }
   },
   "outputs": [],
   "source": [
    "top_model_proc_cv_metrics.insert(1, 'K-Fold', 5)\n",
    "top_model_proc_ten_cv_metrics.insert(1, 'K-Fold', 10)\n",
    "\n",
    "top_model_proc_cv_metrics.insert(2, 'model', top_model_proc.model_id)\n",
    "top_model_proc_ten_cv_metrics.insert(2, 'model', top_model_proc_ten.model_id)\n",
    "\n",
    "combined = pd.concat([top_model_proc_cv_metrics,top_model_proc_ten_cv_metrics], axis=0)\n",
    "combined.columns = [\"metric\", \"K-Fold\", 'model', \"mean\", \"sd\", \"cv_1_valid\", \"cv_2_valid\", \"cv_3_valid\", \"cv_4_valid\", \"cv_5_valid\",\n",
    "                   \"cv_6_valid\", \"cv_7_valid\", \"cv_8_valid\", \"cv_9_valid\", \"cv_10_valid\"]\n",
    "combined = combined.set_index([\"metric\", \"model\"]).sort_values(by='metric')\n",
    "combined"
   ]
  },
  {
   "cell_type": "code",
   "execution_count": null,
   "id": "fb4371c7",
   "metadata": {
    "ExecuteTime": {
     "start_time": "2021-07-22T11:14:54.181Z"
    }
   },
   "outputs": [],
   "source": [
    "combined.to_csv('Top_AutoML_Classifiers_CV_Results_combined(Processed_baseline_data).csv')"
   ]
  },
  {
   "cell_type": "markdown",
   "id": "224bc5c9",
   "metadata": {},
   "source": [
    "#### Testing top model hyper-parameters (of 5-Fold CV auto-ML) with Sklearn:"
   ]
  },
  {
   "cell_type": "code",
   "execution_count": null,
   "id": "68b0c2a2",
   "metadata": {
    "ExecuteTime": {
     "start_time": "2021-07-22T11:14:54.184Z"
    }
   },
   "outputs": [],
   "source": [
    "tmp_feat_arr = top_model_proc.varimp()\n",
    "\n",
    "feat_lst = []\n",
    "\n",
    "for coef in tmp_feat_arr:\n",
    "    if coef[1] != 0:\n",
    "        feat_lst.append(coef[0])\n",
    "\n",
    "X = df_feats.drop(columns=['study_id'])\n",
    "y = df_targets[\"cesdclinmA\"]\n",
    "\n",
    "X = X[feat_lst]\n",
    "\n",
    "scaler = StandardScaler()\n",
    "scaler.fit(X)\n",
    "X = pd.DataFrame(scaler.transform(X), columns = X.columns)\n",
    "\n",
    "clf_test = GradientBoostingClassifier(n_estimators=63, max_depth=3, min_samples_leaf=2, max_leaf_nodes=4, random_state=0)\n",
    "\n",
    "skf = StratifiedKFold(n_splits=5, random_state=0, shuffle=True)\n",
    "\n",
    "avg = 0\n",
    "\n",
    "# cross-validating\n",
    "for ind, (train_index, val_index) in enumerate(skf.split(X, y)):\n",
    "    \n",
    "    X_train, X_val = X.iloc[train_index], X.iloc[val_index]\n",
    "    y_train, y_val = y.iloc[train_index], y.iloc[val_index]\n",
    "\n",
    "    clf_test.fit(X_train, y_train)\n",
    "    \n",
    "    train_acc = clf_test.score(X_train, y_train)\n",
    "    acc = clf_test.score(X_val, y_val)\n",
    "    \n",
    "    avg += acc\n",
    "    \n",
    "    print(f'{ind+1}-fold:  test accuracy = {acc}, train accuracy = {train_acc}')\n",
    "\n",
    "print(f' CV accuracy = {round(avg/10, 4)}')"
   ]
  },
  {
   "cell_type": "markdown",
   "id": "256ba4fd",
   "metadata": {},
   "source": [
    "#### Feature Importance"
   ]
  },
  {
   "cell_type": "code",
   "execution_count": null,
   "id": "c61df102",
   "metadata": {
    "ExecuteTime": {
     "start_time": "2021-07-22T11:14:54.187Z"
    }
   },
   "outputs": [],
   "source": [
    "coef_df = pd.DataFrame(clf_test.feature_importances_, index = feat_lst, columns = ['Coefficient']).sort_values(by='Coefficient')\n",
    "\n",
    "err = [(X[feat].std()/np.sqrt(len(X))) for feat in feat_lst]\n",
    "\n",
    "coef_df['err'] = err\n",
    "\n",
    "coef_df['t'] = coef_df['Coefficient'] / coef_df['err']\n",
    "\n",
    "top_coef = coef_df.sort_values(by='t', ascending=False)[0:15]\n",
    "\n",
    "plt.figure(figsize=(10,10))\n",
    "plt.barh(top_coef.index, top_coef['t'])\n",
    "plt.gca().invert_yaxis()\n",
    "plt.title(\"Feature Importance - Gradient Boosting Classifier\")\n",
    "plt.xlabel('Importance Score');"
   ]
  },
  {
   "cell_type": "markdown",
   "id": "acd57b62",
   "metadata": {},
   "source": [
    "#### Testing top model hyper-parameters (of 10-Fold CV auto-ML) with Sklearn:"
   ]
  },
  {
   "cell_type": "code",
   "execution_count": null,
   "id": "7d469242",
   "metadata": {
    "ExecuteTime": {
     "start_time": "2021-07-22T11:14:54.190Z"
    }
   },
   "outputs": [],
   "source": [
    "tmp_feat_arr = top_model_proc_ten.varimp()\n",
    "\n",
    "feat_lst = []\n",
    "\n",
    "for coef in tmp_feat_arr:\n",
    "    if coef[1] != 0:\n",
    "        feat_lst.append(coef[0])\n",
    "\n",
    "X = df_feats.drop(columns=['study_id'])\n",
    "y = df_targets[\"cesdclinmA\"]\n",
    "\n",
    "X = X[feat_lst]\n",
    "\n",
    "scaler = StandardScaler()\n",
    "scaler.fit(X)\n",
    "X = pd.DataFrame(scaler.transform(X), columns = X.columns)\n",
    "\n",
    "clf_test = GradientBoostingClassifier(n_estimators=87, max_depth=3, min_samples_leaf=2, max_leaf_nodes=4, random_state=0)\n",
    "\n",
    "skf = StratifiedKFold(n_splits=10, random_state=0, shuffle=True)\n",
    "\n",
    "avg = 0\n",
    "\n",
    "# cross-validating\n",
    "for ind, (train_index, val_index) in enumerate(skf.split(X, y)):\n",
    "    \n",
    "    X_train, X_val = X.iloc[train_index], X.iloc[val_index]\n",
    "    y_train, y_val = y.iloc[train_index], y.iloc[val_index]\n",
    "\n",
    "    clf_test.fit(X_train, y_train)\n",
    "    \n",
    "    train_acc = clf_test.score(X_train, y_train)\n",
    "    acc = clf_test.score(X_val, y_val)\n",
    "    \n",
    "    avg += acc\n",
    "    \n",
    "    print(f'{ind+1}-fold:  test accuracy = {acc}, train accuracy = {train_acc}')\n",
    "\n",
    "print(f' CV accuracy = {round(avg/10, 4)}')"
   ]
  },
  {
   "cell_type": "markdown",
   "id": "56286986",
   "metadata": {},
   "source": [
    "#### Feature Importance"
   ]
  },
  {
   "cell_type": "code",
   "execution_count": null,
   "id": "9cc03fe6",
   "metadata": {
    "ExecuteTime": {
     "start_time": "2021-07-22T11:14:54.193Z"
    }
   },
   "outputs": [],
   "source": [
    "coef_df = pd.DataFrame(clf_test.feature_importances_, index = feat_lst, columns = ['Coefficient']).sort_values(by='Coefficient')\n",
    "\n",
    "err = [(X[feat].std()/np.sqrt(len(X))) for feat in feat_lst]\n",
    "\n",
    "coef_df['err'] = err\n",
    "\n",
    "coef_df['t'] = coef_df['Coefficient'] / coef_df['err']\n",
    "\n",
    "top_coef = coef_df.sort_values(by='t', ascending=False)[0:15]\n",
    "\n",
    "plt.figure(figsize=(10,10))\n",
    "plt.barh(top_coef.index, top_coef['t'])\n",
    "plt.gca().invert_yaxis()\n",
    "plt.title(\"Feature Importance - Gradient Boosting Classifier\")\n",
    "plt.xlabel('Importance Score');"
   ]
  },
  {
   "cell_type": "markdown",
   "id": "f8386d1e",
   "metadata": {},
   "source": [
    "## Regression"
   ]
  },
  {
   "cell_type": "markdown",
   "id": "6d03f13c",
   "metadata": {},
   "source": [
    "### On processed data:"
   ]
  },
  {
   "cell_type": "code",
   "execution_count": null,
   "id": "d53cab67",
   "metadata": {
    "ExecuteTime": {
     "start_time": "2021-07-22T11:14:54.198Z"
    }
   },
   "outputs": [],
   "source": [
    "X = df_feats.drop(columns=['study_id'])\n",
    "\n",
    "df_auto = pd.concat([X, df_targets[\"psatotmA\"]], axis=1)\n",
    "\n",
    "# converting to h20 data object\n",
    "df_h2o_reg = h2o.H2OFrame(df_auto)\n",
    "\n",
    "y = \"psatotmA\"\n",
    "\n",
    "aml_proc_reg = H2OAutoML(max_models = 10, seed = 1, nfolds=5, sort_metric='rmse', keep_cross_validation_predictions=True)\n",
    "\n",
    "aml_proc_reg.train(y = y, training_frame = df_h2o_reg)\n",
    "\n",
    "aml_proc_reg.leaderboard.head()"
   ]
  },
  {
   "cell_type": "markdown",
   "id": "5d2006d5",
   "metadata": {},
   "source": [
    "#### Top Model:"
   ]
  },
  {
   "cell_type": "code",
   "execution_count": null,
   "id": "7418b79f",
   "metadata": {
    "ExecuteTime": {
     "start_time": "2021-07-22T11:14:54.201Z"
    }
   },
   "outputs": [],
   "source": [
    "top_model_proc_reg = aml_proc_reg.leader\n",
    "top_model_proc_reg.summary()"
   ]
  },
  {
   "cell_type": "markdown",
   "id": "b55e8e65",
   "metadata": {},
   "source": [
    "#### Top Model CV Results (+Saving to csv):"
   ]
  },
  {
   "cell_type": "code",
   "execution_count": null,
   "id": "a714080e",
   "metadata": {
    "ExecuteTime": {
     "start_time": "2021-07-22T11:14:54.203Z"
    }
   },
   "outputs": [],
   "source": [
    "top_model_cv_metrics = top_model_proc_reg.cross_validation_metrics_summary().as_data_frame()\n",
    "top_model_cv_metrics.to_csv('Top_AutoML_Regressor_CV_Results - baseline_data.csv')\n",
    "top_model_cv_metrics"
   ]
  },
  {
   "cell_type": "markdown",
   "id": "90dcf681",
   "metadata": {},
   "source": [
    "#### Top Model - Feature Importance"
   ]
  },
  {
   "cell_type": "code",
   "execution_count": null,
   "id": "b011c8a7",
   "metadata": {
    "ExecuteTime": {
     "start_time": "2021-07-22T11:14:54.206Z"
    }
   },
   "outputs": [],
   "source": [
    "top_model_proc_reg.varimp_plot()"
   ]
  },
  {
   "cell_type": "markdown",
   "id": "5846abcf",
   "metadata": {},
   "source": [
    "#### And saving coefficients to csv"
   ]
  },
  {
   "cell_type": "code",
   "execution_count": null,
   "id": "0b6a8def",
   "metadata": {
    "ExecuteTime": {
     "start_time": "2021-07-22T11:14:54.208Z"
    }
   },
   "outputs": [],
   "source": [
    "top_reg_coefs = top_model_orig_reg.varimp()\n",
    "top_reg_coefs_df = pd.DataFrame(top_reg_coefs, columns = ['variable', 'relative_importance', 'scaled_importance', 'percentage'])\n",
    "top_reg_coefs_df.to_csv('Top_AutoML_Regressor_Coefficients - baseline_data.csv')"
   ]
  },
  {
   "cell_type": "code",
   "execution_count": null,
   "id": "bc58cc09",
   "metadata": {},
   "outputs": [],
   "source": []
  }
 ],
 "metadata": {
  "kernelspec": {
   "display_name": "Python 3",
   "language": "python",
   "name": "python3"
  },
  "language_info": {
   "codemirror_mode": {
    "name": "ipython",
    "version": 3
   },
   "file_extension": ".py",
   "mimetype": "text/x-python",
   "name": "python",
   "nbconvert_exporter": "python",
   "pygments_lexer": "ipython3",
   "version": "3.8.8"
  }
 },
 "nbformat": 4,
 "nbformat_minor": 5
}
