{
 "cells": [
  {
   "cell_type": "code",
   "execution_count": 52,
   "id": "11bbeb74",
   "metadata": {
    "ExecuteTime": {
     "end_time": "2021-07-22T10:03:54.049712Z",
     "start_time": "2021-07-22T10:03:54.042708Z"
    }
   },
   "outputs": [],
   "source": [
    "import pandas as pd\n",
    "import numpy as np\n",
    "import seaborn as sns\n",
    "import matplotlib.pyplot as plt\n",
    "import time\n",
    "\n",
    "from sklearn.model_selection import StratifiedKFold, RandomizedSearchCV\n",
    "from sklearn.metrics import accuracy_score, f1_score, recall_score, roc_auc_score\n",
    "from sklearn.feature_selection import SelectFromModel, GenericUnivariateSelect\n",
    "from sklearn.preprocessing import RobustScaler, StandardScaler\n",
    "from sklearn.decomposition import PCA\n",
    "from sklearn.linear_model import Lasso\n",
    "from sklearn.ensemble import RandomForestClassifier\n",
    "from xgboost import XGBClassifier\n",
    "from scipy.stats import loguniform\n",
    "sns.set_style('darkgrid')"
   ]
  },
  {
   "cell_type": "code",
   "execution_count": 53,
   "id": "bcfdc3c6",
   "metadata": {
    "ExecuteTime": {
     "end_time": "2021-07-22T10:03:54.436477Z",
     "start_time": "2021-07-22T10:03:54.412492Z"
    }
   },
   "outputs": [],
   "source": [
    "df_feats = pd.read_csv('df_feats_baselines.csv')\n",
    "df_targets = pd.read_csv('df_targets_baselines.csv')"
   ]
  },
  {
   "cell_type": "code",
   "execution_count": 54,
   "id": "4e0c8b4b",
   "metadata": {
    "ExecuteTime": {
     "end_time": "2021-07-22T10:03:54.762004Z",
     "start_time": "2021-07-22T10:03:54.745086Z"
    },
    "code_folding": []
   },
   "outputs": [],
   "source": [
    "def _color_red_or_green(val):\n",
    "    color = 'green' if val > 0.75 else ('orange' if val > 0.65 else 'black')\n",
    "    return 'color: %s' % color"
   ]
  },
  {
   "cell_type": "markdown",
   "id": "0ee84569",
   "metadata": {},
   "source": [
    "## Classifiers \n",
    "\n",
    "target - cesdclinmA (Depression - yes/no)"
   ]
  },
  {
   "cell_type": "markdown",
   "id": "8fb10c23",
   "metadata": {
    "ExecuteTime": {
     "end_time": "2021-07-16T12:11:25.281247Z",
     "start_time": "2021-07-16T12:11:25.271135Z"
    }
   },
   "source": [
    "### Attempting to tune the hyper-parameters of the top models to see if results improve"
   ]
  },
  {
   "cell_type": "markdown",
   "id": "1c83b0c0",
   "metadata": {},
   "source": [
    "#### Best RandomForestClassifier"
   ]
  },
  {
   "cell_type": "code",
   "execution_count": 4,
   "id": "275d6a47",
   "metadata": {
    "ExecuteTime": {
     "end_time": "2021-07-19T20:34:17.773781Z",
     "start_time": "2021-07-19T20:34:11.833450Z"
    }
   },
   "outputs": [
    {
     "data": {
      "text/plain": [
       "RandomForestClassifier(criterion='entropy', max_depth=6, max_features='log2',\n",
       "                       max_leaf_nodes=11, min_samples_leaf=2,\n",
       "                       min_samples_split=4, n_estimators=81, n_jobs=-1)"
      ]
     },
     "execution_count": 4,
     "metadata": {},
     "output_type": "execute_result"
    }
   ],
   "source": [
    "X = df_feats.drop(columns = ['study_id'])\n",
    "y = df_targets['cesdclinmA'].astype(int)\n",
    "\n",
    "cols = X.columns\n",
    "\n",
    "scaler = StandardScaler()\n",
    "\n",
    "scaler.fit(X)\n",
    "X = pd.DataFrame(scaler.transform(X), columns=cols)\n",
    "\n",
    "rfc = RandomForestClassifier()\n",
    "\n",
    "param_dict = {'n_estimators': np.arange(80,120), 'max_depth': np.arange(3,8), 'min_samples_leaf': np.arange(2,8),\n",
    "             'criterion': ['gini', 'entropy'], 'min_samples_split': np.arange(2,8), 'max_features': \n",
    "              ['auto', 'sqrt', 'log2'], 'max_leaf_nodes': np.arange(3,12), 'n_jobs': [-1]}\n",
    "\n",
    "tree_grid = RandomizedSearchCV(rfc, param_dict)\n",
    "tree_grid.fit(X, y)\n",
    "rfc = tree_grid.best_estimator_\n",
    "rfc"
   ]
  },
  {
   "cell_type": "code",
   "execution_count": 5,
   "id": "fe2d466d",
   "metadata": {
    "ExecuteTime": {
     "end_time": "2021-07-19T20:34:18.967043Z",
     "start_time": "2021-07-19T20:34:17.773781Z"
    }
   },
   "outputs": [
    {
     "data": {
      "text/html": [
       "<div>\n",
       "<style scoped>\n",
       "    .dataframe tbody tr th:only-of-type {\n",
       "        vertical-align: middle;\n",
       "    }\n",
       "\n",
       "    .dataframe tbody tr th {\n",
       "        vertical-align: top;\n",
       "    }\n",
       "\n",
       "    .dataframe thead th {\n",
       "        text-align: right;\n",
       "    }\n",
       "</style>\n",
       "<table border=\"1\" class=\"dataframe\">\n",
       "  <thead>\n",
       "    <tr style=\"text-align: right;\">\n",
       "      <th></th>\n",
       "      <th>scaler</th>\n",
       "      <th>Feat Selection</th>\n",
       "      <th>Type</th>\n",
       "      <th>Num of Features</th>\n",
       "      <th>Train_Accuracy_CV</th>\n",
       "      <th>Val_Accuracy_CV</th>\n",
       "      <th>Train_F1_CV</th>\n",
       "      <th>Val_F1_CV</th>\n",
       "      <th>Val_Sensitivity_CV</th>\n",
       "      <th>Val_Specificity_CV</th>\n",
       "      <th>Val_AUC_CV</th>\n",
       "    </tr>\n",
       "    <tr>\n",
       "      <th>Model</th>\n",
       "      <th></th>\n",
       "      <th></th>\n",
       "      <th></th>\n",
       "      <th></th>\n",
       "      <th></th>\n",
       "      <th></th>\n",
       "      <th></th>\n",
       "      <th></th>\n",
       "      <th></th>\n",
       "      <th></th>\n",
       "      <th></th>\n",
       "    </tr>\n",
       "  </thead>\n",
       "  <tbody>\n",
       "    <tr>\n",
       "      <th>RandomForestClassifier</th>\n",
       "      <td>StandardScaler</td>\n",
       "      <td>FDR</td>\n",
       "      <td>CV</td>\n",
       "      <td>13.0</td>\n",
       "      <td>0.976412</td>\n",
       "      <td>0.785</td>\n",
       "      <td>0.975771</td>\n",
       "      <td>0.690635</td>\n",
       "      <td>0.785</td>\n",
       "      <td>1.0</td>\n",
       "      <td>0.5</td>\n",
       "    </tr>\n",
       "  </tbody>\n",
       "</table>\n",
       "</div>"
      ],
      "text/plain": [
       "                                scaler Feat Selection Type  Num of Features  \\\n",
       "Model                                                                         \n",
       "RandomForestClassifier  StandardScaler            FDR   CV             13.0   \n",
       "\n",
       "                        Train_Accuracy_CV  Val_Accuracy_CV  Train_F1_CV  \\\n",
       "Model                                                                     \n",
       "RandomForestClassifier           0.976412            0.785     0.975771   \n",
       "\n",
       "                        Val_F1_CV  Val_Sensitivity_CV  Val_Specificity_CV  \\\n",
       "Model                                                                       \n",
       "RandomForestClassifier   0.690635               0.785                 1.0   \n",
       "\n",
       "                        Val_AUC_CV  \n",
       "Model                               \n",
       "RandomForestClassifier         0.5  "
      ]
     },
     "execution_count": 5,
     "metadata": {},
     "output_type": "execute_result"
    }
   ],
   "source": [
    "all_scores = {'Train_Accuracy_CV': [], 'Val_Accuracy_CV': [], 'Train_F1_CV': [], \n",
    "             'Val_F1_CV': [], 'Val_Sensitivity_CV': [], 'Val_Specificity_CV': [], 'Val_AUC_CV': [], 'K': []}\n",
    "\n",
    "\n",
    "fs = PCA().fit(X, y)\n",
    "array = np.cumsum(fs.explained_variance_ratio_)\n",
    "\n",
    "K = np.argmax(array > 0.8)\n",
    "fs = PCA(n_components=K).fit(X)\n",
    "                 \n",
    "X_pca = pd.DataFrame(fs.transform(X))\n",
    "\n",
    "skf = StratifiedKFold(n_splits=10, random_state=0, shuffle=True)\n",
    "\n",
    "final_results = []\n",
    "\n",
    "all_y_preds = []\n",
    "all_y_true = []\n",
    "\n",
    "for train_index, val_index in skf.split(X_pca, y):\n",
    "    X_train, X_val = X.iloc[train_index], X.iloc[val_index]\n",
    "    y_train, y_val = y.iloc[train_index], y.iloc[val_index]\n",
    "    \n",
    "    rfc.fit(X_train, y_train)\n",
    "    y_pred_train = rfc.predict(X_train)\n",
    "    y_pred_val = rfc.predict(X_val)\n",
    "    \n",
    "    all_y_preds.append(list(y_pred_val))\n",
    "    all_y_true.append(list(y_val))\n",
    "    \n",
    "    all_scores['Train_Accuracy_CV'].append(accuracy_score(y_train, y_pred_train))\n",
    "    all_scores['Val_Accuracy_CV'].append(accuracy_score(y_val, y_pred_val))\n",
    "    all_scores['Train_F1_CV'].append(f1_score(y_train, y_pred_train, average='weighted'))\n",
    "    all_scores['Val_F1_CV'].append(f1_score(y_val, y_pred_val, average='weighted'))\n",
    "    all_scores['Val_Sensitivity_CV'].append(recall_score(y_val, y_pred_val, average='weighted'))\n",
    "    all_scores['Val_Specificity_CV'].append(recall_score(y_val, y_pred_val, labels = [0], average='weighted'))\n",
    "    all_scores['Val_AUC_CV'].append(roc_auc_score(y_val, y_pred_val))\n",
    "    all_scores['K'].append(K)\n",
    "\n",
    "# Averaging CV results of splits\n",
    "for metric, score in all_scores.items():\n",
    "    all_scores[metric] = np.mean(score)\n",
    "    \n",
    "all_y_preds = [item for elem in all_y_preds for item in elem]\n",
    "all_y_true = [item for elem in all_y_true for item in elem]\n",
    "    \n",
    "final_results.append({'Model': rfc.__class__.__name__, 'scaler': scaler.__class__.__name__, \n",
    "                              'Feat Selection': 'FDR',\n",
    "                              'Type': 'CV',\n",
    "                              'Num of Features': all_scores['K'],\n",
    "                              'Train_Accuracy_CV': all_scores['Train_Accuracy_CV'], \n",
    "                              'Val_Accuracy_CV': all_scores['Val_Accuracy_CV'], \n",
    "                              'Train_F1_CV': all_scores['Train_F1_CV'], \n",
    "                              'Val_F1_CV': all_scores['Val_F1_CV'], \n",
    "                              'Val_Sensitivity_CV': all_scores['Val_Sensitivity_CV'], \n",
    "                              'Val_Specificity_CV': all_scores['Val_Specificity_CV'], \n",
    "                              'Val_AUC_CV': all_scores['Val_AUC_CV']})\n",
    "pd.DataFrame(final_results).set_index(['Model'])"
   ]
  },
  {
   "cell_type": "code",
   "execution_count": 55,
   "id": "e5879427",
   "metadata": {
    "ExecuteTime": {
     "end_time": "2021-07-22T10:03:58.764713Z",
     "start_time": "2021-07-22T10:03:58.753744Z"
    }
   },
   "outputs": [],
   "source": [
    "def coefs_to_df(cols, model, features_selected, scaler, dict_name, K_all, fs_method=None):\n",
    "    \"\"\"\n",
    "    This function extracts the feature coefficients of a model and saves it in to a dataframe\n",
    "    \"\"\" \n",
    "    \n",
    "    tree_models = ['RandomForestRegressor', 'RandomForestClassifier', 'XGBClassifier']\n",
    "    \n",
    "    \n",
    "    if model.__class__.__name__ in tree_models:\n",
    "        \n",
    "        coefs = model.feature_importances_\n",
    "        \n",
    "    else:\n",
    "        \n",
    "        coefs = model.coef_\n",
    "     \n",
    "\n",
    "    if fs_method == 'PCA':\n",
    "        \n",
    "        pca_coefs = features_selected.components_.T * coefs\n",
    "        \n",
    "        all_coefs = pca_coefs.sum(axis=1)\n",
    "        \n",
    "    else:\n",
    "       \n",
    "        coefs_vals = coefs.flatten().tolist()\n",
    "    \n",
    "        # getting indexes of remaining features' coefficients\n",
    "        coefs_inds = [i for i, element in enumerate(features_selected.get_support()) if element == True]\n",
    "\n",
    "        all_coefs = [coefs_vals[coefs_inds.index(i)] if i in coefs_inds else 0 for i in range(len(cols))]\n",
    "\n",
    "    all_coefs_df = pd.DataFrame([all_coefs], columns=cols)\n",
    "    all_coefs_df['Model'] = model.__class__.__name__\n",
    "    all_coefs_df['Scaler'] = scaler.__class__.__name__\n",
    "    all_coefs_df['Feat Selection'] = dict_name\n",
    "    all_coefs_df['Type'] = 'All_data'\n",
    "    all_coefs_df['Num of Features'] = K_all\n",
    "    \n",
    "    all_coefs_df.set_index(['Model', 'Scaler', 'Feat Selection', 'Type', 'Num of Features'], inplace=True) \n",
    "    \n",
    "    return all_coefs_df"
   ]
  },
  {
   "cell_type": "markdown",
   "id": "36ebeafd",
   "metadata": {},
   "source": [
    "#### Random Forest Feature Importance (all data, no CV, PCA):"
   ]
  },
  {
   "cell_type": "code",
   "execution_count": 56,
   "id": "f1ccdf17",
   "metadata": {
    "ExecuteTime": {
     "end_time": "2021-07-22T10:04:01.063743Z",
     "start_time": "2021-07-22T10:04:00.444437Z"
    }
   },
   "outputs": [
    {
     "data": {
      "image/png": "[encoded data removed]",
      "text/plain": [
       "<Figure size 720x720 with 1 Axes>"
      ]
     },
     "metadata": {},
     "output_type": "display_data"
    }
   ],
   "source": [
    "X = df_feats.drop(columns = ['study_id'])\n",
    "y = df_targets['cesdclinmA'].astype(int)\n",
    "\n",
    "scaler = StandardScaler()\n",
    "scaler.fit(X)\n",
    "X = pd.DataFrame(scaler.transform(X), columns=X.columns)\n",
    "\n",
    "cols = X.columns\n",
    "\n",
    "pca = PCA()\n",
    "fs = pca.fit(X)\n",
    "array = np.cumsum(fs.explained_variance_ratio_)\n",
    "\n",
    "# Selecting number of principal components\n",
    "K = np.argmax(array > 0.8)\n",
    "fs = PCA(n_components=K).fit(X)\n",
    "X = fs.transform(X)\n",
    "\n",
    "rfc = RandomForestClassifier(max_depth=5, min_samples_split=4, n_estimators = 200, min_samples_leaf=3)\n",
    "\n",
    "rfc.fit(X, y)\n",
    "\n",
    "coefs_df = coefs_to_df(cols, rfc, fs, scaler, 'PCA', K, 'PCA')\n",
    "\n",
    "coefs_df = coefs_df.reset_index().drop(columns = ['Model', 'Scaler', 'Feat Selection', 'Type', 'Num of Features']).T. \\\n",
    "                                        sort_values(by=0, ascending=False)\n",
    "\n",
    "pos_coefs = coefs_df[0][0:8]\n",
    "neg_coefs = coefs_df[0][-7:]\n",
    "\n",
    "strongest_coefs = pd.concat([pos_coefs, neg_coefs], axis=0)\n",
    "strongest_coefs = pd.DataFrame(strongest_coefs)\n",
    "strongest_coefs.rename(columns = {0 : \"Coefficient\"}, inplace=True)\n",
    "\n",
    "plt.figure(figsize=(10,10))\n",
    "plt.barh(strongest_coefs.index, strongest_coefs[\"Coefficient\"])\n",
    "plt.gca().invert_yaxis()\n",
    "plt.title(\"Random Forest (Standard Scaler, PCA (15 components))\")\n",
    "plt.savefig('feat_imp_rfc_pca_baseline.png',bbox_inches=\"tight\")\n",
    "plt.xlabel('Importance Score');"
   ]
  },
  {
   "cell_type": "markdown",
   "id": "38a46f3d",
   "metadata": {},
   "source": [
    "#### Random Forest Feature Importance (all data, no CV, FPR):"
   ]
  },
  {
   "cell_type": "code",
   "execution_count": 57,
   "id": "04d91764",
   "metadata": {
    "ExecuteTime": {
     "end_time": "2021-07-22T10:04:10.847266Z",
     "start_time": "2021-07-22T10:04:10.350503Z"
    }
   },
   "outputs": [
    {
     "name": "stderr",
     "output_type": "stream",
     "text": [
      "C:\\Users\\liorn\\Anaconda3\\lib\\site-packages\\sklearn\\feature_selection\\_univariate_selection.py:114: UserWarning: Features [147 148 149 150 151 152 153 154 155 156 157 158 161 162 164 166 167] are constant.\n",
      "  warnings.warn(\"Features %s are constant.\" % constant_features_idx,\n",
      "C:\\Users\\liorn\\Anaconda3\\lib\\site-packages\\sklearn\\feature_selection\\_univariate_selection.py:116: RuntimeWarning: invalid value encountered in true_divide\n",
      "  f = msb / msw\n"
     ]
    },
    {
     "data": {
      "image/png": "[encoded data removed]",
      "text/plain": [
       "<Figure size 720x720 with 1 Axes>"
      ]
     },
     "metadata": {},
     "output_type": "display_data"
    }
   ],
   "source": [
    "X = df_feats.drop(columns = ['study_id'])\n",
    "y = df_targets['cesdclinmA'].astype(int)\n",
    "\n",
    "scaler = StandardScaler()\n",
    "scaler.fit(X)\n",
    "X = pd.DataFrame(scaler.transform(X), columns=X.columns)\n",
    "\n",
    "cols = X.columns\n",
    "\n",
    "fs = GenericUnivariateSelect(mode='fpr', param=0.5).fit(X, y)\n",
    "K = sum(fs.get_support())\n",
    "X = fs.transform(X)\n",
    "\n",
    "rfc = RandomForestClassifier(max_depth=5, min_samples_split=4, n_estimators = 200, min_samples_leaf=3)\n",
    "\n",
    "rfc.fit(X, y)\n",
    "\n",
    "coefs_df = coefs_to_df(cols, rfc, fs, scaler, 'FPR', K)\n",
    "\n",
    "coefs_df = coefs_df.reset_index().drop(columns = ['Model', 'Scaler', 'Feat Selection', 'Type', 'Num of Features']).T. \\\n",
    "                                        sort_values(by=0, ascending=False)\n",
    "\n",
    "#pos_coefs = coefs_df[0][0:8]\n",
    "#neg_coefs = coefs_df[0][-7:]\n",
    "\n",
    "#strongest_coefs = pd.concat([pos_coefs, neg_coefs], axis=0)\n",
    "strongest_coefs = pd.DataFrame(coefs_df)[0:15]\n",
    "strongest_coefs.rename(columns = {0 : \"Coefficient\"}, inplace=True)\n",
    "\n",
    "plt.figure(figsize=(10,10))\n",
    "plt.barh(strongest_coefs.index, strongest_coefs[\"Coefficient\"])\n",
    "plt.gca().invert_yaxis()\n",
    "plt.title(\"Random Forest (Standard Scaler, FPR (75 features)\")\n",
    "plt.savefig('feat_imp_rfc_fpr_baseline.png',bbox_inches=\"tight\")\n",
    "plt.xlabel('Importance Score');"
   ]
  },
  {
   "cell_type": "markdown",
   "id": "547388aa",
   "metadata": {},
   "source": [
    "#### Random Forest Feature Importance (all data, no CV, Lasso):"
   ]
  },
  {
   "cell_type": "code",
   "execution_count": 35,
   "id": "4d051c07",
   "metadata": {
    "ExecuteTime": {
     "end_time": "2021-07-19T21:03:12.495947Z",
     "start_time": "2021-07-19T21:03:12.107284Z"
    }
   },
   "outputs": [
    {
     "data": {
      "image/png": "[encoded data removed]",
      "text/plain": [
       "<Figure size 720x720 with 1 Axes>"
      ]
     },
     "metadata": {},
     "output_type": "display_data"
    }
   ],
   "source": [
    "X = df_feats.drop(columns = ['study_id'])\n",
    "y = df_targets['cesdclinmA'].astype(int)\n",
    "\n",
    "scaler = RobustScaler()\n",
    "scaler.fit(X)\n",
    "X = pd.DataFrame(scaler.transform(X), columns=X.columns)\n",
    "\n",
    "cols = X.columns\n",
    "\n",
    "fs = SelectFromModel(Lasso(alpha=0.15, max_iter=5000, tol=0.2))\n",
    "fs.fit(X, y)\n",
    "X = fs.transform(X)\n",
    "K = sum(fs.get_support())\n",
    "\n",
    "rfc = RandomForestClassifier(max_depth=5, min_samples_split=4, n_estimators = 200, min_samples_leaf=3)\n",
    "\n",
    "rfc.fit(X, y)\n",
    "\n",
    "coefs_df = coefs_to_df(cols, rfc, fs, scaler, 'Lasso', K)\n",
    "\n",
    "coefs_df = coefs_df.reset_index().drop(columns = ['Model', 'Scaler', 'Feat Selection', 'Type', 'Num of Features']).T. \\\n",
    "                                        sort_values(by=0, ascending=False)\n",
    "\n",
    "#pos_coefs = coefs_df[0][0:8]\n",
    "#neg_coefs = coefs_df[0][-7:]\n",
    "\n",
    "#strongest_coefs = pd.concat([pos_coefs, neg_coefs], axis=0)\n",
    "strongest_coefs = pd.DataFrame(coefs_df)[0:3]\n",
    "strongest_coefs.rename(columns = {0 : \"Coefficient\"}, inplace=True)\n",
    "\n",
    "plt.figure(figsize=(10,10))\n",
    "plt.barh(strongest_coefs.index, strongest_coefs[\"Coefficient\"])\n",
    "plt.gca().invert_yaxis()\n",
    "plt.title(\"Random Forest (Robust Scaler, Lasso (3 features)\")\n",
    "plt.savefig('feat_imp_rfc_lasso_baseline.png',bbox_inches=\"tight\")\n",
    "plt.xlabel('Importance Score');"
   ]
  },
  {
   "cell_type": "markdown",
   "id": "699167d0",
   "metadata": {},
   "source": [
    "### Best XGBClassifier"
   ]
  },
  {
   "cell_type": "code",
   "execution_count": 10,
   "id": "e894af40",
   "metadata": {
    "ExecuteTime": {
     "end_time": "2021-07-19T20:34:25.335835Z",
     "start_time": "2021-07-19T20:34:20.674844Z"
    }
   },
   "outputs": [
    {
     "data": {
      "text/plain": [
       "XGBClassifier(base_score=0.5, booster='gbtree', colsample_bylevel=1,\n",
       "              colsample_bynode=1, colsample_bytree=0.5, eta=1,\n",
       "              eval_metric='error', gamma=9, gpu_id=-1, importance_type='gain',\n",
       "              interaction_constraints='', learning_rate=1, max_delta_step=0,\n",
       "              max_depth=18, min_child_weight=1, missing=nan,\n",
       "              monotone_constraints='()', n_estimators=100, n_jobs=8,\n",
       "              num_parallel_tree=1, random_state=0, reg_alpha=180, reg_lambda=1,\n",
       "              scale_pos_weight=1, subsample=1, tree_method='exact',\n",
       "              use_label_encoder=False, validate_parameters=1, verbosity=None)"
      ]
     },
     "execution_count": 10,
     "metadata": {},
     "output_type": "execute_result"
    }
   ],
   "source": [
    "import re\n",
    "regex = re.compile(r\"\\[|\\]|<\", re.IGNORECASE)\n",
    "\n",
    "X = df_feats.drop(columns = ['study_id'])\n",
    "y = df_targets['cesdclinmA'].astype(int)\n",
    "\n",
    "X.columns = [regex.sub(\"_\", col) if any(x in str(col) for x in set(('[', ']', '<'))) else col for col in X.columns.values]\n",
    "\n",
    "xgb = XGBClassifier(use_label_encoder=False, eval_metric='error', eta=1)\n",
    "\n",
    "param_dict = {'max_depth': (3, 18, 1),\n",
    "        'gamma': (1,9),\n",
    "        'reg_alpha' : (40,180,1),\n",
    "        'reg_lambda' : (0,1),\n",
    "        'colsample_bytree' : (0.5,1),\n",
    "        'min_child_weight' : (0, 10, 1),\n",
    "    }\n",
    "\n",
    "grid = RandomizedSearchCV(xgb, param_dict)\n",
    "grid.fit(X, y)\n",
    "xgb = grid.best_estimator_\n",
    "xgb"
   ]
  },
  {
   "cell_type": "code",
   "execution_count": 11,
   "id": "fc5b3e61",
   "metadata": {
    "ExecuteTime": {
     "end_time": "2021-07-19T20:34:26.562706Z",
     "start_time": "2021-07-19T20:34:25.337903Z"
    },
    "hide_input": false
   },
   "outputs": [
    {
     "name": "stderr",
     "output_type": "stream",
     "text": [
      "C:\\Users\\liorn\\Anaconda3\\lib\\site-packages\\numpy\\core\\fromnumeric.py:3419: RuntimeWarning: Mean of empty slice.\n",
      "  return _methods._mean(a, axis=axis, dtype=dtype,\n",
      "C:\\Users\\liorn\\Anaconda3\\lib\\site-packages\\numpy\\core\\_methods.py:188: RuntimeWarning: invalid value encountered in double_scalars\n",
      "  ret = ret.dtype.type(ret / rcount)\n"
     ]
    },
    {
     "data": {
      "text/html": [
       "<div>\n",
       "<style scoped>\n",
       "    .dataframe tbody tr th:only-of-type {\n",
       "        vertical-align: middle;\n",
       "    }\n",
       "\n",
       "    .dataframe tbody tr th {\n",
       "        vertical-align: top;\n",
       "    }\n",
       "\n",
       "    .dataframe thead th {\n",
       "        text-align: right;\n",
       "    }\n",
       "</style>\n",
       "<table border=\"1\" class=\"dataframe\">\n",
       "  <thead>\n",
       "    <tr style=\"text-align: right;\">\n",
       "      <th></th>\n",
       "      <th>Type</th>\n",
       "      <th>Num of Features</th>\n",
       "      <th>Train_Accuracy_CV</th>\n",
       "      <th>Val_Accuracy_CV</th>\n",
       "      <th>Train_F1_CV</th>\n",
       "      <th>Val_F1_CV</th>\n",
       "      <th>Val_Sensitivity_CV</th>\n",
       "      <th>Val_Specificity_CV</th>\n",
       "      <th>Val_AUC_CV</th>\n",
       "    </tr>\n",
       "    <tr>\n",
       "      <th>Model</th>\n",
       "      <th></th>\n",
       "      <th></th>\n",
       "      <th></th>\n",
       "      <th></th>\n",
       "      <th></th>\n",
       "      <th></th>\n",
       "      <th></th>\n",
       "      <th></th>\n",
       "      <th></th>\n",
       "    </tr>\n",
       "  </thead>\n",
       "  <tbody>\n",
       "    <tr>\n",
       "      <th>XGBClassifier</th>\n",
       "      <td>CV</td>\n",
       "      <td>NaN</td>\n",
       "      <td>0.787209</td>\n",
       "      <td>0.785</td>\n",
       "      <td>0.693484</td>\n",
       "      <td>0.690635</td>\n",
       "      <td>0.785</td>\n",
       "      <td>1.0</td>\n",
       "      <td>0.5</td>\n",
       "    </tr>\n",
       "  </tbody>\n",
       "</table>\n",
       "</div>"
      ],
      "text/plain": [
       "              Type  Num of Features  Train_Accuracy_CV  Val_Accuracy_CV  \\\n",
       "Model                                                                     \n",
       "XGBClassifier   CV              NaN           0.787209            0.785   \n",
       "\n",
       "               Train_F1_CV  Val_F1_CV  Val_Sensitivity_CV  Val_Specificity_CV  \\\n",
       "Model                                                                           \n",
       "XGBClassifier     0.693484   0.690635               0.785                 1.0   \n",
       "\n",
       "               Val_AUC_CV  \n",
       "Model                      \n",
       "XGBClassifier         0.5  "
      ]
     },
     "execution_count": 11,
     "metadata": {},
     "output_type": "execute_result"
    }
   ],
   "source": [
    "all_scores = {'Train_Accuracy_CV': [], 'Val_Accuracy_CV': [], 'Train_F1_CV': [], \n",
    "             'Val_F1_CV': [], 'Val_Sensitivity_CV': [], 'Val_Specificity_CV': [], 'Val_AUC_CV': [], 'K': []}\n",
    "\n",
    "skf = StratifiedKFold(n_splits=10, random_state=0, shuffle=True)\n",
    "\n",
    "final_results = []\n",
    "\n",
    "all_y_preds = []\n",
    "all_y_true = []\n",
    "\n",
    "for train_index, val_index in skf.split(X, y):\n",
    "    X_train, X_val = X.iloc[train_index], X.iloc[val_index]\n",
    "    y_train, y_val = y.iloc[train_index], y.iloc[val_index]\n",
    "    \n",
    "    xgb.fit(X_train, y_train)\n",
    "    y_pred_train = xgb.predict(X_train)\n",
    "    y_pred_val = xgb.predict(X_val)\n",
    "    \n",
    "    all_y_preds.append(list(y_pred_val))\n",
    "    all_y_true.append(list(y_val))\n",
    "    \n",
    "    all_scores['Train_Accuracy_CV'].append(accuracy_score(y_train, y_pred_train))\n",
    "    all_scores['Val_Accuracy_CV'].append(accuracy_score(y_val, y_pred_val))\n",
    "    all_scores['Train_F1_CV'].append(f1_score(y_train, y_pred_train, average='weighted'))\n",
    "    all_scores['Val_F1_CV'].append(f1_score(y_val, y_pred_val, average='weighted'))\n",
    "    all_scores['Val_Sensitivity_CV'].append(recall_score(y_val, y_pred_val, average='weighted'))\n",
    "    all_scores['Val_Specificity_CV'].append(recall_score(y_val, y_pred_val, labels = [0], average='weighted'))\n",
    "    all_scores['Val_AUC_CV'].append(roc_auc_score(y_val, y_pred_val))\n",
    "\n",
    "# Averaging CV results of splits\n",
    "for metric, score in all_scores.items():\n",
    "    all_scores[metric] = np.mean(score)\n",
    "    \n",
    "all_y_preds = [item for elem in all_y_preds for item in elem]\n",
    "all_y_true = [item for elem in all_y_true for item in elem]\n",
    "    \n",
    "final_results.append({'Model': xgb.__class__.__name__,\n",
    "                              'Type': 'CV',\n",
    "                              'Num of Features': all_scores['K'],\n",
    "                              'Train_Accuracy_CV': all_scores['Train_Accuracy_CV'], \n",
    "                              'Val_Accuracy_CV': all_scores['Val_Accuracy_CV'], \n",
    "                              'Train_F1_CV': all_scores['Train_F1_CV'], \n",
    "                              'Val_F1_CV': all_scores['Val_F1_CV'], \n",
    "                              'Val_Sensitivity_CV': all_scores['Val_Sensitivity_CV'], \n",
    "                              'Val_Specificity_CV': all_scores['Val_Specificity_CV'], \n",
    "                              'Val_AUC_CV': all_scores['Val_AUC_CV']})\n",
    "pd.DataFrame(final_results).set_index(['Model'])"
   ]
  },
  {
   "cell_type": "markdown",
   "id": "e11a3440",
   "metadata": {},
   "source": [
    "#### XGBoost Feature Importance (all data, no CV, PCA)"
   ]
  },
  {
   "cell_type": "code",
   "execution_count": 38,
   "id": "80efdff3",
   "metadata": {
    "ExecuteTime": {
     "end_time": "2021-07-19T21:04:37.364443Z",
     "start_time": "2021-07-19T21:04:36.964582Z"
    }
   },
   "outputs": [
    {
     "data": {
      "image/png": "[encoded data removed]",
      "text/plain": [
       "<Figure size 720x720 with 1 Axes>"
      ]
     },
     "metadata": {},
     "output_type": "display_data"
    }
   ],
   "source": [
    "regex = re.compile(r\"\\[|\\]|<\", re.IGNORECASE)\n",
    "\n",
    "X = df_feats.drop(columns = ['study_id'])\n",
    "y = df_targets['cesdclinmA'].astype(int)\n",
    "\n",
    "X.columns = [regex.sub(\"_\", col) if any(x in str(col) for x in set(('[', ']', '<'))) else col for col in X.columns.values]\n",
    "\n",
    "scaler = StandardScaler()\n",
    "scaler.fit(X)\n",
    "X = pd.DataFrame(scaler.transform(X), columns=X.columns)\n",
    "\n",
    "cols = X.columns\n",
    "\n",
    "pca = PCA()\n",
    "fs = pca.fit(X)\n",
    "array = np.cumsum(fs.explained_variance_ratio_)\n",
    "\n",
    "# Selecting number of principal components\n",
    "K = np.argmax(array > 0.8)\n",
    "fs = PCA(n_components=K).fit(X)\n",
    "X = fs.transform(X)\n",
    "\n",
    "xgb = XGBClassifier(use_label_encoder=False, eval_metric='error', eta=1)\n",
    "\n",
    "xgb.fit(X, y)\n",
    "\n",
    "coefs_df = coefs_to_df(cols, xgb, fs, scaler, 'PCA', K, 'PCA')\n",
    "\n",
    "coefs_df = coefs_df.reset_index().drop(columns = ['Model', 'Scaler', 'Feat Selection', 'Type', 'Num of Features']).T. \\\n",
    "                                        sort_values(by=0, ascending=False)\n",
    "\n",
    "pos_coefs = coefs_df[0][0:8]\n",
    "neg_coefs = coefs_df[0][-7:]\n",
    "\n",
    "strongest_coefs = pd.concat([pos_coefs, neg_coefs], axis=0)\n",
    "strongest_coefs = pd.DataFrame(strongest_coefs)\n",
    "strongest_coefs.rename(columns = {0 : \"Coefficient\"}, inplace=True)\n",
    "\n",
    "plt.figure(figsize=(10,10))\n",
    "plt.barh(strongest_coefs.index, strongest_coefs[\"Coefficient\"])\n",
    "plt.gca().invert_yaxis()\n",
    "plt.title(\"XGBoost (Standard Scaler, PCA(13 components))\")\n",
    "plt.savefig('feat_imp_xgb_baseline.png',bbox_inches=\"tight\")\n",
    "plt.xlabel('Importance Score');"
   ]
  },
  {
   "cell_type": "markdown",
   "id": "772d909b",
   "metadata": {},
   "source": [
    "### Best LogisticRegression"
   ]
  },
  {
   "cell_type": "code",
   "execution_count": 13,
   "id": "bdfb10d1",
   "metadata": {
    "ExecuteTime": {
     "end_time": "2021-07-19T20:34:27.619451Z",
     "start_time": "2021-07-19T20:34:27.202366Z"
    }
   },
   "outputs": [
    {
     "name": "stderr",
     "output_type": "stream",
     "text": [
      "C:\\Users\\liorn\\Anaconda3\\lib\\site-packages\\sklearn\\model_selection\\_validation.py:615: FitFailedWarning: Estimator fit failed. The score on this train-test partition for these parameters will be set to nan. Details: \n",
      "Traceback (most recent call last):\n",
      "  File \"C:\\Users\\liorn\\Anaconda3\\lib\\site-packages\\sklearn\\model_selection\\_validation.py\", line 598, in _fit_and_score\n",
      "    estimator.fit(X_train, y_train, **fit_params)\n",
      "  File \"C:\\Users\\liorn\\Anaconda3\\lib\\site-packages\\sklearn\\linear_model\\_logistic.py\", line 1306, in fit\n",
      "    solver = _check_solver(self.solver, self.penalty, self.dual)\n",
      "  File \"C:\\Users\\liorn\\Anaconda3\\lib\\site-packages\\sklearn\\linear_model\\_logistic.py\", line 454, in _check_solver\n",
      "    raise ValueError(\n",
      "ValueError: penalty='none' is not supported for the liblinear solver\n",
      "\n",
      "  warnings.warn(\"Estimator fit failed. The score on this train-test\"\n",
      "C:\\Users\\liorn\\Anaconda3\\lib\\site-packages\\sklearn\\model_selection\\_validation.py:615: FitFailedWarning: Estimator fit failed. The score on this train-test partition for these parameters will be set to nan. Details: \n",
      "Traceback (most recent call last):\n",
      "  File \"C:\\Users\\liorn\\Anaconda3\\lib\\site-packages\\sklearn\\model_selection\\_validation.py\", line 598, in _fit_and_score\n",
      "    estimator.fit(X_train, y_train, **fit_params)\n",
      "  File \"C:\\Users\\liorn\\Anaconda3\\lib\\site-packages\\sklearn\\linear_model\\_logistic.py\", line 1306, in fit\n",
      "    solver = _check_solver(self.solver, self.penalty, self.dual)\n",
      "  File \"C:\\Users\\liorn\\Anaconda3\\lib\\site-packages\\sklearn\\linear_model\\_logistic.py\", line 454, in _check_solver\n",
      "    raise ValueError(\n",
      "ValueError: penalty='none' is not supported for the liblinear solver\n",
      "\n",
      "  warnings.warn(\"Estimator fit failed. The score on this train-test\"\n",
      "C:\\Users\\liorn\\Anaconda3\\lib\\site-packages\\sklearn\\model_selection\\_validation.py:615: FitFailedWarning: Estimator fit failed. The score on this train-test partition for these parameters will be set to nan. Details: \n",
      "Traceback (most recent call last):\n",
      "  File \"C:\\Users\\liorn\\Anaconda3\\lib\\site-packages\\sklearn\\model_selection\\_validation.py\", line 598, in _fit_and_score\n",
      "    estimator.fit(X_train, y_train, **fit_params)\n",
      "  File \"C:\\Users\\liorn\\Anaconda3\\lib\\site-packages\\sklearn\\linear_model\\_logistic.py\", line 1306, in fit\n",
      "    solver = _check_solver(self.solver, self.penalty, self.dual)\n",
      "  File \"C:\\Users\\liorn\\Anaconda3\\lib\\site-packages\\sklearn\\linear_model\\_logistic.py\", line 454, in _check_solver\n",
      "    raise ValueError(\n",
      "ValueError: penalty='none' is not supported for the liblinear solver\n",
      "\n",
      "  warnings.warn(\"Estimator fit failed. The score on this train-test\"\n",
      "C:\\Users\\liorn\\Anaconda3\\lib\\site-packages\\sklearn\\model_selection\\_validation.py:615: FitFailedWarning: Estimator fit failed. The score on this train-test partition for these parameters will be set to nan. Details: \n",
      "Traceback (most recent call last):\n",
      "  File \"C:\\Users\\liorn\\Anaconda3\\lib\\site-packages\\sklearn\\model_selection\\_validation.py\", line 598, in _fit_and_score\n",
      "    estimator.fit(X_train, y_train, **fit_params)\n",
      "  File \"C:\\Users\\liorn\\Anaconda3\\lib\\site-packages\\sklearn\\linear_model\\_logistic.py\", line 1306, in fit\n",
      "    solver = _check_solver(self.solver, self.penalty, self.dual)\n",
      "  File \"C:\\Users\\liorn\\Anaconda3\\lib\\site-packages\\sklearn\\linear_model\\_logistic.py\", line 454, in _check_solver\n",
      "    raise ValueError(\n",
      "ValueError: penalty='none' is not supported for the liblinear solver\n",
      "\n",
      "  warnings.warn(\"Estimator fit failed. The score on this train-test\"\n",
      "C:\\Users\\liorn\\Anaconda3\\lib\\site-packages\\sklearn\\model_selection\\_validation.py:615: FitFailedWarning: Estimator fit failed. The score on this train-test partition for these parameters will be set to nan. Details: \n",
      "Traceback (most recent call last):\n",
      "  File \"C:\\Users\\liorn\\Anaconda3\\lib\\site-packages\\sklearn\\model_selection\\_validation.py\", line 598, in _fit_and_score\n",
      "    estimator.fit(X_train, y_train, **fit_params)\n",
      "  File \"C:\\Users\\liorn\\Anaconda3\\lib\\site-packages\\sklearn\\linear_model\\_logistic.py\", line 1306, in fit\n",
      "    solver = _check_solver(self.solver, self.penalty, self.dual)\n",
      "  File \"C:\\Users\\liorn\\Anaconda3\\lib\\site-packages\\sklearn\\linear_model\\_logistic.py\", line 454, in _check_solver\n",
      "    raise ValueError(\n",
      "ValueError: penalty='none' is not supported for the liblinear solver\n",
      "\n",
      "  warnings.warn(\"Estimator fit failed. The score on this train-test\"\n",
      "C:\\Users\\liorn\\Anaconda3\\lib\\site-packages\\sklearn\\linear_model\\_logistic.py:1322: UserWarning: Setting penalty='none' will ignore the C and l1_ratio parameters\n",
      "  warnings.warn(\n",
      "C:\\Users\\liorn\\Anaconda3\\lib\\site-packages\\sklearn\\linear_model\\_logistic.py:1322: UserWarning: Setting penalty='none' will ignore the C and l1_ratio parameters\n",
      "  warnings.warn(\n",
      "C:\\Users\\liorn\\Anaconda3\\lib\\site-packages\\sklearn\\linear_model\\_logistic.py:1322: UserWarning: Setting penalty='none' will ignore the C and l1_ratio parameters\n",
      "  warnings.warn(\n",
      "C:\\Users\\liorn\\Anaconda3\\lib\\site-packages\\sklearn\\linear_model\\_logistic.py:1322: UserWarning: Setting penalty='none' will ignore the C and l1_ratio parameters\n",
      "  warnings.warn(\n",
      "C:\\Users\\liorn\\Anaconda3\\lib\\site-packages\\sklearn\\linear_model\\_logistic.py:1322: UserWarning: Setting penalty='none' will ignore the C and l1_ratio parameters\n",
      "  warnings.warn(\n",
      "C:\\Users\\liorn\\Anaconda3\\lib\\site-packages\\sklearn\\model_selection\\_validation.py:615: FitFailedWarning: Estimator fit failed. The score on this train-test partition for these parameters will be set to nan. Details: \n",
      "Traceback (most recent call last):\n",
      "  File \"C:\\Users\\liorn\\Anaconda3\\lib\\site-packages\\sklearn\\model_selection\\_validation.py\", line 598, in _fit_and_score\n",
      "    estimator.fit(X_train, y_train, **fit_params)\n",
      "  File \"C:\\Users\\liorn\\Anaconda3\\lib\\site-packages\\sklearn\\linear_model\\_logistic.py\", line 1306, in fit\n",
      "    solver = _check_solver(self.solver, self.penalty, self.dual)\n",
      "  File \"C:\\Users\\liorn\\Anaconda3\\lib\\site-packages\\sklearn\\linear_model\\_logistic.py\", line 443, in _check_solver\n",
      "    raise ValueError(\"Solver %s supports only 'l2' or 'none' penalties, \"\n",
      "ValueError: Solver lbfgs supports only 'l2' or 'none' penalties, got l1 penalty.\n",
      "\n",
      "  warnings.warn(\"Estimator fit failed. The score on this train-test\"\n",
      "C:\\Users\\liorn\\Anaconda3\\lib\\site-packages\\sklearn\\model_selection\\_validation.py:615: FitFailedWarning: Estimator fit failed. The score on this train-test partition for these parameters will be set to nan. Details: \n",
      "Traceback (most recent call last):\n",
      "  File \"C:\\Users\\liorn\\Anaconda3\\lib\\site-packages\\sklearn\\model_selection\\_validation.py\", line 598, in _fit_and_score\n",
      "    estimator.fit(X_train, y_train, **fit_params)\n",
      "  File \"C:\\Users\\liorn\\Anaconda3\\lib\\site-packages\\sklearn\\linear_model\\_logistic.py\", line 1306, in fit\n",
      "    solver = _check_solver(self.solver, self.penalty, self.dual)\n",
      "  File \"C:\\Users\\liorn\\Anaconda3\\lib\\site-packages\\sklearn\\linear_model\\_logistic.py\", line 443, in _check_solver\n",
      "    raise ValueError(\"Solver %s supports only 'l2' or 'none' penalties, \"\n",
      "ValueError: Solver lbfgs supports only 'l2' or 'none' penalties, got l1 penalty.\n",
      "\n",
      "  warnings.warn(\"Estimator fit failed. The score on this train-test\"\n",
      "C:\\Users\\liorn\\Anaconda3\\lib\\site-packages\\sklearn\\model_selection\\_validation.py:615: FitFailedWarning: Estimator fit failed. The score on this train-test partition for these parameters will be set to nan. Details: \n",
      "Traceback (most recent call last):\n",
      "  File \"C:\\Users\\liorn\\Anaconda3\\lib\\site-packages\\sklearn\\model_selection\\_validation.py\", line 598, in _fit_and_score\n",
      "    estimator.fit(X_train, y_train, **fit_params)\n",
      "  File \"C:\\Users\\liorn\\Anaconda3\\lib\\site-packages\\sklearn\\linear_model\\_logistic.py\", line 1306, in fit\n",
      "    solver = _check_solver(self.solver, self.penalty, self.dual)\n",
      "  File \"C:\\Users\\liorn\\Anaconda3\\lib\\site-packages\\sklearn\\linear_model\\_logistic.py\", line 443, in _check_solver\n",
      "    raise ValueError(\"Solver %s supports only 'l2' or 'none' penalties, \"\n",
      "ValueError: Solver lbfgs supports only 'l2' or 'none' penalties, got l1 penalty.\n",
      "\n",
      "  warnings.warn(\"Estimator fit failed. The score on this train-test\"\n",
      "C:\\Users\\liorn\\Anaconda3\\lib\\site-packages\\sklearn\\model_selection\\_validation.py:615: FitFailedWarning: Estimator fit failed. The score on this train-test partition for these parameters will be set to nan. Details: \n",
      "Traceback (most recent call last):\n",
      "  File \"C:\\Users\\liorn\\Anaconda3\\lib\\site-packages\\sklearn\\model_selection\\_validation.py\", line 598, in _fit_and_score\n",
      "    estimator.fit(X_train, y_train, **fit_params)\n",
      "  File \"C:\\Users\\liorn\\Anaconda3\\lib\\site-packages\\sklearn\\linear_model\\_logistic.py\", line 1306, in fit\n",
      "    solver = _check_solver(self.solver, self.penalty, self.dual)\n",
      "  File \"C:\\Users\\liorn\\Anaconda3\\lib\\site-packages\\sklearn\\linear_model\\_logistic.py\", line 443, in _check_solver\n",
      "    raise ValueError(\"Solver %s supports only 'l2' or 'none' penalties, \"\n",
      "ValueError: Solver lbfgs supports only 'l2' or 'none' penalties, got l1 penalty.\n",
      "\n",
      "  warnings.warn(\"Estimator fit failed. The score on this train-test\"\n",
      "C:\\Users\\liorn\\Anaconda3\\lib\\site-packages\\sklearn\\model_selection\\_validation.py:615: FitFailedWarning: Estimator fit failed. The score on this train-test partition for these parameters will be set to nan. Details: \n",
      "Traceback (most recent call last):\n",
      "  File \"C:\\Users\\liorn\\Anaconda3\\lib\\site-packages\\sklearn\\model_selection\\_validation.py\", line 598, in _fit_and_score\n",
      "    estimator.fit(X_train, y_train, **fit_params)\n",
      "  File \"C:\\Users\\liorn\\Anaconda3\\lib\\site-packages\\sklearn\\linear_model\\_logistic.py\", line 1306, in fit\n",
      "    solver = _check_solver(self.solver, self.penalty, self.dual)\n",
      "  File \"C:\\Users\\liorn\\Anaconda3\\lib\\site-packages\\sklearn\\linear_model\\_logistic.py\", line 443, in _check_solver\n",
      "    raise ValueError(\"Solver %s supports only 'l2' or 'none' penalties, \"\n",
      "ValueError: Solver lbfgs supports only 'l2' or 'none' penalties, got l1 penalty.\n",
      "\n",
      "  warnings.warn(\"Estimator fit failed. The score on this train-test\"\n",
      "C:\\Users\\liorn\\Anaconda3\\lib\\site-packages\\sklearn\\linear_model\\_logistic.py:1322: UserWarning: Setting penalty='none' will ignore the C and l1_ratio parameters\n",
      "  warnings.warn(\n",
      "C:\\Users\\liorn\\Anaconda3\\lib\\site-packages\\sklearn\\linear_model\\_logistic.py:1322: UserWarning: Setting penalty='none' will ignore the C and l1_ratio parameters\n",
      "  warnings.warn(\n",
      "C:\\Users\\liorn\\Anaconda3\\lib\\site-packages\\sklearn\\linear_model\\_logistic.py:1322: UserWarning: Setting penalty='none' will ignore the C and l1_ratio parameters\n",
      "  warnings.warn(\n",
      "C:\\Users\\liorn\\Anaconda3\\lib\\site-packages\\sklearn\\utils\\optimize.py:202: ConvergenceWarning: newton-cg failed to converge. Increase the number of iterations.\n",
      "  warnings.warn(\"newton-cg failed to converge. Increase the \"\n",
      "C:\\Users\\liorn\\Anaconda3\\lib\\site-packages\\sklearn\\linear_model\\_logistic.py:1322: UserWarning: Setting penalty='none' will ignore the C and l1_ratio parameters\n",
      "  warnings.warn(\n",
      "C:\\Users\\liorn\\Anaconda3\\lib\\site-packages\\sklearn\\utils\\optimize.py:202: ConvergenceWarning: newton-cg failed to converge. Increase the number of iterations.\n",
      "  warnings.warn(\"newton-cg failed to converge. Increase the \"\n",
      "C:\\Users\\liorn\\Anaconda3\\lib\\site-packages\\sklearn\\linear_model\\_logistic.py:1322: UserWarning: Setting penalty='none' will ignore the C and l1_ratio parameters\n",
      "  warnings.warn(\n"
     ]
    },
    {
     "name": "stderr",
     "output_type": "stream",
     "text": [
      "C:\\Users\\liorn\\Anaconda3\\lib\\site-packages\\sklearn\\utils\\optimize.py:202: ConvergenceWarning: newton-cg failed to converge. Increase the number of iterations.\n",
      "  warnings.warn(\"newton-cg failed to converge. Increase the \"\n",
      "C:\\Users\\liorn\\Anaconda3\\lib\\site-packages\\sklearn\\model_selection\\_validation.py:615: FitFailedWarning: Estimator fit failed. The score on this train-test partition for these parameters will be set to nan. Details: \n",
      "Traceback (most recent call last):\n",
      "  File \"C:\\Users\\liorn\\Anaconda3\\lib\\site-packages\\sklearn\\model_selection\\_validation.py\", line 598, in _fit_and_score\n",
      "    estimator.fit(X_train, y_train, **fit_params)\n",
      "  File \"C:\\Users\\liorn\\Anaconda3\\lib\\site-packages\\sklearn\\linear_model\\_logistic.py\", line 1306, in fit\n",
      "    solver = _check_solver(self.solver, self.penalty, self.dual)\n",
      "  File \"C:\\Users\\liorn\\Anaconda3\\lib\\site-packages\\sklearn\\linear_model\\_logistic.py\", line 443, in _check_solver\n",
      "    raise ValueError(\"Solver %s supports only 'l2' or 'none' penalties, \"\n",
      "ValueError: Solver newton-cg supports only 'l2' or 'none' penalties, got elasticnet penalty.\n",
      "\n",
      "  warnings.warn(\"Estimator fit failed. The score on this train-test\"\n",
      "C:\\Users\\liorn\\Anaconda3\\lib\\site-packages\\sklearn\\model_selection\\_validation.py:615: FitFailedWarning: Estimator fit failed. The score on this train-test partition for these parameters will be set to nan. Details: \n",
      "Traceback (most recent call last):\n",
      "  File \"C:\\Users\\liorn\\Anaconda3\\lib\\site-packages\\sklearn\\model_selection\\_validation.py\", line 598, in _fit_and_score\n",
      "    estimator.fit(X_train, y_train, **fit_params)\n",
      "  File \"C:\\Users\\liorn\\Anaconda3\\lib\\site-packages\\sklearn\\linear_model\\_logistic.py\", line 1306, in fit\n",
      "    solver = _check_solver(self.solver, self.penalty, self.dual)\n",
      "  File \"C:\\Users\\liorn\\Anaconda3\\lib\\site-packages\\sklearn\\linear_model\\_logistic.py\", line 443, in _check_solver\n",
      "    raise ValueError(\"Solver %s supports only 'l2' or 'none' penalties, \"\n",
      "ValueError: Solver newton-cg supports only 'l2' or 'none' penalties, got elasticnet penalty.\n",
      "\n",
      "  warnings.warn(\"Estimator fit failed. The score on this train-test\"\n",
      "C:\\Users\\liorn\\Anaconda3\\lib\\site-packages\\sklearn\\model_selection\\_validation.py:615: FitFailedWarning: Estimator fit failed. The score on this train-test partition for these parameters will be set to nan. Details: \n",
      "Traceback (most recent call last):\n",
      "  File \"C:\\Users\\liorn\\Anaconda3\\lib\\site-packages\\sklearn\\model_selection\\_validation.py\", line 598, in _fit_and_score\n",
      "    estimator.fit(X_train, y_train, **fit_params)\n",
      "  File \"C:\\Users\\liorn\\Anaconda3\\lib\\site-packages\\sklearn\\linear_model\\_logistic.py\", line 1306, in fit\n",
      "    solver = _check_solver(self.solver, self.penalty, self.dual)\n",
      "  File \"C:\\Users\\liorn\\Anaconda3\\lib\\site-packages\\sklearn\\linear_model\\_logistic.py\", line 443, in _check_solver\n",
      "    raise ValueError(\"Solver %s supports only 'l2' or 'none' penalties, \"\n",
      "ValueError: Solver newton-cg supports only 'l2' or 'none' penalties, got elasticnet penalty.\n",
      "\n",
      "  warnings.warn(\"Estimator fit failed. The score on this train-test\"\n",
      "C:\\Users\\liorn\\Anaconda3\\lib\\site-packages\\sklearn\\model_selection\\_validation.py:615: FitFailedWarning: Estimator fit failed. The score on this train-test partition for these parameters will be set to nan. Details: \n",
      "Traceback (most recent call last):\n",
      "  File \"C:\\Users\\liorn\\Anaconda3\\lib\\site-packages\\sklearn\\model_selection\\_validation.py\", line 598, in _fit_and_score\n",
      "    estimator.fit(X_train, y_train, **fit_params)\n",
      "  File \"C:\\Users\\liorn\\Anaconda3\\lib\\site-packages\\sklearn\\linear_model\\_logistic.py\", line 1306, in fit\n",
      "    solver = _check_solver(self.solver, self.penalty, self.dual)\n",
      "  File \"C:\\Users\\liorn\\Anaconda3\\lib\\site-packages\\sklearn\\linear_model\\_logistic.py\", line 443, in _check_solver\n",
      "    raise ValueError(\"Solver %s supports only 'l2' or 'none' penalties, \"\n",
      "ValueError: Solver newton-cg supports only 'l2' or 'none' penalties, got elasticnet penalty.\n",
      "\n",
      "  warnings.warn(\"Estimator fit failed. The score on this train-test\"\n",
      "C:\\Users\\liorn\\Anaconda3\\lib\\site-packages\\sklearn\\model_selection\\_validation.py:615: FitFailedWarning: Estimator fit failed. The score on this train-test partition for these parameters will be set to nan. Details: \n",
      "Traceback (most recent call last):\n",
      "  File \"C:\\Users\\liorn\\Anaconda3\\lib\\site-packages\\sklearn\\model_selection\\_validation.py\", line 598, in _fit_and_score\n",
      "    estimator.fit(X_train, y_train, **fit_params)\n",
      "  File \"C:\\Users\\liorn\\Anaconda3\\lib\\site-packages\\sklearn\\linear_model\\_logistic.py\", line 1306, in fit\n",
      "    solver = _check_solver(self.solver, self.penalty, self.dual)\n",
      "  File \"C:\\Users\\liorn\\Anaconda3\\lib\\site-packages\\sklearn\\linear_model\\_logistic.py\", line 443, in _check_solver\n",
      "    raise ValueError(\"Solver %s supports only 'l2' or 'none' penalties, \"\n",
      "ValueError: Solver newton-cg supports only 'l2' or 'none' penalties, got elasticnet penalty.\n",
      "\n",
      "  warnings.warn(\"Estimator fit failed. The score on this train-test\"\n",
      "C:\\Users\\liorn\\Anaconda3\\lib\\site-packages\\sklearn\\model_selection\\_search.py:922: UserWarning: One or more of the test scores are non-finite: [0.55333333        nan 0.59333333 0.61555556        nan 0.55333333\n",
      " 0.48666667        nan 0.68       0.55111111]\n",
      "  warnings.warn(\n"
     ]
    },
    {
     "data": {
      "text/plain": [
       "LogisticRegression(C=0.28601113555789587, solver='newton-cg', tol=0.01)"
      ]
     },
     "execution_count": 13,
     "metadata": {},
     "output_type": "execute_result"
    }
   ],
   "source": [
    "X = df_feats.drop(columns = ['study_id'])\n",
    "y = df_targets['cesdclinmA'].astype(int)\n",
    "\n",
    "cols = X.columns\n",
    "\n",
    "scaler = RobustScaler()\n",
    "\n",
    "scaler.fit(X)\n",
    "X = pd.DataFrame(scaler.transform(X), columns=cols)\n",
    "\n",
    "lgr = LogisticRegression()\n",
    "\n",
    "param_dict = {'penalty': ['none', 'l1', 'l2', 'elasticnet'], 'tol': [1e-1, 1e-2, 1e-3, 1e-4, 1e-5, 1e-6], \n",
    "              'C': loguniform(1e-5, 100), 'solver': ['newton-cg', 'lbfgs', 'liblinear']}\n",
    "\n",
    "grid = RandomizedSearchCV(lgr, param_dict)\n",
    "grid.fit(X, y)\n",
    "lgr = grid.best_estimator_\n",
    "lgr"
   ]
  },
  {
   "cell_type": "code",
   "execution_count": 14,
   "id": "8d842f55",
   "metadata": {
    "ExecuteTime": {
     "end_time": "2021-07-19T20:34:27.864188Z",
     "start_time": "2021-07-19T20:34:27.621724Z"
    }
   },
   "outputs": [
    {
     "name": "stderr",
     "output_type": "stream",
     "text": [
      "C:\\Users\\liorn\\Anaconda3\\lib\\site-packages\\sklearn\\feature_selection\\_univariate_selection.py:114: UserWarning: Features [147 148 149 150 151 152 153 154 155 156 157 158 161 162 164 166 167] are constant.\n",
      "  warnings.warn(\"Features %s are constant.\" % constant_features_idx,\n",
      "C:\\Users\\liorn\\Anaconda3\\lib\\site-packages\\sklearn\\feature_selection\\_univariate_selection.py:116: RuntimeWarning: invalid value encountered in true_divide\n",
      "  f = msb / msw\n"
     ]
    },
    {
     "data": {
      "text/html": [
       "<div>\n",
       "<style scoped>\n",
       "    .dataframe tbody tr th:only-of-type {\n",
       "        vertical-align: middle;\n",
       "    }\n",
       "\n",
       "    .dataframe tbody tr th {\n",
       "        vertical-align: top;\n",
       "    }\n",
       "\n",
       "    .dataframe thead th {\n",
       "        text-align: right;\n",
       "    }\n",
       "</style>\n",
       "<table border=\"1\" class=\"dataframe\">\n",
       "  <thead>\n",
       "    <tr style=\"text-align: right;\">\n",
       "      <th></th>\n",
       "      <th>scaler</th>\n",
       "      <th>Feat Selection</th>\n",
       "      <th>Type</th>\n",
       "      <th>Num of Features</th>\n",
       "      <th>Train_Accuracy_CV</th>\n",
       "      <th>Val_Accuracy_CV</th>\n",
       "      <th>Train_F1_CV</th>\n",
       "      <th>Val_F1_CV</th>\n",
       "      <th>Val_Sensitivity_CV</th>\n",
       "      <th>Val_Specificity_CV</th>\n",
       "      <th>Val_AUC_CV</th>\n",
       "    </tr>\n",
       "    <tr>\n",
       "      <th>Model</th>\n",
       "      <th></th>\n",
       "      <th></th>\n",
       "      <th></th>\n",
       "      <th></th>\n",
       "      <th></th>\n",
       "      <th></th>\n",
       "      <th></th>\n",
       "      <th></th>\n",
       "      <th></th>\n",
       "      <th></th>\n",
       "      <th></th>\n",
       "    </tr>\n",
       "  </thead>\n",
       "  <tbody>\n",
       "    <tr>\n",
       "      <th>LogisticRegression</th>\n",
       "      <td>RobustScaler</td>\n",
       "      <td>FDR</td>\n",
       "      <td>CV</td>\n",
       "      <td>5.0</td>\n",
       "      <td>0.978738</td>\n",
       "      <td>0.68</td>\n",
       "      <td>0.978269</td>\n",
       "      <td>0.636349</td>\n",
       "      <td>0.68</td>\n",
       "      <td>0.841667</td>\n",
       "      <td>0.470833</td>\n",
       "    </tr>\n",
       "  </tbody>\n",
       "</table>\n",
       "</div>"
      ],
      "text/plain": [
       "                          scaler Feat Selection Type  Num of Features  \\\n",
       "Model                                                                   \n",
       "LogisticRegression  RobustScaler            FDR   CV              5.0   \n",
       "\n",
       "                    Train_Accuracy_CV  Val_Accuracy_CV  Train_F1_CV  \\\n",
       "Model                                                                 \n",
       "LogisticRegression           0.978738             0.68     0.978269   \n",
       "\n",
       "                    Val_F1_CV  Val_Sensitivity_CV  Val_Specificity_CV  \\\n",
       "Model                                                                   \n",
       "LogisticRegression   0.636349                0.68            0.841667   \n",
       "\n",
       "                    Val_AUC_CV  \n",
       "Model                           \n",
       "LogisticRegression    0.470833  "
      ]
     },
     "execution_count": 14,
     "metadata": {},
     "output_type": "execute_result"
    }
   ],
   "source": [
    "all_scores = {'Train_Accuracy_CV': [], 'Val_Accuracy_CV': [], 'Train_F1_CV': [], \n",
    "             'Val_F1_CV': [], 'Val_Sensitivity_CV': [], 'Val_Specificity_CV': [], 'Val_AUC_CV': [], 'K': []}\n",
    "\n",
    "\n",
    "fs = GenericUnivariateSelect(mode='fdr', param=0.7)\n",
    "\n",
    "fs.fit(X, y)\n",
    "X_fs = pd.DataFrame(fs.transform(X))\n",
    "                        \n",
    "K = sum(fs.get_support())\n",
    "skf = StratifiedKFold(n_splits=10, random_state=0, shuffle=True)\n",
    "\n",
    "final_results = []\n",
    "\n",
    "all_y_preds = []\n",
    "all_y_true = []\n",
    "\n",
    "for train_index, val_index in skf.split(X_fs, y):\n",
    "    X_train, X_val = X.iloc[train_index], X.iloc[val_index]\n",
    "    y_train, y_val = y.iloc[train_index], y.iloc[val_index]\n",
    "    \n",
    "    lgr.fit(X_train, y_train)\n",
    "    y_pred_train = lgr.predict(X_train)\n",
    "    y_pred_val = lgr.predict(X_val)\n",
    "    \n",
    "    all_y_preds.append(list(y_pred_val))\n",
    "    all_y_true.append(list(y_val))\n",
    "    \n",
    "    all_scores['Train_Accuracy_CV'].append(accuracy_score(y_train, y_pred_train))\n",
    "    all_scores['Val_Accuracy_CV'].append(accuracy_score(y_val, y_pred_val))\n",
    "    all_scores['Train_F1_CV'].append(f1_score(y_train, y_pred_train, average='weighted'))\n",
    "    all_scores['Val_F1_CV'].append(f1_score(y_val, y_pred_val, average='weighted'))\n",
    "    all_scores['Val_Sensitivity_CV'].append(recall_score(y_val, y_pred_val, average='weighted'))\n",
    "    all_scores['Val_Specificity_CV'].append(recall_score(y_val, y_pred_val, labels = [0], average='weighted'))\n",
    "    all_scores['Val_AUC_CV'].append(roc_auc_score(y_val, y_pred_val))\n",
    "    all_scores['K'].append(K)\n",
    "\n",
    "# Averaging CV results of splits\n",
    "for metric, score in all_scores.items():\n",
    "    all_scores[metric] = np.mean(score)\n",
    "    \n",
    "all_y_preds = [item for elem in all_y_preds for item in elem]\n",
    "all_y_true = [item for elem in all_y_true for item in elem]\n",
    "    \n",
    "final_results.append({'Model': lgr.__class__.__name__, 'scaler': scaler.__class__.__name__, \n",
    "                              'Feat Selection': 'FDR',\n",
    "                              'Type': 'CV',\n",
    "                              'Num of Features': all_scores['K'],\n",
    "                              'Train_Accuracy_CV': all_scores['Train_Accuracy_CV'], \n",
    "                              'Val_Accuracy_CV': all_scores['Val_Accuracy_CV'], \n",
    "                              'Train_F1_CV': all_scores['Train_F1_CV'], \n",
    "                              'Val_F1_CV': all_scores['Val_F1_CV'], \n",
    "                              'Val_Sensitivity_CV': all_scores['Val_Sensitivity_CV'], \n",
    "                              'Val_Specificity_CV': all_scores['Val_Specificity_CV'], \n",
    "                              'Val_AUC_CV': all_scores['Val_AUC_CV']})\n",
    "pd.DataFrame(final_results).set_index(['Model'])"
   ]
  },
  {
   "cell_type": "markdown",
   "id": "bffa0375",
   "metadata": {},
   "source": [
    "#### Logistic Regression Feature Importance (all data, no CV, PCA)"
   ]
  },
  {
   "cell_type": "code",
   "execution_count": 42,
   "id": "02129375",
   "metadata": {
    "ExecuteTime": {
     "end_time": "2021-07-19T21:05:20.828801Z",
     "start_time": "2021-07-19T21:05:20.466738Z"
    }
   },
   "outputs": [
    {
     "data": {
      "image/png": "[encoded data removed]",
      "text/plain": [
       "<Figure size 720x720 with 1 Axes>"
      ]
     },
     "metadata": {},
     "output_type": "display_data"
    }
   ],
   "source": [
    "X = df_feats.drop(columns = ['study_id'])\n",
    "y = df_targets['cesdclinmA'].astype(int)\n",
    "\n",
    "scaler = RobustScaler()\n",
    "scaler.fit(X)\n",
    "X = pd.DataFrame(scaler.transform(X), columns=cols)\n",
    "\n",
    "cols = X.columns\n",
    "\n",
    "pca = PCA()\n",
    "fs = pca.fit(X)\n",
    "array = np.cumsum(fs.explained_variance_ratio_)\n",
    "\n",
    "# Selecting number of principal components\n",
    "K = np.argmax(array > 0.8)\n",
    "fs = PCA(n_components=K).fit(X)\n",
    "X = fs.transform(X)\n",
    "\n",
    "\n",
    "lgr = LogisticRegression(max_iter=5000)\n",
    "lgr.fit(X, y)\n",
    "\n",
    "coefs_df = coefs_to_df(cols, lgr, fs, scaler, 'PCA', K, 'PCA')\n",
    "\n",
    "coefs_df = coefs_df.reset_index().drop(columns = ['Model', 'Scaler', 'Feat Selection', 'Type', 'Num of Features']).T. \\\n",
    "                                        sort_values(by=0, ascending=False)\n",
    "\n",
    "pos_coefs = coefs_df[0][0:8]\n",
    "neg_coefs = coefs_df[0][-7:]\n",
    "\n",
    "strongest_coefs = pd.concat([pos_coefs, neg_coefs], axis=0)\n",
    "strongest_coefs = pd.DataFrame(strongest_coefs)\n",
    "strongest_coefs.rename(columns = {0 : \"Coefficient\"}, inplace=True)\n",
    "\n",
    "plt.figure(figsize=(10,10))\n",
    "plt.barh(strongest_coefs.index, strongest_coefs[\"Coefficient\"])\n",
    "plt.gca().invert_yaxis()\n",
    "plt.title(\"Logistic Regression (Robust Scaler, PCA(11 components))\")\n",
    "plt.savefig('feat_imp_lgr_pca_baseline.png',bbox_inches=\"tight\")\n",
    "plt.xlabel('Importance Score');"
   ]
  },
  {
   "cell_type": "markdown",
   "id": "9be2b483",
   "metadata": {},
   "source": [
    "#### Logistic Regression Feature Importance (all data, no CV, Lasso)"
   ]
  },
  {
   "cell_type": "code",
   "execution_count": 49,
   "id": "3c8d8383",
   "metadata": {
    "ExecuteTime": {
     "end_time": "2021-07-19T21:06:37.768489Z",
     "start_time": "2021-07-19T21:06:37.521659Z"
    }
   },
   "outputs": [
    {
     "data": {
      "image/png": "[encoded data removed]",
      "text/plain": [
       "<Figure size 720x720 with 1 Axes>"
      ]
     },
     "metadata": {},
     "output_type": "display_data"
    }
   ],
   "source": [
    "X = df_feats.drop(columns = ['study_id'])\n",
    "y = df_targets['cesdclinmA'].astype(int)\n",
    "\n",
    "scaler = RobustScaler()\n",
    "scaler.fit(X)\n",
    "X = pd.DataFrame(scaler.transform(X), columns=cols)\n",
    "\n",
    "cols = X.columns\n",
    "\n",
    "fs = SelectFromModel(Lasso(alpha=0.15, max_iter=5000, tol=0.2))\n",
    "fs.fit(X, y)\n",
    "X = fs.transform(X)\n",
    "K = sum(fs.get_support())\n",
    "\n",
    "lgr = LogisticRegression(max_iter=5000)\n",
    "lgr.fit(X, y)\n",
    "\n",
    "coefs_df = coefs_to_df(cols, lgr, fs, scaler, 'Lasso', K,)\n",
    "\n",
    "coefs_df = coefs_df.reset_index().drop(columns = ['Model', 'Scaler', 'Feat Selection', 'Type', 'Num of Features']).T. \\\n",
    "                                        sort_values(by=0, ascending=False)\n",
    "\n",
    "pos_coefs = coefs_df[0][0:2]\n",
    "neg_coefs = coefs_df[0][-1:]\n",
    "\n",
    "strongest_coefs = pd.concat([pos_coefs, neg_coefs], axis=0)\n",
    "strongest_coefs = pd.DataFrame(strongest_coefs)\n",
    "strongest_coefs.rename(columns = {0 : \"Coefficient\"}, inplace=True)\n",
    "\n",
    "plt.figure(figsize=(10,10))\n",
    "plt.barh(strongest_coefs.index, strongest_coefs[\"Coefficient\"])\n",
    "plt.gca().invert_yaxis()\n",
    "plt.title(\"Logistic Regression (Robust Scaler, Lasso(3 features))\")\n",
    "plt.savefig('feat_imp_lgr_lasso_baseline.png',bbox_inches=\"tight\")\n",
    "plt.xlabel('Importance Score');"
   ]
  },
  {
   "cell_type": "code",
   "execution_count": null,
   "id": "f878d611",
   "metadata": {},
   "outputs": [],
   "source": []
  }
 ],
 "metadata": {
  "kernelspec": {
   "display_name": "Python 3",
   "language": "python",
   "name": "python3"
  },
  "language_info": {
   "codemirror_mode": {
    "name": "ipython",
    "version": 3
   },
   "file_extension": ".py",
   "mimetype": "text/x-python",
   "name": "python",
   "nbconvert_exporter": "python",
   "pygments_lexer": "ipython3",
   "version": "3.8.8"
  }
 },
 "nbformat": 4,
 "nbformat_minor": 5
}
