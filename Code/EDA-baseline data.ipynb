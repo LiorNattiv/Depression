{
 "cells": [
  {
   "cell_type": "code",
   "execution_count": 1,
   "id": "05243c1c",
   "metadata": {
    "ExecuteTime": {
     "end_time": "2021-07-19T16:23:54.741818Z",
     "start_time": "2021-07-19T16:23:53.708174Z"
    },
    "hide_input": false
   },
   "outputs": [],
   "source": [
    "import pandas as pd\n",
    "import numpy as np\n",
    "import seaborn as sns\n",
    "import matplotlib.pyplot as plt\n",
    "from datetime import datetime\n",
    "\n",
    "from sklearn.preprocessing import RobustScaler\n",
    "from sklearn.impute import SimpleImputer"
   ]
  },
  {
   "cell_type": "code",
   "execution_count": 2,
   "id": "aadff8a3",
   "metadata": {
    "ExecuteTime": {
     "end_time": "2021-07-19T16:23:54.757055Z",
     "start_time": "2021-07-19T16:23:54.742686Z"
    }
   },
   "outputs": [],
   "source": [
    "def basic_eda(df):\n",
    "    \"\"\"\n",
    "    See dataframe's info, shape, missing value, duplicate rows\n",
    "    \"\"\"\n",
    "    print('Quick preview for our data:')\n",
    "    display(df.head())\n",
    "    print('\\n')\n",
    "    print(f\"Dataframe shape: {df.shape}\\n\")\n",
    "    print('/ Columns info:')\n",
    "    display(df.info())\n",
    "    print('Summary Statistics for numerical columns:')\n",
    "    display(df.describe())\n",
    "    print('Summary Statistics for categorical columns:')\n",
    "    display(df.describe(include=[object]))\n",
    "    print(f\"\\\n",
    "    \\nRows count = {len(df)}\\\n",
    "    \\nNull count:\\\n",
    "    \\n{df.isnull().sum()}\\\n",
    "    \\n\\\n",
    "    \\nOverall missing values in data: {df.isnull().sum().sum()}\\\n",
    "    \\n\\nDuplicated Rows: {df.duplicated().sum()}\\\n",
    "    \\n\\nUnique values count:\\\n",
    "    \\n{df.nunique()}\\\n",
    "    \\n\\nData types in dataset:\\\n",
    "    \\n{df.dtypes.value_counts()}\")"
   ]
  },
  {
   "cell_type": "markdown",
   "id": "a7755a27",
   "metadata": {},
   "source": [
    "#### Importing the data:"
   ]
  },
  {
   "cell_type": "code",
   "execution_count": 3,
   "id": "9f827485",
   "metadata": {
    "ExecuteTime": {
     "end_time": "2021-07-19T16:23:54.788969Z",
     "start_time": "2021-07-19T16:23:54.758887Z"
    }
   },
   "outputs": [],
   "source": [
    "df_can_all = pd.read_csv(\"CAN Lab Data 5.28.21.csv\")\n",
    "df_sessions = pd.read_csv(\"canlab_full_sessions.csv\")\n",
    "df_baselines = pd.read_csv(\"canlab_baselines.csv\")"
   ]
  },
  {
   "cell_type": "code",
   "execution_count": 4,
   "id": "8cf62c87",
   "metadata": {
    "ExecuteTime": {
     "end_time": "2021-07-19T16:23:54.804969Z",
     "start_time": "2021-07-19T16:23:54.789886Z"
    }
   },
   "outputs": [],
   "source": [
    "df_baselines[\"study_id\"] = df_sessions[\"study_id\"]"
   ]
  },
  {
   "cell_type": "markdown",
   "id": "980b152e",
   "metadata": {},
   "source": [
    "#### Filtering relevant features+targets only:"
   ]
  },
  {
   "cell_type": "code",
   "execution_count": 5,
   "id": "ba969b51",
   "metadata": {
    "ExecuteTime": {
     "end_time": "2021-07-19T16:23:54.836974Z",
     "start_time": "2021-07-19T16:23:54.806884Z"
    }
   },
   "outputs": [
    {
     "data": {
      "text/html": [
       "<div>\n",
       "<style scoped>\n",
       "    .dataframe tbody tr th:only-of-type {\n",
       "        vertical-align: middle;\n",
       "    }\n",
       "\n",
       "    .dataframe tbody tr th {\n",
       "        vertical-align: top;\n",
       "    }\n",
       "\n",
       "    .dataframe thead th {\n",
       "        text-align: right;\n",
       "    }\n",
       "</style>\n",
       "<table border=\"1\" class=\"dataframe\">\n",
       "  <thead>\n",
       "    <tr style=\"text-align: right;\">\n",
       "      <th></th>\n",
       "      <th>MasterID</th>\n",
       "      <th>age</th>\n",
       "      <th>dom_hand</th>\n",
       "      <th>education</th>\n",
       "      <th>ethnicity</th>\n",
       "      <th>race</th>\n",
       "      <th>weight_before</th>\n",
       "      <th>current_weight</th>\n",
       "      <th>current_height</th>\n",
       "      <th>birth_order</th>\n",
       "      <th>...</th>\n",
       "      <th>cesdtotmA</th>\n",
       "      <th>cesdclinmA</th>\n",
       "      <th>cesdsevmA</th>\n",
       "      <th>DERSnamA</th>\n",
       "      <th>DERSgmA</th>\n",
       "      <th>DERSimpmA</th>\n",
       "      <th>DERSawmA</th>\n",
       "      <th>DERSstgmA</th>\n",
       "      <th>DERSclrmA</th>\n",
       "      <th>DERStotmA</th>\n",
       "    </tr>\n",
       "  </thead>\n",
       "  <tbody>\n",
       "    <tr>\n",
       "      <th>0</th>\n",
       "      <td>1773</td>\n",
       "      <td>27</td>\n",
       "      <td>2</td>\n",
       "      <td>6</td>\n",
       "      <td>2</td>\n",
       "      <td>5</td>\n",
       "      <td>150</td>\n",
       "      <td></td>\n",
       "      <td></td>\n",
       "      <td></td>\n",
       "      <td>...</td>\n",
       "      <td>7</td>\n",
       "      <td>0</td>\n",
       "      <td>1</td>\n",
       "      <td>10</td>\n",
       "      <td>8</td>\n",
       "      <td>6</td>\n",
       "      <td>12</td>\n",
       "      <td>10</td>\n",
       "      <td>8</td>\n",
       "      <td>54</td>\n",
       "    </tr>\n",
       "    <tr>\n",
       "      <th>1</th>\n",
       "      <td>1778</td>\n",
       "      <td>24</td>\n",
       "      <td>2</td>\n",
       "      <td>6</td>\n",
       "      <td>2</td>\n",
       "      <td>5</td>\n",
       "      <td>150</td>\n",
       "      <td></td>\n",
       "      <td></td>\n",
       "      <td></td>\n",
       "      <td>...</td>\n",
       "      <td>24</td>\n",
       "      <td>1</td>\n",
       "      <td>3</td>\n",
       "      <td>19</td>\n",
       "      <td>14</td>\n",
       "      <td>7</td>\n",
       "      <td>21</td>\n",
       "      <td>13</td>\n",
       "      <td>7</td>\n",
       "      <td>81</td>\n",
       "    </tr>\n",
       "    <tr>\n",
       "      <th>2</th>\n",
       "      <td>1779</td>\n",
       "      <td>34</td>\n",
       "      <td>1</td>\n",
       "      <td>7</td>\n",
       "      <td>2</td>\n",
       "      <td>5</td>\n",
       "      <td>145</td>\n",
       "      <td>172</td>\n",
       "      <td>68</td>\n",
       "      <td>2</td>\n",
       "      <td>...</td>\n",
       "      <td>14</td>\n",
       "      <td>0</td>\n",
       "      <td>1</td>\n",
       "      <td>17</td>\n",
       "      <td>14</td>\n",
       "      <td>10</td>\n",
       "      <td>14</td>\n",
       "      <td>22</td>\n",
       "      <td>11</td>\n",
       "      <td>88</td>\n",
       "    </tr>\n",
       "    <tr>\n",
       "      <th>3</th>\n",
       "      <td>1780</td>\n",
       "      <td>28</td>\n",
       "      <td>2</td>\n",
       "      <td>6</td>\n",
       "      <td>2</td>\n",
       "      <td>5</td>\n",
       "      <td>155</td>\n",
       "      <td>194</td>\n",
       "      <td>65</td>\n",
       "      <td>3</td>\n",
       "      <td>...</td>\n",
       "      <td>23</td>\n",
       "      <td>1</td>\n",
       "      <td>3</td>\n",
       "      <td>25</td>\n",
       "      <td>20</td>\n",
       "      <td>19</td>\n",
       "      <td>13</td>\n",
       "      <td>22</td>\n",
       "      <td>12</td>\n",
       "      <td>111</td>\n",
       "    </tr>\n",
       "    <tr>\n",
       "      <th>4</th>\n",
       "      <td>1781</td>\n",
       "      <td>27</td>\n",
       "      <td>2</td>\n",
       "      <td>3</td>\n",
       "      <td>2</td>\n",
       "      <td>6</td>\n",
       "      <td>300</td>\n",
       "      <td>360</td>\n",
       "      <td>65</td>\n",
       "      <td></td>\n",
       "      <td>...</td>\n",
       "      <td>10</td>\n",
       "      <td>0</td>\n",
       "      <td>1</td>\n",
       "      <td>8</td>\n",
       "      <td>10</td>\n",
       "      <td>7</td>\n",
       "      <td>6</td>\n",
       "      <td>10</td>\n",
       "      <td>5</td>\n",
       "      <td>46</td>\n",
       "    </tr>\n",
       "  </tbody>\n",
       "</table>\n",
       "<p>5 rows × 55 columns</p>\n",
       "</div>"
      ],
      "text/plain": [
       "   MasterID  age  dom_hand  education  ethnicity  race  weight_before  \\\n",
       "0      1773   27         2          6          2     5            150   \n",
       "1      1778   24         2          6          2     5            150   \n",
       "2      1779   34         1          7          2     5            145   \n",
       "3      1780   28         2          6          2     5            155   \n",
       "4      1781   27         2          3          2     6            300   \n",
       "\n",
       "  current_weight current_height birth_order  ...  cesdtotmA  cesdclinmA  \\\n",
       "0                                            ...          7           0   \n",
       "1                                            ...         24           1   \n",
       "2            172             68           2  ...         14           0   \n",
       "3            194             65           3  ...         23           1   \n",
       "4            360             65              ...         10           0   \n",
       "\n",
       "   cesdsevmA  DERSnamA  DERSgmA  DERSimpmA  DERSawmA  DERSstgmA  DERSclrmA  \\\n",
       "0          1        10        8          6        12         10          8   \n",
       "1          3        19       14          7        21         13          7   \n",
       "2          1        17       14         10        14         22         11   \n",
       "3          3        25       20         19        13         22         12   \n",
       "4          1         8       10          7         6         10          5   \n",
       "\n",
       "   DERStotmA  \n",
       "0         54  \n",
       "1         81  \n",
       "2         88  \n",
       "3        111  \n",
       "4         46  \n",
       "\n",
       "[5 rows x 55 columns]"
      ]
     },
     "execution_count": 5,
     "metadata": {},
     "output_type": "execute_result"
    }
   ],
   "source": [
    "df_can = df_can_all[['MasterID', 'age', 'dom_hand', 'education', 'ethnicity', 'race', 'weight_before', 'current_weight', \n",
    "                     'current_height', 'birth_order', 'thyroid', 'anemia', 'sickle_anemia', 'thalassemia', 'arthritis', \n",
    "                     'seizure', 'murmur', 'asthma', 'pulmonary', 'diabetes', 'hypertension', 'renal', 'kidney_infect', \n",
    "                     'bladder_infect', 'HIV', 'AIDS', 'TB', 'abn_pap', 'cancer', 'psych_med', 'antipsychotic', 'stimulant', 'antidepressant', 'anxiety_med', 'mood_stab', \n",
    "                     'gest_hyp', 'pre_eclampsia', 'gest_diabetes', 'uterine_restrict', 'macrosomia', 'congenital', \n",
    "                     'oligohydramnios', 'polyhydramnios', 'psaavmA', 'psatotmA', 'cesdtotmA', 'cesdclinmA', 'cesdsevmA', \n",
    "                     'DERSnamA', 'DERSgmA', 'DERSimpmA', 'DERSawmA', 'DERSstgmA', 'DERSclrmA', 'DERStotmA']]\n",
    "\n",
    "df_can.head()"
   ]
  },
  {
   "cell_type": "markdown",
   "id": "63128f00",
   "metadata": {},
   "source": [
    "#### Replacing white spaces with Nan:"
   ]
  },
  {
   "cell_type": "code",
   "execution_count": 6,
   "id": "86e90dba",
   "metadata": {
    "ExecuteTime": {
     "end_time": "2021-07-19T16:23:54.852214Z",
     "start_time": "2021-07-19T16:23:54.838300Z"
    }
   },
   "outputs": [],
   "source": [
    "df_can = df_can.replace(r'^\\s+$', np.nan, regex=True)"
   ]
  },
  {
   "cell_type": "markdown",
   "id": "ff1071ab",
   "metadata": {},
   "source": [
    "#### Basic information on our data:"
   ]
  },
  {
   "cell_type": "code",
   "execution_count": 7,
   "id": "60e228b8",
   "metadata": {
    "ExecuteTime": {
     "end_time": "2021-07-19T16:23:54.978518Z",
     "start_time": "2021-07-19T16:23:54.853214Z"
    }
   },
   "outputs": [
    {
     "name": "stdout",
     "output_type": "stream",
     "text": [
      "Quick preview for our data:\n"
     ]
    },
    {
     "data": {
      "text/html": [
       "<div>\n",
       "<style scoped>\n",
       "    .dataframe tbody tr th:only-of-type {\n",
       "        vertical-align: middle;\n",
       "    }\n",
       "\n",
       "    .dataframe tbody tr th {\n",
       "        vertical-align: top;\n",
       "    }\n",
       "\n",
       "    .dataframe thead th {\n",
       "        text-align: right;\n",
       "    }\n",
       "</style>\n",
       "<table border=\"1\" class=\"dataframe\">\n",
       "  <thead>\n",
       "    <tr style=\"text-align: right;\">\n",
       "      <th></th>\n",
       "      <th>MasterID</th>\n",
       "      <th>age</th>\n",
       "      <th>dom_hand</th>\n",
       "      <th>education</th>\n",
       "      <th>ethnicity</th>\n",
       "      <th>race</th>\n",
       "      <th>weight_before</th>\n",
       "      <th>current_weight</th>\n",
       "      <th>current_height</th>\n",
       "      <th>birth_order</th>\n",
       "      <th>...</th>\n",
       "      <th>cesdtotmA</th>\n",
       "      <th>cesdclinmA</th>\n",
       "      <th>cesdsevmA</th>\n",
       "      <th>DERSnamA</th>\n",
       "      <th>DERSgmA</th>\n",
       "      <th>DERSimpmA</th>\n",
       "      <th>DERSawmA</th>\n",
       "      <th>DERSstgmA</th>\n",
       "      <th>DERSclrmA</th>\n",
       "      <th>DERStotmA</th>\n",
       "    </tr>\n",
       "  </thead>\n",
       "  <tbody>\n",
       "    <tr>\n",
       "      <th>0</th>\n",
       "      <td>1773</td>\n",
       "      <td>27</td>\n",
       "      <td>2</td>\n",
       "      <td>6</td>\n",
       "      <td>2</td>\n",
       "      <td>5</td>\n",
       "      <td>150</td>\n",
       "      <td>NaN</td>\n",
       "      <td>NaN</td>\n",
       "      <td>NaN</td>\n",
       "      <td>...</td>\n",
       "      <td>7</td>\n",
       "      <td>0</td>\n",
       "      <td>1</td>\n",
       "      <td>10</td>\n",
       "      <td>8</td>\n",
       "      <td>6</td>\n",
       "      <td>12</td>\n",
       "      <td>10</td>\n",
       "      <td>8</td>\n",
       "      <td>54</td>\n",
       "    </tr>\n",
       "    <tr>\n",
       "      <th>1</th>\n",
       "      <td>1778</td>\n",
       "      <td>24</td>\n",
       "      <td>2</td>\n",
       "      <td>6</td>\n",
       "      <td>2</td>\n",
       "      <td>5</td>\n",
       "      <td>150</td>\n",
       "      <td>NaN</td>\n",
       "      <td>NaN</td>\n",
       "      <td>NaN</td>\n",
       "      <td>...</td>\n",
       "      <td>24</td>\n",
       "      <td>1</td>\n",
       "      <td>3</td>\n",
       "      <td>19</td>\n",
       "      <td>14</td>\n",
       "      <td>7</td>\n",
       "      <td>21</td>\n",
       "      <td>13</td>\n",
       "      <td>7</td>\n",
       "      <td>81</td>\n",
       "    </tr>\n",
       "    <tr>\n",
       "      <th>2</th>\n",
       "      <td>1779</td>\n",
       "      <td>34</td>\n",
       "      <td>1</td>\n",
       "      <td>7</td>\n",
       "      <td>2</td>\n",
       "      <td>5</td>\n",
       "      <td>145</td>\n",
       "      <td>172</td>\n",
       "      <td>68</td>\n",
       "      <td>2</td>\n",
       "      <td>...</td>\n",
       "      <td>14</td>\n",
       "      <td>0</td>\n",
       "      <td>1</td>\n",
       "      <td>17</td>\n",
       "      <td>14</td>\n",
       "      <td>10</td>\n",
       "      <td>14</td>\n",
       "      <td>22</td>\n",
       "      <td>11</td>\n",
       "      <td>88</td>\n",
       "    </tr>\n",
       "    <tr>\n",
       "      <th>3</th>\n",
       "      <td>1780</td>\n",
       "      <td>28</td>\n",
       "      <td>2</td>\n",
       "      <td>6</td>\n",
       "      <td>2</td>\n",
       "      <td>5</td>\n",
       "      <td>155</td>\n",
       "      <td>194</td>\n",
       "      <td>65</td>\n",
       "      <td>3</td>\n",
       "      <td>...</td>\n",
       "      <td>23</td>\n",
       "      <td>1</td>\n",
       "      <td>3</td>\n",
       "      <td>25</td>\n",
       "      <td>20</td>\n",
       "      <td>19</td>\n",
       "      <td>13</td>\n",
       "      <td>22</td>\n",
       "      <td>12</td>\n",
       "      <td>111</td>\n",
       "    </tr>\n",
       "    <tr>\n",
       "      <th>4</th>\n",
       "      <td>1781</td>\n",
       "      <td>27</td>\n",
       "      <td>2</td>\n",
       "      <td>3</td>\n",
       "      <td>2</td>\n",
       "      <td>6</td>\n",
       "      <td>300</td>\n",
       "      <td>360</td>\n",
       "      <td>65</td>\n",
       "      <td>NaN</td>\n",
       "      <td>...</td>\n",
       "      <td>10</td>\n",
       "      <td>0</td>\n",
       "      <td>1</td>\n",
       "      <td>8</td>\n",
       "      <td>10</td>\n",
       "      <td>7</td>\n",
       "      <td>6</td>\n",
       "      <td>10</td>\n",
       "      <td>5</td>\n",
       "      <td>46</td>\n",
       "    </tr>\n",
       "  </tbody>\n",
       "</table>\n",
       "<p>5 rows × 55 columns</p>\n",
       "</div>"
      ],
      "text/plain": [
       "   MasterID  age  dom_hand  education  ethnicity  race  weight_before  \\\n",
       "0      1773   27         2          6          2     5            150   \n",
       "1      1778   24         2          6          2     5            150   \n",
       "2      1779   34         1          7          2     5            145   \n",
       "3      1780   28         2          6          2     5            155   \n",
       "4      1781   27         2          3          2     6            300   \n",
       "\n",
       "  current_weight current_height birth_order  ...  cesdtotmA  cesdclinmA  \\\n",
       "0            NaN            NaN         NaN  ...          7           0   \n",
       "1            NaN            NaN         NaN  ...         24           1   \n",
       "2            172             68           2  ...         14           0   \n",
       "3            194             65           3  ...         23           1   \n",
       "4            360             65         NaN  ...         10           0   \n",
       "\n",
       "   cesdsevmA  DERSnamA  DERSgmA  DERSimpmA  DERSawmA  DERSstgmA  DERSclrmA  \\\n",
       "0          1        10        8          6        12         10          8   \n",
       "1          3        19       14          7        21         13          7   \n",
       "2          1        17       14         10        14         22         11   \n",
       "3          3        25       20         19        13         22         12   \n",
       "4          1         8       10          7         6         10          5   \n",
       "\n",
       "   DERStotmA  \n",
       "0         54  \n",
       "1         81  \n",
       "2         88  \n",
       "3        111  \n",
       "4         46  \n",
       "\n",
       "[5 rows x 55 columns]"
      ]
     },
     "metadata": {},
     "output_type": "display_data"
    },
    {
     "name": "stdout",
     "output_type": "stream",
     "text": [
      "\n",
      "\n",
      "Dataframe shape: (35, 55)\n",
      "\n",
      "/ Columns info:\n",
      "<class 'pandas.core.frame.DataFrame'>\n",
      "RangeIndex: 35 entries, 0 to 34\n",
      "Data columns (total 55 columns):\n",
      " #   Column            Non-Null Count  Dtype \n",
      "---  ------            --------------  ----- \n",
      " 0   MasterID          35 non-null     int64 \n",
      " 1   age               35 non-null     int64 \n",
      " 2   dom_hand          35 non-null     int64 \n",
      " 3   education         35 non-null     int64 \n",
      " 4   ethnicity         35 non-null     int64 \n",
      " 5   race              35 non-null     int64 \n",
      " 6   weight_before     35 non-null     int64 \n",
      " 7   current_weight    33 non-null     object\n",
      " 8   current_height    33 non-null     object\n",
      " 9   birth_order       26 non-null     object\n",
      " 10  thyroid           35 non-null     int64 \n",
      " 11  anemia            35 non-null     int64 \n",
      " 12  sickle_anemia     35 non-null     int64 \n",
      " 13  thalassemia       35 non-null     int64 \n",
      " 14  arthritis         35 non-null     int64 \n",
      " 15  seizure           35 non-null     int64 \n",
      " 16  murmur            35 non-null     int64 \n",
      " 17  asthma            35 non-null     int64 \n",
      " 18  pulmonary         35 non-null     int64 \n",
      " 19  diabetes          35 non-null     int64 \n",
      " 20  hypertension      35 non-null     int64 \n",
      " 21  renal             35 non-null     int64 \n",
      " 22  kidney_infect     35 non-null     int64 \n",
      " 23  bladder_infect    35 non-null     int64 \n",
      " 24  HIV               35 non-null     int64 \n",
      " 25  AIDS              35 non-null     int64 \n",
      " 26  TB                35 non-null     int64 \n",
      " 27  abn_pap           35 non-null     int64 \n",
      " 28  cancer            35 non-null     int64 \n",
      " 29  psych_med         35 non-null     int64 \n",
      " 30  antipsychotic     35 non-null     int64 \n",
      " 31  stimulant         35 non-null     int64 \n",
      " 32  antidepressant    35 non-null     int64 \n",
      " 33  anxiety_med       35 non-null     int64 \n",
      " 34  mood_stab         35 non-null     int64 \n",
      " 35  gest_hyp          35 non-null     int64 \n",
      " 36  pre_eclampsia     35 non-null     int64 \n",
      " 37  gest_diabetes     35 non-null     int64 \n",
      " 38  uterine_restrict  35 non-null     int64 \n",
      " 39  macrosomia        35 non-null     int64 \n",
      " 40  congenital        35 non-null     int64 \n",
      " 41  oligohydramnios   35 non-null     int64 \n",
      " 42  polyhydramnios    35 non-null     int64 \n",
      " 43  psaavmA           34 non-null     object\n",
      " 44  psatotmA          34 non-null     object\n",
      " 45  cesdtotmA         34 non-null     object\n",
      " 46  cesdclinmA        34 non-null     object\n",
      " 47  cesdsevmA         34 non-null     object\n",
      " 48  DERSnamA          31 non-null     object\n",
      " 49  DERSgmA           31 non-null     object\n",
      " 50  DERSimpmA         31 non-null     object\n",
      " 51  DERSawmA          31 non-null     object\n",
      " 52  DERSstgmA         31 non-null     object\n",
      " 53  DERSclrmA         31 non-null     object\n",
      " 54  DERStotmA         31 non-null     object\n",
      "dtypes: int64(40), object(15)\n",
      "memory usage: 15.2+ KB\n"
     ]
    },
    {
     "data": {
      "text/plain": [
       "None"
      ]
     },
     "metadata": {},
     "output_type": "display_data"
    },
    {
     "name": "stdout",
     "output_type": "stream",
     "text": [
      "Summary Statistics for numerical columns:\n"
     ]
    },
    {
     "data": {
      "text/html": [
       "<div>\n",
       "<style scoped>\n",
       "    .dataframe tbody tr th:only-of-type {\n",
       "        vertical-align: middle;\n",
       "    }\n",
       "\n",
       "    .dataframe tbody tr th {\n",
       "        vertical-align: top;\n",
       "    }\n",
       "\n",
       "    .dataframe thead th {\n",
       "        text-align: right;\n",
       "    }\n",
       "</style>\n",
       "<table border=\"1\" class=\"dataframe\">\n",
       "  <thead>\n",
       "    <tr style=\"text-align: right;\">\n",
       "      <th></th>\n",
       "      <th>MasterID</th>\n",
       "      <th>age</th>\n",
       "      <th>dom_hand</th>\n",
       "      <th>education</th>\n",
       "      <th>ethnicity</th>\n",
       "      <th>race</th>\n",
       "      <th>weight_before</th>\n",
       "      <th>thyroid</th>\n",
       "      <th>anemia</th>\n",
       "      <th>sickle_anemia</th>\n",
       "      <th>...</th>\n",
       "      <th>anxiety_med</th>\n",
       "      <th>mood_stab</th>\n",
       "      <th>gest_hyp</th>\n",
       "      <th>pre_eclampsia</th>\n",
       "      <th>gest_diabetes</th>\n",
       "      <th>uterine_restrict</th>\n",
       "      <th>macrosomia</th>\n",
       "      <th>congenital</th>\n",
       "      <th>oligohydramnios</th>\n",
       "      <th>polyhydramnios</th>\n",
       "    </tr>\n",
       "  </thead>\n",
       "  <tbody>\n",
       "    <tr>\n",
       "      <th>count</th>\n",
       "      <td>35.000000</td>\n",
       "      <td>35.000000</td>\n",
       "      <td>35.000000</td>\n",
       "      <td>35.000000</td>\n",
       "      <td>35.000000</td>\n",
       "      <td>35.000000</td>\n",
       "      <td>35.000000</td>\n",
       "      <td>35.000000</td>\n",
       "      <td>35.000000</td>\n",
       "      <td>35.0</td>\n",
       "      <td>...</td>\n",
       "      <td>35.000000</td>\n",
       "      <td>35.0</td>\n",
       "      <td>35.000000</td>\n",
       "      <td>35.0</td>\n",
       "      <td>35.000000</td>\n",
       "      <td>35.0</td>\n",
       "      <td>35.0</td>\n",
       "      <td>35.0</td>\n",
       "      <td>35.0</td>\n",
       "      <td>35.000000</td>\n",
       "    </tr>\n",
       "    <tr>\n",
       "      <th>mean</th>\n",
       "      <td>1793.914286</td>\n",
       "      <td>28.628571</td>\n",
       "      <td>1.828571</td>\n",
       "      <td>5.228571</td>\n",
       "      <td>7.428571</td>\n",
       "      <td>10.485714</td>\n",
       "      <td>167.571429</td>\n",
       "      <td>0.028571</td>\n",
       "      <td>0.371429</td>\n",
       "      <td>0.0</td>\n",
       "      <td>...</td>\n",
       "      <td>0.057143</td>\n",
       "      <td>0.0</td>\n",
       "      <td>0.085714</td>\n",
       "      <td>0.0</td>\n",
       "      <td>0.085714</td>\n",
       "      <td>0.0</td>\n",
       "      <td>0.0</td>\n",
       "      <td>0.0</td>\n",
       "      <td>0.0</td>\n",
       "      <td>0.028571</td>\n",
       "    </tr>\n",
       "    <tr>\n",
       "      <th>std</th>\n",
       "      <td>10.511538</td>\n",
       "      <td>4.066258</td>\n",
       "      <td>0.382385</td>\n",
       "      <td>1.832480</td>\n",
       "      <td>22.874704</td>\n",
       "      <td>22.119158</td>\n",
       "      <td>49.157781</td>\n",
       "      <td>0.169031</td>\n",
       "      <td>0.490241</td>\n",
       "      <td>0.0</td>\n",
       "      <td>...</td>\n",
       "      <td>0.235504</td>\n",
       "      <td>0.0</td>\n",
       "      <td>0.284029</td>\n",
       "      <td>0.0</td>\n",
       "      <td>0.284029</td>\n",
       "      <td>0.0</td>\n",
       "      <td>0.0</td>\n",
       "      <td>0.0</td>\n",
       "      <td>0.0</td>\n",
       "      <td>0.169031</td>\n",
       "    </tr>\n",
       "    <tr>\n",
       "      <th>min</th>\n",
       "      <td>1773.000000</td>\n",
       "      <td>19.000000</td>\n",
       "      <td>1.000000</td>\n",
       "      <td>1.000000</td>\n",
       "      <td>1.000000</td>\n",
       "      <td>3.000000</td>\n",
       "      <td>107.000000</td>\n",
       "      <td>0.000000</td>\n",
       "      <td>0.000000</td>\n",
       "      <td>0.0</td>\n",
       "      <td>...</td>\n",
       "      <td>0.000000</td>\n",
       "      <td>0.0</td>\n",
       "      <td>0.000000</td>\n",
       "      <td>0.0</td>\n",
       "      <td>0.000000</td>\n",
       "      <td>0.0</td>\n",
       "      <td>0.0</td>\n",
       "      <td>0.0</td>\n",
       "      <td>0.0</td>\n",
       "      <td>0.000000</td>\n",
       "    </tr>\n",
       "    <tr>\n",
       "      <th>25%</th>\n",
       "      <td>1785.500000</td>\n",
       "      <td>26.000000</td>\n",
       "      <td>2.000000</td>\n",
       "      <td>4.500000</td>\n",
       "      <td>2.000000</td>\n",
       "      <td>5.000000</td>\n",
       "      <td>140.500000</td>\n",
       "      <td>0.000000</td>\n",
       "      <td>0.000000</td>\n",
       "      <td>0.0</td>\n",
       "      <td>...</td>\n",
       "      <td>0.000000</td>\n",
       "      <td>0.0</td>\n",
       "      <td>0.000000</td>\n",
       "      <td>0.0</td>\n",
       "      <td>0.000000</td>\n",
       "      <td>0.0</td>\n",
       "      <td>0.0</td>\n",
       "      <td>0.0</td>\n",
       "      <td>0.0</td>\n",
       "      <td>0.000000</td>\n",
       "    </tr>\n",
       "    <tr>\n",
       "      <th>50%</th>\n",
       "      <td>1794.000000</td>\n",
       "      <td>28.000000</td>\n",
       "      <td>2.000000</td>\n",
       "      <td>6.000000</td>\n",
       "      <td>2.000000</td>\n",
       "      <td>5.000000</td>\n",
       "      <td>151.000000</td>\n",
       "      <td>0.000000</td>\n",
       "      <td>0.000000</td>\n",
       "      <td>0.0</td>\n",
       "      <td>...</td>\n",
       "      <td>0.000000</td>\n",
       "      <td>0.0</td>\n",
       "      <td>0.000000</td>\n",
       "      <td>0.0</td>\n",
       "      <td>0.000000</td>\n",
       "      <td>0.0</td>\n",
       "      <td>0.0</td>\n",
       "      <td>0.0</td>\n",
       "      <td>0.0</td>\n",
       "      <td>0.000000</td>\n",
       "    </tr>\n",
       "    <tr>\n",
       "      <th>75%</th>\n",
       "      <td>1802.500000</td>\n",
       "      <td>31.500000</td>\n",
       "      <td>2.000000</td>\n",
       "      <td>6.000000</td>\n",
       "      <td>2.000000</td>\n",
       "      <td>5.500000</td>\n",
       "      <td>180.000000</td>\n",
       "      <td>0.000000</td>\n",
       "      <td>1.000000</td>\n",
       "      <td>0.0</td>\n",
       "      <td>...</td>\n",
       "      <td>0.000000</td>\n",
       "      <td>0.0</td>\n",
       "      <td>0.000000</td>\n",
       "      <td>0.0</td>\n",
       "      <td>0.000000</td>\n",
       "      <td>0.0</td>\n",
       "      <td>0.0</td>\n",
       "      <td>0.0</td>\n",
       "      <td>0.0</td>\n",
       "      <td>0.000000</td>\n",
       "    </tr>\n",
       "    <tr>\n",
       "      <th>max</th>\n",
       "      <td>1812.000000</td>\n",
       "      <td>38.000000</td>\n",
       "      <td>2.000000</td>\n",
       "      <td>8.000000</td>\n",
       "      <td>99.000000</td>\n",
       "      <td>99.000000</td>\n",
       "      <td>333.000000</td>\n",
       "      <td>1.000000</td>\n",
       "      <td>1.000000</td>\n",
       "      <td>0.0</td>\n",
       "      <td>...</td>\n",
       "      <td>1.000000</td>\n",
       "      <td>0.0</td>\n",
       "      <td>1.000000</td>\n",
       "      <td>0.0</td>\n",
       "      <td>1.000000</td>\n",
       "      <td>0.0</td>\n",
       "      <td>0.0</td>\n",
       "      <td>0.0</td>\n",
       "      <td>0.0</td>\n",
       "      <td>1.000000</td>\n",
       "    </tr>\n",
       "  </tbody>\n",
       "</table>\n",
       "<p>8 rows × 40 columns</p>\n",
       "</div>"
      ],
      "text/plain": [
       "          MasterID        age   dom_hand  education  ethnicity       race  \\\n",
       "count    35.000000  35.000000  35.000000  35.000000  35.000000  35.000000   \n",
       "mean   1793.914286  28.628571   1.828571   5.228571   7.428571  10.485714   \n",
       "std      10.511538   4.066258   0.382385   1.832480  22.874704  22.119158   \n",
       "min    1773.000000  19.000000   1.000000   1.000000   1.000000   3.000000   \n",
       "25%    1785.500000  26.000000   2.000000   4.500000   2.000000   5.000000   \n",
       "50%    1794.000000  28.000000   2.000000   6.000000   2.000000   5.000000   \n",
       "75%    1802.500000  31.500000   2.000000   6.000000   2.000000   5.500000   \n",
       "max    1812.000000  38.000000   2.000000   8.000000  99.000000  99.000000   \n",
       "\n",
       "       weight_before    thyroid     anemia  sickle_anemia  ...  anxiety_med  \\\n",
       "count      35.000000  35.000000  35.000000           35.0  ...    35.000000   \n",
       "mean      167.571429   0.028571   0.371429            0.0  ...     0.057143   \n",
       "std        49.157781   0.169031   0.490241            0.0  ...     0.235504   \n",
       "min       107.000000   0.000000   0.000000            0.0  ...     0.000000   \n",
       "25%       140.500000   0.000000   0.000000            0.0  ...     0.000000   \n",
       "50%       151.000000   0.000000   0.000000            0.0  ...     0.000000   \n",
       "75%       180.000000   0.000000   1.000000            0.0  ...     0.000000   \n",
       "max       333.000000   1.000000   1.000000            0.0  ...     1.000000   \n",
       "\n",
       "       mood_stab   gest_hyp  pre_eclampsia  gest_diabetes  uterine_restrict  \\\n",
       "count       35.0  35.000000           35.0      35.000000              35.0   \n",
       "mean         0.0   0.085714            0.0       0.085714               0.0   \n",
       "std          0.0   0.284029            0.0       0.284029               0.0   \n",
       "min          0.0   0.000000            0.0       0.000000               0.0   \n",
       "25%          0.0   0.000000            0.0       0.000000               0.0   \n",
       "50%          0.0   0.000000            0.0       0.000000               0.0   \n",
       "75%          0.0   0.000000            0.0       0.000000               0.0   \n",
       "max          0.0   1.000000            0.0       1.000000               0.0   \n",
       "\n",
       "       macrosomia  congenital  oligohydramnios  polyhydramnios  \n",
       "count        35.0        35.0             35.0       35.000000  \n",
       "mean          0.0         0.0              0.0        0.028571  \n",
       "std           0.0         0.0              0.0        0.169031  \n",
       "min           0.0         0.0              0.0        0.000000  \n",
       "25%           0.0         0.0              0.0        0.000000  \n",
       "50%           0.0         0.0              0.0        0.000000  \n",
       "75%           0.0         0.0              0.0        0.000000  \n",
       "max           0.0         0.0              0.0        1.000000  \n",
       "\n",
       "[8 rows x 40 columns]"
      ]
     },
     "metadata": {},
     "output_type": "display_data"
    },
    {
     "name": "stdout",
     "output_type": "stream",
     "text": [
      "Summary Statistics for categorical columns:\n"
     ]
    },
    {
     "data": {
      "text/html": [
       "<div>\n",
       "<style scoped>\n",
       "    .dataframe tbody tr th:only-of-type {\n",
       "        vertical-align: middle;\n",
       "    }\n",
       "\n",
       "    .dataframe tbody tr th {\n",
       "        vertical-align: top;\n",
       "    }\n",
       "\n",
       "    .dataframe thead th {\n",
       "        text-align: right;\n",
       "    }\n",
       "</style>\n",
       "<table border=\"1\" class=\"dataframe\">\n",
       "  <thead>\n",
       "    <tr style=\"text-align: right;\">\n",
       "      <th></th>\n",
       "      <th>current_weight</th>\n",
       "      <th>current_height</th>\n",
       "      <th>birth_order</th>\n",
       "      <th>psaavmA</th>\n",
       "      <th>psatotmA</th>\n",
       "      <th>cesdtotmA</th>\n",
       "      <th>cesdclinmA</th>\n",
       "      <th>cesdsevmA</th>\n",
       "      <th>DERSnamA</th>\n",
       "      <th>DERSgmA</th>\n",
       "      <th>DERSimpmA</th>\n",
       "      <th>DERSawmA</th>\n",
       "      <th>DERSstgmA</th>\n",
       "      <th>DERSclrmA</th>\n",
       "      <th>DERStotmA</th>\n",
       "    </tr>\n",
       "  </thead>\n",
       "  <tbody>\n",
       "    <tr>\n",
       "      <th>count</th>\n",
       "      <td>33</td>\n",
       "      <td>33</td>\n",
       "      <td>26</td>\n",
       "      <td>34</td>\n",
       "      <td>34</td>\n",
       "      <td>34</td>\n",
       "      <td>34</td>\n",
       "      <td>34</td>\n",
       "      <td>31</td>\n",
       "      <td>31</td>\n",
       "      <td>31</td>\n",
       "      <td>31</td>\n",
       "      <td>31</td>\n",
       "      <td>31</td>\n",
       "      <td>31</td>\n",
       "    </tr>\n",
       "    <tr>\n",
       "      <th>unique</th>\n",
       "      <td>27</td>\n",
       "      <td>13</td>\n",
       "      <td>5</td>\n",
       "      <td>16</td>\n",
       "      <td>16</td>\n",
       "      <td>20</td>\n",
       "      <td>2</td>\n",
       "      <td>3</td>\n",
       "      <td>17</td>\n",
       "      <td>14</td>\n",
       "      <td>13</td>\n",
       "      <td>14</td>\n",
       "      <td>14</td>\n",
       "      <td>11</td>\n",
       "      <td>27</td>\n",
       "    </tr>\n",
       "    <tr>\n",
       "      <th>top</th>\n",
       "      <td>181</td>\n",
       "      <td>65</td>\n",
       "      <td>2</td>\n",
       "      <td>1.5</td>\n",
       "      <td>15</td>\n",
       "      <td>14</td>\n",
       "      <td>0</td>\n",
       "      <td>1</td>\n",
       "      <td>12</td>\n",
       "      <td>14</td>\n",
       "      <td>10</td>\n",
       "      <td>12</td>\n",
       "      <td>10</td>\n",
       "      <td>8</td>\n",
       "      <td>46</td>\n",
       "    </tr>\n",
       "    <tr>\n",
       "      <th>freq</th>\n",
       "      <td>3</td>\n",
       "      <td>6</td>\n",
       "      <td>13</td>\n",
       "      <td>5</td>\n",
       "      <td>5</td>\n",
       "      <td>4</td>\n",
       "      <td>24</td>\n",
       "      <td>24</td>\n",
       "      <td>5</td>\n",
       "      <td>5</td>\n",
       "      <td>7</td>\n",
       "      <td>5</td>\n",
       "      <td>6</td>\n",
       "      <td>6</td>\n",
       "      <td>2</td>\n",
       "    </tr>\n",
       "  </tbody>\n",
       "</table>\n",
       "</div>"
      ],
      "text/plain": [
       "       current_weight current_height birth_order psaavmA psatotmA cesdtotmA  \\\n",
       "count              33             33          26      34       34        34   \n",
       "unique             27             13           5      16       16        20   \n",
       "top               181             65           2     1.5       15        14   \n",
       "freq                3              6          13       5        5         4   \n",
       "\n",
       "       cesdclinmA cesdsevmA DERSnamA DERSgmA DERSimpmA DERSawmA DERSstgmA  \\\n",
       "count          34        34       31      31        31       31        31   \n",
       "unique          2         3       17      14        13       14        14   \n",
       "top             0         1       12      14        10       12        10   \n",
       "freq           24        24        5       5         7        5         6   \n",
       "\n",
       "       DERSclrmA DERStotmA  \n",
       "count         31        31  \n",
       "unique        11        27  \n",
       "top            8        46  \n",
       "freq           6         2  "
      ]
     },
     "metadata": {},
     "output_type": "display_data"
    },
    {
     "name": "stdout",
     "output_type": "stream",
     "text": [
      "    \n",
      "Rows count = 35    \n",
      "Null count:    \n",
      "MasterID            0\n",
      "age                 0\n",
      "dom_hand            0\n",
      "education           0\n",
      "ethnicity           0\n",
      "race                0\n",
      "weight_before       0\n",
      "current_weight      2\n",
      "current_height      2\n",
      "birth_order         9\n",
      "thyroid             0\n",
      "anemia              0\n",
      "sickle_anemia       0\n",
      "thalassemia         0\n",
      "arthritis           0\n",
      "seizure             0\n",
      "murmur              0\n",
      "asthma              0\n",
      "pulmonary           0\n",
      "diabetes            0\n",
      "hypertension        0\n",
      "renal               0\n",
      "kidney_infect       0\n",
      "bladder_infect      0\n",
      "HIV                 0\n",
      "AIDS                0\n",
      "TB                  0\n",
      "abn_pap             0\n",
      "cancer              0\n",
      "psych_med           0\n",
      "antipsychotic       0\n",
      "stimulant           0\n",
      "antidepressant      0\n",
      "anxiety_med         0\n",
      "mood_stab           0\n",
      "gest_hyp            0\n",
      "pre_eclampsia       0\n",
      "gest_diabetes       0\n",
      "uterine_restrict    0\n",
      "macrosomia          0\n",
      "congenital          0\n",
      "oligohydramnios     0\n",
      "polyhydramnios      0\n",
      "psaavmA             1\n",
      "psatotmA            1\n",
      "cesdtotmA           1\n",
      "cesdclinmA          1\n",
      "cesdsevmA           1\n",
      "DERSnamA            4\n",
      "DERSgmA             4\n",
      "DERSimpmA           4\n",
      "DERSawmA            4\n",
      "DERSstgmA           4\n",
      "DERSclrmA           4\n",
      "DERStotmA           4\n",
      "dtype: int64    \n",
      "    \n",
      "Overall missing values in data: 46    \n",
      "\n",
      "Duplicated Rows: 0    \n",
      "\n",
      "Unique values count:    \n",
      "MasterID            35\n",
      "age                 15\n",
      "dom_hand             2\n",
      "education            7\n",
      "ethnicity            3\n",
      "race                 6\n",
      "weight_before       26\n",
      "current_weight      27\n",
      "current_height      13\n",
      "birth_order          5\n",
      "thyroid              2\n",
      "anemia               2\n",
      "sickle_anemia        1\n",
      "thalassemia          1\n",
      "arthritis            2\n",
      "seizure              2\n",
      "murmur               1\n",
      "asthma               2\n",
      "pulmonary            1\n",
      "diabetes             2\n",
      "hypertension         2\n",
      "renal                1\n",
      "kidney_infect        2\n",
      "bladder_infect       2\n",
      "HIV                  1\n",
      "AIDS                 1\n",
      "TB                   1\n",
      "abn_pap              3\n",
      "cancer               1\n",
      "psych_med            2\n",
      "antipsychotic        1\n",
      "stimulant            2\n",
      "antidepressant       2\n",
      "anxiety_med          2\n",
      "mood_stab            1\n",
      "gest_hyp             2\n",
      "pre_eclampsia        1\n",
      "gest_diabetes        2\n",
      "uterine_restrict     1\n",
      "macrosomia           1\n",
      "congenital           1\n",
      "oligohydramnios      1\n",
      "polyhydramnios       2\n",
      "psaavmA             16\n",
      "psatotmA            16\n",
      "cesdtotmA           20\n",
      "cesdclinmA           2\n",
      "cesdsevmA            3\n",
      "DERSnamA            17\n",
      "DERSgmA             14\n",
      "DERSimpmA           13\n",
      "DERSawmA            14\n",
      "DERSstgmA           14\n",
      "DERSclrmA           11\n",
      "DERStotmA           27\n",
      "dtype: int64    \n",
      "\n",
      "Data types in dataset:    \n",
      "int64     40\n",
      "object    15\n",
      "dtype: int64\n"
     ]
    }
   ],
   "source": [
    "basic_eda(df_can)"
   ]
  },
  {
   "cell_type": "markdown",
   "id": "06b102f3",
   "metadata": {},
   "source": [
    "We have some missing value we'll need to fill, and convert a few of the columns to numerical.\n",
    "\n",
    "We can also see there are some sparse columns which we can get rid of since they will be no use for our models training."
   ]
  },
  {
   "cell_type": "markdown",
   "id": "d407d33f",
   "metadata": {},
   "source": [
    "#### Data Integrity:"
   ]
  },
  {
   "cell_type": "code",
   "execution_count": 8,
   "id": "54dece9d",
   "metadata": {
    "ExecuteTime": {
     "end_time": "2021-07-19T16:23:54.994500Z",
     "start_time": "2021-07-19T16:23:54.980501Z"
    },
    "hide_input": true
   },
   "outputs": [
    {
     "name": "stdout",
     "output_type": "stream",
     "text": [
      "Prior Diseases features' unique values:\n",
      "\n",
      "thyroid [0 1]\n",
      "anemia [0 1]\n",
      "sickle_anemia [0]\n",
      "thalassemia [0]\n",
      "arthritis [1 0]\n",
      "seizure [0 1]\n",
      "murmur [0]\n",
      "asthma [0 1]\n",
      "pulmonary [0]\n",
      "diabetes [0 1]\n",
      "hypertension [0 1]\n",
      "renal [0]\n",
      "kidney_infect [0 1]\n",
      "bladder_infect [0 1]\n",
      "HIV [0]\n",
      "AIDS [0]\n",
      "TB [0]\n",
      "abn_pap [ 0  1 99]\n",
      "cancer [0]\n",
      "psych_med [0 1]\n",
      "antipsychotic [0]\n",
      "stimulant [0 1]\n",
      "antidepressant [0 1]\n",
      "anxiety_med [0 1]\n",
      "mood_stab [0]\n",
      "gest_hyp [0 1]\n",
      "pre_eclampsia [0]\n",
      "gest_diabetes [0 1]\n",
      "uterine_restrict [0]\n",
      "macrosomia [0]\n",
      "congenital [0]\n",
      "oligohydramnios [0]\n",
      "polyhydramnios [0 1]\n"
     ]
    }
   ],
   "source": [
    "diseases_features = ['thyroid', 'anemia', 'sickle_anemia', 'thalassemia', 'arthritis', 'seizure', 'murmur', 'asthma', \n",
    "                     'pulmonary', 'diabetes', 'hypertension', 'renal', 'kidney_infect', 'bladder_infect', 'HIV', 'AIDS', \n",
    "                     'TB', 'abn_pap', 'cancer', 'psych_med', 'antipsychotic', 'stimulant', 'antidepressant', \n",
    "                     'anxiety_med', 'mood_stab', 'gest_hyp', 'pre_eclampsia', 'gest_diabetes', 'uterine_restrict', \n",
    "                     'macrosomia', 'congenital', 'oligohydramnios', 'polyhydramnios']\n",
    "\n",
    "print('Prior Diseases features\\' unique values:')\n",
    "print()\n",
    "for i in df_can[diseases_features]:\n",
    "    print(i, df_can[i].unique())"
   ]
  },
  {
   "cell_type": "markdown",
   "id": "ecc7d2ff",
   "metadata": {},
   "source": [
    "We can see we have a value of 99 (declined to answer) in `abn_pap` so we'll convert it to the column's mode."
   ]
  },
  {
   "cell_type": "code",
   "execution_count": 9,
   "id": "4503a88b",
   "metadata": {
    "ExecuteTime": {
     "end_time": "2021-07-19T16:23:55.010499Z",
     "start_time": "2021-07-19T16:23:54.995487Z"
    }
   },
   "outputs": [],
   "source": [
    "df_can.loc[df_can.abn_pap == 99, 'abn_pap'] = df_can.abn_pap.mode()"
   ]
  },
  {
   "cell_type": "code",
   "execution_count": 10,
   "id": "8adef796",
   "metadata": {
    "ExecuteTime": {
     "end_time": "2021-07-19T16:23:55.025645Z",
     "start_time": "2021-07-19T16:23:55.011485Z"
    }
   },
   "outputs": [
    {
     "data": {
      "text/plain": [
       "array([6, 7, 3, 8, 1, 5, 4], dtype=int64)"
      ]
     },
     "execution_count": 10,
     "metadata": {},
     "output_type": "execute_result"
    }
   ],
   "source": [
    "df_can['education'].unique()"
   ]
  },
  {
   "cell_type": "code",
   "execution_count": 11,
   "id": "82860218",
   "metadata": {
    "ExecuteTime": {
     "end_time": "2021-07-19T16:23:55.041649Z",
     "start_time": "2021-07-19T16:23:55.026631Z"
    }
   },
   "outputs": [
    {
     "data": {
      "text/plain": [
       "array([2, 1], dtype=int64)"
      ]
     },
     "execution_count": 11,
     "metadata": {},
     "output_type": "execute_result"
    }
   ],
   "source": [
    "df_can['dom_hand'].unique()"
   ]
  },
  {
   "cell_type": "code",
   "execution_count": 12,
   "id": "d7c0e85d",
   "metadata": {
    "ExecuteTime": {
     "end_time": "2021-07-19T16:23:55.056645Z",
     "start_time": "2021-07-19T16:23:55.042648Z"
    }
   },
   "outputs": [
    {
     "data": {
      "text/plain": [
       "True"
      ]
     },
     "execution_count": 12,
     "metadata": {},
     "output_type": "execute_result"
    }
   ],
   "source": [
    "df_can['birth_order'].all() > 0"
   ]
  },
  {
   "cell_type": "code",
   "execution_count": 13,
   "id": "b256ef88",
   "metadata": {
    "ExecuteTime": {
     "end_time": "2021-07-19T16:23:55.072122Z",
     "start_time": "2021-07-19T16:23:55.057657Z"
    }
   },
   "outputs": [
    {
     "data": {
      "text/plain": [
       "array(['0', '1', nan], dtype=object)"
      ]
     },
     "execution_count": 13,
     "metadata": {},
     "output_type": "execute_result"
    }
   ],
   "source": [
    "df_can['cesdclinmA'].unique()"
   ]
  },
  {
   "cell_type": "code",
   "execution_count": 14,
   "id": "ae81554d",
   "metadata": {
    "ExecuteTime": {
     "end_time": "2021-07-19T16:23:55.088112Z",
     "start_time": "2021-07-19T16:23:55.073025Z"
    }
   },
   "outputs": [
    {
     "data": {
      "text/plain": [
       "array(['1', '3', '2', nan], dtype=object)"
      ]
     },
     "execution_count": 14,
     "metadata": {},
     "output_type": "execute_result"
    }
   ],
   "source": [
    "df_can['cesdsevmA'].unique()"
   ]
  },
  {
   "cell_type": "markdown",
   "id": "42922121",
   "metadata": {},
   "source": [
    "We will fill the missing values in the next section"
   ]
  },
  {
   "cell_type": "code",
   "execution_count": 15,
   "id": "6e9c573b",
   "metadata": {
    "ExecuteTime": {
     "end_time": "2021-07-19T16:23:55.104126Z",
     "start_time": "2021-07-19T16:23:55.089095Z"
    }
   },
   "outputs": [
    {
     "data": {
      "text/plain": [
       "(0.0, 36.84210526)"
      ]
     },
     "execution_count": 15,
     "metadata": {},
     "output_type": "execute_result"
    }
   ],
   "source": [
    "df_can['cesdtotmA'].astype(float).min(), df_can['cesdtotmA'].astype(float).max()"
   ]
  },
  {
   "cell_type": "markdown",
   "id": "4382b2c1",
   "metadata": {},
   "source": [
    "Since we have a float value in the `cesdtotmA` columns which should contain only integers, we will check for all study ids\n",
    "if their `cesdtotmA` score matches the sum of appropriate columns. If they are not equal, we will fix them"
   ]
  },
  {
   "cell_type": "code",
   "execution_count": 16,
   "id": "eee3faf9",
   "metadata": {
    "ExecuteTime": {
     "end_time": "2021-07-19T16:23:55.135024Z",
     "start_time": "2021-07-19T16:23:55.105111Z"
    }
   },
   "outputs": [
    {
     "name": "stdout",
     "output_type": "stream",
     "text": [
      "Study Id's which have unmatched score between cesdtotmA and the sum of scores:\n",
      "    study_id  cesdtotmA  sum_test\n",
      "28      1805  36.842105      36.0\n"
     ]
    }
   ],
   "source": [
    "# filtering only relevant ces-d columns\n",
    "df_cesd = df_can_all.loc[:, df_can_all.columns.str.startswith(\"ces\")]\n",
    "\n",
    "\n",
    "# replacing white space with np.nan and removing from this inspection \n",
    "# (subject will be dropped anyway as does not have any questionarries scores)\n",
    "df_cesd = df_cesd.replace(r'^\\s+$', np.nan, regex=True)\n",
    "df_cesd.dropna(inplace=True)\n",
    "\n",
    "\n",
    "# dropping columns with reversed scale and irrelevant targets\n",
    "unwanted_cols = ['cesd4ma', 'cesd8ma', 'cesd12ma', 'cesd16ma', 'cesdclinmA', 'cesdsevmA']\n",
    "df_cesd = df_cesd.drop(columns = unwanted_cols).astype(float)\n",
    "\n",
    "\n",
    "# replacing values of 99 with column's mode (mode function gave np.nan)\n",
    "df_cesd.loc[df_cesd['cesd20ma'] == 99, 'cesd20ma'] = df_cesd['cesd20ma'].value_counts()[:1].index[0]\n",
    "\n",
    "# manually calculating sum of scores \n",
    "df_cesd['sum_test'] = df_cesd.loc[:, df_cesd.columns != 'cesdtotmA'].sum(axis=1)\n",
    "df_cesd['study_id'] = df_can_all['MasterID']\n",
    "\n",
    "if not df_cesd['sum_test'].equals(df_cesd['cesdtotmA']):\n",
    "    print(\"Study Id's which have unmatched score between cesdtotmA and the sum of scores:\")\n",
    "    print(df_cesd[['study_id', 'cesdtotmA', 'sum_test']][df_cesd['cesdtotmA'] != df_cesd['sum_test']])\n",
    "else:\n",
    "    print('All scores match')\n",
    "    \n",
    "df_can['cesdtotmA'] = df_cesd['sum_test']"
   ]
  },
  {
   "cell_type": "markdown",
   "id": "0400fe02",
   "metadata": {},
   "source": [
    "#### Imputing missing values with Sklearn's SimpleImputer:"
   ]
  },
  {
   "cell_type": "markdown",
   "id": "888c2229",
   "metadata": {},
   "source": [
    "We can ignore the fact that we're imputing the targets as well, since we will not use the samples which have missing values in targets."
   ]
  },
  {
   "cell_type": "code",
   "execution_count": 17,
   "id": "f88d5ea9",
   "metadata": {
    "ExecuteTime": {
     "end_time": "2021-07-19T16:23:55.166477Z",
     "start_time": "2021-07-19T16:23:55.136298Z"
    }
   },
   "outputs": [
    {
     "data": {
      "text/html": [
       "<div>\n",
       "<style scoped>\n",
       "    .dataframe tbody tr th:only-of-type {\n",
       "        vertical-align: middle;\n",
       "    }\n",
       "\n",
       "    .dataframe tbody tr th {\n",
       "        vertical-align: top;\n",
       "    }\n",
       "\n",
       "    .dataframe thead th {\n",
       "        text-align: right;\n",
       "    }\n",
       "</style>\n",
       "<table border=\"1\" class=\"dataframe\">\n",
       "  <thead>\n",
       "    <tr style=\"text-align: right;\">\n",
       "      <th></th>\n",
       "      <th>MasterID</th>\n",
       "      <th>age</th>\n",
       "      <th>dom_hand</th>\n",
       "      <th>education</th>\n",
       "      <th>ethnicity</th>\n",
       "      <th>race</th>\n",
       "      <th>weight_before</th>\n",
       "      <th>current_weight</th>\n",
       "      <th>current_height</th>\n",
       "      <th>birth_order</th>\n",
       "      <th>...</th>\n",
       "      <th>cesdtotmA</th>\n",
       "      <th>cesdclinmA</th>\n",
       "      <th>cesdsevmA</th>\n",
       "      <th>DERSnamA</th>\n",
       "      <th>DERSgmA</th>\n",
       "      <th>DERSimpmA</th>\n",
       "      <th>DERSawmA</th>\n",
       "      <th>DERSstgmA</th>\n",
       "      <th>DERSclrmA</th>\n",
       "      <th>DERStotmA</th>\n",
       "    </tr>\n",
       "  </thead>\n",
       "  <tbody>\n",
       "    <tr>\n",
       "      <th>0</th>\n",
       "      <td>1773.0</td>\n",
       "      <td>27.0</td>\n",
       "      <td>2.0</td>\n",
       "      <td>6.0</td>\n",
       "      <td>2.0</td>\n",
       "      <td>5.0</td>\n",
       "      <td>150.0</td>\n",
       "      <td>181.0</td>\n",
       "      <td>64.0</td>\n",
       "      <td>2.0</td>\n",
       "      <td>...</td>\n",
       "      <td>7.0</td>\n",
       "      <td>0.0</td>\n",
       "      <td>1.0</td>\n",
       "      <td>10.0</td>\n",
       "      <td>8.0</td>\n",
       "      <td>6.0</td>\n",
       "      <td>12.0</td>\n",
       "      <td>10.0</td>\n",
       "      <td>8.0</td>\n",
       "      <td>54.0</td>\n",
       "    </tr>\n",
       "    <tr>\n",
       "      <th>1</th>\n",
       "      <td>1778.0</td>\n",
       "      <td>24.0</td>\n",
       "      <td>2.0</td>\n",
       "      <td>6.0</td>\n",
       "      <td>2.0</td>\n",
       "      <td>5.0</td>\n",
       "      <td>150.0</td>\n",
       "      <td>181.0</td>\n",
       "      <td>64.0</td>\n",
       "      <td>2.0</td>\n",
       "      <td>...</td>\n",
       "      <td>24.0</td>\n",
       "      <td>1.0</td>\n",
       "      <td>3.0</td>\n",
       "      <td>19.0</td>\n",
       "      <td>14.0</td>\n",
       "      <td>7.0</td>\n",
       "      <td>21.0</td>\n",
       "      <td>13.0</td>\n",
       "      <td>7.0</td>\n",
       "      <td>81.0</td>\n",
       "    </tr>\n",
       "    <tr>\n",
       "      <th>2</th>\n",
       "      <td>1779.0</td>\n",
       "      <td>34.0</td>\n",
       "      <td>1.0</td>\n",
       "      <td>7.0</td>\n",
       "      <td>2.0</td>\n",
       "      <td>5.0</td>\n",
       "      <td>145.0</td>\n",
       "      <td>172.0</td>\n",
       "      <td>68.0</td>\n",
       "      <td>2.0</td>\n",
       "      <td>...</td>\n",
       "      <td>14.0</td>\n",
       "      <td>0.0</td>\n",
       "      <td>1.0</td>\n",
       "      <td>17.0</td>\n",
       "      <td>14.0</td>\n",
       "      <td>10.0</td>\n",
       "      <td>14.0</td>\n",
       "      <td>22.0</td>\n",
       "      <td>11.0</td>\n",
       "      <td>88.0</td>\n",
       "    </tr>\n",
       "    <tr>\n",
       "      <th>3</th>\n",
       "      <td>1780.0</td>\n",
       "      <td>28.0</td>\n",
       "      <td>2.0</td>\n",
       "      <td>6.0</td>\n",
       "      <td>2.0</td>\n",
       "      <td>5.0</td>\n",
       "      <td>155.0</td>\n",
       "      <td>194.0</td>\n",
       "      <td>65.0</td>\n",
       "      <td>3.0</td>\n",
       "      <td>...</td>\n",
       "      <td>23.0</td>\n",
       "      <td>1.0</td>\n",
       "      <td>3.0</td>\n",
       "      <td>25.0</td>\n",
       "      <td>20.0</td>\n",
       "      <td>19.0</td>\n",
       "      <td>13.0</td>\n",
       "      <td>22.0</td>\n",
       "      <td>12.0</td>\n",
       "      <td>111.0</td>\n",
       "    </tr>\n",
       "    <tr>\n",
       "      <th>4</th>\n",
       "      <td>1781.0</td>\n",
       "      <td>27.0</td>\n",
       "      <td>2.0</td>\n",
       "      <td>3.0</td>\n",
       "      <td>2.0</td>\n",
       "      <td>6.0</td>\n",
       "      <td>300.0</td>\n",
       "      <td>360.0</td>\n",
       "      <td>65.0</td>\n",
       "      <td>2.0</td>\n",
       "      <td>...</td>\n",
       "      <td>10.0</td>\n",
       "      <td>0.0</td>\n",
       "      <td>1.0</td>\n",
       "      <td>8.0</td>\n",
       "      <td>10.0</td>\n",
       "      <td>7.0</td>\n",
       "      <td>6.0</td>\n",
       "      <td>10.0</td>\n",
       "      <td>5.0</td>\n",
       "      <td>46.0</td>\n",
       "    </tr>\n",
       "  </tbody>\n",
       "</table>\n",
       "<p>5 rows × 55 columns</p>\n",
       "</div>"
      ],
      "text/plain": [
       "   MasterID   age  dom_hand  education  ethnicity  race  weight_before  \\\n",
       "0    1773.0  27.0       2.0        6.0        2.0   5.0          150.0   \n",
       "1    1778.0  24.0       2.0        6.0        2.0   5.0          150.0   \n",
       "2    1779.0  34.0       1.0        7.0        2.0   5.0          145.0   \n",
       "3    1780.0  28.0       2.0        6.0        2.0   5.0          155.0   \n",
       "4    1781.0  27.0       2.0        3.0        2.0   6.0          300.0   \n",
       "\n",
       "   current_weight  current_height  birth_order  ...  cesdtotmA  cesdclinmA  \\\n",
       "0           181.0            64.0          2.0  ...        7.0         0.0   \n",
       "1           181.0            64.0          2.0  ...       24.0         1.0   \n",
       "2           172.0            68.0          2.0  ...       14.0         0.0   \n",
       "3           194.0            65.0          3.0  ...       23.0         1.0   \n",
       "4           360.0            65.0          2.0  ...       10.0         0.0   \n",
       "\n",
       "   cesdsevmA  DERSnamA  DERSgmA  DERSimpmA  DERSawmA  DERSstgmA  DERSclrmA  \\\n",
       "0        1.0      10.0      8.0        6.0      12.0       10.0        8.0   \n",
       "1        3.0      19.0     14.0        7.0      21.0       13.0        7.0   \n",
       "2        1.0      17.0     14.0       10.0      14.0       22.0       11.0   \n",
       "3        3.0      25.0     20.0       19.0      13.0       22.0       12.0   \n",
       "4        1.0       8.0     10.0        7.0       6.0       10.0        5.0   \n",
       "\n",
       "   DERStotmA  \n",
       "0       54.0  \n",
       "1       81.0  \n",
       "2       88.0  \n",
       "3      111.0  \n",
       "4       46.0  \n",
       "\n",
       "[5 rows x 55 columns]"
      ]
     },
     "execution_count": 17,
     "metadata": {},
     "output_type": "execute_result"
    }
   ],
   "source": [
    "imp_mean = SimpleImputer(missing_values=np.nan, strategy='most_frequent')\n",
    "\n",
    "imp_mean.fit(df_can)\n",
    "\n",
    "df_can = pd.DataFrame(imp_mean.transform(df_can), columns = df_can.columns).astype(float)\n",
    "\n",
    "df_can.head()"
   ]
  },
  {
   "cell_type": "code",
   "execution_count": 18,
   "id": "0bff5e07",
   "metadata": {
    "ExecuteTime": {
     "end_time": "2021-07-19T16:23:55.182035Z",
     "start_time": "2021-07-19T16:23:55.167482Z"
    }
   },
   "outputs": [],
   "source": [
    "assert df_can.dtypes.all() == 'float64'"
   ]
  },
  {
   "cell_type": "markdown",
   "id": "2ecaec90",
   "metadata": {},
   "source": [
    "#### Creating new features based on CAN's data - `num_of_prior_diseases`, `body_BMI`:"
   ]
  },
  {
   "cell_type": "code",
   "execution_count": 19,
   "id": "45b9fcaf",
   "metadata": {
    "ExecuteTime": {
     "end_time": "2021-07-19T16:23:55.197835Z",
     "start_time": "2021-07-19T16:23:55.182958Z"
    }
   },
   "outputs": [],
   "source": [
    "FEET_TO_METER = 0.254\n",
    "LBS_TO_KG = 0.453592\n",
    "\n",
    "df_can['num_of_prior_diseases'] = df_can[diseases_features].sum(axis=1)\n",
    "\n",
    "df_can['body_BMI'] = df_can['current_weight']*LBS_TO_KG/(df_can['current_height']*FEET_TO_METER)**2*100"
   ]
  },
  {
   "cell_type": "markdown",
   "id": "946ba52e",
   "metadata": {},
   "source": [
    "### Features' distributions:"
   ]
  },
  {
   "cell_type": "markdown",
   "id": "10927094",
   "metadata": {},
   "source": [
    "#### Demographic features"
   ]
  },
  {
   "cell_type": "code",
   "execution_count": 20,
   "id": "1e4c675b",
   "metadata": {
    "ExecuteTime": {
     "end_time": "2021-07-19T16:23:55.213740Z",
     "start_time": "2021-07-19T16:23:55.198871Z"
    },
    "hide_input": false
   },
   "outputs": [],
   "source": [
    "hand_dict = {1 : 'Left', 2: 'Right'}\n",
    "\n",
    "ethnicity_dict = {1 : 'Hispanic/Latinx', 2: 'Not Hispanic/Latinx', 99 : 'Declined to answer'}\n",
    "\n",
    "\n",
    "education_dict = {1 : \"Less than HS diploma\", 2 : \"HS graduate or equivalent\",\n",
    "                  3: \"Some college, no degree\", 4 : \"Technical school\", \n",
    "                  5 : \"Associate's degree\", 6 : \"Bachelor's degree\", \n",
    "                  7 : \"Master's degree\", 8 : \"Doctoral degree\"}\n",
    "\n",
    "race_dict = {1 : \"American Indian/Alaska Native\", 2 : \" Asian\",\n",
    "                  3: \"Black/African American\", 4 : \"Native Hawaiian/Pacific Islander\", \n",
    "                  5 : \"White\", 6 : \"Prefer to self-report\", \n",
    "                  7 : \"more than one race\", 99 :\"decline to answer\"}\n",
    "\n",
    "df_can['dom_hand_tx'] = df_can['dom_hand'].map(lambda x: hand_dict[x])\n",
    "df_can['ethnicity_tx'] = df_can['ethnicity'].map(lambda x: ethnicity_dict[x])\n",
    "df_can['education_tx'] = df_can['education'].map(lambda x: education_dict[x])\n",
    "df_can['race_tx'] = df_can['race'].map(lambda x: race_dict[x])"
   ]
  },
  {
   "cell_type": "code",
   "execution_count": 21,
   "id": "c2b1cbe1",
   "metadata": {
    "ExecuteTime": {
     "end_time": "2021-07-19T16:23:55.608494Z",
     "start_time": "2021-07-19T16:23:55.214723Z"
    },
    "hide_input": true
   },
   "outputs": [
    {
     "data": {
      "image/png": "[encoded data removed]",
      "text/plain": [
       "<Figure size 504x360 with 1 Axes>"
      ]
     },
     "metadata": {
      "needs_background": "light"
     },
     "output_type": "display_data"
    },
    {
     "data": {
      "image/png": "[encoded data removed]",
      "text/plain": [
       "<Figure size 504x360 with 1 Axes>"
      ]
     },
     "metadata": {
      "needs_background": "light"
     },
     "output_type": "display_data"
    },
    {
     "data": {
      "image/png": "[encoded data removed]",
      "text/plain": [
       "<Figure size 1080x720 with 1 Axes>"
      ]
     },
     "metadata": {
      "needs_background": "light"
     },
     "output_type": "display_data"
    },
    {
     "data": {
      "image/png": "[encoded data removed]",
      "text/plain": [
       "<Figure size 1080x720 with 1 Axes>"
      ]
     },
     "metadata": {
      "needs_background": "light"
     },
     "output_type": "display_data"
    }
   ],
   "source": [
    "demographic_features = df_can.dtypes[df_can.dtypes == 'object'].index\n",
    "\n",
    "for feat in demographic_features:\n",
    "    if feat in ['dom_hand_tx', 'ethnicity_tx']:\n",
    "        f, ax = plt.subplots(figsize=(7,5))\n",
    "        sns.countplot(x = df_can[feat], data=df_can)\n",
    "        plt.title(f' {feat} distribution')\n",
    "    else:\n",
    "        f, ax = plt.subplots(figsize=(15,10))\n",
    "        sns.countplot(x = df_can[feat], data=df_can)\n",
    "        plt.title(f' {feat} distribution')"
   ]
  },
  {
   "cell_type": "markdown",
   "id": "b276de66",
   "metadata": {},
   "source": [
    "We can see above: \n",
    "- Most patients (about 85%) are right-handed.\n",
    "- About a half hold a bachelor's degree.\n",
    "- There are 4 hispanics and most of the patients are white."
   ]
  },
  {
   "cell_type": "markdown",
   "id": "00d8e962",
   "metadata": {},
   "source": [
    "#### Distributions of `age`, `birth_order`:"
   ]
  },
  {
   "cell_type": "code",
   "execution_count": 22,
   "id": "a26053b5",
   "metadata": {
    "ExecuteTime": {
     "end_time": "2021-07-19T16:23:55.875060Z",
     "start_time": "2021-07-19T16:23:55.609409Z"
    },
    "hide_input": false
   },
   "outputs": [
    {
     "data": {
      "image/png": "[encoded data removed]",
      "text/plain": [
       "<Figure size 360x360 with 1 Axes>"
      ]
     },
     "metadata": {
      "needs_background": "light"
     },
     "output_type": "display_data"
    },
    {
     "data": {
      "image/png": "[encoded data removed]",
      "text/plain": [
       "<Figure size 360x360 with 1 Axes>"
      ]
     },
     "metadata": {
      "needs_background": "light"
     },
     "output_type": "display_data"
    }
   ],
   "source": [
    "for feat in ['age','birth_order']:\n",
    "    sns.displot(x = df_can[feat], data=df_can)\n",
    "    plt.title(f' {feat} distribution');"
   ]
  },
  {
   "cell_type": "markdown",
   "id": "4bf60243",
   "metadata": {},
   "source": [
    "Most of the patients are in their second or third labor, though we have imputed this feature so its giving some bias here towards 2."
   ]
  },
  {
   "cell_type": "markdown",
   "id": "e2527c49",
   "metadata": {},
   "source": [
    "#### Dropping textual columns"
   ]
  },
  {
   "cell_type": "code",
   "execution_count": 23,
   "id": "b852492c",
   "metadata": {
    "ExecuteTime": {
     "end_time": "2021-07-19T16:23:55.890953Z",
     "start_time": "2021-07-19T16:23:55.878953Z"
    }
   },
   "outputs": [],
   "source": [
    "df_can.drop(columns = ['dom_hand_tx', 'ethnicity_tx', 'education_tx', 'race_tx'], inplace = True)"
   ]
  },
  {
   "cell_type": "markdown",
   "id": "3b7f3a9f",
   "metadata": {},
   "source": [
    "#### Prior disease features - checking for sparse columns"
   ]
  },
  {
   "cell_type": "code",
   "execution_count": 24,
   "id": "7f0736f7",
   "metadata": {
    "ExecuteTime": {
     "end_time": "2021-07-19T16:23:55.905969Z",
     "start_time": "2021-07-19T16:23:55.892953Z"
    }
   },
   "outputs": [
    {
     "data": {
      "text/plain": [
       "thyroid             0.028571\n",
       "anemia              0.240336\n",
       "sickle_anemia       0.000000\n",
       "thalassemia         0.000000\n",
       "arthritis           0.055462\n",
       "seizure             0.028571\n",
       "murmur              0.000000\n",
       "asthma              0.231933\n",
       "pulmonary           0.000000\n",
       "diabetes            0.028571\n",
       "hypertension        0.028571\n",
       "renal               0.000000\n",
       "kidney_infect       0.080672\n",
       "bladder_infect      0.104202\n",
       "HIV                 0.000000\n",
       "AIDS                0.000000\n",
       "TB                  0.000000\n",
       "abn_pap             0.080672\n",
       "cancer              0.000000\n",
       "psych_med           0.196639\n",
       "antipsychotic       0.000000\n",
       "stimulant           0.028571\n",
       "antidepressant      0.221849\n",
       "anxiety_med         0.055462\n",
       "mood_stab           0.000000\n",
       "gest_hyp            0.080672\n",
       "pre_eclampsia       0.000000\n",
       "gest_diabetes       0.080672\n",
       "uterine_restrict    0.000000\n",
       "macrosomia          0.000000\n",
       "congenital          0.000000\n",
       "oligohydramnios     0.000000\n",
       "polyhydramnios      0.028571\n",
       "dtype: float64"
      ]
     },
     "execution_count": 24,
     "metadata": {},
     "output_type": "execute_result"
    }
   ],
   "source": [
    "df_can[diseases_features].var()"
   ]
  },
  {
   "cell_type": "markdown",
   "id": "d138d9a0",
   "metadata": {},
   "source": [
    "#### And removing them:"
   ]
  },
  {
   "cell_type": "code",
   "execution_count": 25,
   "id": "6bf82ea3",
   "metadata": {
    "ExecuteTime": {
     "end_time": "2021-07-19T16:23:55.970042Z",
     "start_time": "2021-07-19T16:23:55.906954Z"
    }
   },
   "outputs": [
    {
     "name": "stdout",
     "output_type": "stream",
     "text": [
      "Shape before: (35, 57)\n",
      "Shape after: (35, 41)\n"
     ]
    }
   ],
   "source": [
    "from sklearn.feature_selection import VarianceThreshold\n",
    "\n",
    "VAR_THRESHOLD = 0.01\n",
    "\n",
    "print(f'Shape before: {df_can.shape}')\n",
    "\n",
    "selector = VarianceThreshold(VAR_THRESHOLD)\n",
    "\n",
    "df_can = pd.DataFrame(selector.fit_transform(df_can), columns = df_can.columns[selector.get_support(indices=True)])\n",
    "\n",
    "print(f'Shape after: {df_can.shape}')"
   ]
  },
  {
   "cell_type": "markdown",
   "id": "54f37365",
   "metadata": {},
   "source": [
    "#### Prior diseases feature distributions:"
   ]
  },
  {
   "cell_type": "code",
   "execution_count": 26,
   "id": "44823e52",
   "metadata": {
    "ExecuteTime": {
     "end_time": "2021-07-19T16:23:55.985953Z",
     "start_time": "2021-07-19T16:23:55.970952Z"
    },
    "hide_input": true
   },
   "outputs": [],
   "source": [
    "diseases_features.append('num_of_prior_diseases')"
   ]
  },
  {
   "cell_type": "code",
   "execution_count": 27,
   "id": "ab591ae4",
   "metadata": {
    "ExecuteTime": {
     "end_time": "2021-07-19T16:23:57.238219Z",
     "start_time": "2021-07-19T16:23:55.987041Z"
    },
    "hide_input": true,
    "scrolled": false
   },
   "outputs": [
    {
     "data": {
      "image/png": "[encoded data removed]",
      "text/plain": [
       "<Figure size 504x360 with 1 Axes>"
      ]
     },
     "metadata": {
      "needs_background": "light"
     },
     "output_type": "display_data"
    },
    {
     "data": {
      "image/png": "[encoded data removed]",
      "text/plain": [
       "<Figure size 504x360 with 1 Axes>"
      ]
     },
     "metadata": {
      "needs_background": "light"
     },
     "output_type": "display_data"
    },
    {
     "data": {
      "image/png": "[encoded data removed]",
      "text/plain": [
       "<Figure size 504x360 with 1 Axes>"
      ]
     },
     "metadata": {
      "needs_background": "light"
     },
     "output_type": "display_data"
    },
    {
     "data": {
      "image/png": "[encoded data removed]",
      "text/plain": [
       "<Figure size 504x360 with 1 Axes>"
      ]
     },
     "metadata": {
      "needs_background": "light"
     },
     "output_type": "display_data"
    },
    {
     "data": {
      "image/png": "[encoded data removed]",
      "text/plain": [
       "<Figure size 504x360 with 1 Axes>"
      ]
     },
     "metadata": {
      "needs_background": "light"
     },
     "output_type": "display_data"
    },
    {
     "data": {
      "image/png": "[encoded data removed]",
      "text/plain": [
       "<Figure size 504x360 with 1 Axes>"
      ]
     },
     "metadata": {
      "needs_background": "light"
     },
     "output_type": "display_data"
    },
    {
     "data": {
      "image/png": "[encoded data removed]",
      "text/plain": [
       "<Figure size 504x360 with 1 Axes>"
      ]
     },
     "metadata": {
      "needs_background": "light"
     },
     "output_type": "display_data"
    },
    {
     "data": {
      "image/png": "[encoded data removed]",
      "text/plain": [
       "<Figure size 504x360 with 1 Axes>"
      ]
     },
     "metadata": {
      "needs_background": "light"
     },
     "output_type": "display_data"
    },
    {
     "data": {
      "image/png": "[encoded data removed]",
      "text/plain": [
       "<Figure size 504x360 with 1 Axes>"
      ]
     },
     "metadata": {
      "needs_background": "light"
     },
     "output_type": "display_data"
    },
    {
     "data": {
      "image/png": "[encoded data removed]",
      "text/plain": [
       "<Figure size 504x360 with 1 Axes>"
      ]
     },
     "metadata": {
      "needs_background": "light"
     },
     "output_type": "display_data"
    },
    {
     "data": {
      "image/png": "[encoded data removed]",
      "text/plain": [
       "<Figure size 504x360 with 1 Axes>"
      ]
     },
     "metadata": {
      "needs_background": "light"
     },
     "output_type": "display_data"
    },
    {
     "data": {
      "image/png": "[encoded data removed]",
      "text/plain": [
       "<Figure size 504x360 with 1 Axes>"
      ]
     },
     "metadata": {
      "needs_background": "light"
     },
     "output_type": "display_data"
    },
    {
     "data": {
      "image/png": "[encoded data removed]",
      "text/plain": [
       "<Figure size 504x360 with 1 Axes>"
      ]
     },
     "metadata": {
      "needs_background": "light"
     },
     "output_type": "display_data"
    },
    {
     "data": {
      "image/png": "[encoded data removed]",
      "text/plain": [
       "<Figure size 504x360 with 1 Axes>"
      ]
     },
     "metadata": {
      "needs_background": "light"
     },
     "output_type": "display_data"
    },
    {
     "data": {
      "image/png": "[encoded data removed]",
      "text/plain": [
       "<Figure size 504x360 with 1 Axes>"
      ]
     },
     "metadata": {
      "needs_background": "light"
     },
     "output_type": "display_data"
    },
    {
     "data": {
      "image/png": "[encoded data removed]",
      "text/plain": [
       "<Figure size 504x360 with 1 Axes>"
      ]
     },
     "metadata": {
      "needs_background": "light"
     },
     "output_type": "display_data"
    },
    {
     "data": {
      "image/png": "[encoded data removed]",
      "text/plain": [
       "<Figure size 504x360 with 1 Axes>"
      ]
     },
     "metadata": {
      "needs_background": "light"
     },
     "output_type": "display_data"
    },
    {
     "data": {
      "image/png": "[encoded data removed]",
      "text/plain": [
       "<Figure size 504x360 with 1 Axes>"
      ]
     },
     "metadata": {
      "needs_background": "light"
     },
     "output_type": "display_data"
    }
   ],
   "source": [
    "for dis_feat in diseases_features:\n",
    "    if dis_feat in df_can.columns:\n",
    "        f, ax = plt.subplots(figsize=(7,5))\n",
    "        sns.countplot(x = df_can[dis_feat], data=df_can)\n",
    "        plt.title(f' {dis_feat} distribution')"
   ]
  },
  {
   "cell_type": "markdown",
   "id": "90b50c0e",
   "metadata": {},
   "source": [
    "By observing the distriubtions of the prior diseases, we can see that most of them have distributions with very low cardinality. However there are a few diseases that a considerable amount of women have, like asthma, anemia and antidepressant (about 33%), and psych_med (about 25%). Also a few of them have bladder or kidney infect, gest_diabetes, abn_pap and/or gest_hyp"
   ]
  },
  {
   "cell_type": "markdown",
   "id": "727d16cc",
   "metadata": {},
   "source": [
    "#### PSA Targets:"
   ]
  },
  {
   "cell_type": "code",
   "execution_count": 28,
   "id": "a69437a4",
   "metadata": {
    "ExecuteTime": {
     "end_time": "2021-07-19T16:23:57.253742Z",
     "start_time": "2021-07-19T16:23:57.238720Z"
    },
    "hide_input": true
   },
   "outputs": [],
   "source": [
    "psa_targets = ['psaavmA', 'psatotmA']"
   ]
  },
  {
   "cell_type": "code",
   "execution_count": 29,
   "id": "ca47ad24",
   "metadata": {
    "ExecuteTime": {
     "end_time": "2021-07-19T16:23:57.525104Z",
     "start_time": "2021-07-19T16:23:57.254742Z"
    },
    "hide_input": true
   },
   "outputs": [
    {
     "name": "stdout",
     "output_type": "stream",
     "text": [
      "psaavmA = Depression average score of all items\n",
      "psatotmA = Depression sum score of all items\n"
     ]
    },
    {
     "data": {
      "image/png": "[encoded data removed]",
      "text/plain": [
       "<Figure size 360x360 with 1 Axes>"
      ]
     },
     "metadata": {
      "needs_background": "light"
     },
     "output_type": "display_data"
    },
    {
     "data": {
      "image/png": "[encoded data removed]",
      "text/plain": [
       "<Figure size 360x360 with 1 Axes>"
      ]
     },
     "metadata": {
      "needs_background": "light"
     },
     "output_type": "display_data"
    }
   ],
   "source": [
    "print(\"psaavmA = Depression average score of all items\")\n",
    "print(\"psatotmA = Depression sum score of all items\")\n",
    "\n",
    "for psa in psa_targets:\n",
    "    sns.displot(x = df_can[psa], data=df_can, bins=20)\n",
    "    plt.title(f' {psa} distribution');"
   ]
  },
  {
   "cell_type": "markdown",
   "id": "78799f8e",
   "metadata": {},
   "source": [
    "In the psaavmA distribution the mean is about 1.9, and there are a few women with very high depression scores (over 3).\n",
    "\n",
    "The psatotmA distribtion shows us exactly the same pattern just on a different scale."
   ]
  },
  {
   "cell_type": "code",
   "execution_count": 30,
   "id": "6a955dbe",
   "metadata": {
    "ExecuteTime": {
     "end_time": "2021-07-19T16:23:57.540558Z",
     "start_time": "2021-07-19T16:23:57.526124Z"
    },
    "hide_input": true
   },
   "outputs": [
    {
     "name": "stdout",
     "output_type": "stream",
     "text": [
      "Average score per psa question (psaavmA) = 1.88\n"
     ]
    }
   ],
   "source": [
    "print(f'Average score per psa question (psaavmA) = {round(df_can.psaavmA.mean(),2)}')"
   ]
  },
  {
   "cell_type": "markdown",
   "id": "35a1f313",
   "metadata": {},
   "source": [
    "#### CES-D Targets:"
   ]
  },
  {
   "cell_type": "code",
   "execution_count": 31,
   "id": "9d555ef1",
   "metadata": {
    "ExecuteTime": {
     "end_time": "2021-07-19T16:23:57.555540Z",
     "start_time": "2021-07-19T16:23:57.541541Z"
    },
    "hide_input": true
   },
   "outputs": [],
   "source": [
    "cesd_targets = ['cesdtotmA', 'cesdclinmA', 'cesdsevmA']"
   ]
  },
  {
   "cell_type": "code",
   "execution_count": 32,
   "id": "7c20177d",
   "metadata": {
    "ExecuteTime": {
     "end_time": "2021-07-19T16:23:57.855634Z",
     "start_time": "2021-07-19T16:23:57.556542Z"
    },
    "hide_input": true
   },
   "outputs": [
    {
     "name": "stdout",
     "output_type": "stream",
     "text": [
      "cesdtotmA = Sum of all items\n",
      "cesdclinmA = Whether the participant meets the clinical cutoff to diagnose with depression\n",
      "cesdsevmA = Severity score\n"
     ]
    },
    {
     "data": {
      "image/png": "[encoded data removed]",
      "text/plain": [
       "<Figure size 360x360 with 1 Axes>"
      ]
     },
     "metadata": {
      "needs_background": "light"
     },
     "output_type": "display_data"
    },
    {
     "data": {
      "image/png": "[encoded data removed]",
      "text/plain": [
       "<Figure size 504x360 with 1 Axes>"
      ]
     },
     "metadata": {
      "needs_background": "light"
     },
     "output_type": "display_data"
    },
    {
     "data": {
      "image/png": "[encoded data removed]",
      "text/plain": [
       "<Figure size 504x360 with 1 Axes>"
      ]
     },
     "metadata": {
      "needs_background": "light"
     },
     "output_type": "display_data"
    }
   ],
   "source": [
    "print(\"cesdtotmA = Sum of all items\")\n",
    "print(\"cesdclinmA = Whether the participant meets the clinical cutoff to diagnose with depression\")\n",
    "print(\"cesdsevmA = Severity score\")\n",
    "\n",
    "for cesd in cesd_targets:\n",
    "    if cesd == 'cesdtotmA':\n",
    "        sns.displot(x = df_can[cesd], data=df_can, bins=20)\n",
    "        plt.title(f' {cesd} distribution')\n",
    "    else:\n",
    "        f, ax = plt.subplots(figsize=(7,5))\n",
    "        sns.countplot(x = df_can[cesd], data=df_can)\n",
    "        plt.title(f' {cesd} distribution');"
   ]
  },
  {
   "cell_type": "markdown",
   "id": "75641f8d",
   "metadata": {},
   "source": [
    "* Almost 30% of the women meets the clinical cutoff to be diagnosed with depression\n",
    "\n",
    "* about 25% have severe symptoms and about 70% have no/mild symptoms."
   ]
  },
  {
   "cell_type": "markdown",
   "id": "37cc3ed4",
   "metadata": {},
   "source": [
    "#### DERS Targets"
   ]
  },
  {
   "cell_type": "code",
   "execution_count": 33,
   "id": "10facef7",
   "metadata": {
    "ExecuteTime": {
     "end_time": "2021-07-19T16:23:57.871722Z",
     "start_time": "2021-07-19T16:23:57.856635Z"
    },
    "hide_input": true
   },
   "outputs": [],
   "source": [
    "ders_targets = ['DERSnamA', 'DERSgmA', 'DERSimpmA', 'DERSawmA', 'DERSstgmA', 'DERSclrmA', 'DERStotmA']"
   ]
  },
  {
   "cell_type": "code",
   "execution_count": 34,
   "id": "12891335",
   "metadata": {
    "ExecuteTime": {
     "end_time": "2021-07-19T16:23:58.962689Z",
     "start_time": "2021-07-19T16:23:57.872635Z"
    },
    "hide_input": true
   },
   "outputs": [
    {
     "name": "stdout",
     "output_type": "stream",
     "text": [
      "DERSnamA = Nonacceptace of emotional responses sum\n",
      "DERSgmA = Difficulty engaging in goal-directed behavior\n",
      "DERSimpmA = Impulse control difficulties\n",
      "DERSawmA = Lack of emotional awareness\n",
      "DERSstgmA = Limited access to emotion regulation strategies\n",
      "DERSclrmA = Lack of emotional clarity\n",
      "DERStotmA = Sum of all items\n"
     ]
    },
    {
     "data": {
      "image/png": "[encoded data removed]",
      "text/plain": [
       "<Figure size 360x360 with 1 Axes>"
      ]
     },
     "metadata": {
      "needs_background": "light"
     },
     "output_type": "display_data"
    },
    {
     "data": {
      "image/png": "[encoded data removed]",
      "text/plain": [
       "<Figure size 360x360 with 1 Axes>"
      ]
     },
     "metadata": {
      "needs_background": "light"
     },
     "output_type": "display_data"
    },
    {
     "data": {
      "image/png": "[encoded data removed]",
      "text/plain": [
       "<Figure size 360x360 with 1 Axes>"
      ]
     },
     "metadata": {
      "needs_background": "light"
     },
     "output_type": "display_data"
    },
    {
     "data": {
      "image/png": "[encoded data removed]",
      "text/plain": [
       "<Figure size 360x360 with 1 Axes>"
      ]
     },
     "metadata": {
      "needs_background": "light"
     },
     "output_type": "display_data"
    },
    {
     "data": {
      "image/png": "[encoded data removed]",
      "text/plain": [
       "<Figure size 360x360 with 1 Axes>"
      ]
     },
     "metadata": {
      "needs_background": "light"
     },
     "output_type": "display_data"
    },
    {
     "data": {
      "image/png": "[encoded data removed]",
      "text/plain": [
       "<Figure size 360x360 with 1 Axes>"
      ]
     },
     "metadata": {
      "needs_background": "light"
     },
     "output_type": "display_data"
    },
    {
     "data": {
      "image/png": "[encoded data removed]",
      "text/plain": [
       "<Figure size 360x360 with 1 Axes>"
      ]
     },
     "metadata": {
      "needs_background": "light"
     },
     "output_type": "display_data"
    }
   ],
   "source": [
    "print(\"DERSnamA = Nonacceptace of emotional responses sum\")\n",
    "print(\"DERSgmA = Difficulty engaging in goal-directed behavior\")\n",
    "print(\"DERSimpmA = Impulse control difficulties\")\n",
    "print(\"DERSawmA = Lack of emotional awareness\")\n",
    "print(\"DERSstgmA = Limited access to emotion regulation strategies\")\n",
    "print(\"DERSclrmA = Lack of emotional clarity\")\n",
    "print(\"DERStotmA = Sum of all items\")\n",
    "\n",
    "for ders in ders_targets:\n",
    "    sns.displot(x = df_can[ders], data=df_can, bins=20)\n",
    "    plt.title(f' {ders} distribution');"
   ]
  },
  {
   "cell_type": "code",
   "execution_count": 35,
   "id": "7a849b10",
   "metadata": {
    "ExecuteTime": {
     "end_time": "2021-07-19T16:23:58.994097Z",
     "start_time": "2021-07-19T16:23:58.963581Z"
    }
   },
   "outputs": [
    {
     "data": {
      "text/html": [
       "<div>\n",
       "<style scoped>\n",
       "    .dataframe tbody tr th:only-of-type {\n",
       "        vertical-align: middle;\n",
       "    }\n",
       "\n",
       "    .dataframe tbody tr th {\n",
       "        vertical-align: top;\n",
       "    }\n",
       "\n",
       "    .dataframe thead th {\n",
       "        text-align: right;\n",
       "    }\n",
       "</style>\n",
       "<table border=\"1\" class=\"dataframe\">\n",
       "  <thead>\n",
       "    <tr style=\"text-align: right;\">\n",
       "      <th></th>\n",
       "      <th>MasterID</th>\n",
       "      <th>age</th>\n",
       "      <th>dom_hand</th>\n",
       "      <th>education</th>\n",
       "      <th>ethnicity</th>\n",
       "      <th>race</th>\n",
       "      <th>weight_before</th>\n",
       "      <th>current_weight</th>\n",
       "      <th>current_height</th>\n",
       "      <th>birth_order</th>\n",
       "      <th>...</th>\n",
       "      <th>cesdsevmA</th>\n",
       "      <th>DERSnamA</th>\n",
       "      <th>DERSgmA</th>\n",
       "      <th>DERSimpmA</th>\n",
       "      <th>DERSawmA</th>\n",
       "      <th>DERSstgmA</th>\n",
       "      <th>DERSclrmA</th>\n",
       "      <th>DERStotmA</th>\n",
       "      <th>num_of_prior_diseases</th>\n",
       "      <th>body_BMI</th>\n",
       "    </tr>\n",
       "  </thead>\n",
       "  <tbody>\n",
       "    <tr>\n",
       "      <th>0</th>\n",
       "      <td>1773.0</td>\n",
       "      <td>27.0</td>\n",
       "      <td>2.0</td>\n",
       "      <td>6.0</td>\n",
       "      <td>2.0</td>\n",
       "      <td>5.0</td>\n",
       "      <td>150.0</td>\n",
       "      <td>181.0</td>\n",
       "      <td>64.0</td>\n",
       "      <td>2.0</td>\n",
       "      <td>...</td>\n",
       "      <td>1.0</td>\n",
       "      <td>10.0</td>\n",
       "      <td>8.0</td>\n",
       "      <td>6.0</td>\n",
       "      <td>12.0</td>\n",
       "      <td>10.0</td>\n",
       "      <td>8.0</td>\n",
       "      <td>54.0</td>\n",
       "      <td>1.0</td>\n",
       "      <td>31.068235</td>\n",
       "    </tr>\n",
       "    <tr>\n",
       "      <th>1</th>\n",
       "      <td>1778.0</td>\n",
       "      <td>24.0</td>\n",
       "      <td>2.0</td>\n",
       "      <td>6.0</td>\n",
       "      <td>2.0</td>\n",
       "      <td>5.0</td>\n",
       "      <td>150.0</td>\n",
       "      <td>181.0</td>\n",
       "      <td>64.0</td>\n",
       "      <td>2.0</td>\n",
       "      <td>...</td>\n",
       "      <td>3.0</td>\n",
       "      <td>19.0</td>\n",
       "      <td>14.0</td>\n",
       "      <td>7.0</td>\n",
       "      <td>21.0</td>\n",
       "      <td>13.0</td>\n",
       "      <td>7.0</td>\n",
       "      <td>81.0</td>\n",
       "      <td>1.0</td>\n",
       "      <td>31.068235</td>\n",
       "    </tr>\n",
       "    <tr>\n",
       "      <th>2</th>\n",
       "      <td>1779.0</td>\n",
       "      <td>34.0</td>\n",
       "      <td>1.0</td>\n",
       "      <td>7.0</td>\n",
       "      <td>2.0</td>\n",
       "      <td>5.0</td>\n",
       "      <td>145.0</td>\n",
       "      <td>172.0</td>\n",
       "      <td>68.0</td>\n",
       "      <td>2.0</td>\n",
       "      <td>...</td>\n",
       "      <td>1.0</td>\n",
       "      <td>17.0</td>\n",
       "      <td>14.0</td>\n",
       "      <td>10.0</td>\n",
       "      <td>14.0</td>\n",
       "      <td>22.0</td>\n",
       "      <td>11.0</td>\n",
       "      <td>88.0</td>\n",
       "      <td>4.0</td>\n",
       "      <td>26.152221</td>\n",
       "    </tr>\n",
       "    <tr>\n",
       "      <th>3</th>\n",
       "      <td>1780.0</td>\n",
       "      <td>28.0</td>\n",
       "      <td>2.0</td>\n",
       "      <td>6.0</td>\n",
       "      <td>2.0</td>\n",
       "      <td>5.0</td>\n",
       "      <td>155.0</td>\n",
       "      <td>194.0</td>\n",
       "      <td>65.0</td>\n",
       "      <td>3.0</td>\n",
       "      <td>...</td>\n",
       "      <td>3.0</td>\n",
       "      <td>25.0</td>\n",
       "      <td>20.0</td>\n",
       "      <td>19.0</td>\n",
       "      <td>13.0</td>\n",
       "      <td>22.0</td>\n",
       "      <td>12.0</td>\n",
       "      <td>111.0</td>\n",
       "      <td>2.0</td>\n",
       "      <td>32.282932</td>\n",
       "    </tr>\n",
       "    <tr>\n",
       "      <th>4</th>\n",
       "      <td>1781.0</td>\n",
       "      <td>27.0</td>\n",
       "      <td>2.0</td>\n",
       "      <td>3.0</td>\n",
       "      <td>2.0</td>\n",
       "      <td>6.0</td>\n",
       "      <td>300.0</td>\n",
       "      <td>360.0</td>\n",
       "      <td>65.0</td>\n",
       "      <td>2.0</td>\n",
       "      <td>...</td>\n",
       "      <td>1.0</td>\n",
       "      <td>8.0</td>\n",
       "      <td>10.0</td>\n",
       "      <td>7.0</td>\n",
       "      <td>6.0</td>\n",
       "      <td>10.0</td>\n",
       "      <td>5.0</td>\n",
       "      <td>46.0</td>\n",
       "      <td>2.0</td>\n",
       "      <td>59.906472</td>\n",
       "    </tr>\n",
       "  </tbody>\n",
       "</table>\n",
       "<p>5 rows × 41 columns</p>\n",
       "</div>"
      ],
      "text/plain": [
       "   MasterID   age  dom_hand  education  ethnicity  race  weight_before  \\\n",
       "0    1773.0  27.0       2.0        6.0        2.0   5.0          150.0   \n",
       "1    1778.0  24.0       2.0        6.0        2.0   5.0          150.0   \n",
       "2    1779.0  34.0       1.0        7.0        2.0   5.0          145.0   \n",
       "3    1780.0  28.0       2.0        6.0        2.0   5.0          155.0   \n",
       "4    1781.0  27.0       2.0        3.0        2.0   6.0          300.0   \n",
       "\n",
       "   current_weight  current_height  birth_order  ...  cesdsevmA  DERSnamA  \\\n",
       "0           181.0            64.0          2.0  ...        1.0      10.0   \n",
       "1           181.0            64.0          2.0  ...        3.0      19.0   \n",
       "2           172.0            68.0          2.0  ...        1.0      17.0   \n",
       "3           194.0            65.0          3.0  ...        3.0      25.0   \n",
       "4           360.0            65.0          2.0  ...        1.0       8.0   \n",
       "\n",
       "   DERSgmA  DERSimpmA  DERSawmA  DERSstgmA  DERSclrmA  DERStotmA  \\\n",
       "0      8.0        6.0      12.0       10.0        8.0       54.0   \n",
       "1     14.0        7.0      21.0       13.0        7.0       81.0   \n",
       "2     14.0       10.0      14.0       22.0       11.0       88.0   \n",
       "3     20.0       19.0      13.0       22.0       12.0      111.0   \n",
       "4     10.0        7.0       6.0       10.0        5.0       46.0   \n",
       "\n",
       "   num_of_prior_diseases   body_BMI  \n",
       "0                    1.0  31.068235  \n",
       "1                    1.0  31.068235  \n",
       "2                    4.0  26.152221  \n",
       "3                    2.0  32.282932  \n",
       "4                    2.0  59.906472  \n",
       "\n",
       "[5 rows x 41 columns]"
      ]
     },
     "execution_count": 35,
     "metadata": {},
     "output_type": "execute_result"
    }
   ],
   "source": [
    "df_can.head()"
   ]
  },
  {
   "cell_type": "markdown",
   "id": "456ddd93",
   "metadata": {},
   "source": [
    "# Combining the datasets:"
   ]
  },
  {
   "cell_type": "code",
   "execution_count": 36,
   "id": "fa8a39c6",
   "metadata": {
    "ExecuteTime": {
     "end_time": "2021-07-19T16:23:59.009236Z",
     "start_time": "2021-07-19T16:23:58.995083Z"
    }
   },
   "outputs": [],
   "source": [
    "df = df_baselines.merge(df_can, left_on='study_id', right_on='MasterID')"
   ]
  },
  {
   "cell_type": "markdown",
   "id": "b31c9d8a",
   "metadata": {},
   "source": [
    "#### Basic information on our sessions data:"
   ]
  },
  {
   "cell_type": "code",
   "execution_count": 37,
   "id": "7eba58c1",
   "metadata": {
    "ExecuteTime": {
     "end_time": "2021-07-19T16:23:59.247328Z",
     "start_time": "2021-07-19T16:23:59.010155Z"
    }
   },
   "outputs": [
    {
     "name": "stdout",
     "output_type": "stream",
     "text": [
      "Quick preview for our data:\n"
     ]
    },
    {
     "data": {
      "text/html": [
       "<div>\n",
       "<style scoped>\n",
       "    .dataframe tbody tr th:only-of-type {\n",
       "        vertical-align: middle;\n",
       "    }\n",
       "\n",
       "    .dataframe tbody tr th {\n",
       "        vertical-align: top;\n",
       "    }\n",
       "\n",
       "    .dataframe thead th {\n",
       "        text-align: right;\n",
       "    }\n",
       "</style>\n",
       "<table border=\"1\" class=\"dataframe\">\n",
       "  <thead>\n",
       "    <tr style=\"text-align: right;\">\n",
       "      <th></th>\n",
       "      <th>session_id</th>\n",
       "      <th>subject_id</th>\n",
       "      <th>body_meas_height</th>\n",
       "      <th>body_meas_prior_pregnancy_weight</th>\n",
       "      <th>body_meas_bmi</th>\n",
       "      <th>mon_sess_time_zone_diff</th>\n",
       "      <th>mon_sess_date</th>\n",
       "      <th>mon_sess_start_time</th>\n",
       "      <th>mon_sess_duration</th>\n",
       "      <th>dem_det_age</th>\n",
       "      <th>...</th>\n",
       "      <th>m_hf_peak_freq</th>\n",
       "      <th>m_hr_avg</th>\n",
       "      <th>m_hr_detection_rate</th>\n",
       "      <th>m_lf_peak_freq</th>\n",
       "      <th>m_mf_peak_freq</th>\n",
       "      <th>m_pRR5</th>\n",
       "      <th>m_pRR50</th>\n",
       "      <th>m_porousness</th>\n",
       "      <th>m_vlf_peak_freq</th>\n",
       "      <th>study_id</th>\n",
       "    </tr>\n",
       "  </thead>\n",
       "  <tbody>\n",
       "    <tr>\n",
       "      <th>0</th>\n",
       "      <td>f0311242-15ae-4c0d-81af-8494589c36e6</td>\n",
       "      <td>e1d4d04c-c32b-4015-8e6b-40ed169eeeaf</td>\n",
       "      <td>165.10</td>\n",
       "      <td>70.2948</td>\n",
       "      <td>25.8</td>\n",
       "      <td>-700</td>\n",
       "      <td>11/6/2020</td>\n",
       "      <td>17:28:10</td>\n",
       "      <td>0:48:44</td>\n",
       "      <td>28</td>\n",
       "      <td>...</td>\n",
       "      <td>NaN</td>\n",
       "      <td>NaN</td>\n",
       "      <td>NaN</td>\n",
       "      <td>NaN</td>\n",
       "      <td>NaN</td>\n",
       "      <td>NaN</td>\n",
       "      <td>NaN</td>\n",
       "      <td>0.000000</td>\n",
       "      <td>NaN</td>\n",
       "      <td>1773.0</td>\n",
       "    </tr>\n",
       "    <tr>\n",
       "      <th>1</th>\n",
       "      <td>f6d67ea5-54d7-4fda-8e1f-45d77d65982c</td>\n",
       "      <td>7162c259-764e-4ec9-94cd-bcb41625a63e</td>\n",
       "      <td>165.10</td>\n",
       "      <td>68.0272</td>\n",
       "      <td>25.0</td>\n",
       "      <td>-600</td>\n",
       "      <td>10/20/2020</td>\n",
       "      <td>16:24:26</td>\n",
       "      <td>0:03:59</td>\n",
       "      <td>27</td>\n",
       "      <td>...</td>\n",
       "      <td>0.503753</td>\n",
       "      <td>76.089828</td>\n",
       "      <td>0.741667</td>\n",
       "      <td>0.069966</td>\n",
       "      <td>0.152525</td>\n",
       "      <td>88.053097</td>\n",
       "      <td>23.451327</td>\n",
       "      <td>0.001767</td>\n",
       "      <td>0.002799</td>\n",
       "      <td>1773.0</td>\n",
       "    </tr>\n",
       "    <tr>\n",
       "      <th>2</th>\n",
       "      <td>010248fa-c5ea-411c-b651-2137876f828b</td>\n",
       "      <td>7162c259-764e-4ec9-94cd-bcb41625a63e</td>\n",
       "      <td>165.10</td>\n",
       "      <td>68.0272</td>\n",
       "      <td>25.0</td>\n",
       "      <td>-600</td>\n",
       "      <td>10/20/2020</td>\n",
       "      <td>17:24:48</td>\n",
       "      <td>0:20:00</td>\n",
       "      <td>27</td>\n",
       "      <td>...</td>\n",
       "      <td>0.502303</td>\n",
       "      <td>74.753744</td>\n",
       "      <td>0.987143</td>\n",
       "      <td>0.036137</td>\n",
       "      <td>0.158280</td>\n",
       "      <td>88.992974</td>\n",
       "      <td>29.508197</td>\n",
       "      <td>0.000552</td>\n",
       "      <td>0.028910</td>\n",
       "      <td>1773.0</td>\n",
       "    </tr>\n",
       "    <tr>\n",
       "      <th>3</th>\n",
       "      <td>99cf6996-b167-4889-886a-17c9219a2006</td>\n",
       "      <td>65e33be7-ebea-417a-a203-32eb097ad67f</td>\n",
       "      <td>162.56</td>\n",
       "      <td>63.4921</td>\n",
       "      <td>24.1</td>\n",
       "      <td>-700</td>\n",
       "      <td>12/10/2020</td>\n",
       "      <td>18:05:39</td>\n",
       "      <td>0:29:50</td>\n",
       "      <td>25</td>\n",
       "      <td>...</td>\n",
       "      <td>0.524020</td>\n",
       "      <td>89.593960</td>\n",
       "      <td>0.943750</td>\n",
       "      <td>0.079996</td>\n",
       "      <td>0.164614</td>\n",
       "      <td>86.500195</td>\n",
       "      <td>14.241124</td>\n",
       "      <td>0.000155</td>\n",
       "      <td>0.000578</td>\n",
       "      <td>1773.0</td>\n",
       "    </tr>\n",
       "    <tr>\n",
       "      <th>4</th>\n",
       "      <td>cd3255b7-63aa-472a-a3bc-e85d78be6ac6</td>\n",
       "      <td>0526c74f-a485-4b92-8c1b-7a0a01a3e60e</td>\n",
       "      <td>165.10</td>\n",
       "      <td>110.6580</td>\n",
       "      <td>40.6</td>\n",
       "      <td>-700</td>\n",
       "      <td>12/16/2020</td>\n",
       "      <td>18:08:45</td>\n",
       "      <td>1:08:27</td>\n",
       "      <td>28</td>\n",
       "      <td>...</td>\n",
       "      <td>0.656832</td>\n",
       "      <td>112.071058</td>\n",
       "      <td>1.000000</td>\n",
       "      <td>0.073106</td>\n",
       "      <td>0.150711</td>\n",
       "      <td>31.719128</td>\n",
       "      <td>0.484262</td>\n",
       "      <td>0.000000</td>\n",
       "      <td>0.001125</td>\n",
       "      <td>1773.0</td>\n",
       "    </tr>\n",
       "  </tbody>\n",
       "</table>\n",
       "<p>5 rows × 170 columns</p>\n",
       "</div>"
      ],
      "text/plain": [
       "                             session_id                            subject_id  \\\n",
       "0  f0311242-15ae-4c0d-81af-8494589c36e6  e1d4d04c-c32b-4015-8e6b-40ed169eeeaf   \n",
       "1  f6d67ea5-54d7-4fda-8e1f-45d77d65982c  7162c259-764e-4ec9-94cd-bcb41625a63e   \n",
       "2  010248fa-c5ea-411c-b651-2137876f828b  7162c259-764e-4ec9-94cd-bcb41625a63e   \n",
       "3  99cf6996-b167-4889-886a-17c9219a2006  65e33be7-ebea-417a-a203-32eb097ad67f   \n",
       "4  cd3255b7-63aa-472a-a3bc-e85d78be6ac6  0526c74f-a485-4b92-8c1b-7a0a01a3e60e   \n",
       "\n",
       "   body_meas_height  body_meas_prior_pregnancy_weight  body_meas_bmi  \\\n",
       "0            165.10                           70.2948           25.8   \n",
       "1            165.10                           68.0272           25.0   \n",
       "2            165.10                           68.0272           25.0   \n",
       "3            162.56                           63.4921           24.1   \n",
       "4            165.10                          110.6580           40.6   \n",
       "\n",
       "   mon_sess_time_zone_diff mon_sess_date mon_sess_start_time  \\\n",
       "0                     -700     11/6/2020            17:28:10   \n",
       "1                     -600    10/20/2020            16:24:26   \n",
       "2                     -600    10/20/2020            17:24:48   \n",
       "3                     -700    12/10/2020            18:05:39   \n",
       "4                     -700    12/16/2020            18:08:45   \n",
       "\n",
       "  mon_sess_duration  dem_det_age  ...  m_hf_peak_freq    m_hr_avg  \\\n",
       "0           0:48:44           28  ...             NaN         NaN   \n",
       "1           0:03:59           27  ...        0.503753   76.089828   \n",
       "2           0:20:00           27  ...        0.502303   74.753744   \n",
       "3           0:29:50           25  ...        0.524020   89.593960   \n",
       "4           1:08:27           28  ...        0.656832  112.071058   \n",
       "\n",
       "   m_hr_detection_rate  m_lf_peak_freq  m_mf_peak_freq     m_pRR5    m_pRR50  \\\n",
       "0                  NaN             NaN             NaN        NaN        NaN   \n",
       "1             0.741667        0.069966        0.152525  88.053097  23.451327   \n",
       "2             0.987143        0.036137        0.158280  88.992974  29.508197   \n",
       "3             0.943750        0.079996        0.164614  86.500195  14.241124   \n",
       "4             1.000000        0.073106        0.150711  31.719128   0.484262   \n",
       "\n",
       "   m_porousness  m_vlf_peak_freq  study_id  \n",
       "0      0.000000              NaN    1773.0  \n",
       "1      0.001767         0.002799    1773.0  \n",
       "2      0.000552         0.028910    1773.0  \n",
       "3      0.000155         0.000578    1773.0  \n",
       "4      0.000000         0.001125    1773.0  \n",
       "\n",
       "[5 rows x 170 columns]"
      ]
     },
     "metadata": {},
     "output_type": "display_data"
    },
    {
     "name": "stdout",
     "output_type": "stream",
     "text": [
      "\n",
      "\n",
      "Dataframe shape: (54, 170)\n",
      "\n",
      "/ Columns info:\n",
      "<class 'pandas.core.frame.DataFrame'>\n",
      "RangeIndex: 54 entries, 0 to 53\n",
      "Columns: 170 entries, session_id to study_id\n",
      "dtypes: float64(149), int64(2), object(19)\n",
      "memory usage: 71.8+ KB\n"
     ]
    },
    {
     "data": {
      "text/plain": [
       "None"
      ]
     },
     "metadata": {},
     "output_type": "display_data"
    },
    {
     "name": "stdout",
     "output_type": "stream",
     "text": [
      "Summary Statistics for numerical columns:\n"
     ]
    },
    {
     "data": {
      "text/html": [
       "<div>\n",
       "<style scoped>\n",
       "    .dataframe tbody tr th:only-of-type {\n",
       "        vertical-align: middle;\n",
       "    }\n",
       "\n",
       "    .dataframe tbody tr th {\n",
       "        vertical-align: top;\n",
       "    }\n",
       "\n",
       "    .dataframe thead th {\n",
       "        text-align: right;\n",
       "    }\n",
       "</style>\n",
       "<table border=\"1\" class=\"dataframe\">\n",
       "  <thead>\n",
       "    <tr style=\"text-align: right;\">\n",
       "      <th></th>\n",
       "      <th>body_meas_height</th>\n",
       "      <th>body_meas_prior_pregnancy_weight</th>\n",
       "      <th>body_meas_bmi</th>\n",
       "      <th>mon_sess_time_zone_diff</th>\n",
       "      <th>dem_det_age</th>\n",
       "      <th>body_meas_weight_gained</th>\n",
       "      <th>dem_det_pregnancy_week</th>\n",
       "      <th>dem_det_num_total_pregnancies</th>\n",
       "      <th>dem_det_num_term_birth</th>\n",
       "      <th>dem_det_num_preterm_births</th>\n",
       "      <th>...</th>\n",
       "      <th>m_hf_peak_freq</th>\n",
       "      <th>m_hr_avg</th>\n",
       "      <th>m_hr_detection_rate</th>\n",
       "      <th>m_lf_peak_freq</th>\n",
       "      <th>m_mf_peak_freq</th>\n",
       "      <th>m_pRR5</th>\n",
       "      <th>m_pRR50</th>\n",
       "      <th>m_porousness</th>\n",
       "      <th>m_vlf_peak_freq</th>\n",
       "      <th>study_id</th>\n",
       "    </tr>\n",
       "  </thead>\n",
       "  <tbody>\n",
       "    <tr>\n",
       "      <th>count</th>\n",
       "      <td>54.000000</td>\n",
       "      <td>54.000000</td>\n",
       "      <td>54.000000</td>\n",
       "      <td>54.000000</td>\n",
       "      <td>54.000000</td>\n",
       "      <td>24.0</td>\n",
       "      <td>54.000000</td>\n",
       "      <td>30.000000</td>\n",
       "      <td>30.000000</td>\n",
       "      <td>30.000000</td>\n",
       "      <td>...</td>\n",
       "      <td>39.000000</td>\n",
       "      <td>38.000000</td>\n",
       "      <td>38.000000</td>\n",
       "      <td>39.000000</td>\n",
       "      <td>39.000000</td>\n",
       "      <td>39.000000</td>\n",
       "      <td>39.000000</td>\n",
       "      <td>54.000000</td>\n",
       "      <td>39.000000</td>\n",
       "      <td>51.000000</td>\n",
       "    </tr>\n",
       "    <tr>\n",
       "      <th>mean</th>\n",
       "      <td>166.087778</td>\n",
       "      <td>73.007481</td>\n",
       "      <td>26.555556</td>\n",
       "      <td>-631.481481</td>\n",
       "      <td>28.462963</td>\n",
       "      <td>0.0</td>\n",
       "      <td>36.904765</td>\n",
       "      <td>2.233333</td>\n",
       "      <td>0.833333</td>\n",
       "      <td>0.100000</td>\n",
       "      <td>...</td>\n",
       "      <td>0.527784</td>\n",
       "      <td>86.781423</td>\n",
       "      <td>0.924934</td>\n",
       "      <td>0.050863</td>\n",
       "      <td>0.154869</td>\n",
       "      <td>73.760602</td>\n",
       "      <td>13.302681</td>\n",
       "      <td>0.000329</td>\n",
       "      <td>0.002992</td>\n",
       "      <td>1792.960784</td>\n",
       "    </tr>\n",
       "    <tr>\n",
       "      <th>std</th>\n",
       "      <td>8.023340</td>\n",
       "      <td>19.045074</td>\n",
       "      <td>6.936196</td>\n",
       "      <td>46.880314</td>\n",
       "      <td>3.694529</td>\n",
       "      <td>0.0</td>\n",
       "      <td>1.225449</td>\n",
       "      <td>1.304722</td>\n",
       "      <td>0.833908</td>\n",
       "      <td>0.305129</td>\n",
       "      <td>...</td>\n",
       "      <td>0.041756</td>\n",
       "      <td>12.775857</td>\n",
       "      <td>0.100668</td>\n",
       "      <td>0.017325</td>\n",
       "      <td>0.004508</td>\n",
       "      <td>20.530001</td>\n",
       "      <td>12.610333</td>\n",
       "      <td>0.000882</td>\n",
       "      <td>0.005189</td>\n",
       "      <td>12.404775</td>\n",
       "    </tr>\n",
       "    <tr>\n",
       "      <th>min</th>\n",
       "      <td>149.860000</td>\n",
       "      <td>48.526100</td>\n",
       "      <td>18.000000</td>\n",
       "      <td>-700.000000</td>\n",
       "      <td>22.000000</td>\n",
       "      <td>0.0</td>\n",
       "      <td>35.142900</td>\n",
       "      <td>1.000000</td>\n",
       "      <td>0.000000</td>\n",
       "      <td>0.000000</td>\n",
       "      <td>...</td>\n",
       "      <td>0.500104</td>\n",
       "      <td>63.551297</td>\n",
       "      <td>0.500000</td>\n",
       "      <td>0.030713</td>\n",
       "      <td>0.150043</td>\n",
       "      <td>22.918319</td>\n",
       "      <td>0.000000</td>\n",
       "      <td>0.000000</td>\n",
       "      <td>0.000064</td>\n",
       "      <td>1773.000000</td>\n",
       "    </tr>\n",
       "    <tr>\n",
       "      <th>25%</th>\n",
       "      <td>162.560000</td>\n",
       "      <td>63.605475</td>\n",
       "      <td>23.475000</td>\n",
       "      <td>-700.000000</td>\n",
       "      <td>26.000000</td>\n",
       "      <td>0.0</td>\n",
       "      <td>36.000000</td>\n",
       "      <td>1.000000</td>\n",
       "      <td>0.000000</td>\n",
       "      <td>0.000000</td>\n",
       "      <td>...</td>\n",
       "      <td>0.503390</td>\n",
       "      <td>76.294073</td>\n",
       "      <td>0.891905</td>\n",
       "      <td>0.035012</td>\n",
       "      <td>0.151627</td>\n",
       "      <td>63.987673</td>\n",
       "      <td>2.703582</td>\n",
       "      <td>0.000000</td>\n",
       "      <td>0.000567</td>\n",
       "      <td>1783.000000</td>\n",
       "    </tr>\n",
       "    <tr>\n",
       "      <th>50%</th>\n",
       "      <td>165.100000</td>\n",
       "      <td>67.346950</td>\n",
       "      <td>25.000000</td>\n",
       "      <td>-600.000000</td>\n",
       "      <td>28.000000</td>\n",
       "      <td>0.0</td>\n",
       "      <td>36.571400</td>\n",
       "      <td>2.000000</td>\n",
       "      <td>1.000000</td>\n",
       "      <td>0.000000</td>\n",
       "      <td>...</td>\n",
       "      <td>0.510464</td>\n",
       "      <td>85.256212</td>\n",
       "      <td>0.946283</td>\n",
       "      <td>0.045974</td>\n",
       "      <td>0.153110</td>\n",
       "      <td>84.000000</td>\n",
       "      <td>12.957746</td>\n",
       "      <td>0.000108</td>\n",
       "      <td>0.001301</td>\n",
       "      <td>1793.000000</td>\n",
       "    </tr>\n",
       "    <tr>\n",
       "      <th>75%</th>\n",
       "      <td>170.180000</td>\n",
       "      <td>74.829900</td>\n",
       "      <td>26.900000</td>\n",
       "      <td>-600.000000</td>\n",
       "      <td>30.750000</td>\n",
       "      <td>0.0</td>\n",
       "      <td>38.000000</td>\n",
       "      <td>3.000000</td>\n",
       "      <td>1.000000</td>\n",
       "      <td>0.000000</td>\n",
       "      <td>...</td>\n",
       "      <td>0.521857</td>\n",
       "      <td>96.022582</td>\n",
       "      <td>0.993502</td>\n",
       "      <td>0.069094</td>\n",
       "      <td>0.157381</td>\n",
       "      <td>88.111056</td>\n",
       "      <td>22.358272</td>\n",
       "      <td>0.000339</td>\n",
       "      <td>0.003049</td>\n",
       "      <td>1803.500000</td>\n",
       "    </tr>\n",
       "    <tr>\n",
       "      <th>max</th>\n",
       "      <td>185.420000</td>\n",
       "      <td>155.102000</td>\n",
       "      <td>57.000000</td>\n",
       "      <td>-600.000000</td>\n",
       "      <td>38.000000</td>\n",
       "      <td>0.0</td>\n",
       "      <td>41.000000</td>\n",
       "      <td>7.000000</td>\n",
       "      <td>3.000000</td>\n",
       "      <td>1.000000</td>\n",
       "      <td>...</td>\n",
       "      <td>0.656832</td>\n",
       "      <td>112.296037</td>\n",
       "      <td>1.000000</td>\n",
       "      <td>0.081670</td>\n",
       "      <td>0.166294</td>\n",
       "      <td>94.704684</td>\n",
       "      <td>61.507128</td>\n",
       "      <td>0.006250</td>\n",
       "      <td>0.028910</td>\n",
       "      <td>1814.000000</td>\n",
       "    </tr>\n",
       "  </tbody>\n",
       "</table>\n",
       "<p>8 rows × 151 columns</p>\n",
       "</div>"
      ],
      "text/plain": [
       "       body_meas_height  body_meas_prior_pregnancy_weight  body_meas_bmi  \\\n",
       "count         54.000000                         54.000000      54.000000   \n",
       "mean         166.087778                         73.007481      26.555556   \n",
       "std            8.023340                         19.045074       6.936196   \n",
       "min          149.860000                         48.526100      18.000000   \n",
       "25%          162.560000                         63.605475      23.475000   \n",
       "50%          165.100000                         67.346950      25.000000   \n",
       "75%          170.180000                         74.829900      26.900000   \n",
       "max          185.420000                        155.102000      57.000000   \n",
       "\n",
       "       mon_sess_time_zone_diff  dem_det_age  body_meas_weight_gained  \\\n",
       "count                54.000000    54.000000                     24.0   \n",
       "mean               -631.481481    28.462963                      0.0   \n",
       "std                  46.880314     3.694529                      0.0   \n",
       "min                -700.000000    22.000000                      0.0   \n",
       "25%                -700.000000    26.000000                      0.0   \n",
       "50%                -600.000000    28.000000                      0.0   \n",
       "75%                -600.000000    30.750000                      0.0   \n",
       "max                -600.000000    38.000000                      0.0   \n",
       "\n",
       "       dem_det_pregnancy_week  dem_det_num_total_pregnancies  \\\n",
       "count               54.000000                      30.000000   \n",
       "mean                36.904765                       2.233333   \n",
       "std                  1.225449                       1.304722   \n",
       "min                 35.142900                       1.000000   \n",
       "25%                 36.000000                       1.000000   \n",
       "50%                 36.571400                       2.000000   \n",
       "75%                 38.000000                       3.000000   \n",
       "max                 41.000000                       7.000000   \n",
       "\n",
       "       dem_det_num_term_birth  dem_det_num_preterm_births  ...  \\\n",
       "count               30.000000                   30.000000  ...   \n",
       "mean                 0.833333                    0.100000  ...   \n",
       "std                  0.833908                    0.305129  ...   \n",
       "min                  0.000000                    0.000000  ...   \n",
       "25%                  0.000000                    0.000000  ...   \n",
       "50%                  1.000000                    0.000000  ...   \n",
       "75%                  1.000000                    0.000000  ...   \n",
       "max                  3.000000                    1.000000  ...   \n",
       "\n",
       "       m_hf_peak_freq    m_hr_avg  m_hr_detection_rate  m_lf_peak_freq  \\\n",
       "count       39.000000   38.000000            38.000000       39.000000   \n",
       "mean         0.527784   86.781423             0.924934        0.050863   \n",
       "std          0.041756   12.775857             0.100668        0.017325   \n",
       "min          0.500104   63.551297             0.500000        0.030713   \n",
       "25%          0.503390   76.294073             0.891905        0.035012   \n",
       "50%          0.510464   85.256212             0.946283        0.045974   \n",
       "75%          0.521857   96.022582             0.993502        0.069094   \n",
       "max          0.656832  112.296037             1.000000        0.081670   \n",
       "\n",
       "       m_mf_peak_freq     m_pRR5    m_pRR50  m_porousness  m_vlf_peak_freq  \\\n",
       "count       39.000000  39.000000  39.000000     54.000000        39.000000   \n",
       "mean         0.154869  73.760602  13.302681      0.000329         0.002992   \n",
       "std          0.004508  20.530001  12.610333      0.000882         0.005189   \n",
       "min          0.150043  22.918319   0.000000      0.000000         0.000064   \n",
       "25%          0.151627  63.987673   2.703582      0.000000         0.000567   \n",
       "50%          0.153110  84.000000  12.957746      0.000108         0.001301   \n",
       "75%          0.157381  88.111056  22.358272      0.000339         0.003049   \n",
       "max          0.166294  94.704684  61.507128      0.006250         0.028910   \n",
       "\n",
       "          study_id  \n",
       "count    51.000000  \n",
       "mean   1792.960784  \n",
       "std      12.404775  \n",
       "min    1773.000000  \n",
       "25%    1783.000000  \n",
       "50%    1793.000000  \n",
       "75%    1803.500000  \n",
       "max    1814.000000  \n",
       "\n",
       "[8 rows x 151 columns]"
      ]
     },
     "metadata": {},
     "output_type": "display_data"
    },
    {
     "name": "stdout",
     "output_type": "stream",
     "text": [
      "Summary Statistics for categorical columns:\n"
     ]
    },
    {
     "data": {
      "text/html": [
       "<div>\n",
       "<style scoped>\n",
       "    .dataframe tbody tr th:only-of-type {\n",
       "        vertical-align: middle;\n",
       "    }\n",
       "\n",
       "    .dataframe tbody tr th {\n",
       "        vertical-align: top;\n",
       "    }\n",
       "\n",
       "    .dataframe thead th {\n",
       "        text-align: right;\n",
       "    }\n",
       "</style>\n",
       "<table border=\"1\" class=\"dataframe\">\n",
       "  <thead>\n",
       "    <tr style=\"text-align: right;\">\n",
       "      <th></th>\n",
       "      <th>session_id</th>\n",
       "      <th>subject_id</th>\n",
       "      <th>mon_sess_date</th>\n",
       "      <th>mon_sess_start_time</th>\n",
       "      <th>mon_sess_duration</th>\n",
       "      <th>f_LTI</th>\n",
       "      <th>f_LTI_10</th>\n",
       "      <th>f_LTI_25</th>\n",
       "      <th>f_LTI_50</th>\n",
       "      <th>f_LTI_IBI</th>\n",
       "      <th>f_STI</th>\n",
       "      <th>f_STI_10</th>\n",
       "      <th>f_STI_25</th>\n",
       "      <th>f_STI_50</th>\n",
       "      <th>f_STI_IBI</th>\n",
       "      <th>m_LTI</th>\n",
       "      <th>m_LTI_IBI</th>\n",
       "      <th>m_STI</th>\n",
       "      <th>m_STI_IBI</th>\n",
       "    </tr>\n",
       "  </thead>\n",
       "  <tbody>\n",
       "    <tr>\n",
       "      <th>count</th>\n",
       "      <td>54</td>\n",
       "      <td>54</td>\n",
       "      <td>54</td>\n",
       "      <td>54</td>\n",
       "      <td>54</td>\n",
       "      <td>34</td>\n",
       "      <td>34</td>\n",
       "      <td>34</td>\n",
       "      <td>34</td>\n",
       "      <td>36</td>\n",
       "      <td>34</td>\n",
       "      <td>34</td>\n",
       "      <td>34</td>\n",
       "      <td>34</td>\n",
       "      <td>36</td>\n",
       "      <td>34</td>\n",
       "      <td>34</td>\n",
       "      <td>34</td>\n",
       "      <td>34</td>\n",
       "    </tr>\n",
       "    <tr>\n",
       "      <th>unique</th>\n",
       "      <td>54</td>\n",
       "      <td>33</td>\n",
       "      <td>33</td>\n",
       "      <td>54</td>\n",
       "      <td>53</td>\n",
       "      <td>34</td>\n",
       "      <td>34</td>\n",
       "      <td>34</td>\n",
       "      <td>34</td>\n",
       "      <td>36</td>\n",
       "      <td>34</td>\n",
       "      <td>34</td>\n",
       "      <td>34</td>\n",
       "      <td>34</td>\n",
       "      <td>36</td>\n",
       "      <td>34</td>\n",
       "      <td>34</td>\n",
       "      <td>34</td>\n",
       "      <td>34</td>\n",
       "    </tr>\n",
       "    <tr>\n",
       "      <th>top</th>\n",
       "      <td>0ceb8624-979a-47d3-862e-7371b80968ad</td>\n",
       "      <td>7162c259-764e-4ec9-94cd-bcb41625a63e</td>\n",
       "      <td>12/10/2020</td>\n",
       "      <td>16:28:36</td>\n",
       "      <td>0:20:00</td>\n",
       "      <td>[191.790625896607, 200.174348212971]</td>\n",
       "      <td>[184.2177856082687, 189.96566351043893]</td>\n",
       "      <td>[185.172832620562, 190.103092496646]</td>\n",
       "      <td>[186.323204799152, 196.463888435021]</td>\n",
       "      <td>[541.1866026114186, 576.5404766420202]</td>\n",
       "      <td>[0.7845764061536931, 0.786058332635037]</td>\n",
       "      <td>[0.784645312580354, 0.786012329469418]</td>\n",
       "      <td>[0.784380096514031, 0.786291772996424]</td>\n",
       "      <td>[0.784666270778165, 0.786000981340818]</td>\n",
       "      <td>[0.773078564923914, 0.7984560497749251]</td>\n",
       "      <td>[118.135149129544, 129.501446418945]</td>\n",
       "      <td>[1173.32045949084, 1325.5352419644]</td>\n",
       "      <td>[0.785346225321087, 0.786029179943185]</td>\n",
       "      <td>[0.772079108463618, 0.798469847484742]</td>\n",
       "    </tr>\n",
       "    <tr>\n",
       "      <th>freq</th>\n",
       "      <td>1</td>\n",
       "      <td>5</td>\n",
       "      <td>5</td>\n",
       "      <td>1</td>\n",
       "      <td>2</td>\n",
       "      <td>1</td>\n",
       "      <td>1</td>\n",
       "      <td>1</td>\n",
       "      <td>1</td>\n",
       "      <td>1</td>\n",
       "      <td>1</td>\n",
       "      <td>1</td>\n",
       "      <td>1</td>\n",
       "      <td>1</td>\n",
       "      <td>1</td>\n",
       "      <td>1</td>\n",
       "      <td>1</td>\n",
       "      <td>1</td>\n",
       "      <td>1</td>\n",
       "    </tr>\n",
       "  </tbody>\n",
       "</table>\n",
       "</div>"
      ],
      "text/plain": [
       "                                  session_id  \\\n",
       "count                                     54   \n",
       "unique                                    54   \n",
       "top     0ceb8624-979a-47d3-862e-7371b80968ad   \n",
       "freq                                       1   \n",
       "\n",
       "                                  subject_id mon_sess_date  \\\n",
       "count                                     54            54   \n",
       "unique                                    33            33   \n",
       "top     7162c259-764e-4ec9-94cd-bcb41625a63e    12/10/2020   \n",
       "freq                                       5             5   \n",
       "\n",
       "       mon_sess_start_time mon_sess_duration  \\\n",
       "count                   54                54   \n",
       "unique                  54                53   \n",
       "top               16:28:36           0:20:00   \n",
       "freq                     1                 2   \n",
       "\n",
       "                                       f_LTI  \\\n",
       "count                                     34   \n",
       "unique                                    34   \n",
       "top     [191.790625896607, 200.174348212971]   \n",
       "freq                                       1   \n",
       "\n",
       "                                       f_LTI_10  \\\n",
       "count                                        34   \n",
       "unique                                       34   \n",
       "top     [184.2177856082687, 189.96566351043893]   \n",
       "freq                                          1   \n",
       "\n",
       "                                    f_LTI_25  \\\n",
       "count                                     34   \n",
       "unique                                    34   \n",
       "top     [185.172832620562, 190.103092496646]   \n",
       "freq                                       1   \n",
       "\n",
       "                                    f_LTI_50  \\\n",
       "count                                     34   \n",
       "unique                                    34   \n",
       "top     [186.323204799152, 196.463888435021]   \n",
       "freq                                       1   \n",
       "\n",
       "                                     f_LTI_IBI  \\\n",
       "count                                       36   \n",
       "unique                                      36   \n",
       "top     [541.1866026114186, 576.5404766420202]   \n",
       "freq                                         1   \n",
       "\n",
       "                                          f_STI  \\\n",
       "count                                        34   \n",
       "unique                                       34   \n",
       "top     [0.7845764061536931, 0.786058332635037]   \n",
       "freq                                          1   \n",
       "\n",
       "                                      f_STI_10  \\\n",
       "count                                       34   \n",
       "unique                                      34   \n",
       "top     [0.784645312580354, 0.786012329469418]   \n",
       "freq                                         1   \n",
       "\n",
       "                                      f_STI_25  \\\n",
       "count                                       34   \n",
       "unique                                      34   \n",
       "top     [0.784380096514031, 0.786291772996424]   \n",
       "freq                                         1   \n",
       "\n",
       "                                      f_STI_50  \\\n",
       "count                                       34   \n",
       "unique                                      34   \n",
       "top     [0.784666270778165, 0.786000981340818]   \n",
       "freq                                         1   \n",
       "\n",
       "                                      f_STI_IBI  \\\n",
       "count                                        36   \n",
       "unique                                       36   \n",
       "top     [0.773078564923914, 0.7984560497749251]   \n",
       "freq                                          1   \n",
       "\n",
       "                                       m_LTI  \\\n",
       "count                                     34   \n",
       "unique                                    34   \n",
       "top     [118.135149129544, 129.501446418945]   \n",
       "freq                                       1   \n",
       "\n",
       "                                  m_LTI_IBI  \\\n",
       "count                                    34   \n",
       "unique                                   34   \n",
       "top     [1173.32045949084, 1325.5352419644]   \n",
       "freq                                      1   \n",
       "\n",
       "                                         m_STI  \\\n",
       "count                                       34   \n",
       "unique                                      34   \n",
       "top     [0.785346225321087, 0.786029179943185]   \n",
       "freq                                         1   \n",
       "\n",
       "                                     m_STI_IBI  \n",
       "count                                       34  \n",
       "unique                                      34  \n",
       "top     [0.772079108463618, 0.798469847484742]  \n",
       "freq                                         1  "
      ]
     },
     "metadata": {},
     "output_type": "display_data"
    },
    {
     "name": "stdout",
     "output_type": "stream",
     "text": [
      "    \n",
      "Rows count = 54    \n",
      "Null count:    \n",
      "session_id                           0\n",
      "subject_id                           0\n",
      "body_meas_height                     0\n",
      "body_meas_prior_pregnancy_weight     0\n",
      "body_meas_bmi                        0\n",
      "                                    ..\n",
      "m_pRR5                              15\n",
      "m_pRR50                             15\n",
      "m_porousness                         0\n",
      "m_vlf_peak_freq                     15\n",
      "study_id                             3\n",
      "Length: 170, dtype: int64    \n",
      "    \n",
      "Overall missing values in data: 2490    \n",
      "\n",
      "Duplicated Rows: 0    \n",
      "\n",
      "Unique values count:    \n",
      "session_id                          54\n",
      "subject_id                          33\n",
      "body_meas_height                    12\n",
      "body_meas_prior_pregnancy_weight    27\n",
      "body_meas_bmi                       31\n",
      "                                    ..\n",
      "m_pRR5                              39\n",
      "m_pRR50                             37\n",
      "m_porousness                        31\n",
      "m_vlf_peak_freq                     39\n",
      "study_id                            31\n",
      "Length: 170, dtype: int64    \n",
      "\n",
      "Data types in dataset:    \n",
      "float64    149\n",
      "object      19\n",
      "int64        2\n",
      "dtype: int64\n"
     ]
    }
   ],
   "source": [
    "basic_eda(df_baselines)"
   ]
  },
  {
   "cell_type": "markdown",
   "id": "c05f6a15",
   "metadata": {},
   "source": [
    "#### Removing sessions with duration of less than 5 minutes:"
   ]
  },
  {
   "cell_type": "code",
   "execution_count": 38,
   "id": "50274554",
   "metadata": {
    "ExecuteTime": {
     "end_time": "2021-07-19T16:23:59.262594Z",
     "start_time": "2021-07-19T16:23:59.248471Z"
    }
   },
   "outputs": [
    {
     "name": "stdout",
     "output_type": "stream",
     "text": [
      "Sessions dropped:\n",
      "\n",
      "f6d67ea5-54d7-4fda-8e1f-45d77d65982c\n",
      "e8013bf8-f905-448e-901e-49891b8507fd\n"
     ]
    }
   ],
   "source": [
    "sessions_to_drop = []\n",
    "\n",
    "print('Sessions dropped:')\n",
    "print()\n",
    "for i in range(len(df['mon_sess_duration'])-1):\n",
    "    session = datetime.strptime(df['mon_sess_duration'].iloc[i], '%H:%M:%S').time()\n",
    "    if session.hour == 0 and session.minute < 5:\n",
    "        sessions_to_drop.append(df['session_id'].iloc[i])\n",
    "        print(df['session_id'].iloc[i])\n",
    "        \n",
    "df = df[~df.session_id.isin(sessions_to_drop)]"
   ]
  },
  {
   "cell_type": "code",
   "execution_count": 39,
   "id": "b6154962",
   "metadata": {
    "ExecuteTime": {
     "end_time": "2021-07-19T16:23:59.277619Z",
     "start_time": "2021-07-19T16:23:59.263515Z"
    }
   },
   "outputs": [
    {
     "data": {
      "text/plain": [
       "(47, 211)"
      ]
     },
     "execution_count": 39,
     "metadata": {},
     "output_type": "execute_result"
    }
   ],
   "source": [
    "df.shape"
   ]
  },
  {
   "cell_type": "markdown",
   "id": "9ceba795",
   "metadata": {},
   "source": [
    "#### Checking if measurements are equal in both datasets:"
   ]
  },
  {
   "cell_type": "markdown",
   "id": "ce0bba63",
   "metadata": {},
   "source": [
    "#### Height:"
   ]
  },
  {
   "cell_type": "code",
   "execution_count": 40,
   "id": "2723b907",
   "metadata": {
    "ExecuteTime": {
     "end_time": "2021-07-19T16:23:59.293153Z",
     "start_time": "2021-07-19T16:23:59.278121Z"
    }
   },
   "outputs": [
    {
     "data": {
      "text/html": [
       "<div>\n",
       "<style scoped>\n",
       "    .dataframe tbody tr th:only-of-type {\n",
       "        vertical-align: middle;\n",
       "    }\n",
       "\n",
       "    .dataframe tbody tr th {\n",
       "        vertical-align: top;\n",
       "    }\n",
       "\n",
       "    .dataframe thead th {\n",
       "        text-align: right;\n",
       "    }\n",
       "</style>\n",
       "<table border=\"1\" class=\"dataframe\">\n",
       "  <thead>\n",
       "    <tr style=\"text-align: right;\">\n",
       "      <th></th>\n",
       "      <th>study_id</th>\n",
       "      <th>body_meas_height</th>\n",
       "      <th>current_height_cm</th>\n",
       "      <th>current_height</th>\n",
       "    </tr>\n",
       "  </thead>\n",
       "  <tbody>\n",
       "    <tr>\n",
       "      <th>0</th>\n",
       "      <td>1773.0</td>\n",
       "      <td>165.10</td>\n",
       "      <td>162.56</td>\n",
       "      <td>64.0</td>\n",
       "    </tr>\n",
       "    <tr>\n",
       "      <th>2</th>\n",
       "      <td>1773.0</td>\n",
       "      <td>165.10</td>\n",
       "      <td>162.56</td>\n",
       "      <td>64.0</td>\n",
       "    </tr>\n",
       "    <tr>\n",
       "      <th>3</th>\n",
       "      <td>1773.0</td>\n",
       "      <td>162.56</td>\n",
       "      <td>162.56</td>\n",
       "      <td>64.0</td>\n",
       "    </tr>\n",
       "    <tr>\n",
       "      <th>4</th>\n",
       "      <td>1773.0</td>\n",
       "      <td>165.10</td>\n",
       "      <td>162.56</td>\n",
       "      <td>64.0</td>\n",
       "    </tr>\n",
       "    <tr>\n",
       "      <th>6</th>\n",
       "      <td>1779.0</td>\n",
       "      <td>162.56</td>\n",
       "      <td>172.72</td>\n",
       "      <td>68.0</td>\n",
       "    </tr>\n",
       "    <tr>\n",
       "      <th>7</th>\n",
       "      <td>1779.0</td>\n",
       "      <td>172.72</td>\n",
       "      <td>172.72</td>\n",
       "      <td>68.0</td>\n",
       "    </tr>\n",
       "    <tr>\n",
       "      <th>8</th>\n",
       "      <td>1780.0</td>\n",
       "      <td>165.10</td>\n",
       "      <td>165.10</td>\n",
       "      <td>65.0</td>\n",
       "    </tr>\n",
       "    <tr>\n",
       "      <th>9</th>\n",
       "      <td>1780.0</td>\n",
       "      <td>172.72</td>\n",
       "      <td>165.10</td>\n",
       "      <td>65.0</td>\n",
       "    </tr>\n",
       "    <tr>\n",
       "      <th>10</th>\n",
       "      <td>1781.0</td>\n",
       "      <td>185.42</td>\n",
       "      <td>165.10</td>\n",
       "      <td>65.0</td>\n",
       "    </tr>\n",
       "    <tr>\n",
       "      <th>11</th>\n",
       "      <td>1782.0</td>\n",
       "      <td>185.42</td>\n",
       "      <td>165.10</td>\n",
       "      <td>65.0</td>\n",
       "    </tr>\n",
       "  </tbody>\n",
       "</table>\n",
       "</div>"
      ],
      "text/plain": [
       "    study_id  body_meas_height  current_height_cm  current_height\n",
       "0     1773.0            165.10             162.56            64.0\n",
       "2     1773.0            165.10             162.56            64.0\n",
       "3     1773.0            162.56             162.56            64.0\n",
       "4     1773.0            165.10             162.56            64.0\n",
       "6     1779.0            162.56             172.72            68.0\n",
       "7     1779.0            172.72             172.72            68.0\n",
       "8     1780.0            165.10             165.10            65.0\n",
       "9     1780.0            172.72             165.10            65.0\n",
       "10    1781.0            185.42             165.10            65.0\n",
       "11    1782.0            185.42             165.10            65.0"
      ]
     },
     "execution_count": 40,
     "metadata": {},
     "output_type": "execute_result"
    }
   ],
   "source": [
    "FEET_TO_CM = 2.54\n",
    "\n",
    "df['current_height_cm'] = df['current_height']*FEET_TO_CM\n",
    "\n",
    "df[['study_id', 'body_meas_height', 'current_height_cm', 'current_height']].head(10)"
   ]
  },
  {
   "cell_type": "code",
   "execution_count": 41,
   "id": "3af731d7",
   "metadata": {
    "ExecuteTime": {
     "end_time": "2021-07-19T16:23:59.309214Z",
     "start_time": "2021-07-19T16:23:59.294137Z"
    }
   },
   "outputs": [
    {
     "data": {
      "text/plain": [
       "False"
      ]
     },
     "execution_count": 41,
     "metadata": {},
     "output_type": "execute_result"
    }
   ],
   "source": [
    "df['body_meas_height'].equals(df['current_height_cm'])"
   ]
  },
  {
   "cell_type": "code",
   "execution_count": 42,
   "id": "723d51c8",
   "metadata": {
    "ExecuteTime": {
     "end_time": "2021-07-19T16:23:59.325152Z",
     "start_time": "2021-07-19T16:23:59.311133Z"
    }
   },
   "outputs": [
    {
     "name": "stdout",
     "output_type": "stream",
     "text": [
      "Study Id's which have unmatched height measurements between datasets\n",
      "[1773 1779 1780 1781 1782 1783 1787 1789 1791 1792 1793 1794 1795 1797\n",
      " 1798 1799 1800 1801 1802 1803 1805 1806 1808 1809 1812]\n"
     ]
    }
   ],
   "source": [
    "print(\"Study Id's which have unmatched height measurements between datasets\")\n",
    "print(df['study_id'][df['body_meas_height'] != df['current_height_cm']].unique().astype(int))"
   ]
  },
  {
   "cell_type": "markdown",
   "id": "cdd07bf0",
   "metadata": {},
   "source": [
    "#### Prior weight:"
   ]
  },
  {
   "cell_type": "code",
   "execution_count": 43,
   "id": "765b35c9",
   "metadata": {
    "ExecuteTime": {
     "end_time": "2021-07-19T16:23:59.341311Z",
     "start_time": "2021-07-19T16:23:59.326133Z"
    }
   },
   "outputs": [
    {
     "data": {
      "text/html": [
       "<div>\n",
       "<style scoped>\n",
       "    .dataframe tbody tr th:only-of-type {\n",
       "        vertical-align: middle;\n",
       "    }\n",
       "\n",
       "    .dataframe tbody tr th {\n",
       "        vertical-align: top;\n",
       "    }\n",
       "\n",
       "    .dataframe thead th {\n",
       "        text-align: right;\n",
       "    }\n",
       "</style>\n",
       "<table border=\"1\" class=\"dataframe\">\n",
       "  <thead>\n",
       "    <tr style=\"text-align: right;\">\n",
       "      <th></th>\n",
       "      <th>study_id</th>\n",
       "      <th>body_meas_prior_pregnancy_weight</th>\n",
       "      <th>weight_before_kg</th>\n",
       "      <th>weight_before</th>\n",
       "    </tr>\n",
       "  </thead>\n",
       "  <tbody>\n",
       "    <tr>\n",
       "      <th>0</th>\n",
       "      <td>1773.0</td>\n",
       "      <td>70.2948</td>\n",
       "      <td>68.03880</td>\n",
       "      <td>150.0</td>\n",
       "    </tr>\n",
       "    <tr>\n",
       "      <th>2</th>\n",
       "      <td>1773.0</td>\n",
       "      <td>68.0272</td>\n",
       "      <td>68.03880</td>\n",
       "      <td>150.0</td>\n",
       "    </tr>\n",
       "    <tr>\n",
       "      <th>3</th>\n",
       "      <td>1773.0</td>\n",
       "      <td>63.4921</td>\n",
       "      <td>68.03880</td>\n",
       "      <td>150.0</td>\n",
       "    </tr>\n",
       "    <tr>\n",
       "      <th>4</th>\n",
       "      <td>1773.0</td>\n",
       "      <td>110.6580</td>\n",
       "      <td>68.03880</td>\n",
       "      <td>150.0</td>\n",
       "    </tr>\n",
       "    <tr>\n",
       "      <th>6</th>\n",
       "      <td>1779.0</td>\n",
       "      <td>63.4921</td>\n",
       "      <td>65.77084</td>\n",
       "      <td>145.0</td>\n",
       "    </tr>\n",
       "    <tr>\n",
       "      <th>7</th>\n",
       "      <td>1779.0</td>\n",
       "      <td>65.7596</td>\n",
       "      <td>65.77084</td>\n",
       "      <td>145.0</td>\n",
       "    </tr>\n",
       "    <tr>\n",
       "      <th>8</th>\n",
       "      <td>1780.0</td>\n",
       "      <td>65.7596</td>\n",
       "      <td>70.30676</td>\n",
       "      <td>155.0</td>\n",
       "    </tr>\n",
       "    <tr>\n",
       "      <th>9</th>\n",
       "      <td>1780.0</td>\n",
       "      <td>65.7596</td>\n",
       "      <td>70.30676</td>\n",
       "      <td>155.0</td>\n",
       "    </tr>\n",
       "    <tr>\n",
       "      <th>10</th>\n",
       "      <td>1781.0</td>\n",
       "      <td>90.2494</td>\n",
       "      <td>136.07760</td>\n",
       "      <td>300.0</td>\n",
       "    </tr>\n",
       "    <tr>\n",
       "      <th>11</th>\n",
       "      <td>1782.0</td>\n",
       "      <td>90.2494</td>\n",
       "      <td>65.77084</td>\n",
       "      <td>145.0</td>\n",
       "    </tr>\n",
       "  </tbody>\n",
       "</table>\n",
       "</div>"
      ],
      "text/plain": [
       "    study_id  body_meas_prior_pregnancy_weight  weight_before_kg  \\\n",
       "0     1773.0                           70.2948          68.03880   \n",
       "2     1773.0                           68.0272          68.03880   \n",
       "3     1773.0                           63.4921          68.03880   \n",
       "4     1773.0                          110.6580          68.03880   \n",
       "6     1779.0                           63.4921          65.77084   \n",
       "7     1779.0                           65.7596          65.77084   \n",
       "8     1780.0                           65.7596          70.30676   \n",
       "9     1780.0                           65.7596          70.30676   \n",
       "10    1781.0                           90.2494         136.07760   \n",
       "11    1782.0                           90.2494          65.77084   \n",
       "\n",
       "    weight_before  \n",
       "0           150.0  \n",
       "2           150.0  \n",
       "3           150.0  \n",
       "4           150.0  \n",
       "6           145.0  \n",
       "7           145.0  \n",
       "8           155.0  \n",
       "9           155.0  \n",
       "10          300.0  \n",
       "11          145.0  "
      ]
     },
     "execution_count": 43,
     "metadata": {},
     "output_type": "execute_result"
    }
   ],
   "source": [
    "df['weight_before_kg'] = df['weight_before']*LBS_TO_KG\n",
    "\n",
    "df[['study_id', 'body_meas_prior_pregnancy_weight', 'weight_before_kg', 'weight_before']].head(10)"
   ]
  },
  {
   "cell_type": "code",
   "execution_count": 44,
   "id": "19b0b643",
   "metadata": {
    "ExecuteTime": {
     "end_time": "2021-07-19T16:23:59.356507Z",
     "start_time": "2021-07-19T16:23:59.342429Z"
    }
   },
   "outputs": [
    {
     "data": {
      "text/plain": [
       "False"
      ]
     },
     "execution_count": 44,
     "metadata": {},
     "output_type": "execute_result"
    }
   ],
   "source": [
    "df['body_meas_prior_pregnancy_weight'].equals(df['weight_before_kg'])"
   ]
  },
  {
   "cell_type": "code",
   "execution_count": 45,
   "id": "2b2494e8",
   "metadata": {
    "ExecuteTime": {
     "end_time": "2021-07-19T16:23:59.372505Z",
     "start_time": "2021-07-19T16:23:59.358482Z"
    }
   },
   "outputs": [
    {
     "name": "stdout",
     "output_type": "stream",
     "text": [
      "Study Id's which have unmatched prior_weight measurements between datasets\n",
      "[1773 1779 1780 1781 1782 1783 1786 1787 1789 1791 1792 1793 1794 1795\n",
      " 1796 1797 1798 1800 1801 1802 1803 1804 1805 1806 1808 1809 1812]\n"
     ]
    }
   ],
   "source": [
    "print(\"Study Id's which have unmatched prior_weight measurements between datasets\")\n",
    "print(df['study_id'][np.floor(df['body_meas_prior_pregnancy_weight']) != np.floor(df['weight_before_kg'])].unique().astype(int))"
   ]
  },
  {
   "cell_type": "markdown",
   "id": "8b7758d2",
   "metadata": {},
   "source": [
    "#### Current Weight:"
   ]
  },
  {
   "cell_type": "code",
   "execution_count": 46,
   "id": "ce5016f6",
   "metadata": {
    "ExecuteTime": {
     "end_time": "2021-07-19T16:23:59.388435Z",
     "start_time": "2021-07-19T16:23:59.373418Z"
    }
   },
   "outputs": [
    {
     "data": {
      "text/html": [
       "<div>\n",
       "<style scoped>\n",
       "    .dataframe tbody tr th:only-of-type {\n",
       "        vertical-align: middle;\n",
       "    }\n",
       "\n",
       "    .dataframe tbody tr th {\n",
       "        vertical-align: top;\n",
       "    }\n",
       "\n",
       "    .dataframe thead th {\n",
       "        text-align: right;\n",
       "    }\n",
       "</style>\n",
       "<table border=\"1\" class=\"dataframe\">\n",
       "  <thead>\n",
       "    <tr style=\"text-align: right;\">\n",
       "      <th></th>\n",
       "      <th>study_id</th>\n",
       "      <th>body_meas_prior_pregnancy_weight</th>\n",
       "      <th>body_meas_current_weight</th>\n",
       "      <th>current_weight_kg</th>\n",
       "      <th>current_weight</th>\n",
       "    </tr>\n",
       "  </thead>\n",
       "  <tbody>\n",
       "    <tr>\n",
       "      <th>0</th>\n",
       "      <td>1773.0</td>\n",
       "      <td>70.2948</td>\n",
       "      <td>70.2948</td>\n",
       "      <td>82.100152</td>\n",
       "      <td>181.0</td>\n",
       "    </tr>\n",
       "    <tr>\n",
       "      <th>2</th>\n",
       "      <td>1773.0</td>\n",
       "      <td>68.0272</td>\n",
       "      <td>68.0272</td>\n",
       "      <td>82.100152</td>\n",
       "      <td>181.0</td>\n",
       "    </tr>\n",
       "    <tr>\n",
       "      <th>3</th>\n",
       "      <td>1773.0</td>\n",
       "      <td>63.4921</td>\n",
       "      <td>63.4921</td>\n",
       "      <td>82.100152</td>\n",
       "      <td>181.0</td>\n",
       "    </tr>\n",
       "    <tr>\n",
       "      <th>4</th>\n",
       "      <td>1773.0</td>\n",
       "      <td>110.6580</td>\n",
       "      <td>110.6580</td>\n",
       "      <td>82.100152</td>\n",
       "      <td>181.0</td>\n",
       "    </tr>\n",
       "    <tr>\n",
       "      <th>6</th>\n",
       "      <td>1779.0</td>\n",
       "      <td>63.4921</td>\n",
       "      <td>63.4921</td>\n",
       "      <td>78.017824</td>\n",
       "      <td>172.0</td>\n",
       "    </tr>\n",
       "  </tbody>\n",
       "</table>\n",
       "</div>"
      ],
      "text/plain": [
       "   study_id  body_meas_prior_pregnancy_weight  body_meas_current_weight  \\\n",
       "0    1773.0                           70.2948                   70.2948   \n",
       "2    1773.0                           68.0272                   68.0272   \n",
       "3    1773.0                           63.4921                   63.4921   \n",
       "4    1773.0                          110.6580                  110.6580   \n",
       "6    1779.0                           63.4921                   63.4921   \n",
       "\n",
       "   current_weight_kg  current_weight  \n",
       "0          82.100152           181.0  \n",
       "2          82.100152           181.0  \n",
       "3          82.100152           181.0  \n",
       "4          82.100152           181.0  \n",
       "6          78.017824           172.0  "
      ]
     },
     "execution_count": 46,
     "metadata": {},
     "output_type": "execute_result"
    }
   ],
   "source": [
    "df['current_weight_kg'] = df['current_weight']*LBS_TO_KG\n",
    "\n",
    "df[['study_id', 'body_meas_prior_pregnancy_weight', 'body_meas_current_weight', \n",
    "    'current_weight_kg', 'current_weight']].head()"
   ]
  },
  {
   "cell_type": "markdown",
   "id": "875c827f",
   "metadata": {},
   "source": [
    "The `body_meas_prior_pregnancy_weight` and the `body_meas_current_weight` is equal, so we'll use the CAN `current_weight_kg` column."
   ]
  },
  {
   "cell_type": "code",
   "execution_count": 47,
   "id": "c13c9aa7",
   "metadata": {
    "ExecuteTime": {
     "end_time": "2021-07-19T16:23:59.404417Z",
     "start_time": "2021-07-19T16:23:59.389420Z"
    }
   },
   "outputs": [
    {
     "data": {
      "text/plain": [
       "False"
      ]
     },
     "execution_count": 47,
     "metadata": {},
     "output_type": "execute_result"
    }
   ],
   "source": [
    "df['age'].equals(df['dem_det_age'])"
   ]
  },
  {
   "cell_type": "code",
   "execution_count": 48,
   "id": "8221ae5e",
   "metadata": {
    "ExecuteTime": {
     "end_time": "2021-07-19T16:23:59.419648Z",
     "start_time": "2021-07-19T16:23:59.405433Z"
    }
   },
   "outputs": [
    {
     "name": "stdout",
     "output_type": "stream",
     "text": [
      "Study Id's which have unmatched age between datasets\n",
      "[1773 1779 1780 1781 1782 1783 1786 1787 1789 1791 1792 1793 1794 1795\n",
      " 1796 1797 1798 1800 1801 1802 1803 1804 1805 1806 1808 1809 1812]\n"
     ]
    }
   ],
   "source": [
    "print(\"Study Id's which have unmatched age between datasets\")\n",
    "print(df['study_id'][np.floor(df['age']) != np.floor(df['dem_det_age'])].unique().astype(int))"
   ]
  },
  {
   "cell_type": "code",
   "execution_count": 49,
   "id": "94abafb8",
   "metadata": {
    "ExecuteTime": {
     "end_time": "2021-07-19T16:23:59.434796Z",
     "start_time": "2021-07-19T16:23:59.420684Z"
    }
   },
   "outputs": [
    {
     "data": {
      "text/html": [
       "<div>\n",
       "<style scoped>\n",
       "    .dataframe tbody tr th:only-of-type {\n",
       "        vertical-align: middle;\n",
       "    }\n",
       "\n",
       "    .dataframe tbody tr th {\n",
       "        vertical-align: top;\n",
       "    }\n",
       "\n",
       "    .dataframe thead th {\n",
       "        text-align: right;\n",
       "    }\n",
       "</style>\n",
       "<table border=\"1\" class=\"dataframe\">\n",
       "  <thead>\n",
       "    <tr style=\"text-align: right;\">\n",
       "      <th></th>\n",
       "      <th>study_id</th>\n",
       "      <th>dem_det_num_total_pregnancies</th>\n",
       "      <th>dem_det_num_term_birth</th>\n",
       "      <th>dem_det_num_preterm_births</th>\n",
       "      <th>dem_det_num_abortions</th>\n",
       "      <th>birth_order</th>\n",
       "    </tr>\n",
       "  </thead>\n",
       "  <tbody>\n",
       "    <tr>\n",
       "      <th>0</th>\n",
       "      <td>1773.0</td>\n",
       "      <td>NaN</td>\n",
       "      <td>NaN</td>\n",
       "      <td>NaN</td>\n",
       "      <td>NaN</td>\n",
       "      <td>2.0</td>\n",
       "    </tr>\n",
       "    <tr>\n",
       "      <th>2</th>\n",
       "      <td>1773.0</td>\n",
       "      <td>NaN</td>\n",
       "      <td>NaN</td>\n",
       "      <td>NaN</td>\n",
       "      <td>NaN</td>\n",
       "      <td>2.0</td>\n",
       "    </tr>\n",
       "    <tr>\n",
       "      <th>3</th>\n",
       "      <td>1773.0</td>\n",
       "      <td>NaN</td>\n",
       "      <td>NaN</td>\n",
       "      <td>NaN</td>\n",
       "      <td>NaN</td>\n",
       "      <td>2.0</td>\n",
       "    </tr>\n",
       "    <tr>\n",
       "      <th>4</th>\n",
       "      <td>1773.0</td>\n",
       "      <td>NaN</td>\n",
       "      <td>NaN</td>\n",
       "      <td>NaN</td>\n",
       "      <td>NaN</td>\n",
       "      <td>2.0</td>\n",
       "    </tr>\n",
       "    <tr>\n",
       "      <th>6</th>\n",
       "      <td>1779.0</td>\n",
       "      <td>NaN</td>\n",
       "      <td>NaN</td>\n",
       "      <td>NaN</td>\n",
       "      <td>NaN</td>\n",
       "      <td>2.0</td>\n",
       "    </tr>\n",
       "    <tr>\n",
       "      <th>7</th>\n",
       "      <td>1779.0</td>\n",
       "      <td>NaN</td>\n",
       "      <td>NaN</td>\n",
       "      <td>NaN</td>\n",
       "      <td>NaN</td>\n",
       "      <td>2.0</td>\n",
       "    </tr>\n",
       "    <tr>\n",
       "      <th>8</th>\n",
       "      <td>1780.0</td>\n",
       "      <td>NaN</td>\n",
       "      <td>NaN</td>\n",
       "      <td>NaN</td>\n",
       "      <td>NaN</td>\n",
       "      <td>3.0</td>\n",
       "    </tr>\n",
       "    <tr>\n",
       "      <th>9</th>\n",
       "      <td>1780.0</td>\n",
       "      <td>NaN</td>\n",
       "      <td>NaN</td>\n",
       "      <td>NaN</td>\n",
       "      <td>NaN</td>\n",
       "      <td>3.0</td>\n",
       "    </tr>\n",
       "    <tr>\n",
       "      <th>10</th>\n",
       "      <td>1781.0</td>\n",
       "      <td>NaN</td>\n",
       "      <td>NaN</td>\n",
       "      <td>NaN</td>\n",
       "      <td>NaN</td>\n",
       "      <td>2.0</td>\n",
       "    </tr>\n",
       "    <tr>\n",
       "      <th>11</th>\n",
       "      <td>1782.0</td>\n",
       "      <td>NaN</td>\n",
       "      <td>NaN</td>\n",
       "      <td>NaN</td>\n",
       "      <td>NaN</td>\n",
       "      <td>2.0</td>\n",
       "    </tr>\n",
       "  </tbody>\n",
       "</table>\n",
       "</div>"
      ],
      "text/plain": [
       "    study_id  dem_det_num_total_pregnancies  dem_det_num_term_birth  \\\n",
       "0     1773.0                            NaN                     NaN   \n",
       "2     1773.0                            NaN                     NaN   \n",
       "3     1773.0                            NaN                     NaN   \n",
       "4     1773.0                            NaN                     NaN   \n",
       "6     1779.0                            NaN                     NaN   \n",
       "7     1779.0                            NaN                     NaN   \n",
       "8     1780.0                            NaN                     NaN   \n",
       "9     1780.0                            NaN                     NaN   \n",
       "10    1781.0                            NaN                     NaN   \n",
       "11    1782.0                            NaN                     NaN   \n",
       "\n",
       "    dem_det_num_preterm_births  dem_det_num_abortions  birth_order  \n",
       "0                          NaN                    NaN          2.0  \n",
       "2                          NaN                    NaN          2.0  \n",
       "3                          NaN                    NaN          2.0  \n",
       "4                          NaN                    NaN          2.0  \n",
       "6                          NaN                    NaN          2.0  \n",
       "7                          NaN                    NaN          2.0  \n",
       "8                          NaN                    NaN          3.0  \n",
       "9                          NaN                    NaN          3.0  \n",
       "10                         NaN                    NaN          2.0  \n",
       "11                         NaN                    NaN          2.0  "
      ]
     },
     "execution_count": 49,
     "metadata": {},
     "output_type": "execute_result"
    }
   ],
   "source": [
    "df[['study_id', 'dem_det_num_total_pregnancies', 'dem_det_num_term_birth', 'dem_det_num_preterm_births', \n",
    "    'dem_det_num_abortions', 'birth_order']].head(10)"
   ]
  },
  {
   "cell_type": "markdown",
   "id": "de7bec52",
   "metadata": {},
   "source": [
    "The above columns have many missing values, we will drop them and settle for the `birth_order` feature."
   ]
  },
  {
   "cell_type": "markdown",
   "id": "6d8bbde0",
   "metadata": {},
   "source": [
    "#### Observing missing data for study ids:"
   ]
  },
  {
   "cell_type": "code",
   "execution_count": 50,
   "id": "246d7ace",
   "metadata": {
    "ExecuteTime": {
     "end_time": "2021-07-19T16:23:59.450656Z",
     "start_time": "2021-07-19T16:23:59.436802Z"
    },
    "hide_input": true
   },
   "outputs": [
    {
     "name": "stdout",
     "output_type": "stream",
     "text": [
      "Study ID's which have CAN questionnaires but missing sessions data:\n",
      "{1807, 1810, 1778, 1784, 1785, 1788, 1790}\n",
      "\n",
      "Study ID's which have sessions data but missing CAN questionnaires:\n",
      "{1811, 1814}\n",
      "\n",
      "There are 2 missing study id's, below are their matching subject id's:\n",
      "['7bbb35b1-981a-4177-b885-2801a1d6938e'\n",
      " 'b140d947-736d-438a-93bb-e956d2175f7e']\n",
      "\n",
      "The above study ids have been removed from the data for anaylsis\n"
     ]
    }
   ],
   "source": [
    "print(\"Study ID's which have CAN questionnaires but missing sessions data:\")\n",
    "print(set(df_can.MasterID.unique().astype(int)).difference(df.study_id.unique()))\n",
    "\n",
    "#df_temp = df_sessions.merge(df_can, how= 'left', left_on='study_id', right_on='MasterID')\n",
    "print()\n",
    "print(\"Study ID's which have sessions data but missing CAN questionnaires:\")\n",
    "print(set(df_sessions.study_id[df_sessions.study_id.notna()].unique().astype(int)).difference(df_can.MasterID.unique()))\n",
    "\n",
    "missing_study_ids = df_sessions.subject_id[df_sessions.study_id.isna()].unique()\n",
    "print()\n",
    "print(f\"There are {len(missing_study_ids)} missing study id's, below are their matching subject id's:\")\n",
    "print(missing_study_ids)\n",
    "\n",
    "print()\n",
    "print(\"The above study ids have been removed from the data for anaylsis\")"
   ]
  },
  {
   "cell_type": "markdown",
   "id": "26868c0d",
   "metadata": {},
   "source": [
    "#### Dropping unnecessary columns:"
   ]
  },
  {
   "cell_type": "code",
   "execution_count": 51,
   "id": "8219db6b",
   "metadata": {
    "ExecuteTime": {
     "end_time": "2021-07-19T16:23:59.465916Z",
     "start_time": "2021-07-19T16:23:59.451660Z"
    }
   },
   "outputs": [],
   "source": [
    "df.drop(columns = ['body_meas_height', 'body_meas_bmi', 'body_meas_prior_pregnancy_weight', 'body_meas_prior_pregnancy_weight', \n",
    "                   'mon_sess_time_zone_diff', 'mon_sess_date', 'mon_sess_start_time', 'mon_sess_duration', 'dem_det_age', \n",
    "                   'subject_id', 'session_id', 'current_weight_kg', 'weight_before_kg', 'current_height_cm', \n",
    "                   'body_meas_current_weight', 'MasterID', 'seconds_from_start', 'seconds_duration'], inplace = True)"
   ]
  },
  {
   "cell_type": "markdown",
   "id": "8b7da76a",
   "metadata": {},
   "source": [
    "#### Dropping features with a high portion of missing values:"
   ]
  },
  {
   "cell_type": "code",
   "execution_count": 52,
   "id": "87dd5efd",
   "metadata": {
    "ExecuteTime": {
     "end_time": "2021-07-19T16:23:59.497722Z",
     "start_time": "2021-07-19T16:23:59.466884Z"
    }
   },
   "outputs": [
    {
     "name": "stdout",
     "output_type": "stream",
     "text": [
      "Features dropped:\n",
      "\n",
      "body_meas_weight_gained 0.532\n",
      "dem_det_num_total_pregnancies 0.468\n",
      "dem_det_num_term_birth 0.468\n",
      "dem_det_num_preterm_births 0.468\n",
      "dem_det_num_abortions 0.468\n",
      "dem_det_num_living_children 0.468\n",
      "f_II 0.489\n",
      "f_II_10 0.426\n",
      "f_II_25 0.426\n",
      "f_II_50 0.426\n",
      "f_RMSSD5 0.404\n",
      "f_SDARR5 0.404\n",
      "f_SDRRI5 0.404\n",
      "f_STV 0.404\n",
      "f_STV_10 0.404\n",
      "f_STV_25 0.404\n",
      "f_STV_50 0.404\n"
     ]
    }
   ],
   "source": [
    "THRESHOLD = 0.4\n",
    "\n",
    "cols_to_drop = []\n",
    "\n",
    "print('Features dropped:')\n",
    "print()\n",
    "for column in df.columns:\n",
    "    if df[column].isna().sum()/len(df[column]) > THRESHOLD:\n",
    "        cols_to_drop.append(column)\n",
    "        print(column, round(df[column].isna().sum()/len(df[column]), 3))\n",
    "        \n",
    "df.drop(columns = cols_to_drop, inplace = True)"
   ]
  },
  {
   "cell_type": "markdown",
   "id": "eed4a7cd",
   "metadata": {},
   "source": [
    "#### Checking portions of missing values in ML-BI features:"
   ]
  },
  {
   "cell_type": "code",
   "execution_count": 53,
   "id": "81a88b04",
   "metadata": {
    "ExecuteTime": {
     "end_time": "2021-07-19T16:23:59.560568Z",
     "start_time": "2021-07-19T16:23:59.498568Z"
    }
   },
   "outputs": [
    {
     "name": "stdout",
     "output_type": "stream",
     "text": [
      "f_ALPHA_SI 0.319\n",
      "f_DELTA_TOTAL 0.319\n",
      "f_HF_COARSE 0.191\n",
      "f_HF_FINE 0.191\n",
      "f_HF_FINE_NORM 0.191\n",
      "f_HR_HIST_MAX 0.319\n",
      "f_HR_HIST_MEAN 0.319\n",
      "f_HR_HIST_MEDIAN 0.319\n",
      "f_HR_HIST_MIN 0.319\n",
      "f_HR_HIST_MODE 0.319\n",
      "f_HR_HIST_NMAX 0.319\n",
      "f_HR_HIST_NZEROS 0.319\n",
      "f_HR_HIST_TENDENCY 0.319\n",
      "f_HR_HIST_VAR 0.319\n",
      "f_HR_HIST_WIDTH 0.319\n",
      "f_II_IBI 0.255\n",
      "f_K_ISIGMOID 0.191\n",
      "f_LFHF_RATIO_COARSE 0.191\n",
      "f_LFHF_RATIO_FINE 0.191\n",
      "f_LF_COARSE 0.191\n",
      "f_LF_FINE 0.191\n",
      "f_LF_FINE_NORM 0.191\n",
      "f_LF_MFHF_RATIO 0.191\n",
      "f_LTI 0.383\n",
      "f_LTI_10 0.383\n",
      "f_LTI_25 0.383\n",
      "f_LTI_50 0.383\n",
      "f_LTI_IBI 0.298\n",
      "f_LTV 0.362\n",
      "f_LTV_10 0.362\n",
      "f_LTV_25 0.362\n",
      "f_LTV_50 0.362\n",
      "f_LTV_IBI 0.255\n",
      "f_MAXRR 0.191\n",
      "f_MEDIANRR 0.191\n",
      "f_MF_FINE 0.191\n",
      "f_MINRR 0.191\n",
      "f_PC_S 0.191\n",
      "f_PC_SD1 0.191\n",
      "f_PC_SD12RATIO 0.191\n",
      "f_PC_SD2 0.191\n",
      "f_RMSSD 0.191\n",
      "f_RMSSD1 0.234\n",
      "f_RMSSD_30sec 0.234\n",
      "f_RR5 0.191\n",
      "f_RR50 0.191\n",
      "f_RR_interval_avg 0.191\n",
      "f_SDARR1 0.234\n",
      "f_SDARR_30sec 0.234\n",
      "f_SDRR 0.191\n",
      "f_SDRRI1 0.234\n",
      "f_SDRRI_30sec 0.234\n",
      "f_STI 0.383\n",
      "f_STI_10 0.383\n",
      "f_STI_25 0.383\n",
      "f_STI_50 0.383\n",
      "f_STI_IBI 0.298\n",
      "f_STV_IBI 0.255\n",
      "f_TINN 0.191\n",
      "f_TP 0.191\n",
      "f_TRIANGULAR_INDEX 0.191\n",
      "f_VLF_FINE 0.191\n",
      "f_hf_peak_freq 0.191\n",
      "f_hr_avg 0.319\n",
      "f_hr_detection_rate 0.319\n",
      "f_lf_peak_freq 0.191\n",
      "f_mf_peak_freq 0.191\n",
      "f_pRR5 0.191\n",
      "f_pRR50 0.191\n",
      "f_vlf_peak_freq 0.191\n",
      "m_ALPHA_SI 0.34\n",
      "m_DELTA_TOTAL 0.319\n",
      "m_HF_COARSE 0.298\n",
      "m_HF_FINE 0.298\n",
      "m_HF_FINE_NORM 0.298\n",
      "m_HR_HIST_MAX 0.319\n",
      "m_HR_HIST_MEAN 0.319\n",
      "m_HR_HIST_MEDIAN 0.319\n",
      "m_HR_HIST_MIN 0.319\n",
      "m_HR_HIST_MODE 0.319\n",
      "m_HR_HIST_NMAX 0.319\n",
      "m_HR_HIST_NZEROS 0.319\n",
      "m_HR_HIST_TENDENCY 0.319\n",
      "m_HR_HIST_VAR 0.319\n",
      "m_HR_HIST_WIDTH 0.319\n",
      "m_II 0.383\n",
      "m_II_IBI 0.34\n",
      "m_K_ISIGMOID 0.298\n",
      "m_LFHF_RATIO_COARSE 0.298\n",
      "m_LFHF_RATIO_FINE 0.298\n",
      "m_LF_COARSE 0.298\n",
      "m_LF_FINE 0.298\n",
      "m_LF_FINE_NORM 0.298\n",
      "m_LF_MFHF_RATIO 0.298\n",
      "m_LTI 0.383\n",
      "m_LTI_IBI 0.362\n",
      "m_LTV 0.362\n",
      "m_LTV_IBI 0.298\n",
      "m_MAXRR 0.298\n",
      "m_MEDIANRR 0.298\n",
      "m_MF_FINE 0.298\n",
      "m_MINRR 0.298\n",
      "m_PC_S 0.298\n",
      "m_PC_SD1 0.298\n",
      "m_PC_SD12RATIO 0.298\n",
      "m_PC_SD2 0.298\n",
      "m_RMSSD 0.298\n",
      "m_RMSSD1 0.298\n",
      "m_RMSSD5 0.362\n",
      "m_RMSSD_30sec 0.298\n",
      "m_RR5 0.298\n",
      "m_RR50 0.298\n",
      "m_RR_interval_avg 0.298\n",
      "m_SDARR1 0.298\n",
      "m_SDARR5 0.362\n",
      "m_SDARR_30sec 0.298\n",
      "m_SDRR 0.298\n",
      "m_SDRRI1 0.298\n",
      "m_SDRRI5 0.362\n",
      "m_SDRRI_30sec 0.298\n",
      "m_STI 0.383\n",
      "m_STI_IBI 0.362\n",
      "m_STV 0.383\n",
      "m_STV_IBI 0.34\n",
      "m_TINN 0.298\n",
      "m_TP 0.298\n",
      "m_TRIANGULAR_INDEX 0.298\n",
      "m_VLF_FINE 0.298\n",
      "m_hf_peak_freq 0.298\n",
      "m_hr_avg 0.319\n",
      "m_hr_detection_rate 0.319\n",
      "m_lf_peak_freq 0.298\n",
      "m_mf_peak_freq 0.298\n",
      "m_pRR5 0.298\n",
      "m_pRR50 0.298\n",
      "m_vlf_peak_freq 0.298\n"
     ]
    }
   ],
   "source": [
    "T = 0.1\n",
    "\n",
    "for column in df.columns:\n",
    "    if df[column].isna().sum()/len(df[column]) > T:\n",
    "        print(column, round(df[column].isna().sum()/len(df[column]), 3))"
   ]
  },
  {
   "cell_type": "markdown",
   "id": "3773e1c9",
   "metadata": {},
   "source": [
    "#### Configuring LTI_STI features: (values are given as a string of two values, we will take the difference between them)"
   ]
  },
  {
   "cell_type": "code",
   "execution_count": 54,
   "id": "3e48f4d8",
   "metadata": {
    "ExecuteTime": {
     "end_time": "2021-07-19T16:23:59.576107Z",
     "start_time": "2021-07-19T16:23:59.562172Z"
    }
   },
   "outputs": [],
   "source": [
    "lti_sti_features = [col for col in df.columns if 'LTI' in col or 'STI' in col]\n",
    "\n",
    "for feat in lti_sti_features:\n",
    "    df[feat] = df[feat].map(lambda x: eval(x)[1] - eval(x)[0] if x==x else x)"
   ]
  },
  {
   "cell_type": "markdown",
   "id": "b5c91f40",
   "metadata": {},
   "source": [
    "#### And filling their missing values:"
   ]
  },
  {
   "cell_type": "code",
   "execution_count": 55,
   "id": "45610e21",
   "metadata": {
    "ExecuteTime": {
     "end_time": "2021-07-19T16:23:59.607472Z",
     "start_time": "2021-07-19T16:23:59.577472Z"
    }
   },
   "outputs": [
    {
     "data": {
      "text/html": [
       "<div>\n",
       "<style scoped>\n",
       "    .dataframe tbody tr th:only-of-type {\n",
       "        vertical-align: middle;\n",
       "    }\n",
       "\n",
       "    .dataframe tbody tr th {\n",
       "        vertical-align: top;\n",
       "    }\n",
       "\n",
       "    .dataframe thead th {\n",
       "        text-align: right;\n",
       "    }\n",
       "</style>\n",
       "<table border=\"1\" class=\"dataframe\">\n",
       "  <thead>\n",
       "    <tr style=\"text-align: right;\">\n",
       "      <th></th>\n",
       "      <th>dem_det_pregnancy_week</th>\n",
       "      <th>f_ALPHA_SI</th>\n",
       "      <th>f_DELTA_TOTAL</th>\n",
       "      <th>f_HF_COARSE</th>\n",
       "      <th>f_HF_FINE</th>\n",
       "      <th>f_HF_FINE_NORM</th>\n",
       "      <th>f_HR_HIST_MAX</th>\n",
       "      <th>f_HR_HIST_MEAN</th>\n",
       "      <th>f_HR_HIST_MEDIAN</th>\n",
       "      <th>f_HR_HIST_MIN</th>\n",
       "      <th>...</th>\n",
       "      <th>cesdsevmA</th>\n",
       "      <th>DERSnamA</th>\n",
       "      <th>DERSgmA</th>\n",
       "      <th>DERSimpmA</th>\n",
       "      <th>DERSawmA</th>\n",
       "      <th>DERSstgmA</th>\n",
       "      <th>DERSclrmA</th>\n",
       "      <th>DERStotmA</th>\n",
       "      <th>num_of_prior_diseases</th>\n",
       "      <th>body_BMI</th>\n",
       "    </tr>\n",
       "  </thead>\n",
       "  <tbody>\n",
       "    <tr>\n",
       "      <th>0</th>\n",
       "      <td>38.0</td>\n",
       "      <td>-4.001987</td>\n",
       "      <td>43.676244</td>\n",
       "      <td>5.711098e+05</td>\n",
       "      <td>57.700890</td>\n",
       "      <td>0.000015</td>\n",
       "      <td>135.449387</td>\n",
       "      <td>0.005458</td>\n",
       "      <td>0.003912</td>\n",
       "      <td>138.844567</td>\n",
       "      <td>...</td>\n",
       "      <td>1.0</td>\n",
       "      <td>10.0</td>\n",
       "      <td>8.0</td>\n",
       "      <td>6.0</td>\n",
       "      <td>12.0</td>\n",
       "      <td>10.0</td>\n",
       "      <td>8.0</td>\n",
       "      <td>54.0</td>\n",
       "      <td>1.0</td>\n",
       "      <td>31.068235</td>\n",
       "    </tr>\n",
       "    <tr>\n",
       "      <th>1</th>\n",
       "      <td>36.0</td>\n",
       "      <td>-4.308243</td>\n",
       "      <td>32.630012</td>\n",
       "      <td>1.435877e+05</td>\n",
       "      <td>62.417778</td>\n",
       "      <td>0.000047</td>\n",
       "      <td>132.219333</td>\n",
       "      <td>0.004545</td>\n",
       "      <td>0.003010</td>\n",
       "      <td>140.307232</td>\n",
       "      <td>...</td>\n",
       "      <td>1.0</td>\n",
       "      <td>10.0</td>\n",
       "      <td>8.0</td>\n",
       "      <td>6.0</td>\n",
       "      <td>12.0</td>\n",
       "      <td>10.0</td>\n",
       "      <td>8.0</td>\n",
       "      <td>54.0</td>\n",
       "      <td>1.0</td>\n",
       "      <td>31.068235</td>\n",
       "    </tr>\n",
       "    <tr>\n",
       "      <th>2</th>\n",
       "      <td>38.0</td>\n",
       "      <td>-3.783112</td>\n",
       "      <td>69.909731</td>\n",
       "      <td>2.864698e+06</td>\n",
       "      <td>1775.515747</td>\n",
       "      <td>0.000167</td>\n",
       "      <td>129.010820</td>\n",
       "      <td>0.002660</td>\n",
       "      <td>0.001116</td>\n",
       "      <td>119.037205</td>\n",
       "      <td>...</td>\n",
       "      <td>1.0</td>\n",
       "      <td>10.0</td>\n",
       "      <td>8.0</td>\n",
       "      <td>6.0</td>\n",
       "      <td>12.0</td>\n",
       "      <td>10.0</td>\n",
       "      <td>8.0</td>\n",
       "      <td>54.0</td>\n",
       "      <td>1.0</td>\n",
       "      <td>31.068235</td>\n",
       "    </tr>\n",
       "    <tr>\n",
       "      <th>3</th>\n",
       "      <td>37.0</td>\n",
       "      <td>-3.524742</td>\n",
       "      <td>55.123596</td>\n",
       "      <td>1.403205e+06</td>\n",
       "      <td>1031.152800</td>\n",
       "      <td>0.000228</td>\n",
       "      <td>140.799425</td>\n",
       "      <td>0.004132</td>\n",
       "      <td>0.002680</td>\n",
       "      <td>149.268516</td>\n",
       "      <td>...</td>\n",
       "      <td>1.0</td>\n",
       "      <td>10.0</td>\n",
       "      <td>8.0</td>\n",
       "      <td>6.0</td>\n",
       "      <td>12.0</td>\n",
       "      <td>10.0</td>\n",
       "      <td>8.0</td>\n",
       "      <td>54.0</td>\n",
       "      <td>1.0</td>\n",
       "      <td>31.068235</td>\n",
       "    </tr>\n",
       "    <tr>\n",
       "      <th>4</th>\n",
       "      <td>38.0</td>\n",
       "      <td>-4.001987</td>\n",
       "      <td>28.534432</td>\n",
       "      <td>1.488053e+06</td>\n",
       "      <td>17947.554426</td>\n",
       "      <td>0.000873</td>\n",
       "      <td>130.264446</td>\n",
       "      <td>0.005348</td>\n",
       "      <td>0.005149</td>\n",
       "      <td>122.928059</td>\n",
       "      <td>...</td>\n",
       "      <td>1.0</td>\n",
       "      <td>17.0</td>\n",
       "      <td>14.0</td>\n",
       "      <td>10.0</td>\n",
       "      <td>14.0</td>\n",
       "      <td>22.0</td>\n",
       "      <td>11.0</td>\n",
       "      <td>88.0</td>\n",
       "      <td>4.0</td>\n",
       "      <td>26.152221</td>\n",
       "    </tr>\n",
       "  </tbody>\n",
       "</table>\n",
       "<p>5 rows × 180 columns</p>\n",
       "</div>"
      ],
      "text/plain": [
       "   dem_det_pregnancy_week  f_ALPHA_SI  f_DELTA_TOTAL   f_HF_COARSE  \\\n",
       "0                    38.0   -4.001987      43.676244  5.711098e+05   \n",
       "1                    36.0   -4.308243      32.630012  1.435877e+05   \n",
       "2                    38.0   -3.783112      69.909731  2.864698e+06   \n",
       "3                    37.0   -3.524742      55.123596  1.403205e+06   \n",
       "4                    38.0   -4.001987      28.534432  1.488053e+06   \n",
       "\n",
       "      f_HF_FINE  f_HF_FINE_NORM  f_HR_HIST_MAX  f_HR_HIST_MEAN  \\\n",
       "0     57.700890        0.000015     135.449387        0.005458   \n",
       "1     62.417778        0.000047     132.219333        0.004545   \n",
       "2   1775.515747        0.000167     129.010820        0.002660   \n",
       "3   1031.152800        0.000228     140.799425        0.004132   \n",
       "4  17947.554426        0.000873     130.264446        0.005348   \n",
       "\n",
       "   f_HR_HIST_MEDIAN  f_HR_HIST_MIN  ...  cesdsevmA  DERSnamA  DERSgmA  \\\n",
       "0          0.003912     138.844567  ...        1.0      10.0      8.0   \n",
       "1          0.003010     140.307232  ...        1.0      10.0      8.0   \n",
       "2          0.001116     119.037205  ...        1.0      10.0      8.0   \n",
       "3          0.002680     149.268516  ...        1.0      10.0      8.0   \n",
       "4          0.005149     122.928059  ...        1.0      17.0     14.0   \n",
       "\n",
       "   DERSimpmA  DERSawmA  DERSstgmA  DERSclrmA  DERStotmA  \\\n",
       "0        6.0      12.0       10.0        8.0       54.0   \n",
       "1        6.0      12.0       10.0        8.0       54.0   \n",
       "2        6.0      12.0       10.0        8.0       54.0   \n",
       "3        6.0      12.0       10.0        8.0       54.0   \n",
       "4       10.0      14.0       22.0       11.0       88.0   \n",
       "\n",
       "   num_of_prior_diseases   body_BMI  \n",
       "0                    1.0  31.068235  \n",
       "1                    1.0  31.068235  \n",
       "2                    1.0  31.068235  \n",
       "3                    1.0  31.068235  \n",
       "4                    4.0  26.152221  \n",
       "\n",
       "[5 rows x 180 columns]"
      ]
     },
     "execution_count": 55,
     "metadata": {},
     "output_type": "execute_result"
    }
   ],
   "source": [
    "imp_mean = SimpleImputer(missing_values=np.nan, strategy='mean')\n",
    "\n",
    "_ = imp_mean.fit(df)\n",
    "\n",
    "df = pd.DataFrame(imp_mean.transform(df), columns = df.columns)\n",
    "\n",
    "df.head()"
   ]
  },
  {
   "cell_type": "markdown",
   "id": "3d15f9db",
   "metadata": {},
   "source": [
    "#### One-Hot encoding demographic features:"
   ]
  },
  {
   "cell_type": "code",
   "execution_count": 56,
   "id": "d7d8b6f6",
   "metadata": {
    "ExecuteTime": {
     "end_time": "2021-07-19T16:23:59.622695Z",
     "start_time": "2021-07-19T16:23:59.608473Z"
    }
   },
   "outputs": [],
   "source": [
    "demographs = ['ethnicity', 'race']\n",
    "\n",
    "dicts = [ethnicity_dict, race_dict]\n",
    "\n",
    "for i, feat in enumerate(demographs):\n",
    "    dct = dicts[i]\n",
    "    df[feat] = df[feat].map(lambda x: dct[x])\n",
    "    df_one_hot = pd.get_dummies(df[feat], prefix = [feat])\n",
    "    df = pd.concat([df, df_one_hot], axis = 1)\n",
    "    df.drop(columns = [feat], inplace=True)"
   ]
  },
  {
   "cell_type": "markdown",
   "id": "7bf87915",
   "metadata": {},
   "source": [
    "#### Creating a features-only dataframe:"
   ]
  },
  {
   "cell_type": "code",
   "execution_count": 57,
   "id": "fc69ff51",
   "metadata": {
    "ExecuteTime": {
     "end_time": "2021-07-19T16:23:59.638815Z",
     "start_time": "2021-07-19T16:23:59.624240Z"
    }
   },
   "outputs": [],
   "source": [
    "all_targets = [\"DERSclrmA\", \"DERStotmA\", \"DERSstgmA\", \"DERSawmA\", \"DERSimpmA\", \"DERSgmA\", \"DERSnamA\", \"psaavmA\", \"psatotmA\", \n",
    "               \"cesdtotmA\", \"cesdclinmA\", \"cesdsevmA\"]\n",
    "\n",
    "df_feats = df.drop(columns = all_targets)"
   ]
  },
  {
   "cell_type": "markdown",
   "id": "ae1c0d4e",
   "metadata": {},
   "source": [
    "#### And a dataframe of targets only:"
   ]
  },
  {
   "cell_type": "code",
   "execution_count": 58,
   "id": "61c1f204",
   "metadata": {
    "ExecuteTime": {
     "end_time": "2021-07-19T16:23:59.654801Z",
     "start_time": "2021-07-19T16:23:59.639798Z"
    }
   },
   "outputs": [],
   "source": [
    "df_targets = df[all_targets]"
   ]
  },
  {
   "cell_type": "markdown",
   "id": "43910383",
   "metadata": {},
   "source": [
    "#### Dropping features with low cardinality:"
   ]
  },
  {
   "cell_type": "code",
   "execution_count": 59,
   "id": "6f57a055",
   "metadata": {
    "ExecuteTime": {
     "end_time": "2021-07-19T16:23:59.687109Z",
     "start_time": "2021-07-19T16:23:59.655799Z"
    }
   },
   "outputs": [
    {
     "name": "stdout",
     "output_type": "stream",
     "text": [
      "Shape before: (47, 175)\n",
      "Shape after: (47, 169)\n"
     ]
    }
   ],
   "source": [
    "df_feats_temp = df_feats.copy()\n",
    "\n",
    "scaler = RobustScaler()\n",
    "scaler.fit(df_feats_temp)\n",
    "\n",
    "df_feats_temp = pd.DataFrame(scaler.transform(df_feats_temp), columns=df_feats_temp.columns)\n",
    "\n",
    "CAR_THRESHOLD = 0.03\n",
    "\n",
    "print(f'Shape before: {df_feats_temp.shape}')\n",
    "\n",
    "selector = VarianceThreshold(CAR_THRESHOLD)\n",
    "\n",
    "df_feats_temp = pd.DataFrame(selector.fit_transform(df_feats_temp), \n",
    "                            columns = df_feats_temp.columns[selector.get_support(indices=True)])\n",
    "\n",
    "print(f'Shape after: {df_feats_temp.shape}')"
   ]
  },
  {
   "cell_type": "code",
   "execution_count": 60,
   "id": "64c8990c",
   "metadata": {
    "ExecuteTime": {
     "end_time": "2021-07-19T16:23:59.702467Z",
     "start_time": "2021-07-19T16:23:59.688345Z"
    }
   },
   "outputs": [
    {
     "data": {
      "text/plain": [
       "(47, 169)"
      ]
     },
     "execution_count": 60,
     "metadata": {},
     "output_type": "execute_result"
    }
   ],
   "source": [
    "df_feats = df_feats.filter(items=df_feats_temp.columns)\n",
    "df_feats.shape"
   ]
  },
  {
   "cell_type": "markdown",
   "id": "6a4c4e0c",
   "metadata": {},
   "source": [
    "### Distributions of ML-BI features:"
   ]
  },
  {
   "cell_type": "code",
   "execution_count": 61,
   "id": "fe6d2c48",
   "metadata": {
    "ExecuteTime": {
     "end_time": "2021-07-19T16:23:59.718494Z",
     "start_time": "2021-07-19T16:23:59.704248Z"
    }
   },
   "outputs": [],
   "source": [
    "example_feats = [\"f_HF_FINE\", \"dem_det_pregnancy_week\", \"f_HR_HIST_NMAX\", \"f_LF_MFHF_RATIO\", \"f_LTV_IBI\", \"f_MAXRR\", \"m_SDARR1\"]"
   ]
  },
  {
   "cell_type": "code",
   "execution_count": 62,
   "id": "cc743f2d",
   "metadata": {
    "ExecuteTime": {
     "end_time": "2021-07-19T16:24:00.910534Z",
     "start_time": "2021-07-19T16:23:59.720502Z"
    },
    "hide_input": true
   },
   "outputs": [
    {
     "data": {
      "image/png": "[encoded data removed]",
      "text/plain": [
       "<Figure size 360x360 with 1 Axes>"
      ]
     },
     "metadata": {
      "needs_background": "light"
     },
     "output_type": "display_data"
    },
    {
     "data": {
      "image/png": "[encoded data removed]",
      "text/plain": [
       "<Figure size 360x360 with 1 Axes>"
      ]
     },
     "metadata": {
      "needs_background": "light"
     },
     "output_type": "display_data"
    },
    {
     "data": {
      "image/png": "[encoded data removed]",
      "text/plain": [
       "<Figure size 360x360 with 1 Axes>"
      ]
     },
     "metadata": {
      "needs_background": "light"
     },
     "output_type": "display_data"
    },
    {
     "data": {
      "image/png": "[encoded data removed]",
      "text/plain": [
       "<Figure size 360x360 with 1 Axes>"
      ]
     },
     "metadata": {
      "needs_background": "light"
     },
     "output_type": "display_data"
    },
    {
     "data": {
      "image/png": "[encoded data removed]",
      "text/plain": [
       "<Figure size 360x360 with 1 Axes>"
      ]
     },
     "metadata": {
      "needs_background": "light"
     },
     "output_type": "display_data"
    },
    {
     "data": {
      "image/png": "[encoded data removed]",
      "text/plain": [
       "<Figure size 360x360 with 1 Axes>"
      ]
     },
     "metadata": {
      "needs_background": "light"
     },
     "output_type": "display_data"
    },
    {
     "data": {
      "image/png": "[encoded data removed]",
      "text/plain": [
       "<Figure size 360x360 with 1 Axes>"
      ]
     },
     "metadata": {
      "needs_background": "light"
     },
     "output_type": "display_data"
    }
   ],
   "source": [
    "for feat in example_feats:\n",
    "    sns.displot(x = df[feat], data=df, bins=20)\n",
    "    plt.title(f'{feat} distribution');"
   ]
  },
  {
   "cell_type": "markdown",
   "id": "2ee5a449",
   "metadata": {},
   "source": [
    "### Trimming outliers using IQR method:"
   ]
  },
  {
   "cell_type": "code",
   "execution_count": 63,
   "id": "dce80ee8",
   "metadata": {
    "ExecuteTime": {
     "end_time": "2021-07-19T16:24:01.069579Z",
     "start_time": "2021-07-19T16:24:00.911524Z"
    }
   },
   "outputs": [],
   "source": [
    "for feat in df_feats.columns:\n",
    "    \n",
    "    Q1 = df_feats[feat].quantile(.25)\n",
    "    \n",
    "    Q3 = df_feats[feat].quantile(.75)\n",
    "    \n",
    "    IQR = Q3-Q1\n",
    "    \n",
    "    top_bound = Q3 + 1.5 * IQR\n",
    "    \n",
    "    df_feats.loc[df_feats[feat]>top_bound, feat] = top_bound"
   ]
  },
  {
   "cell_type": "markdown",
   "id": "c0f232ea",
   "metadata": {},
   "source": [
    "#### Exporting to CSV:"
   ]
  },
  {
   "cell_type": "code",
   "execution_count": 64,
   "id": "97cc1ccc",
   "metadata": {
    "ExecuteTime": {
     "end_time": "2021-07-19T16:24:01.084606Z",
     "start_time": "2021-07-19T16:24:01.070494Z"
    }
   },
   "outputs": [],
   "source": [
    "df_feats.to_csv('df_feats_baselines.csv', index=False)\n",
    "df_targets.to_csv('df_targets_baselines.csv', index=False)"
   ]
  },
  {
   "cell_type": "code",
   "execution_count": null,
   "id": "9a5596f5",
   "metadata": {},
   "outputs": [],
   "source": []
  }
 ],
 "metadata": {
  "kernelspec": {
   "display_name": "Python 3",
   "language": "python",
   "name": "python3"
  },
  "language_info": {
   "codemirror_mode": {
    "name": "ipython",
    "version": 3
   },
   "file_extension": ".py",
   "mimetype": "text/x-python",
   "name": "python",
   "nbconvert_exporter": "python",
   "pygments_lexer": "ipython3",
   "version": "3.8.8"
  }
 },
 "nbformat": 4,
 "nbformat_minor": 5
}
