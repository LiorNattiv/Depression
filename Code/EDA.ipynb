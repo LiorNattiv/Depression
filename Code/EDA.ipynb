{
 "cells": [
  {
   "cell_type": "code",
   "execution_count": 1,
   "id": "05243c1c",
   "metadata": {
    "ExecuteTime": {
     "end_time": "2021-07-19T16:22:40.678560Z",
     "start_time": "2021-07-19T16:22:39.597347Z"
    },
    "hide_input": false
   },
   "outputs": [],
   "source": [
    "import pandas as pd\n",
    "import numpy as np\n",
    "import seaborn as sns\n",
    "import matplotlib.pyplot as plt\n",
    "from datetime import datetime\n",
    "\n",
    "from sklearn.preprocessing import RobustScaler\n",
    "from sklearn.impute import SimpleImputer"
   ]
  },
  {
   "cell_type": "code",
   "execution_count": 2,
   "id": "aadff8a3",
   "metadata": {
    "ExecuteTime": {
     "end_time": "2021-07-19T16:22:40.694726Z",
     "start_time": "2021-07-19T16:22:40.680438Z"
    }
   },
   "outputs": [],
   "source": [
    "def basic_eda(df):\n",
    "    \"\"\"\n",
    "    See dataframe's info, shape, missing value, duplicate rows\n",
    "    \"\"\"\n",
    "    print('Quick preview for our data:')\n",
    "    display(df.head())\n",
    "    print('\\n')\n",
    "    print(f\"Dataframe shape: {df.shape}\\n\")\n",
    "    print('/ Columns info:')\n",
    "    display(df.info())\n",
    "    print('Summary Statistics for numerical columns:')\n",
    "    display(df.describe())\n",
    "    print('Summary Statistics for categorical columns:')\n",
    "    display(df.describe(include=[object]))\n",
    "    print(f\"\\\n",
    "    \\nRows count = {len(df)}\\\n",
    "    \\nNull count:\\\n",
    "    \\n{df.isnull().sum()}\\\n",
    "    \\n\\\n",
    "    \\nOverall missing values in data: {df.isnull().sum().sum()}\\\n",
    "    \\n\\nDuplicated Rows: {df.duplicated().sum()}\\\n",
    "    \\n\\nUnique values count:\\\n",
    "    \\n{df.nunique()}\\\n",
    "    \\n\\nData types in dataset:\\\n",
    "    \\n{df.dtypes.value_counts()}\")"
   ]
  },
  {
   "cell_type": "markdown",
   "id": "a7755a27",
   "metadata": {},
   "source": [
    "#### Importing the data:"
   ]
  },
  {
   "cell_type": "code",
   "execution_count": 3,
   "id": "9f827485",
   "metadata": {
    "ExecuteTime": {
     "end_time": "2021-07-19T16:22:40.725916Z",
     "start_time": "2021-07-19T16:22:40.695837Z"
    }
   },
   "outputs": [],
   "source": [
    "df_can_all = pd.read_csv(\"CAN Lab Data 5.28.21.csv\")\n",
    "df_sessions = pd.read_csv(\"canlab_full_sessions.csv\")"
   ]
  },
  {
   "cell_type": "markdown",
   "id": "980b152e",
   "metadata": {},
   "source": [
    "#### Filtering relevant features+targets only:"
   ]
  },
  {
   "cell_type": "code",
   "execution_count": 4,
   "id": "ba969b51",
   "metadata": {
    "ExecuteTime": {
     "end_time": "2021-07-19T16:22:40.757784Z",
     "start_time": "2021-07-19T16:22:40.726877Z"
    }
   },
   "outputs": [
    {
     "data": {
      "text/html": [
       "<div>\n",
       "<style scoped>\n",
       "    .dataframe tbody tr th:only-of-type {\n",
       "        vertical-align: middle;\n",
       "    }\n",
       "\n",
       "    .dataframe tbody tr th {\n",
       "        vertical-align: top;\n",
       "    }\n",
       "\n",
       "    .dataframe thead th {\n",
       "        text-align: right;\n",
       "    }\n",
       "</style>\n",
       "<table border=\"1\" class=\"dataframe\">\n",
       "  <thead>\n",
       "    <tr style=\"text-align: right;\">\n",
       "      <th></th>\n",
       "      <th>MasterID</th>\n",
       "      <th>age</th>\n",
       "      <th>dom_hand</th>\n",
       "      <th>education</th>\n",
       "      <th>ethnicity</th>\n",
       "      <th>race</th>\n",
       "      <th>weight_before</th>\n",
       "      <th>current_weight</th>\n",
       "      <th>current_height</th>\n",
       "      <th>birth_order</th>\n",
       "      <th>...</th>\n",
       "      <th>cesdtotmA</th>\n",
       "      <th>cesdclinmA</th>\n",
       "      <th>cesdsevmA</th>\n",
       "      <th>DERSnamA</th>\n",
       "      <th>DERSgmA</th>\n",
       "      <th>DERSimpmA</th>\n",
       "      <th>DERSawmA</th>\n",
       "      <th>DERSstgmA</th>\n",
       "      <th>DERSclrmA</th>\n",
       "      <th>DERStotmA</th>\n",
       "    </tr>\n",
       "  </thead>\n",
       "  <tbody>\n",
       "    <tr>\n",
       "      <th>0</th>\n",
       "      <td>1773</td>\n",
       "      <td>27</td>\n",
       "      <td>2</td>\n",
       "      <td>6</td>\n",
       "      <td>2</td>\n",
       "      <td>5</td>\n",
       "      <td>150</td>\n",
       "      <td></td>\n",
       "      <td></td>\n",
       "      <td></td>\n",
       "      <td>...</td>\n",
       "      <td>7</td>\n",
       "      <td>0</td>\n",
       "      <td>1</td>\n",
       "      <td>10</td>\n",
       "      <td>8</td>\n",
       "      <td>6</td>\n",
       "      <td>12</td>\n",
       "      <td>10</td>\n",
       "      <td>8</td>\n",
       "      <td>54</td>\n",
       "    </tr>\n",
       "    <tr>\n",
       "      <th>1</th>\n",
       "      <td>1778</td>\n",
       "      <td>24</td>\n",
       "      <td>2</td>\n",
       "      <td>6</td>\n",
       "      <td>2</td>\n",
       "      <td>5</td>\n",
       "      <td>150</td>\n",
       "      <td></td>\n",
       "      <td></td>\n",
       "      <td></td>\n",
       "      <td>...</td>\n",
       "      <td>24</td>\n",
       "      <td>1</td>\n",
       "      <td>3</td>\n",
       "      <td>19</td>\n",
       "      <td>14</td>\n",
       "      <td>7</td>\n",
       "      <td>21</td>\n",
       "      <td>13</td>\n",
       "      <td>7</td>\n",
       "      <td>81</td>\n",
       "    </tr>\n",
       "    <tr>\n",
       "      <th>2</th>\n",
       "      <td>1779</td>\n",
       "      <td>34</td>\n",
       "      <td>1</td>\n",
       "      <td>7</td>\n",
       "      <td>2</td>\n",
       "      <td>5</td>\n",
       "      <td>145</td>\n",
       "      <td>172</td>\n",
       "      <td>68</td>\n",
       "      <td>2</td>\n",
       "      <td>...</td>\n",
       "      <td>14</td>\n",
       "      <td>0</td>\n",
       "      <td>1</td>\n",
       "      <td>17</td>\n",
       "      <td>14</td>\n",
       "      <td>10</td>\n",
       "      <td>14</td>\n",
       "      <td>22</td>\n",
       "      <td>11</td>\n",
       "      <td>88</td>\n",
       "    </tr>\n",
       "    <tr>\n",
       "      <th>3</th>\n",
       "      <td>1780</td>\n",
       "      <td>28</td>\n",
       "      <td>2</td>\n",
       "      <td>6</td>\n",
       "      <td>2</td>\n",
       "      <td>5</td>\n",
       "      <td>155</td>\n",
       "      <td>194</td>\n",
       "      <td>65</td>\n",
       "      <td>3</td>\n",
       "      <td>...</td>\n",
       "      <td>23</td>\n",
       "      <td>1</td>\n",
       "      <td>3</td>\n",
       "      <td>25</td>\n",
       "      <td>20</td>\n",
       "      <td>19</td>\n",
       "      <td>13</td>\n",
       "      <td>22</td>\n",
       "      <td>12</td>\n",
       "      <td>111</td>\n",
       "    </tr>\n",
       "    <tr>\n",
       "      <th>4</th>\n",
       "      <td>1781</td>\n",
       "      <td>27</td>\n",
       "      <td>2</td>\n",
       "      <td>3</td>\n",
       "      <td>2</td>\n",
       "      <td>6</td>\n",
       "      <td>300</td>\n",
       "      <td>360</td>\n",
       "      <td>65</td>\n",
       "      <td></td>\n",
       "      <td>...</td>\n",
       "      <td>10</td>\n",
       "      <td>0</td>\n",
       "      <td>1</td>\n",
       "      <td>8</td>\n",
       "      <td>10</td>\n",
       "      <td>7</td>\n",
       "      <td>6</td>\n",
       "      <td>10</td>\n",
       "      <td>5</td>\n",
       "      <td>46</td>\n",
       "    </tr>\n",
       "  </tbody>\n",
       "</table>\n",
       "<p>5 rows × 55 columns</p>\n",
       "</div>"
      ],
      "text/plain": [
       "   MasterID  age  dom_hand  education  ethnicity  race  weight_before  \\\n",
       "0      1773   27         2          6          2     5            150   \n",
       "1      1778   24         2          6          2     5            150   \n",
       "2      1779   34         1          7          2     5            145   \n",
       "3      1780   28         2          6          2     5            155   \n",
       "4      1781   27         2          3          2     6            300   \n",
       "\n",
       "  current_weight current_height birth_order  ...  cesdtotmA  cesdclinmA  \\\n",
       "0                                            ...          7           0   \n",
       "1                                            ...         24           1   \n",
       "2            172             68           2  ...         14           0   \n",
       "3            194             65           3  ...         23           1   \n",
       "4            360             65              ...         10           0   \n",
       "\n",
       "   cesdsevmA  DERSnamA  DERSgmA  DERSimpmA  DERSawmA  DERSstgmA  DERSclrmA  \\\n",
       "0          1        10        8          6        12         10          8   \n",
       "1          3        19       14          7        21         13          7   \n",
       "2          1        17       14         10        14         22         11   \n",
       "3          3        25       20         19        13         22         12   \n",
       "4          1         8       10          7         6         10          5   \n",
       "\n",
       "   DERStotmA  \n",
       "0         54  \n",
       "1         81  \n",
       "2         88  \n",
       "3        111  \n",
       "4         46  \n",
       "\n",
       "[5 rows x 55 columns]"
      ]
     },
     "execution_count": 4,
     "metadata": {},
     "output_type": "execute_result"
    }
   ],
   "source": [
    "df_can = df_can_all[['MasterID', 'age', 'dom_hand', 'education', 'ethnicity', 'race', 'weight_before', 'current_weight', \n",
    "                     'current_height', 'birth_order', 'thyroid', 'anemia', 'sickle_anemia', 'thalassemia', 'arthritis', \n",
    "                     'seizure', 'murmur', 'asthma', 'pulmonary', 'diabetes', 'hypertension', 'renal', 'kidney_infect', \n",
    "                     'bladder_infect', 'HIV', 'AIDS', 'TB', 'abn_pap', 'cancer', 'psych_med', 'antipsychotic', 'stimulant', 'antidepressant', 'anxiety_med', 'mood_stab', \n",
    "                     'gest_hyp', 'pre_eclampsia', 'gest_diabetes', 'uterine_restrict', 'macrosomia', 'congenital', \n",
    "                     'oligohydramnios', 'polyhydramnios', 'psaavmA', 'psatotmA', 'cesdtotmA', 'cesdclinmA', 'cesdsevmA', \n",
    "                     'DERSnamA', 'DERSgmA', 'DERSimpmA', 'DERSawmA', 'DERSstgmA', 'DERSclrmA', 'DERStotmA']]\n",
    "\n",
    "df_can.head()"
   ]
  },
  {
   "cell_type": "markdown",
   "id": "63128f00",
   "metadata": {},
   "source": [
    "#### Replacing white spaces with Nan:"
   ]
  },
  {
   "cell_type": "code",
   "execution_count": 5,
   "id": "86e90dba",
   "metadata": {
    "ExecuteTime": {
     "end_time": "2021-07-19T16:22:40.773866Z",
     "start_time": "2021-07-19T16:22:40.758767Z"
    }
   },
   "outputs": [],
   "source": [
    "df_can = df_can.replace(r'^\\s+$', np.nan, regex=True)"
   ]
  },
  {
   "cell_type": "markdown",
   "id": "ff1071ab",
   "metadata": {},
   "source": [
    "#### Basic information on our data:"
   ]
  },
  {
   "cell_type": "code",
   "execution_count": 6,
   "id": "60e228b8",
   "metadata": {
    "ExecuteTime": {
     "end_time": "2021-07-19T16:22:40.900519Z",
     "start_time": "2021-07-19T16:22:40.774895Z"
    }
   },
   "outputs": [
    {
     "name": "stdout",
     "output_type": "stream",
     "text": [
      "Quick preview for our data:\n"
     ]
    },
    {
     "data": {
      "text/html": [
       "<div>\n",
       "<style scoped>\n",
       "    .dataframe tbody tr th:only-of-type {\n",
       "        vertical-align: middle;\n",
       "    }\n",
       "\n",
       "    .dataframe tbody tr th {\n",
       "        vertical-align: top;\n",
       "    }\n",
       "\n",
       "    .dataframe thead th {\n",
       "        text-align: right;\n",
       "    }\n",
       "</style>\n",
       "<table border=\"1\" class=\"dataframe\">\n",
       "  <thead>\n",
       "    <tr style=\"text-align: right;\">\n",
       "      <th></th>\n",
       "      <th>MasterID</th>\n",
       "      <th>age</th>\n",
       "      <th>dom_hand</th>\n",
       "      <th>education</th>\n",
       "      <th>ethnicity</th>\n",
       "      <th>race</th>\n",
       "      <th>weight_before</th>\n",
       "      <th>current_weight</th>\n",
       "      <th>current_height</th>\n",
       "      <th>birth_order</th>\n",
       "      <th>...</th>\n",
       "      <th>cesdtotmA</th>\n",
       "      <th>cesdclinmA</th>\n",
       "      <th>cesdsevmA</th>\n",
       "      <th>DERSnamA</th>\n",
       "      <th>DERSgmA</th>\n",
       "      <th>DERSimpmA</th>\n",
       "      <th>DERSawmA</th>\n",
       "      <th>DERSstgmA</th>\n",
       "      <th>DERSclrmA</th>\n",
       "      <th>DERStotmA</th>\n",
       "    </tr>\n",
       "  </thead>\n",
       "  <tbody>\n",
       "    <tr>\n",
       "      <th>0</th>\n",
       "      <td>1773</td>\n",
       "      <td>27</td>\n",
       "      <td>2</td>\n",
       "      <td>6</td>\n",
       "      <td>2</td>\n",
       "      <td>5</td>\n",
       "      <td>150</td>\n",
       "      <td>NaN</td>\n",
       "      <td>NaN</td>\n",
       "      <td>NaN</td>\n",
       "      <td>...</td>\n",
       "      <td>7</td>\n",
       "      <td>0</td>\n",
       "      <td>1</td>\n",
       "      <td>10</td>\n",
       "      <td>8</td>\n",
       "      <td>6</td>\n",
       "      <td>12</td>\n",
       "      <td>10</td>\n",
       "      <td>8</td>\n",
       "      <td>54</td>\n",
       "    </tr>\n",
       "    <tr>\n",
       "      <th>1</th>\n",
       "      <td>1778</td>\n",
       "      <td>24</td>\n",
       "      <td>2</td>\n",
       "      <td>6</td>\n",
       "      <td>2</td>\n",
       "      <td>5</td>\n",
       "      <td>150</td>\n",
       "      <td>NaN</td>\n",
       "      <td>NaN</td>\n",
       "      <td>NaN</td>\n",
       "      <td>...</td>\n",
       "      <td>24</td>\n",
       "      <td>1</td>\n",
       "      <td>3</td>\n",
       "      <td>19</td>\n",
       "      <td>14</td>\n",
       "      <td>7</td>\n",
       "      <td>21</td>\n",
       "      <td>13</td>\n",
       "      <td>7</td>\n",
       "      <td>81</td>\n",
       "    </tr>\n",
       "    <tr>\n",
       "      <th>2</th>\n",
       "      <td>1779</td>\n",
       "      <td>34</td>\n",
       "      <td>1</td>\n",
       "      <td>7</td>\n",
       "      <td>2</td>\n",
       "      <td>5</td>\n",
       "      <td>145</td>\n",
       "      <td>172</td>\n",
       "      <td>68</td>\n",
       "      <td>2</td>\n",
       "      <td>...</td>\n",
       "      <td>14</td>\n",
       "      <td>0</td>\n",
       "      <td>1</td>\n",
       "      <td>17</td>\n",
       "      <td>14</td>\n",
       "      <td>10</td>\n",
       "      <td>14</td>\n",
       "      <td>22</td>\n",
       "      <td>11</td>\n",
       "      <td>88</td>\n",
       "    </tr>\n",
       "    <tr>\n",
       "      <th>3</th>\n",
       "      <td>1780</td>\n",
       "      <td>28</td>\n",
       "      <td>2</td>\n",
       "      <td>6</td>\n",
       "      <td>2</td>\n",
       "      <td>5</td>\n",
       "      <td>155</td>\n",
       "      <td>194</td>\n",
       "      <td>65</td>\n",
       "      <td>3</td>\n",
       "      <td>...</td>\n",
       "      <td>23</td>\n",
       "      <td>1</td>\n",
       "      <td>3</td>\n",
       "      <td>25</td>\n",
       "      <td>20</td>\n",
       "      <td>19</td>\n",
       "      <td>13</td>\n",
       "      <td>22</td>\n",
       "      <td>12</td>\n",
       "      <td>111</td>\n",
       "    </tr>\n",
       "    <tr>\n",
       "      <th>4</th>\n",
       "      <td>1781</td>\n",
       "      <td>27</td>\n",
       "      <td>2</td>\n",
       "      <td>3</td>\n",
       "      <td>2</td>\n",
       "      <td>6</td>\n",
       "      <td>300</td>\n",
       "      <td>360</td>\n",
       "      <td>65</td>\n",
       "      <td>NaN</td>\n",
       "      <td>...</td>\n",
       "      <td>10</td>\n",
       "      <td>0</td>\n",
       "      <td>1</td>\n",
       "      <td>8</td>\n",
       "      <td>10</td>\n",
       "      <td>7</td>\n",
       "      <td>6</td>\n",
       "      <td>10</td>\n",
       "      <td>5</td>\n",
       "      <td>46</td>\n",
       "    </tr>\n",
       "  </tbody>\n",
       "</table>\n",
       "<p>5 rows × 55 columns</p>\n",
       "</div>"
      ],
      "text/plain": [
       "   MasterID  age  dom_hand  education  ethnicity  race  weight_before  \\\n",
       "0      1773   27         2          6          2     5            150   \n",
       "1      1778   24         2          6          2     5            150   \n",
       "2      1779   34         1          7          2     5            145   \n",
       "3      1780   28         2          6          2     5            155   \n",
       "4      1781   27         2          3          2     6            300   \n",
       "\n",
       "  current_weight current_height birth_order  ...  cesdtotmA  cesdclinmA  \\\n",
       "0            NaN            NaN         NaN  ...          7           0   \n",
       "1            NaN            NaN         NaN  ...         24           1   \n",
       "2            172             68           2  ...         14           0   \n",
       "3            194             65           3  ...         23           1   \n",
       "4            360             65         NaN  ...         10           0   \n",
       "\n",
       "   cesdsevmA  DERSnamA  DERSgmA  DERSimpmA  DERSawmA  DERSstgmA  DERSclrmA  \\\n",
       "0          1        10        8          6        12         10          8   \n",
       "1          3        19       14          7        21         13          7   \n",
       "2          1        17       14         10        14         22         11   \n",
       "3          3        25       20         19        13         22         12   \n",
       "4          1         8       10          7         6         10          5   \n",
       "\n",
       "   DERStotmA  \n",
       "0         54  \n",
       "1         81  \n",
       "2         88  \n",
       "3        111  \n",
       "4         46  \n",
       "\n",
       "[5 rows x 55 columns]"
      ]
     },
     "metadata": {},
     "output_type": "display_data"
    },
    {
     "name": "stdout",
     "output_type": "stream",
     "text": [
      "\n",
      "\n",
      "Dataframe shape: (35, 55)\n",
      "\n",
      "/ Columns info:\n",
      "<class 'pandas.core.frame.DataFrame'>\n",
      "RangeIndex: 35 entries, 0 to 34\n",
      "Data columns (total 55 columns):\n",
      " #   Column            Non-Null Count  Dtype \n",
      "---  ------            --------------  ----- \n",
      " 0   MasterID          35 non-null     int64 \n",
      " 1   age               35 non-null     int64 \n",
      " 2   dom_hand          35 non-null     int64 \n",
      " 3   education         35 non-null     int64 \n",
      " 4   ethnicity         35 non-null     int64 \n",
      " 5   race              35 non-null     int64 \n",
      " 6   weight_before     35 non-null     int64 \n",
      " 7   current_weight    33 non-null     object\n",
      " 8   current_height    33 non-null     object\n",
      " 9   birth_order       26 non-null     object\n",
      " 10  thyroid           35 non-null     int64 \n",
      " 11  anemia            35 non-null     int64 \n",
      " 12  sickle_anemia     35 non-null     int64 \n",
      " 13  thalassemia       35 non-null     int64 \n",
      " 14  arthritis         35 non-null     int64 \n",
      " 15  seizure           35 non-null     int64 \n",
      " 16  murmur            35 non-null     int64 \n",
      " 17  asthma            35 non-null     int64 \n",
      " 18  pulmonary         35 non-null     int64 \n",
      " 19  diabetes          35 non-null     int64 \n",
      " 20  hypertension      35 non-null     int64 \n",
      " 21  renal             35 non-null     int64 \n",
      " 22  kidney_infect     35 non-null     int64 \n",
      " 23  bladder_infect    35 non-null     int64 \n",
      " 24  HIV               35 non-null     int64 \n",
      " 25  AIDS              35 non-null     int64 \n",
      " 26  TB                35 non-null     int64 \n",
      " 27  abn_pap           35 non-null     int64 \n",
      " 28  cancer            35 non-null     int64 \n",
      " 29  psych_med         35 non-null     int64 \n",
      " 30  antipsychotic     35 non-null     int64 \n",
      " 31  stimulant         35 non-null     int64 \n",
      " 32  antidepressant    35 non-null     int64 \n",
      " 33  anxiety_med       35 non-null     int64 \n",
      " 34  mood_stab         35 non-null     int64 \n",
      " 35  gest_hyp          35 non-null     int64 \n",
      " 36  pre_eclampsia     35 non-null     int64 \n",
      " 37  gest_diabetes     35 non-null     int64 \n",
      " 38  uterine_restrict  35 non-null     int64 \n",
      " 39  macrosomia        35 non-null     int64 \n",
      " 40  congenital        35 non-null     int64 \n",
      " 41  oligohydramnios   35 non-null     int64 \n",
      " 42  polyhydramnios    35 non-null     int64 \n",
      " 43  psaavmA           34 non-null     object\n",
      " 44  psatotmA          34 non-null     object\n",
      " 45  cesdtotmA         34 non-null     object\n",
      " 46  cesdclinmA        34 non-null     object\n",
      " 47  cesdsevmA         34 non-null     object\n",
      " 48  DERSnamA          31 non-null     object\n",
      " 49  DERSgmA           31 non-null     object\n",
      " 50  DERSimpmA         31 non-null     object\n",
      " 51  DERSawmA          31 non-null     object\n",
      " 52  DERSstgmA         31 non-null     object\n",
      " 53  DERSclrmA         31 non-null     object\n",
      " 54  DERStotmA         31 non-null     object\n",
      "dtypes: int64(40), object(15)\n",
      "memory usage: 15.2+ KB\n"
     ]
    },
    {
     "data": {
      "text/plain": [
       "None"
      ]
     },
     "metadata": {},
     "output_type": "display_data"
    },
    {
     "name": "stdout",
     "output_type": "stream",
     "text": [
      "Summary Statistics for numerical columns:\n"
     ]
    },
    {
     "data": {
      "text/html": [
       "<div>\n",
       "<style scoped>\n",
       "    .dataframe tbody tr th:only-of-type {\n",
       "        vertical-align: middle;\n",
       "    }\n",
       "\n",
       "    .dataframe tbody tr th {\n",
       "        vertical-align: top;\n",
       "    }\n",
       "\n",
       "    .dataframe thead th {\n",
       "        text-align: right;\n",
       "    }\n",
       "</style>\n",
       "<table border=\"1\" class=\"dataframe\">\n",
       "  <thead>\n",
       "    <tr style=\"text-align: right;\">\n",
       "      <th></th>\n",
       "      <th>MasterID</th>\n",
       "      <th>age</th>\n",
       "      <th>dom_hand</th>\n",
       "      <th>education</th>\n",
       "      <th>ethnicity</th>\n",
       "      <th>race</th>\n",
       "      <th>weight_before</th>\n",
       "      <th>thyroid</th>\n",
       "      <th>anemia</th>\n",
       "      <th>sickle_anemia</th>\n",
       "      <th>...</th>\n",
       "      <th>anxiety_med</th>\n",
       "      <th>mood_stab</th>\n",
       "      <th>gest_hyp</th>\n",
       "      <th>pre_eclampsia</th>\n",
       "      <th>gest_diabetes</th>\n",
       "      <th>uterine_restrict</th>\n",
       "      <th>macrosomia</th>\n",
       "      <th>congenital</th>\n",
       "      <th>oligohydramnios</th>\n",
       "      <th>polyhydramnios</th>\n",
       "    </tr>\n",
       "  </thead>\n",
       "  <tbody>\n",
       "    <tr>\n",
       "      <th>count</th>\n",
       "      <td>35.000000</td>\n",
       "      <td>35.000000</td>\n",
       "      <td>35.000000</td>\n",
       "      <td>35.000000</td>\n",
       "      <td>35.000000</td>\n",
       "      <td>35.000000</td>\n",
       "      <td>35.000000</td>\n",
       "      <td>35.000000</td>\n",
       "      <td>35.000000</td>\n",
       "      <td>35.0</td>\n",
       "      <td>...</td>\n",
       "      <td>35.000000</td>\n",
       "      <td>35.0</td>\n",
       "      <td>35.000000</td>\n",
       "      <td>35.0</td>\n",
       "      <td>35.000000</td>\n",
       "      <td>35.0</td>\n",
       "      <td>35.0</td>\n",
       "      <td>35.0</td>\n",
       "      <td>35.0</td>\n",
       "      <td>35.000000</td>\n",
       "    </tr>\n",
       "    <tr>\n",
       "      <th>mean</th>\n",
       "      <td>1793.914286</td>\n",
       "      <td>28.628571</td>\n",
       "      <td>1.828571</td>\n",
       "      <td>5.228571</td>\n",
       "      <td>7.428571</td>\n",
       "      <td>10.485714</td>\n",
       "      <td>167.571429</td>\n",
       "      <td>0.028571</td>\n",
       "      <td>0.371429</td>\n",
       "      <td>0.0</td>\n",
       "      <td>...</td>\n",
       "      <td>0.057143</td>\n",
       "      <td>0.0</td>\n",
       "      <td>0.085714</td>\n",
       "      <td>0.0</td>\n",
       "      <td>0.085714</td>\n",
       "      <td>0.0</td>\n",
       "      <td>0.0</td>\n",
       "      <td>0.0</td>\n",
       "      <td>0.0</td>\n",
       "      <td>0.028571</td>\n",
       "    </tr>\n",
       "    <tr>\n",
       "      <th>std</th>\n",
       "      <td>10.511538</td>\n",
       "      <td>4.066258</td>\n",
       "      <td>0.382385</td>\n",
       "      <td>1.832480</td>\n",
       "      <td>22.874704</td>\n",
       "      <td>22.119158</td>\n",
       "      <td>49.157781</td>\n",
       "      <td>0.169031</td>\n",
       "      <td>0.490241</td>\n",
       "      <td>0.0</td>\n",
       "      <td>...</td>\n",
       "      <td>0.235504</td>\n",
       "      <td>0.0</td>\n",
       "      <td>0.284029</td>\n",
       "      <td>0.0</td>\n",
       "      <td>0.284029</td>\n",
       "      <td>0.0</td>\n",
       "      <td>0.0</td>\n",
       "      <td>0.0</td>\n",
       "      <td>0.0</td>\n",
       "      <td>0.169031</td>\n",
       "    </tr>\n",
       "    <tr>\n",
       "      <th>min</th>\n",
       "      <td>1773.000000</td>\n",
       "      <td>19.000000</td>\n",
       "      <td>1.000000</td>\n",
       "      <td>1.000000</td>\n",
       "      <td>1.000000</td>\n",
       "      <td>3.000000</td>\n",
       "      <td>107.000000</td>\n",
       "      <td>0.000000</td>\n",
       "      <td>0.000000</td>\n",
       "      <td>0.0</td>\n",
       "      <td>...</td>\n",
       "      <td>0.000000</td>\n",
       "      <td>0.0</td>\n",
       "      <td>0.000000</td>\n",
       "      <td>0.0</td>\n",
       "      <td>0.000000</td>\n",
       "      <td>0.0</td>\n",
       "      <td>0.0</td>\n",
       "      <td>0.0</td>\n",
       "      <td>0.0</td>\n",
       "      <td>0.000000</td>\n",
       "    </tr>\n",
       "    <tr>\n",
       "      <th>25%</th>\n",
       "      <td>1785.500000</td>\n",
       "      <td>26.000000</td>\n",
       "      <td>2.000000</td>\n",
       "      <td>4.500000</td>\n",
       "      <td>2.000000</td>\n",
       "      <td>5.000000</td>\n",
       "      <td>140.500000</td>\n",
       "      <td>0.000000</td>\n",
       "      <td>0.000000</td>\n",
       "      <td>0.0</td>\n",
       "      <td>...</td>\n",
       "      <td>0.000000</td>\n",
       "      <td>0.0</td>\n",
       "      <td>0.000000</td>\n",
       "      <td>0.0</td>\n",
       "      <td>0.000000</td>\n",
       "      <td>0.0</td>\n",
       "      <td>0.0</td>\n",
       "      <td>0.0</td>\n",
       "      <td>0.0</td>\n",
       "      <td>0.000000</td>\n",
       "    </tr>\n",
       "    <tr>\n",
       "      <th>50%</th>\n",
       "      <td>1794.000000</td>\n",
       "      <td>28.000000</td>\n",
       "      <td>2.000000</td>\n",
       "      <td>6.000000</td>\n",
       "      <td>2.000000</td>\n",
       "      <td>5.000000</td>\n",
       "      <td>151.000000</td>\n",
       "      <td>0.000000</td>\n",
       "      <td>0.000000</td>\n",
       "      <td>0.0</td>\n",
       "      <td>...</td>\n",
       "      <td>0.000000</td>\n",
       "      <td>0.0</td>\n",
       "      <td>0.000000</td>\n",
       "      <td>0.0</td>\n",
       "      <td>0.000000</td>\n",
       "      <td>0.0</td>\n",
       "      <td>0.0</td>\n",
       "      <td>0.0</td>\n",
       "      <td>0.0</td>\n",
       "      <td>0.000000</td>\n",
       "    </tr>\n",
       "    <tr>\n",
       "      <th>75%</th>\n",
       "      <td>1802.500000</td>\n",
       "      <td>31.500000</td>\n",
       "      <td>2.000000</td>\n",
       "      <td>6.000000</td>\n",
       "      <td>2.000000</td>\n",
       "      <td>5.500000</td>\n",
       "      <td>180.000000</td>\n",
       "      <td>0.000000</td>\n",
       "      <td>1.000000</td>\n",
       "      <td>0.0</td>\n",
       "      <td>...</td>\n",
       "      <td>0.000000</td>\n",
       "      <td>0.0</td>\n",
       "      <td>0.000000</td>\n",
       "      <td>0.0</td>\n",
       "      <td>0.000000</td>\n",
       "      <td>0.0</td>\n",
       "      <td>0.0</td>\n",
       "      <td>0.0</td>\n",
       "      <td>0.0</td>\n",
       "      <td>0.000000</td>\n",
       "    </tr>\n",
       "    <tr>\n",
       "      <th>max</th>\n",
       "      <td>1812.000000</td>\n",
       "      <td>38.000000</td>\n",
       "      <td>2.000000</td>\n",
       "      <td>8.000000</td>\n",
       "      <td>99.000000</td>\n",
       "      <td>99.000000</td>\n",
       "      <td>333.000000</td>\n",
       "      <td>1.000000</td>\n",
       "      <td>1.000000</td>\n",
       "      <td>0.0</td>\n",
       "      <td>...</td>\n",
       "      <td>1.000000</td>\n",
       "      <td>0.0</td>\n",
       "      <td>1.000000</td>\n",
       "      <td>0.0</td>\n",
       "      <td>1.000000</td>\n",
       "      <td>0.0</td>\n",
       "      <td>0.0</td>\n",
       "      <td>0.0</td>\n",
       "      <td>0.0</td>\n",
       "      <td>1.000000</td>\n",
       "    </tr>\n",
       "  </tbody>\n",
       "</table>\n",
       "<p>8 rows × 40 columns</p>\n",
       "</div>"
      ],
      "text/plain": [
       "          MasterID        age   dom_hand  education  ethnicity       race  \\\n",
       "count    35.000000  35.000000  35.000000  35.000000  35.000000  35.000000   \n",
       "mean   1793.914286  28.628571   1.828571   5.228571   7.428571  10.485714   \n",
       "std      10.511538   4.066258   0.382385   1.832480  22.874704  22.119158   \n",
       "min    1773.000000  19.000000   1.000000   1.000000   1.000000   3.000000   \n",
       "25%    1785.500000  26.000000   2.000000   4.500000   2.000000   5.000000   \n",
       "50%    1794.000000  28.000000   2.000000   6.000000   2.000000   5.000000   \n",
       "75%    1802.500000  31.500000   2.000000   6.000000   2.000000   5.500000   \n",
       "max    1812.000000  38.000000   2.000000   8.000000  99.000000  99.000000   \n",
       "\n",
       "       weight_before    thyroid     anemia  sickle_anemia  ...  anxiety_med  \\\n",
       "count      35.000000  35.000000  35.000000           35.0  ...    35.000000   \n",
       "mean      167.571429   0.028571   0.371429            0.0  ...     0.057143   \n",
       "std        49.157781   0.169031   0.490241            0.0  ...     0.235504   \n",
       "min       107.000000   0.000000   0.000000            0.0  ...     0.000000   \n",
       "25%       140.500000   0.000000   0.000000            0.0  ...     0.000000   \n",
       "50%       151.000000   0.000000   0.000000            0.0  ...     0.000000   \n",
       "75%       180.000000   0.000000   1.000000            0.0  ...     0.000000   \n",
       "max       333.000000   1.000000   1.000000            0.0  ...     1.000000   \n",
       "\n",
       "       mood_stab   gest_hyp  pre_eclampsia  gest_diabetes  uterine_restrict  \\\n",
       "count       35.0  35.000000           35.0      35.000000              35.0   \n",
       "mean         0.0   0.085714            0.0       0.085714               0.0   \n",
       "std          0.0   0.284029            0.0       0.284029               0.0   \n",
       "min          0.0   0.000000            0.0       0.000000               0.0   \n",
       "25%          0.0   0.000000            0.0       0.000000               0.0   \n",
       "50%          0.0   0.000000            0.0       0.000000               0.0   \n",
       "75%          0.0   0.000000            0.0       0.000000               0.0   \n",
       "max          0.0   1.000000            0.0       1.000000               0.0   \n",
       "\n",
       "       macrosomia  congenital  oligohydramnios  polyhydramnios  \n",
       "count        35.0        35.0             35.0       35.000000  \n",
       "mean          0.0         0.0              0.0        0.028571  \n",
       "std           0.0         0.0              0.0        0.169031  \n",
       "min           0.0         0.0              0.0        0.000000  \n",
       "25%           0.0         0.0              0.0        0.000000  \n",
       "50%           0.0         0.0              0.0        0.000000  \n",
       "75%           0.0         0.0              0.0        0.000000  \n",
       "max           0.0         0.0              0.0        1.000000  \n",
       "\n",
       "[8 rows x 40 columns]"
      ]
     },
     "metadata": {},
     "output_type": "display_data"
    },
    {
     "name": "stdout",
     "output_type": "stream",
     "text": [
      "Summary Statistics for categorical columns:\n"
     ]
    },
    {
     "data": {
      "text/html": [
       "<div>\n",
       "<style scoped>\n",
       "    .dataframe tbody tr th:only-of-type {\n",
       "        vertical-align: middle;\n",
       "    }\n",
       "\n",
       "    .dataframe tbody tr th {\n",
       "        vertical-align: top;\n",
       "    }\n",
       "\n",
       "    .dataframe thead th {\n",
       "        text-align: right;\n",
       "    }\n",
       "</style>\n",
       "<table border=\"1\" class=\"dataframe\">\n",
       "  <thead>\n",
       "    <tr style=\"text-align: right;\">\n",
       "      <th></th>\n",
       "      <th>current_weight</th>\n",
       "      <th>current_height</th>\n",
       "      <th>birth_order</th>\n",
       "      <th>psaavmA</th>\n",
       "      <th>psatotmA</th>\n",
       "      <th>cesdtotmA</th>\n",
       "      <th>cesdclinmA</th>\n",
       "      <th>cesdsevmA</th>\n",
       "      <th>DERSnamA</th>\n",
       "      <th>DERSgmA</th>\n",
       "      <th>DERSimpmA</th>\n",
       "      <th>DERSawmA</th>\n",
       "      <th>DERSstgmA</th>\n",
       "      <th>DERSclrmA</th>\n",
       "      <th>DERStotmA</th>\n",
       "    </tr>\n",
       "  </thead>\n",
       "  <tbody>\n",
       "    <tr>\n",
       "      <th>count</th>\n",
       "      <td>33</td>\n",
       "      <td>33</td>\n",
       "      <td>26</td>\n",
       "      <td>34</td>\n",
       "      <td>34</td>\n",
       "      <td>34</td>\n",
       "      <td>34</td>\n",
       "      <td>34</td>\n",
       "      <td>31</td>\n",
       "      <td>31</td>\n",
       "      <td>31</td>\n",
       "      <td>31</td>\n",
       "      <td>31</td>\n",
       "      <td>31</td>\n",
       "      <td>31</td>\n",
       "    </tr>\n",
       "    <tr>\n",
       "      <th>unique</th>\n",
       "      <td>27</td>\n",
       "      <td>13</td>\n",
       "      <td>5</td>\n",
       "      <td>16</td>\n",
       "      <td>16</td>\n",
       "      <td>20</td>\n",
       "      <td>2</td>\n",
       "      <td>3</td>\n",
       "      <td>17</td>\n",
       "      <td>14</td>\n",
       "      <td>13</td>\n",
       "      <td>14</td>\n",
       "      <td>14</td>\n",
       "      <td>11</td>\n",
       "      <td>27</td>\n",
       "    </tr>\n",
       "    <tr>\n",
       "      <th>top</th>\n",
       "      <td>181</td>\n",
       "      <td>65</td>\n",
       "      <td>2</td>\n",
       "      <td>1.5</td>\n",
       "      <td>15</td>\n",
       "      <td>14</td>\n",
       "      <td>0</td>\n",
       "      <td>1</td>\n",
       "      <td>12</td>\n",
       "      <td>14</td>\n",
       "      <td>10</td>\n",
       "      <td>12</td>\n",
       "      <td>10</td>\n",
       "      <td>8</td>\n",
       "      <td>74</td>\n",
       "    </tr>\n",
       "    <tr>\n",
       "      <th>freq</th>\n",
       "      <td>3</td>\n",
       "      <td>6</td>\n",
       "      <td>13</td>\n",
       "      <td>5</td>\n",
       "      <td>5</td>\n",
       "      <td>4</td>\n",
       "      <td>24</td>\n",
       "      <td>24</td>\n",
       "      <td>5</td>\n",
       "      <td>5</td>\n",
       "      <td>7</td>\n",
       "      <td>5</td>\n",
       "      <td>6</td>\n",
       "      <td>6</td>\n",
       "      <td>2</td>\n",
       "    </tr>\n",
       "  </tbody>\n",
       "</table>\n",
       "</div>"
      ],
      "text/plain": [
       "       current_weight current_height birth_order psaavmA psatotmA cesdtotmA  \\\n",
       "count              33             33          26      34       34        34   \n",
       "unique             27             13           5      16       16        20   \n",
       "top               181             65           2     1.5       15        14   \n",
       "freq                3              6          13       5        5         4   \n",
       "\n",
       "       cesdclinmA cesdsevmA DERSnamA DERSgmA DERSimpmA DERSawmA DERSstgmA  \\\n",
       "count          34        34       31      31        31       31        31   \n",
       "unique          2         3       17      14        13       14        14   \n",
       "top             0         1       12      14        10       12        10   \n",
       "freq           24        24        5       5         7        5         6   \n",
       "\n",
       "       DERSclrmA DERStotmA  \n",
       "count         31        31  \n",
       "unique        11        27  \n",
       "top            8        74  \n",
       "freq           6         2  "
      ]
     },
     "metadata": {},
     "output_type": "display_data"
    },
    {
     "name": "stdout",
     "output_type": "stream",
     "text": [
      "    \n",
      "Rows count = 35    \n",
      "Null count:    \n",
      "MasterID            0\n",
      "age                 0\n",
      "dom_hand            0\n",
      "education           0\n",
      "ethnicity           0\n",
      "race                0\n",
      "weight_before       0\n",
      "current_weight      2\n",
      "current_height      2\n",
      "birth_order         9\n",
      "thyroid             0\n",
      "anemia              0\n",
      "sickle_anemia       0\n",
      "thalassemia         0\n",
      "arthritis           0\n",
      "seizure             0\n",
      "murmur              0\n",
      "asthma              0\n",
      "pulmonary           0\n",
      "diabetes            0\n",
      "hypertension        0\n",
      "renal               0\n",
      "kidney_infect       0\n",
      "bladder_infect      0\n",
      "HIV                 0\n",
      "AIDS                0\n",
      "TB                  0\n",
      "abn_pap             0\n",
      "cancer              0\n",
      "psych_med           0\n",
      "antipsychotic       0\n",
      "stimulant           0\n",
      "antidepressant      0\n",
      "anxiety_med         0\n",
      "mood_stab           0\n",
      "gest_hyp            0\n",
      "pre_eclampsia       0\n",
      "gest_diabetes       0\n",
      "uterine_restrict    0\n",
      "macrosomia          0\n",
      "congenital          0\n",
      "oligohydramnios     0\n",
      "polyhydramnios      0\n",
      "psaavmA             1\n",
      "psatotmA            1\n",
      "cesdtotmA           1\n",
      "cesdclinmA          1\n",
      "cesdsevmA           1\n",
      "DERSnamA            4\n",
      "DERSgmA             4\n",
      "DERSimpmA           4\n",
      "DERSawmA            4\n",
      "DERSstgmA           4\n",
      "DERSclrmA           4\n",
      "DERStotmA           4\n",
      "dtype: int64    \n",
      "    \n",
      "Overall missing values in data: 46    \n",
      "\n",
      "Duplicated Rows: 0    \n",
      "\n",
      "Unique values count:    \n",
      "MasterID            35\n",
      "age                 15\n",
      "dom_hand             2\n",
      "education            7\n",
      "ethnicity            3\n",
      "race                 6\n",
      "weight_before       26\n",
      "current_weight      27\n",
      "current_height      13\n",
      "birth_order          5\n",
      "thyroid              2\n",
      "anemia               2\n",
      "sickle_anemia        1\n",
      "thalassemia          1\n",
      "arthritis            2\n",
      "seizure              2\n",
      "murmur               1\n",
      "asthma               2\n",
      "pulmonary            1\n",
      "diabetes             2\n",
      "hypertension         2\n",
      "renal                1\n",
      "kidney_infect        2\n",
      "bladder_infect       2\n",
      "HIV                  1\n",
      "AIDS                 1\n",
      "TB                   1\n",
      "abn_pap              3\n",
      "cancer               1\n",
      "psych_med            2\n",
      "antipsychotic        1\n",
      "stimulant            2\n",
      "antidepressant       2\n",
      "anxiety_med          2\n",
      "mood_stab            1\n",
      "gest_hyp             2\n",
      "pre_eclampsia        1\n",
      "gest_diabetes        2\n",
      "uterine_restrict     1\n",
      "macrosomia           1\n",
      "congenital           1\n",
      "oligohydramnios      1\n",
      "polyhydramnios       2\n",
      "psaavmA             16\n",
      "psatotmA            16\n",
      "cesdtotmA           20\n",
      "cesdclinmA           2\n",
      "cesdsevmA            3\n",
      "DERSnamA            17\n",
      "DERSgmA             14\n",
      "DERSimpmA           13\n",
      "DERSawmA            14\n",
      "DERSstgmA           14\n",
      "DERSclrmA           11\n",
      "DERStotmA           27\n",
      "dtype: int64    \n",
      "\n",
      "Data types in dataset:    \n",
      "int64     40\n",
      "object    15\n",
      "dtype: int64\n"
     ]
    }
   ],
   "source": [
    "basic_eda(df_can)"
   ]
  },
  {
   "cell_type": "markdown",
   "id": "06b102f3",
   "metadata": {},
   "source": [
    "We have some missing value we'll need to fill, and convert a few of the columns to numerical.\n",
    "\n",
    "We can also see there are some sparse columns which we can get rid of since they will be no use for our training."
   ]
  },
  {
   "cell_type": "markdown",
   "id": "d407d33f",
   "metadata": {},
   "source": [
    "#### Data Integrity:"
   ]
  },
  {
   "cell_type": "code",
   "execution_count": 7,
   "id": "54dece9d",
   "metadata": {
    "ExecuteTime": {
     "end_time": "2021-07-19T16:22:40.915345Z",
     "start_time": "2021-07-19T16:22:40.901570Z"
    },
    "hide_input": true
   },
   "outputs": [
    {
     "name": "stdout",
     "output_type": "stream",
     "text": [
      "Prior Diseases features' unique values:\n",
      "\n",
      "thyroid [0 1]\n",
      "anemia [0 1]\n",
      "sickle_anemia [0]\n",
      "thalassemia [0]\n",
      "arthritis [1 0]\n",
      "seizure [0 1]\n",
      "murmur [0]\n",
      "asthma [0 1]\n",
      "pulmonary [0]\n",
      "diabetes [0 1]\n",
      "hypertension [0 1]\n",
      "renal [0]\n",
      "kidney_infect [0 1]\n",
      "bladder_infect [0 1]\n",
      "HIV [0]\n",
      "AIDS [0]\n",
      "TB [0]\n",
      "abn_pap [ 0  1 99]\n",
      "cancer [0]\n",
      "psych_med [0 1]\n",
      "antipsychotic [0]\n",
      "stimulant [0 1]\n",
      "antidepressant [0 1]\n",
      "anxiety_med [0 1]\n",
      "mood_stab [0]\n",
      "gest_hyp [0 1]\n",
      "pre_eclampsia [0]\n",
      "gest_diabetes [0 1]\n",
      "uterine_restrict [0]\n",
      "macrosomia [0]\n",
      "congenital [0]\n",
      "oligohydramnios [0]\n",
      "polyhydramnios [0 1]\n"
     ]
    }
   ],
   "source": [
    "diseases_features = ['thyroid', 'anemia', 'sickle_anemia', 'thalassemia', 'arthritis', 'seizure', 'murmur', 'asthma', \n",
    "        'pulmonary', 'diabetes', 'hypertension', 'renal', 'kidney_infect', 'bladder_infect', 'HIV', 'AIDS', 'TB', 'abn_pap', \n",
    "        'cancer', 'psych_med', 'antipsychotic', 'stimulant', 'antidepressant', 'anxiety_med', 'mood_stab', \n",
    "       'gest_hyp', 'pre_eclampsia', 'gest_diabetes', 'uterine_restrict', 'macrosomia', 'congenital', 'oligohydramnios',\n",
    "       'polyhydramnios']\n",
    "\n",
    "print('Prior Diseases features\\' unique values:')\n",
    "print()\n",
    "for i in df_can[diseases_features]:\n",
    "    print(i, df_can[i].unique())"
   ]
  },
  {
   "cell_type": "markdown",
   "id": "ecc7d2ff",
   "metadata": {},
   "source": [
    "We can see we have a value of 99 (declined to answer) in `abn_pap` so we'll convert it to the column's mode."
   ]
  },
  {
   "cell_type": "code",
   "execution_count": 8,
   "id": "4503a88b",
   "metadata": {
    "ExecuteTime": {
     "end_time": "2021-07-19T16:22:40.930614Z",
     "start_time": "2021-07-19T16:22:40.916344Z"
    }
   },
   "outputs": [],
   "source": [
    "df_can.loc[df_can.abn_pap == 99, 'abn_pap'] = df_can.abn_pap.mode()"
   ]
  },
  {
   "cell_type": "code",
   "execution_count": 9,
   "id": "8adef796",
   "metadata": {
    "ExecuteTime": {
     "end_time": "2021-07-19T16:22:40.945955Z",
     "start_time": "2021-07-19T16:22:40.931626Z"
    }
   },
   "outputs": [
    {
     "data": {
      "text/plain": [
       "array([6, 7, 3, 8, 1, 5, 4], dtype=int64)"
      ]
     },
     "execution_count": 9,
     "metadata": {},
     "output_type": "execute_result"
    }
   ],
   "source": [
    "df_can['education'].unique()"
   ]
  },
  {
   "cell_type": "code",
   "execution_count": 10,
   "id": "82860218",
   "metadata": {
    "ExecuteTime": {
     "end_time": "2021-07-19T16:22:40.961514Z",
     "start_time": "2021-07-19T16:22:40.946961Z"
    }
   },
   "outputs": [
    {
     "data": {
      "text/plain": [
       "array([2, 1], dtype=int64)"
      ]
     },
     "execution_count": 10,
     "metadata": {},
     "output_type": "execute_result"
    }
   ],
   "source": [
    "df_can['dom_hand'].unique()"
   ]
  },
  {
   "cell_type": "code",
   "execution_count": 11,
   "id": "d7c0e85d",
   "metadata": {
    "ExecuteTime": {
     "end_time": "2021-07-19T16:22:40.977288Z",
     "start_time": "2021-07-19T16:22:40.962524Z"
    }
   },
   "outputs": [
    {
     "data": {
      "text/plain": [
       "True"
      ]
     },
     "execution_count": 11,
     "metadata": {},
     "output_type": "execute_result"
    }
   ],
   "source": [
    "df_can['birth_order'].all() > 0"
   ]
  },
  {
   "cell_type": "code",
   "execution_count": 12,
   "id": "b256ef88",
   "metadata": {
    "ExecuteTime": {
     "end_time": "2021-07-19T16:22:40.992716Z",
     "start_time": "2021-07-19T16:22:40.979296Z"
    }
   },
   "outputs": [
    {
     "data": {
      "text/plain": [
       "array(['0', '1', nan], dtype=object)"
      ]
     },
     "execution_count": 12,
     "metadata": {},
     "output_type": "execute_result"
    }
   ],
   "source": [
    "df_can['cesdclinmA'].unique()"
   ]
  },
  {
   "cell_type": "code",
   "execution_count": 13,
   "id": "ae81554d",
   "metadata": {
    "ExecuteTime": {
     "end_time": "2021-07-19T16:22:41.008316Z",
     "start_time": "2021-07-19T16:22:40.993715Z"
    }
   },
   "outputs": [
    {
     "data": {
      "text/plain": [
       "array(['1', '3', '2', nan], dtype=object)"
      ]
     },
     "execution_count": 13,
     "metadata": {},
     "output_type": "execute_result"
    }
   ],
   "source": [
    "df_can['cesdsevmA'].unique()"
   ]
  },
  {
   "cell_type": "markdown",
   "id": "42922121",
   "metadata": {},
   "source": [
    "We will fill the missing values in the next section"
   ]
  },
  {
   "cell_type": "code",
   "execution_count": 14,
   "id": "6e9c573b",
   "metadata": {
    "ExecuteTime": {
     "end_time": "2021-07-19T16:22:41.024352Z",
     "start_time": "2021-07-19T16:22:41.009416Z"
    }
   },
   "outputs": [
    {
     "data": {
      "text/plain": [
       "(0.0, 36.84210526)"
      ]
     },
     "execution_count": 14,
     "metadata": {},
     "output_type": "execute_result"
    }
   ],
   "source": [
    "df_can['cesdtotmA'].astype(float).min(), df_can['cesdtotmA'].astype(float).max()"
   ]
  },
  {
   "cell_type": "markdown",
   "id": "4382b2c1",
   "metadata": {},
   "source": [
    "Since we have a float value in the `cesdtotmA` columns which should contain only integers, we will check for all study ids\n",
    "if their `cesdtotmA` score matches the sum of appropriate columns. If they are not equal, we will fix them"
   ]
  },
  {
   "cell_type": "code",
   "execution_count": 15,
   "id": "eee3faf9",
   "metadata": {
    "ExecuteTime": {
     "end_time": "2021-07-19T16:22:41.055193Z",
     "start_time": "2021-07-19T16:22:41.025452Z"
    },
    "hide_input": false
   },
   "outputs": [
    {
     "name": "stdout",
     "output_type": "stream",
     "text": [
      "Study Id's which have unmatched score between cesdtotmA and the sum of scores:\n",
      "    study_id  cesdtotmA  sum_test\n",
      "28      1805  36.842105      36.0\n"
     ]
    }
   ],
   "source": [
    "# filtering only relevant ces-d columns\n",
    "df_cesd = df_can_all.loc[:, df_can_all.columns.str.startswith(\"ces\")]\n",
    "\n",
    "\n",
    "# replacing white space with np.nan and removing from this inspection \n",
    "# (subject will be dropped anyway as does not have any questionarries scores)\n",
    "df_cesd = df_cesd.replace(r'^\\s+$', np.nan, regex=True)\n",
    "df_cesd.dropna(inplace=True)\n",
    "\n",
    "\n",
    "# dropping columns with reversed scale and irrelevant targets\n",
    "unwanted_cols = ['cesd4ma', 'cesd8ma', 'cesd12ma', 'cesd16ma', 'cesdclinmA', 'cesdsevmA']\n",
    "df_cesd = df_cesd.drop(columns = unwanted_cols).astype(float)\n",
    "\n",
    "\n",
    "# replacing values of 99 with column's mode (mode function gave np.nan)\n",
    "df_cesd.loc[df_cesd['cesd20ma'] == 99, 'cesd20ma'] = df_cesd['cesd20ma'].value_counts()[:1].index[0]\n",
    "\n",
    "# manually calculating sum of scores \n",
    "df_cesd['sum_test'] = df_cesd.loc[:, df_cesd.columns != 'cesdtotmA'].sum(axis=1)\n",
    "df_cesd['study_id'] = df_can_all['MasterID']\n",
    "\n",
    "if not df_cesd['sum_test'].equals(df_cesd['cesdtotmA']):\n",
    "    print(\"Study Id's which have unmatched score between cesdtotmA and the sum of scores:\")\n",
    "    print(df_cesd[['study_id', 'cesdtotmA', 'sum_test']][df_cesd['cesdtotmA'] != df_cesd['sum_test']])\n",
    "else:\n",
    "    print('All scores match')\n",
    "    \n",
    "df_can['cesdtotmA'] = df_cesd['sum_test']"
   ]
  },
  {
   "cell_type": "markdown",
   "id": "0400fe02",
   "metadata": {},
   "source": [
    "#### Imputing missing values with Sklearn's SimpleImputer:"
   ]
  },
  {
   "cell_type": "markdown",
   "id": "888c2229",
   "metadata": {},
   "source": [
    "We can ignore the fact that we're imputing the targets as well, since we will not use the samples which have missing values in targets."
   ]
  },
  {
   "cell_type": "code",
   "execution_count": 16,
   "id": "f88d5ea9",
   "metadata": {
    "ExecuteTime": {
     "end_time": "2021-07-19T16:22:41.086067Z",
     "start_time": "2021-07-19T16:22:41.056205Z"
    }
   },
   "outputs": [
    {
     "data": {
      "text/html": [
       "<div>\n",
       "<style scoped>\n",
       "    .dataframe tbody tr th:only-of-type {\n",
       "        vertical-align: middle;\n",
       "    }\n",
       "\n",
       "    .dataframe tbody tr th {\n",
       "        vertical-align: top;\n",
       "    }\n",
       "\n",
       "    .dataframe thead th {\n",
       "        text-align: right;\n",
       "    }\n",
       "</style>\n",
       "<table border=\"1\" class=\"dataframe\">\n",
       "  <thead>\n",
       "    <tr style=\"text-align: right;\">\n",
       "      <th></th>\n",
       "      <th>MasterID</th>\n",
       "      <th>age</th>\n",
       "      <th>dom_hand</th>\n",
       "      <th>education</th>\n",
       "      <th>ethnicity</th>\n",
       "      <th>race</th>\n",
       "      <th>weight_before</th>\n",
       "      <th>current_weight</th>\n",
       "      <th>current_height</th>\n",
       "      <th>birth_order</th>\n",
       "      <th>...</th>\n",
       "      <th>cesdtotmA</th>\n",
       "      <th>cesdclinmA</th>\n",
       "      <th>cesdsevmA</th>\n",
       "      <th>DERSnamA</th>\n",
       "      <th>DERSgmA</th>\n",
       "      <th>DERSimpmA</th>\n",
       "      <th>DERSawmA</th>\n",
       "      <th>DERSstgmA</th>\n",
       "      <th>DERSclrmA</th>\n",
       "      <th>DERStotmA</th>\n",
       "    </tr>\n",
       "  </thead>\n",
       "  <tbody>\n",
       "    <tr>\n",
       "      <th>0</th>\n",
       "      <td>1773.0</td>\n",
       "      <td>27.0</td>\n",
       "      <td>2.0</td>\n",
       "      <td>6.0</td>\n",
       "      <td>2.0</td>\n",
       "      <td>5.0</td>\n",
       "      <td>150.0</td>\n",
       "      <td>181.0</td>\n",
       "      <td>64.0</td>\n",
       "      <td>2.0</td>\n",
       "      <td>...</td>\n",
       "      <td>7.0</td>\n",
       "      <td>0.0</td>\n",
       "      <td>1.0</td>\n",
       "      <td>10.0</td>\n",
       "      <td>8.0</td>\n",
       "      <td>6.0</td>\n",
       "      <td>12.0</td>\n",
       "      <td>10.0</td>\n",
       "      <td>8.0</td>\n",
       "      <td>54.0</td>\n",
       "    </tr>\n",
       "    <tr>\n",
       "      <th>1</th>\n",
       "      <td>1778.0</td>\n",
       "      <td>24.0</td>\n",
       "      <td>2.0</td>\n",
       "      <td>6.0</td>\n",
       "      <td>2.0</td>\n",
       "      <td>5.0</td>\n",
       "      <td>150.0</td>\n",
       "      <td>181.0</td>\n",
       "      <td>64.0</td>\n",
       "      <td>2.0</td>\n",
       "      <td>...</td>\n",
       "      <td>24.0</td>\n",
       "      <td>1.0</td>\n",
       "      <td>3.0</td>\n",
       "      <td>19.0</td>\n",
       "      <td>14.0</td>\n",
       "      <td>7.0</td>\n",
       "      <td>21.0</td>\n",
       "      <td>13.0</td>\n",
       "      <td>7.0</td>\n",
       "      <td>81.0</td>\n",
       "    </tr>\n",
       "    <tr>\n",
       "      <th>2</th>\n",
       "      <td>1779.0</td>\n",
       "      <td>34.0</td>\n",
       "      <td>1.0</td>\n",
       "      <td>7.0</td>\n",
       "      <td>2.0</td>\n",
       "      <td>5.0</td>\n",
       "      <td>145.0</td>\n",
       "      <td>172.0</td>\n",
       "      <td>68.0</td>\n",
       "      <td>2.0</td>\n",
       "      <td>...</td>\n",
       "      <td>14.0</td>\n",
       "      <td>0.0</td>\n",
       "      <td>1.0</td>\n",
       "      <td>17.0</td>\n",
       "      <td>14.0</td>\n",
       "      <td>10.0</td>\n",
       "      <td>14.0</td>\n",
       "      <td>22.0</td>\n",
       "      <td>11.0</td>\n",
       "      <td>88.0</td>\n",
       "    </tr>\n",
       "    <tr>\n",
       "      <th>3</th>\n",
       "      <td>1780.0</td>\n",
       "      <td>28.0</td>\n",
       "      <td>2.0</td>\n",
       "      <td>6.0</td>\n",
       "      <td>2.0</td>\n",
       "      <td>5.0</td>\n",
       "      <td>155.0</td>\n",
       "      <td>194.0</td>\n",
       "      <td>65.0</td>\n",
       "      <td>3.0</td>\n",
       "      <td>...</td>\n",
       "      <td>23.0</td>\n",
       "      <td>1.0</td>\n",
       "      <td>3.0</td>\n",
       "      <td>25.0</td>\n",
       "      <td>20.0</td>\n",
       "      <td>19.0</td>\n",
       "      <td>13.0</td>\n",
       "      <td>22.0</td>\n",
       "      <td>12.0</td>\n",
       "      <td>111.0</td>\n",
       "    </tr>\n",
       "    <tr>\n",
       "      <th>4</th>\n",
       "      <td>1781.0</td>\n",
       "      <td>27.0</td>\n",
       "      <td>2.0</td>\n",
       "      <td>3.0</td>\n",
       "      <td>2.0</td>\n",
       "      <td>6.0</td>\n",
       "      <td>300.0</td>\n",
       "      <td>360.0</td>\n",
       "      <td>65.0</td>\n",
       "      <td>2.0</td>\n",
       "      <td>...</td>\n",
       "      <td>10.0</td>\n",
       "      <td>0.0</td>\n",
       "      <td>1.0</td>\n",
       "      <td>8.0</td>\n",
       "      <td>10.0</td>\n",
       "      <td>7.0</td>\n",
       "      <td>6.0</td>\n",
       "      <td>10.0</td>\n",
       "      <td>5.0</td>\n",
       "      <td>46.0</td>\n",
       "    </tr>\n",
       "  </tbody>\n",
       "</table>\n",
       "<p>5 rows × 55 columns</p>\n",
       "</div>"
      ],
      "text/plain": [
       "   MasterID   age  dom_hand  education  ethnicity  race  weight_before  \\\n",
       "0    1773.0  27.0       2.0        6.0        2.0   5.0          150.0   \n",
       "1    1778.0  24.0       2.0        6.0        2.0   5.0          150.0   \n",
       "2    1779.0  34.0       1.0        7.0        2.0   5.0          145.0   \n",
       "3    1780.0  28.0       2.0        6.0        2.0   5.0          155.0   \n",
       "4    1781.0  27.0       2.0        3.0        2.0   6.0          300.0   \n",
       "\n",
       "   current_weight  current_height  birth_order  ...  cesdtotmA  cesdclinmA  \\\n",
       "0           181.0            64.0          2.0  ...        7.0         0.0   \n",
       "1           181.0            64.0          2.0  ...       24.0         1.0   \n",
       "2           172.0            68.0          2.0  ...       14.0         0.0   \n",
       "3           194.0            65.0          3.0  ...       23.0         1.0   \n",
       "4           360.0            65.0          2.0  ...       10.0         0.0   \n",
       "\n",
       "   cesdsevmA  DERSnamA  DERSgmA  DERSimpmA  DERSawmA  DERSstgmA  DERSclrmA  \\\n",
       "0        1.0      10.0      8.0        6.0      12.0       10.0        8.0   \n",
       "1        3.0      19.0     14.0        7.0      21.0       13.0        7.0   \n",
       "2        1.0      17.0     14.0       10.0      14.0       22.0       11.0   \n",
       "3        3.0      25.0     20.0       19.0      13.0       22.0       12.0   \n",
       "4        1.0       8.0     10.0        7.0       6.0       10.0        5.0   \n",
       "\n",
       "   DERStotmA  \n",
       "0       54.0  \n",
       "1       81.0  \n",
       "2       88.0  \n",
       "3      111.0  \n",
       "4       46.0  \n",
       "\n",
       "[5 rows x 55 columns]"
      ]
     },
     "execution_count": 16,
     "metadata": {},
     "output_type": "execute_result"
    }
   ],
   "source": [
    "imp_mean = SimpleImputer(missing_values=np.nan, strategy='most_frequent')\n",
    "\n",
    "imp_mean.fit(df_can)\n",
    "\n",
    "df_can = pd.DataFrame(imp_mean.transform(df_can), columns = df_can.columns).astype(float)\n",
    "\n",
    "df_can.head()"
   ]
  },
  {
   "cell_type": "code",
   "execution_count": 17,
   "id": "0bff5e07",
   "metadata": {
    "ExecuteTime": {
     "end_time": "2021-07-19T16:22:41.101513Z",
     "start_time": "2021-07-19T16:22:41.087059Z"
    }
   },
   "outputs": [],
   "source": [
    "assert df_can.dtypes.all() == 'float64'"
   ]
  },
  {
   "cell_type": "markdown",
   "id": "2ecaec90",
   "metadata": {},
   "source": [
    "#### Creating new features based on CAN's data -  `num_of_prior_diseases`, `body_BMI`:"
   ]
  },
  {
   "cell_type": "code",
   "execution_count": 18,
   "id": "45b9fcaf",
   "metadata": {
    "ExecuteTime": {
     "end_time": "2021-07-19T16:22:41.116989Z",
     "start_time": "2021-07-19T16:22:41.103841Z"
    }
   },
   "outputs": [],
   "source": [
    "FEET_TO_METER = 0.254\n",
    "LBS_TO_KG = 0.453592\n",
    "\n",
    "df_can['num_of_prior_diseases'] = df_can[diseases_features].sum(axis=1)\n",
    "\n",
    "df_can['body_BMI'] = df_can['current_weight']*LBS_TO_KG/(df_can['current_height']*FEET_TO_METER)**2*100"
   ]
  },
  {
   "cell_type": "markdown",
   "id": "946ba52e",
   "metadata": {},
   "source": [
    "### Features' distributions:"
   ]
  },
  {
   "cell_type": "markdown",
   "id": "10927094",
   "metadata": {},
   "source": [
    "#### Demographic features"
   ]
  },
  {
   "cell_type": "code",
   "execution_count": 19,
   "id": "1e4c675b",
   "metadata": {
    "ExecuteTime": {
     "end_time": "2021-07-19T16:22:41.132583Z",
     "start_time": "2021-07-19T16:22:41.117972Z"
    },
    "hide_input": true
   },
   "outputs": [],
   "source": [
    "hand_dict = {1 : 'Left', 2: 'Right'}\n",
    "\n",
    "ethnicity_dict = {1 : 'Hispanic/Latinx', 2: 'Not Hispanic/Latinx', 99 : 'Declined to answer'}\n",
    "\n",
    "\n",
    "education_dict = {1 : \"Less than HS diploma\", 2 : \"HS graduate or equivalent\",\n",
    "                  3: \"Some college, no degree\", 4 : \"Technical school\", \n",
    "                  5 : \"Associate's degree\", 6 : \"Bachelor's degree\", \n",
    "                  7 : \"Master's degree\", 8 : \"Doctoral degree\"}\n",
    "\n",
    "race_dict = {1 : \"American Indian/Alaska Native\", 2 : \" Asian\",\n",
    "                  3: \"Black/African American\", 4 : \"Native Hawaiian/Pacific Islander\", \n",
    "                  5 : \"White\", 6 : \"Prefer to self-report\", \n",
    "                  7 : \"more than one race\", 99 :\"decline to answer\"}\n",
    "\n",
    "df_can['dom_hand_tx'] = df_can['dom_hand'].map(lambda x: hand_dict[x])\n",
    "df_can['ethnicity_tx'] = df_can['ethnicity'].map(lambda x: ethnicity_dict[x])\n",
    "df_can['education_tx'] = df_can['education'].map(lambda x: education_dict[x])\n",
    "df_can['race_tx'] = df_can['race'].map(lambda x: race_dict[x])"
   ]
  },
  {
   "cell_type": "code",
   "execution_count": 20,
   "id": "c2b1cbe1",
   "metadata": {
    "ExecuteTime": {
     "end_time": "2021-07-19T16:22:41.511416Z",
     "start_time": "2021-07-19T16:22:41.133441Z"
    },
    "hide_input": true,
    "scrolled": false
   },
   "outputs": [
    {
     "data": {
      "image/png": "[encoded data removed]",
      "text/plain": [
       "<Figure size 504x360 with 1 Axes>"
      ]
     },
     "metadata": {
      "needs_background": "light"
     },
     "output_type": "display_data"
    },
    {
     "data": {
      "image/png": "[encoded data removed]",
      "text/plain": [
       "<Figure size 504x360 with 1 Axes>"
      ]
     },
     "metadata": {
      "needs_background": "light"
     },
     "output_type": "display_data"
    },
    {
     "data": {
      "image/png": "[encoded data removed]",
      "text/plain": [
       "<Figure size 1080x720 with 1 Axes>"
      ]
     },
     "metadata": {
      "needs_background": "light"
     },
     "output_type": "display_data"
    },
    {
     "data": {
      "image/png": "[encoded data removed]",
      "text/plain": [
       "<Figure size 1080x720 with 1 Axes>"
      ]
     },
     "metadata": {
      "needs_background": "light"
     },
     "output_type": "display_data"
    }
   ],
   "source": [
    "demographic_features = df_can.dtypes[df_can.dtypes == 'object'].index\n",
    "\n",
    "for feat in demographic_features:\n",
    "    if feat in ['dom_hand_tx', 'ethnicity_tx']:\n",
    "        f, ax = plt.subplots(figsize=(7,5))\n",
    "        sns.countplot(x = df_can[feat], data=df_can)\n",
    "        plt.title(f' {feat} distribution')\n",
    "    else:\n",
    "        f, ax = plt.subplots(figsize=(15,10))\n",
    "        sns.countplot(x = df_can[feat], data=df_can)\n",
    "        plt.title(f' {feat} distribution')"
   ]
  },
  {
   "cell_type": "markdown",
   "id": "b276de66",
   "metadata": {},
   "source": [
    "We can see above: \n",
    "- Most patients (about 85%) are right-handed.\n",
    "- About a half hold a bachelor's degree.\n",
    "- There are 4 hispanics and most of the patients are white."
   ]
  },
  {
   "cell_type": "markdown",
   "id": "00d8e962",
   "metadata": {},
   "source": [
    "#### Distributions of `age`, `birth_order`:"
   ]
  },
  {
   "cell_type": "code",
   "execution_count": 78,
   "id": "a26053b5",
   "metadata": {
    "ExecuteTime": {
     "end_time": "2021-07-21T11:40:54.667378Z",
     "start_time": "2021-07-21T11:40:54.409035Z"
    },
    "hide_input": false
   },
   "outputs": [
    {
     "data": {
      "image/png": "[encoded data removed]",
      "text/plain": [
       "<Figure size 360x360 with 1 Axes>"
      ]
     },
     "metadata": {
      "needs_background": "light"
     },
     "output_type": "display_data"
    },
    {
     "data": {
      "image/png": "[encoded data removed]",
      "text/plain": [
       "<Figure size 360x360 with 1 Axes>"
      ]
     },
     "metadata": {
      "needs_background": "light"
     },
     "output_type": "display_data"
    }
   ],
   "source": [
    "for feat in ['age', 'birth_order']:\n",
    "    sns.displot(x = df_can[feat], data=df_can)\n",
    "    plt.title(f' {feat} distribution');"
   ]
  },
  {
   "cell_type": "markdown",
   "id": "4bf60243",
   "metadata": {},
   "source": [
    "Most of the patients are in their second or third labor, though we have imputed this feature so its giving some bias here towards 2."
   ]
  },
  {
   "cell_type": "markdown",
   "id": "e2527c49",
   "metadata": {},
   "source": [
    "#### Dropping textual columns"
   ]
  },
  {
   "cell_type": "code",
   "execution_count": 22,
   "id": "b852492c",
   "metadata": {
    "ExecuteTime": {
     "end_time": "2021-07-19T16:22:41.794104Z",
     "start_time": "2021-07-19T16:22:41.779104Z"
    }
   },
   "outputs": [],
   "source": [
    "df_can.drop(columns = ['dom_hand_tx', 'ethnicity_tx', 'education_tx', 'race_tx'], inplace = True)"
   ]
  },
  {
   "cell_type": "markdown",
   "id": "3b7f3a9f",
   "metadata": {},
   "source": [
    "#### Prior disease features - checking for sparse columns"
   ]
  },
  {
   "cell_type": "code",
   "execution_count": 23,
   "id": "7f0736f7",
   "metadata": {
    "ExecuteTime": {
     "end_time": "2021-07-19T16:22:41.809830Z",
     "start_time": "2021-07-19T16:22:41.797105Z"
    }
   },
   "outputs": [
    {
     "data": {
      "text/plain": [
       "thyroid             0.028571\n",
       "anemia              0.240336\n",
       "sickle_anemia       0.000000\n",
       "thalassemia         0.000000\n",
       "arthritis           0.055462\n",
       "seizure             0.028571\n",
       "murmur              0.000000\n",
       "asthma              0.231933\n",
       "pulmonary           0.000000\n",
       "diabetes            0.028571\n",
       "hypertension        0.028571\n",
       "renal               0.000000\n",
       "kidney_infect       0.080672\n",
       "bladder_infect      0.104202\n",
       "HIV                 0.000000\n",
       "AIDS                0.000000\n",
       "TB                  0.000000\n",
       "abn_pap             0.080672\n",
       "cancer              0.000000\n",
       "psych_med           0.196639\n",
       "antipsychotic       0.000000\n",
       "stimulant           0.028571\n",
       "antidepressant      0.221849\n",
       "anxiety_med         0.055462\n",
       "mood_stab           0.000000\n",
       "gest_hyp            0.080672\n",
       "pre_eclampsia       0.000000\n",
       "gest_diabetes       0.080672\n",
       "uterine_restrict    0.000000\n",
       "macrosomia          0.000000\n",
       "congenital          0.000000\n",
       "oligohydramnios     0.000000\n",
       "polyhydramnios      0.028571\n",
       "dtype: float64"
      ]
     },
     "execution_count": 23,
     "metadata": {},
     "output_type": "execute_result"
    }
   ],
   "source": [
    "df_can[diseases_features].var()"
   ]
  },
  {
   "cell_type": "markdown",
   "id": "d138d9a0",
   "metadata": {},
   "source": [
    "#### And removing them:"
   ]
  },
  {
   "cell_type": "code",
   "execution_count": 24,
   "id": "6bf82ea3",
   "metadata": {
    "ExecuteTime": {
     "end_time": "2021-07-19T16:22:41.873925Z",
     "start_time": "2021-07-19T16:22:41.810809Z"
    }
   },
   "outputs": [
    {
     "name": "stdout",
     "output_type": "stream",
     "text": [
      "Shape before: (35, 57)\n",
      "Shape after: (35, 41)\n"
     ]
    }
   ],
   "source": [
    "from sklearn.feature_selection import VarianceThreshold\n",
    "\n",
    "VAR_THRESHOLD = 0.01\n",
    "\n",
    "print(f'Shape before: {df_can.shape}')\n",
    "\n",
    "selector = VarianceThreshold(VAR_THRESHOLD)\n",
    "\n",
    "df_can = pd.DataFrame(selector.fit_transform(df_can), columns = df_can.columns[selector.get_support(indices=True)])\n",
    "\n",
    "print(f'Shape after: {df_can.shape}')"
   ]
  },
  {
   "cell_type": "markdown",
   "id": "54f37365",
   "metadata": {},
   "source": [
    "#### Prior diseases feature distributions:"
   ]
  },
  {
   "cell_type": "code",
   "execution_count": 25,
   "id": "44823e52",
   "metadata": {
    "ExecuteTime": {
     "end_time": "2021-07-19T16:22:41.889940Z",
     "start_time": "2021-07-19T16:22:41.874909Z"
    },
    "hide_input": true
   },
   "outputs": [],
   "source": [
    "diseases_features.append('num_of_prior_diseases')"
   ]
  },
  {
   "cell_type": "code",
   "execution_count": 26,
   "id": "ab591ae4",
   "metadata": {
    "ExecuteTime": {
     "end_time": "2021-07-19T16:22:43.184429Z",
     "start_time": "2021-07-19T16:22:41.890846Z"
    },
    "hide_input": true,
    "scrolled": false
   },
   "outputs": [
    {
     "data": {
      "image/png": "[encoded data removed]",
      "text/plain": [
       "<Figure size 504x360 with 1 Axes>"
      ]
     },
     "metadata": {
      "needs_background": "light"
     },
     "output_type": "display_data"
    },
    {
     "data": {
      "image/png": "[encoded data removed]",
      "text/plain": [
       "<Figure size 504x360 with 1 Axes>"
      ]
     },
     "metadata": {
      "needs_background": "light"
     },
     "output_type": "display_data"
    },
    {
     "data": {
      "image/png": "[encoded data removed]",
      "text/plain": [
       "<Figure size 504x360 with 1 Axes>"
      ]
     },
     "metadata": {
      "needs_background": "light"
     },
     "output_type": "display_data"
    },
    {
     "data": {
      "image/png": "[encoded data removed]",
      "text/plain": [
       "<Figure size 504x360 with 1 Axes>"
      ]
     },
     "metadata": {
      "needs_background": "light"
     },
     "output_type": "display_data"
    },
    {
     "data": {
      "image/png": "[encoded data removed]",
      "text/plain": [
       "<Figure size 504x360 with 1 Axes>"
      ]
     },
     "metadata": {
      "needs_background": "light"
     },
     "output_type": "display_data"
    },
    {
     "data": {
      "image/png": "[encoded data removed]",
      "text/plain": [
       "<Figure size 504x360 with 1 Axes>"
      ]
     },
     "metadata": {
      "needs_background": "light"
     },
     "output_type": "display_data"
    },
    {
     "data": {
      "image/png": "[encoded data removed]",
      "text/plain": [
       "<Figure size 504x360 with 1 Axes>"
      ]
     },
     "metadata": {
      "needs_background": "light"
     },
     "output_type": "display_data"
    },
    {
     "data": {
      "image/png": "[encoded data removed]",
      "text/plain": [
       "<Figure size 504x360 with 1 Axes>"
      ]
     },
     "metadata": {
      "needs_background": "light"
     },
     "output_type": "display_data"
    },
    {
     "data": {
      "image/png": "[encoded data removed]",
      "text/plain": [
       "<Figure size 504x360 with 1 Axes>"
      ]
     },
     "metadata": {
      "needs_background": "light"
     },
     "output_type": "display_data"
    },
    {
     "data": {
      "image/png": "[encoded data removed]",
      "text/plain": [
       "<Figure size 504x360 with 1 Axes>"
      ]
     },
     "metadata": {
      "needs_background": "light"
     },
     "output_type": "display_data"
    },
    {
     "data": {
      "image/png": "[encoded data removed]",
      "text/plain": [
       "<Figure size 504x360 with 1 Axes>"
      ]
     },
     "metadata": {
      "needs_background": "light"
     },
     "output_type": "display_data"
    },
    {
     "data": {
      "image/png": "[encoded data removed]",
      "text/plain": [
       "<Figure size 504x360 with 1 Axes>"
      ]
     },
     "metadata": {
      "needs_background": "light"
     },
     "output_type": "display_data"
    },
    {
     "data": {
      "image/png": "[encoded data removed]",
      "text/plain": [
       "<Figure size 504x360 with 1 Axes>"
      ]
     },
     "metadata": {
      "needs_background": "light"
     },
     "output_type": "display_data"
    },
    {
     "data": {
      "image/png": "[encoded data removed]",
      "text/plain": [
       "<Figure size 504x360 with 1 Axes>"
      ]
     },
     "metadata": {
      "needs_background": "light"
     },
     "output_type": "display_data"
    },
    {
     "data": {
      "image/png": "[encoded data removed]",
      "text/plain": [
       "<Figure size 504x360 with 1 Axes>"
      ]
     },
     "metadata": {
      "needs_background": "light"
     },
     "output_type": "display_data"
    },
    {
     "data": {
      "image/png": "[encoded data removed]",
      "text/plain": [
       "<Figure size 504x360 with 1 Axes>"
      ]
     },
     "metadata": {
      "needs_background": "light"
     },
     "output_type": "display_data"
    },
    {
     "data": {
      "image/png": "[encoded data removed]",
      "text/plain": [
       "<Figure size 504x360 with 1 Axes>"
      ]
     },
     "metadata": {
      "needs_background": "light"
     },
     "output_type": "display_data"
    },
    {
     "data": {
      "image/png": "[encoded data removed]",
      "text/plain": [
       "<Figure size 504x360 with 1 Axes>"
      ]
     },
     "metadata": {
      "needs_background": "light"
     },
     "output_type": "display_data"
    }
   ],
   "source": [
    "for dis_feat in diseases_features:\n",
    "    if dis_feat in df_can.columns:\n",
    "        f, ax = plt.subplots(figsize=(7,5))\n",
    "        sns.countplot(x = df_can[dis_feat], data=df_can)\n",
    "        plt.title(f' {dis_feat} distribution')"
   ]
  },
  {
   "cell_type": "markdown",
   "id": "90b50c0e",
   "metadata": {},
   "source": [
    "By observing the distriubtions of the prior diseases, we can see that most of them have distributions with very low cardinality. However there are a few diseases that a considerable amount of women have, like asthma, anemia and antidepressant (about 33%), and psych_med (about 25%). Also a few of them have bladder or kidney infect, gest_diabetes, abn_pap and/or gest_hyp"
   ]
  },
  {
   "cell_type": "markdown",
   "id": "727d16cc",
   "metadata": {},
   "source": [
    "#### PSA Targets:"
   ]
  },
  {
   "cell_type": "code",
   "execution_count": 27,
   "id": "a69437a4",
   "metadata": {
    "ExecuteTime": {
     "end_time": "2021-07-19T16:22:43.187837Z",
     "start_time": "2021-07-19T16:22:43.185341Z"
    },
    "hide_input": true
   },
   "outputs": [],
   "source": [
    "psa_targets = ['psaavmA', 'psatotmA']"
   ]
  },
  {
   "cell_type": "code",
   "execution_count": 28,
   "id": "ca47ad24",
   "metadata": {
    "ExecuteTime": {
     "end_time": "2021-07-19T16:22:43.451333Z",
     "start_time": "2021-07-19T16:22:43.188839Z"
    },
    "hide_input": true
   },
   "outputs": [
    {
     "name": "stdout",
     "output_type": "stream",
     "text": [
      "psaavmA = Depression average score of all items\n",
      "psatotmA = Depression sum score of all items\n"
     ]
    },
    {
     "data": {
      "image/png": "[encoded data removed]",
      "text/plain": [
       "<Figure size 360x360 with 1 Axes>"
      ]
     },
     "metadata": {
      "needs_background": "light"
     },
     "output_type": "display_data"
    },
    {
     "data": {
      "image/png": "[encoded data removed]",
      "text/plain": [
       "<Figure size 360x360 with 1 Axes>"
      ]
     },
     "metadata": {
      "needs_background": "light"
     },
     "output_type": "display_data"
    }
   ],
   "source": [
    "print(\"psaavmA = Depression average score of all items\")\n",
    "print(\"psatotmA = Depression sum score of all items\")\n",
    "\n",
    "for psa in psa_targets:\n",
    "    sns.displot(x = df_can[psa], data=df_can, bins=20)\n",
    "    plt.title(f' {psa} distribution');"
   ]
  },
  {
   "cell_type": "markdown",
   "id": "78799f8e",
   "metadata": {},
   "source": [
    "In the psaavmA distribution the mean is about 1.9, and there are a few women with very high depression scores (over 3).\n",
    "\n",
    "The psatotmA distribtion shows us exactly the same pattern just on a different scale."
   ]
  },
  {
   "cell_type": "code",
   "execution_count": 29,
   "id": "6a955dbe",
   "metadata": {
    "ExecuteTime": {
     "end_time": "2021-07-19T16:22:43.457333Z",
     "start_time": "2021-07-19T16:22:43.453560Z"
    },
    "hide_input": true
   },
   "outputs": [
    {
     "name": "stdout",
     "output_type": "stream",
     "text": [
      "Average score per psa question (psaavmA) = 1.88\n"
     ]
    }
   ],
   "source": [
    "print(f'Average score per psa question (psaavmA) = {round(df_can.psaavmA.mean(),2)}')"
   ]
  },
  {
   "cell_type": "markdown",
   "id": "35a1f313",
   "metadata": {},
   "source": [
    "#### CES-D Targets:"
   ]
  },
  {
   "cell_type": "code",
   "execution_count": 30,
   "id": "9d555ef1",
   "metadata": {
    "ExecuteTime": {
     "end_time": "2021-07-19T16:22:43.469386Z",
     "start_time": "2021-07-19T16:22:43.458332Z"
    },
    "hide_input": true
   },
   "outputs": [],
   "source": [
    "cesd_targets = ['cesdtotmA', 'cesdclinmA', 'cesdsevmA']"
   ]
  },
  {
   "cell_type": "code",
   "execution_count": 31,
   "id": "7c20177d",
   "metadata": {
    "ExecuteTime": {
     "end_time": "2021-07-19T16:22:43.777337Z",
     "start_time": "2021-07-19T16:22:43.471332Z"
    },
    "hide_input": true
   },
   "outputs": [
    {
     "name": "stdout",
     "output_type": "stream",
     "text": [
      "cesdtotmA = Sum of all items\n",
      "cesdclinmA = Whether the participant meets the clinical cutoff to diagnose with depression\n",
      "cesdsevmA = Severity score\n"
     ]
    },
    {
     "data": {
      "image/png": "[encoded data removed]",
      "text/plain": [
       "<Figure size 360x360 with 1 Axes>"
      ]
     },
     "metadata": {
      "needs_background": "light"
     },
     "output_type": "display_data"
    },
    {
     "data": {
      "image/png": "[encoded data removed]",
      "text/plain": [
       "<Figure size 504x360 with 1 Axes>"
      ]
     },
     "metadata": {
      "needs_background": "light"
     },
     "output_type": "display_data"
    },
    {
     "data": {
      "image/png": "[encoded data removed]",
      "text/plain": [
       "<Figure size 504x360 with 1 Axes>"
      ]
     },
     "metadata": {
      "needs_background": "light"
     },
     "output_type": "display_data"
    }
   ],
   "source": [
    "print(\"cesdtotmA = Sum of all items\")\n",
    "print(\"cesdclinmA = Whether the participant meets the clinical cutoff to diagnose with depression\")\n",
    "print(\"cesdsevmA = Severity score\")\n",
    "\n",
    "for cesd in cesd_targets:\n",
    "    if cesd == 'cesdtotmA':\n",
    "        sns.displot(x = df_can[cesd], data=df_can, bins=20)\n",
    "        plt.title(f' {cesd} distribution')\n",
    "    else:\n",
    "        f, ax = plt.subplots(figsize=(7,5))\n",
    "        sns.countplot(x = df_can[cesd], data=df_can)\n",
    "        plt.title(f' {cesd} distribution');"
   ]
  },
  {
   "cell_type": "markdown",
   "id": "75641f8d",
   "metadata": {},
   "source": [
    "* Almost 30% of the women meets the clinical cutoff to be diagnosed with depression\n",
    "\n",
    "* about 25% have severe symptoms and about 70% have no/mild symptoms."
   ]
  },
  {
   "cell_type": "markdown",
   "id": "37cc3ed4",
   "metadata": {},
   "source": [
    "#### DERS Targets"
   ]
  },
  {
   "cell_type": "code",
   "execution_count": 32,
   "id": "10facef7",
   "metadata": {
    "ExecuteTime": {
     "end_time": "2021-07-19T16:22:43.780830Z",
     "start_time": "2021-07-19T16:22:43.778330Z"
    },
    "hide_input": true
   },
   "outputs": [],
   "source": [
    "ders_targets = ['DERSnamA', 'DERSgmA', 'DERSimpmA', 'DERSawmA', 'DERSstgmA', 'DERSclrmA', 'DERStotmA']"
   ]
  },
  {
   "cell_type": "code",
   "execution_count": 33,
   "id": "12891335",
   "metadata": {
    "ExecuteTime": {
     "end_time": "2021-07-19T16:22:44.844818Z",
     "start_time": "2021-07-19T16:22:43.781827Z"
    },
    "hide_input": true,
    "scrolled": false
   },
   "outputs": [
    {
     "name": "stdout",
     "output_type": "stream",
     "text": [
      "DERSnamA = Nonacceptace of emotional responses sum\n",
      "DERSgmA = Difficulty engaging in goal-directed behavior\n",
      "DERSimpmA = Impulse control difficulties\n",
      "DERSawmA = Lack of emotional awareness\n",
      "DERSstgmA = Limited access to emotion regulation strategies\n",
      "DERSclrmA = Lack of emotional clarity\n",
      "DERStotmA = Sum of all items\n"
     ]
    },
    {
     "data": {
      "image/png": "[encoded data removed]",
      "text/plain": [
       "<Figure size 360x360 with 1 Axes>"
      ]
     },
     "metadata": {
      "needs_background": "light"
     },
     "output_type": "display_data"
    },
    {
     "data": {
      "image/png": "[encoded data removed]",
      "text/plain": [
       "<Figure size 360x360 with 1 Axes>"
      ]
     },
     "metadata": {
      "needs_background": "light"
     },
     "output_type": "display_data"
    },
    {
     "data": {
      "image/png": "[encoded data removed]",
      "text/plain": [
       "<Figure size 360x360 with 1 Axes>"
      ]
     },
     "metadata": {
      "needs_background": "light"
     },
     "output_type": "display_data"
    },
    {
     "data": {
      "image/png": "[encoded data removed]",
      "text/plain": [
       "<Figure size 360x360 with 1 Axes>"
      ]
     },
     "metadata": {
      "needs_background": "light"
     },
     "output_type": "display_data"
    },
    {
     "data": {
      "image/png": "[encoded data removed]",
      "text/plain": [
       "<Figure size 360x360 with 1 Axes>"
      ]
     },
     "metadata": {
      "needs_background": "light"
     },
     "output_type": "display_data"
    },
    {
     "data": {
      "image/png": "[encoded data removed]",
      "text/plain": [
       "<Figure size 360x360 with 1 Axes>"
      ]
     },
     "metadata": {
      "needs_background": "light"
     },
     "output_type": "display_data"
    },
    {
     "data": {
      "image/png": "[encoded data removed]",
      "text/plain": [
       "<Figure size 360x360 with 1 Axes>"
      ]
     },
     "metadata": {
      "needs_background": "light"
     },
     "output_type": "display_data"
    }
   ],
   "source": [
    "print(\"DERSnamA = Nonacceptace of emotional responses sum\")\n",
    "print(\"DERSgmA = Difficulty engaging in goal-directed behavior\")\n",
    "print(\"DERSimpmA = Impulse control difficulties\")\n",
    "print(\"DERSawmA = Lack of emotional awareness\")\n",
    "print(\"DERSstgmA = Limited access to emotion regulation strategies\")\n",
    "print(\"DERSclrmA = Lack of emotional clarity\")\n",
    "print(\"DERStotmA = Sum of all items\")\n",
    "\n",
    "for ders in ders_targets:\n",
    "    sns.displot(x = df_can[ders], data=df_can, bins=20)\n",
    "    plt.title(f' {ders} distribution');"
   ]
  },
  {
   "cell_type": "code",
   "execution_count": 34,
   "id": "7a849b10",
   "metadata": {
    "ExecuteTime": {
     "end_time": "2021-07-19T16:22:44.863353Z",
     "start_time": "2021-07-19T16:22:44.845819Z"
    }
   },
   "outputs": [
    {
     "data": {
      "text/html": [
       "<div>\n",
       "<style scoped>\n",
       "    .dataframe tbody tr th:only-of-type {\n",
       "        vertical-align: middle;\n",
       "    }\n",
       "\n",
       "    .dataframe tbody tr th {\n",
       "        vertical-align: top;\n",
       "    }\n",
       "\n",
       "    .dataframe thead th {\n",
       "        text-align: right;\n",
       "    }\n",
       "</style>\n",
       "<table border=\"1\" class=\"dataframe\">\n",
       "  <thead>\n",
       "    <tr style=\"text-align: right;\">\n",
       "      <th></th>\n",
       "      <th>MasterID</th>\n",
       "      <th>age</th>\n",
       "      <th>dom_hand</th>\n",
       "      <th>education</th>\n",
       "      <th>ethnicity</th>\n",
       "      <th>race</th>\n",
       "      <th>weight_before</th>\n",
       "      <th>current_weight</th>\n",
       "      <th>current_height</th>\n",
       "      <th>birth_order</th>\n",
       "      <th>...</th>\n",
       "      <th>cesdsevmA</th>\n",
       "      <th>DERSnamA</th>\n",
       "      <th>DERSgmA</th>\n",
       "      <th>DERSimpmA</th>\n",
       "      <th>DERSawmA</th>\n",
       "      <th>DERSstgmA</th>\n",
       "      <th>DERSclrmA</th>\n",
       "      <th>DERStotmA</th>\n",
       "      <th>num_of_prior_diseases</th>\n",
       "      <th>body_BMI</th>\n",
       "    </tr>\n",
       "  </thead>\n",
       "  <tbody>\n",
       "    <tr>\n",
       "      <th>0</th>\n",
       "      <td>1773.0</td>\n",
       "      <td>27.0</td>\n",
       "      <td>2.0</td>\n",
       "      <td>6.0</td>\n",
       "      <td>2.0</td>\n",
       "      <td>5.0</td>\n",
       "      <td>150.0</td>\n",
       "      <td>181.0</td>\n",
       "      <td>64.0</td>\n",
       "      <td>2.0</td>\n",
       "      <td>...</td>\n",
       "      <td>1.0</td>\n",
       "      <td>10.0</td>\n",
       "      <td>8.0</td>\n",
       "      <td>6.0</td>\n",
       "      <td>12.0</td>\n",
       "      <td>10.0</td>\n",
       "      <td>8.0</td>\n",
       "      <td>54.0</td>\n",
       "      <td>1.0</td>\n",
       "      <td>31.068235</td>\n",
       "    </tr>\n",
       "    <tr>\n",
       "      <th>1</th>\n",
       "      <td>1778.0</td>\n",
       "      <td>24.0</td>\n",
       "      <td>2.0</td>\n",
       "      <td>6.0</td>\n",
       "      <td>2.0</td>\n",
       "      <td>5.0</td>\n",
       "      <td>150.0</td>\n",
       "      <td>181.0</td>\n",
       "      <td>64.0</td>\n",
       "      <td>2.0</td>\n",
       "      <td>...</td>\n",
       "      <td>3.0</td>\n",
       "      <td>19.0</td>\n",
       "      <td>14.0</td>\n",
       "      <td>7.0</td>\n",
       "      <td>21.0</td>\n",
       "      <td>13.0</td>\n",
       "      <td>7.0</td>\n",
       "      <td>81.0</td>\n",
       "      <td>1.0</td>\n",
       "      <td>31.068235</td>\n",
       "    </tr>\n",
       "    <tr>\n",
       "      <th>2</th>\n",
       "      <td>1779.0</td>\n",
       "      <td>34.0</td>\n",
       "      <td>1.0</td>\n",
       "      <td>7.0</td>\n",
       "      <td>2.0</td>\n",
       "      <td>5.0</td>\n",
       "      <td>145.0</td>\n",
       "      <td>172.0</td>\n",
       "      <td>68.0</td>\n",
       "      <td>2.0</td>\n",
       "      <td>...</td>\n",
       "      <td>1.0</td>\n",
       "      <td>17.0</td>\n",
       "      <td>14.0</td>\n",
       "      <td>10.0</td>\n",
       "      <td>14.0</td>\n",
       "      <td>22.0</td>\n",
       "      <td>11.0</td>\n",
       "      <td>88.0</td>\n",
       "      <td>4.0</td>\n",
       "      <td>26.152221</td>\n",
       "    </tr>\n",
       "    <tr>\n",
       "      <th>3</th>\n",
       "      <td>1780.0</td>\n",
       "      <td>28.0</td>\n",
       "      <td>2.0</td>\n",
       "      <td>6.0</td>\n",
       "      <td>2.0</td>\n",
       "      <td>5.0</td>\n",
       "      <td>155.0</td>\n",
       "      <td>194.0</td>\n",
       "      <td>65.0</td>\n",
       "      <td>3.0</td>\n",
       "      <td>...</td>\n",
       "      <td>3.0</td>\n",
       "      <td>25.0</td>\n",
       "      <td>20.0</td>\n",
       "      <td>19.0</td>\n",
       "      <td>13.0</td>\n",
       "      <td>22.0</td>\n",
       "      <td>12.0</td>\n",
       "      <td>111.0</td>\n",
       "      <td>2.0</td>\n",
       "      <td>32.282932</td>\n",
       "    </tr>\n",
       "    <tr>\n",
       "      <th>4</th>\n",
       "      <td>1781.0</td>\n",
       "      <td>27.0</td>\n",
       "      <td>2.0</td>\n",
       "      <td>3.0</td>\n",
       "      <td>2.0</td>\n",
       "      <td>6.0</td>\n",
       "      <td>300.0</td>\n",
       "      <td>360.0</td>\n",
       "      <td>65.0</td>\n",
       "      <td>2.0</td>\n",
       "      <td>...</td>\n",
       "      <td>1.0</td>\n",
       "      <td>8.0</td>\n",
       "      <td>10.0</td>\n",
       "      <td>7.0</td>\n",
       "      <td>6.0</td>\n",
       "      <td>10.0</td>\n",
       "      <td>5.0</td>\n",
       "      <td>46.0</td>\n",
       "      <td>2.0</td>\n",
       "      <td>59.906472</td>\n",
       "    </tr>\n",
       "  </tbody>\n",
       "</table>\n",
       "<p>5 rows × 41 columns</p>\n",
       "</div>"
      ],
      "text/plain": [
       "   MasterID   age  dom_hand  education  ethnicity  race  weight_before  \\\n",
       "0    1773.0  27.0       2.0        6.0        2.0   5.0          150.0   \n",
       "1    1778.0  24.0       2.0        6.0        2.0   5.0          150.0   \n",
       "2    1779.0  34.0       1.0        7.0        2.0   5.0          145.0   \n",
       "3    1780.0  28.0       2.0        6.0        2.0   5.0          155.0   \n",
       "4    1781.0  27.0       2.0        3.0        2.0   6.0          300.0   \n",
       "\n",
       "   current_weight  current_height  birth_order  ...  cesdsevmA  DERSnamA  \\\n",
       "0           181.0            64.0          2.0  ...        1.0      10.0   \n",
       "1           181.0            64.0          2.0  ...        3.0      19.0   \n",
       "2           172.0            68.0          2.0  ...        1.0      17.0   \n",
       "3           194.0            65.0          3.0  ...        3.0      25.0   \n",
       "4           360.0            65.0          2.0  ...        1.0       8.0   \n",
       "\n",
       "   DERSgmA  DERSimpmA  DERSawmA  DERSstgmA  DERSclrmA  DERStotmA  \\\n",
       "0      8.0        6.0      12.0       10.0        8.0       54.0   \n",
       "1     14.0        7.0      21.0       13.0        7.0       81.0   \n",
       "2     14.0       10.0      14.0       22.0       11.0       88.0   \n",
       "3     20.0       19.0      13.0       22.0       12.0      111.0   \n",
       "4     10.0        7.0       6.0       10.0        5.0       46.0   \n",
       "\n",
       "   num_of_prior_diseases   body_BMI  \n",
       "0                    1.0  31.068235  \n",
       "1                    1.0  31.068235  \n",
       "2                    4.0  26.152221  \n",
       "3                    2.0  32.282932  \n",
       "4                    2.0  59.906472  \n",
       "\n",
       "[5 rows x 41 columns]"
      ]
     },
     "execution_count": 34,
     "metadata": {},
     "output_type": "execute_result"
    }
   ],
   "source": [
    "df_can.head()"
   ]
  },
  {
   "cell_type": "markdown",
   "id": "456ddd93",
   "metadata": {},
   "source": [
    "# Combining the datasets:"
   ]
  },
  {
   "cell_type": "code",
   "execution_count": 35,
   "id": "fa8a39c6",
   "metadata": {
    "ExecuteTime": {
     "end_time": "2021-07-19T16:22:44.875316Z",
     "start_time": "2021-07-19T16:22:44.864317Z"
    }
   },
   "outputs": [],
   "source": [
    "df = df_sessions.merge(df_can, left_on='study_id', right_on='MasterID')"
   ]
  },
  {
   "cell_type": "markdown",
   "id": "b31c9d8a",
   "metadata": {},
   "source": [
    "#### Basic information on our sessions data:"
   ]
  },
  {
   "cell_type": "code",
   "execution_count": 36,
   "id": "7eba58c1",
   "metadata": {
    "ExecuteTime": {
     "end_time": "2021-07-19T16:22:45.087313Z",
     "start_time": "2021-07-19T16:22:44.876316Z"
    }
   },
   "outputs": [
    {
     "name": "stdout",
     "output_type": "stream",
     "text": [
      "Quick preview for our data:\n"
     ]
    },
    {
     "data": {
      "text/html": [
       "<div>\n",
       "<style scoped>\n",
       "    .dataframe tbody tr th:only-of-type {\n",
       "        vertical-align: middle;\n",
       "    }\n",
       "\n",
       "    .dataframe tbody tr th {\n",
       "        vertical-align: top;\n",
       "    }\n",
       "\n",
       "    .dataframe thead th {\n",
       "        text-align: right;\n",
       "    }\n",
       "</style>\n",
       "<table border=\"1\" class=\"dataframe\">\n",
       "  <thead>\n",
       "    <tr style=\"text-align: right;\">\n",
       "      <th></th>\n",
       "      <th>study_id</th>\n",
       "      <th>session_id</th>\n",
       "      <th>subject_id</th>\n",
       "      <th>body_meas_height</th>\n",
       "      <th>body_meas_prior_pregnancy_weight</th>\n",
       "      <th>body_meas_bmi</th>\n",
       "      <th>mon_sess_time_zone_diff</th>\n",
       "      <th>mon_sess_date</th>\n",
       "      <th>mon_sess_start_time</th>\n",
       "      <th>mon_sess_duration</th>\n",
       "      <th>...</th>\n",
       "      <th>m_VLF_FINE</th>\n",
       "      <th>m_hf_peak_freq</th>\n",
       "      <th>m_hr_avg</th>\n",
       "      <th>m_hr_detection_rate</th>\n",
       "      <th>m_lf_peak_freq</th>\n",
       "      <th>m_mf_peak_freq</th>\n",
       "      <th>m_pRR5</th>\n",
       "      <th>m_pRR50</th>\n",
       "      <th>m_porousness</th>\n",
       "      <th>m_vlf_peak_freq</th>\n",
       "    </tr>\n",
       "  </thead>\n",
       "  <tbody>\n",
       "    <tr>\n",
       "      <th>0</th>\n",
       "      <td>1773.0</td>\n",
       "      <td>2dfb3a16-7ea3-4875-a9bf-3d36217684b4</td>\n",
       "      <td>7162c259-764e-4ec9-94cd-bcb41625a63e</td>\n",
       "      <td>165.1</td>\n",
       "      <td>68.0272</td>\n",
       "      <td>25.0</td>\n",
       "      <td>-600</td>\n",
       "      <td>10/20/2020</td>\n",
       "      <td>17:04:02</td>\n",
       "      <td>0:20:00</td>\n",
       "      <td>...</td>\n",
       "      <td>2.112098e+07</td>\n",
       "      <td>0.517132</td>\n",
       "      <td>74.615242</td>\n",
       "      <td>0.982937</td>\n",
       "      <td>0.052854</td>\n",
       "      <td>0.152757</td>\n",
       "      <td>89.206762</td>\n",
       "      <td>25.747724</td>\n",
       "      <td>0.000191</td>\n",
       "      <td>0.000200</td>\n",
       "    </tr>\n",
       "    <tr>\n",
       "      <th>1</th>\n",
       "      <td>1773.0</td>\n",
       "      <td>3cd2b1f6-76e9-4e32-ac74-24683310f313</td>\n",
       "      <td>7162c259-764e-4ec9-94cd-bcb41625a63e</td>\n",
       "      <td>165.1</td>\n",
       "      <td>68.0272</td>\n",
       "      <td>25.0</td>\n",
       "      <td>-600</td>\n",
       "      <td>10/20/2020</td>\n",
       "      <td>16:29:14</td>\n",
       "      <td>0:14:32</td>\n",
       "      <td>...</td>\n",
       "      <td>2.058526e+07</td>\n",
       "      <td>0.517154</td>\n",
       "      <td>75.942601</td>\n",
       "      <td>0.926944</td>\n",
       "      <td>0.032266</td>\n",
       "      <td>0.156550</td>\n",
       "      <td>85.944919</td>\n",
       "      <td>17.758784</td>\n",
       "      <td>0.000322</td>\n",
       "      <td>0.000598</td>\n",
       "    </tr>\n",
       "    <tr>\n",
       "      <th>2</th>\n",
       "      <td>1773.0</td>\n",
       "      <td>0ceb8624-979a-47d3-862e-7371b80968ad</td>\n",
       "      <td>7162c259-764e-4ec9-94cd-bcb41625a63e</td>\n",
       "      <td>165.1</td>\n",
       "      <td>68.0272</td>\n",
       "      <td>25.0</td>\n",
       "      <td>-600</td>\n",
       "      <td>10/20/2020</td>\n",
       "      <td>16:49:42</td>\n",
       "      <td>0:13:01</td>\n",
       "      <td>...</td>\n",
       "      <td>1.121174e+07</td>\n",
       "      <td>0.502899</td>\n",
       "      <td>80.769556</td>\n",
       "      <td>0.917857</td>\n",
       "      <td>0.035393</td>\n",
       "      <td>0.152189</td>\n",
       "      <td>87.415946</td>\n",
       "      <td>15.658021</td>\n",
       "      <td>0.000351</td>\n",
       "      <td>0.000322</td>\n",
       "    </tr>\n",
       "    <tr>\n",
       "      <th>3</th>\n",
       "      <td>1773.0</td>\n",
       "      <td>010248fa-c5ea-411c-b651-2137876f828b</td>\n",
       "      <td>7162c259-764e-4ec9-94cd-bcb41625a63e</td>\n",
       "      <td>165.1</td>\n",
       "      <td>68.0272</td>\n",
       "      <td>25.0</td>\n",
       "      <td>-600</td>\n",
       "      <td>10/20/2020</td>\n",
       "      <td>17:24:48</td>\n",
       "      <td>0:20:00</td>\n",
       "      <td>...</td>\n",
       "      <td>2.676237e+07</td>\n",
       "      <td>0.508518</td>\n",
       "      <td>73.684835</td>\n",
       "      <td>0.985833</td>\n",
       "      <td>0.035858</td>\n",
       "      <td>0.151612</td>\n",
       "      <td>90.013774</td>\n",
       "      <td>28.374656</td>\n",
       "      <td>0.000195</td>\n",
       "      <td>0.000419</td>\n",
       "    </tr>\n",
       "    <tr>\n",
       "      <th>4</th>\n",
       "      <td>1773.0</td>\n",
       "      <td>f6d67ea5-54d7-4fda-8e1f-45d77d65982c</td>\n",
       "      <td>7162c259-764e-4ec9-94cd-bcb41625a63e</td>\n",
       "      <td>165.1</td>\n",
       "      <td>68.0272</td>\n",
       "      <td>25.0</td>\n",
       "      <td>-600</td>\n",
       "      <td>10/20/2020</td>\n",
       "      <td>16:24:26</td>\n",
       "      <td>0:03:59</td>\n",
       "      <td>...</td>\n",
       "      <td>1.143223e+06</td>\n",
       "      <td>0.503753</td>\n",
       "      <td>76.089828</td>\n",
       "      <td>0.741667</td>\n",
       "      <td>0.069966</td>\n",
       "      <td>0.152525</td>\n",
       "      <td>88.053097</td>\n",
       "      <td>23.451327</td>\n",
       "      <td>0.001767</td>\n",
       "      <td>0.002799</td>\n",
       "    </tr>\n",
       "  </tbody>\n",
       "</table>\n",
       "<p>5 rows × 167 columns</p>\n",
       "</div>"
      ],
      "text/plain": [
       "   study_id                            session_id  \\\n",
       "0    1773.0  2dfb3a16-7ea3-4875-a9bf-3d36217684b4   \n",
       "1    1773.0  3cd2b1f6-76e9-4e32-ac74-24683310f313   \n",
       "2    1773.0  0ceb8624-979a-47d3-862e-7371b80968ad   \n",
       "3    1773.0  010248fa-c5ea-411c-b651-2137876f828b   \n",
       "4    1773.0  f6d67ea5-54d7-4fda-8e1f-45d77d65982c   \n",
       "\n",
       "                             subject_id  body_meas_height  \\\n",
       "0  7162c259-764e-4ec9-94cd-bcb41625a63e             165.1   \n",
       "1  7162c259-764e-4ec9-94cd-bcb41625a63e             165.1   \n",
       "2  7162c259-764e-4ec9-94cd-bcb41625a63e             165.1   \n",
       "3  7162c259-764e-4ec9-94cd-bcb41625a63e             165.1   \n",
       "4  7162c259-764e-4ec9-94cd-bcb41625a63e             165.1   \n",
       "\n",
       "   body_meas_prior_pregnancy_weight  body_meas_bmi  mon_sess_time_zone_diff  \\\n",
       "0                           68.0272           25.0                     -600   \n",
       "1                           68.0272           25.0                     -600   \n",
       "2                           68.0272           25.0                     -600   \n",
       "3                           68.0272           25.0                     -600   \n",
       "4                           68.0272           25.0                     -600   \n",
       "\n",
       "  mon_sess_date mon_sess_start_time mon_sess_duration  ...    m_VLF_FINE  \\\n",
       "0    10/20/2020            17:04:02           0:20:00  ...  2.112098e+07   \n",
       "1    10/20/2020            16:29:14           0:14:32  ...  2.058526e+07   \n",
       "2    10/20/2020            16:49:42           0:13:01  ...  1.121174e+07   \n",
       "3    10/20/2020            17:24:48           0:20:00  ...  2.676237e+07   \n",
       "4    10/20/2020            16:24:26           0:03:59  ...  1.143223e+06   \n",
       "\n",
       "   m_hf_peak_freq   m_hr_avg  m_hr_detection_rate  m_lf_peak_freq  \\\n",
       "0        0.517132  74.615242             0.982937        0.052854   \n",
       "1        0.517154  75.942601             0.926944        0.032266   \n",
       "2        0.502899  80.769556             0.917857        0.035393   \n",
       "3        0.508518  73.684835             0.985833        0.035858   \n",
       "4        0.503753  76.089828             0.741667        0.069966   \n",
       "\n",
       "   m_mf_peak_freq     m_pRR5    m_pRR50  m_porousness  m_vlf_peak_freq  \n",
       "0        0.152757  89.206762  25.747724      0.000191         0.000200  \n",
       "1        0.156550  85.944919  17.758784      0.000322         0.000598  \n",
       "2        0.152189  87.415946  15.658021      0.000351         0.000322  \n",
       "3        0.151612  90.013774  28.374656      0.000195         0.000419  \n",
       "4        0.152525  88.053097  23.451327      0.001767         0.002799  \n",
       "\n",
       "[5 rows x 167 columns]"
      ]
     },
     "metadata": {},
     "output_type": "display_data"
    },
    {
     "name": "stdout",
     "output_type": "stream",
     "text": [
      "\n",
      "\n",
      "Dataframe shape: (54, 167)\n",
      "\n",
      "/ Columns info:\n",
      "<class 'pandas.core.frame.DataFrame'>\n",
      "RangeIndex: 54 entries, 0 to 53\n",
      "Columns: 167 entries, study_id to m_vlf_peak_freq\n",
      "dtypes: float64(139), int64(9), object(19)\n",
      "memory usage: 70.6+ KB\n"
     ]
    },
    {
     "data": {
      "text/plain": [
       "None"
      ]
     },
     "metadata": {},
     "output_type": "display_data"
    },
    {
     "name": "stdout",
     "output_type": "stream",
     "text": [
      "Summary Statistics for numerical columns:\n"
     ]
    },
    {
     "data": {
      "text/html": [
       "<div>\n",
       "<style scoped>\n",
       "    .dataframe tbody tr th:only-of-type {\n",
       "        vertical-align: middle;\n",
       "    }\n",
       "\n",
       "    .dataframe tbody tr th {\n",
       "        vertical-align: top;\n",
       "    }\n",
       "\n",
       "    .dataframe thead th {\n",
       "        text-align: right;\n",
       "    }\n",
       "</style>\n",
       "<table border=\"1\" class=\"dataframe\">\n",
       "  <thead>\n",
       "    <tr style=\"text-align: right;\">\n",
       "      <th></th>\n",
       "      <th>study_id</th>\n",
       "      <th>body_meas_height</th>\n",
       "      <th>body_meas_prior_pregnancy_weight</th>\n",
       "      <th>body_meas_bmi</th>\n",
       "      <th>mon_sess_time_zone_diff</th>\n",
       "      <th>dem_det_age</th>\n",
       "      <th>dem_det_pregnancy_week</th>\n",
       "      <th>dem_det_num_total_pregnancies</th>\n",
       "      <th>dem_det_num_term_birth</th>\n",
       "      <th>dem_det_num_preterm_births</th>\n",
       "      <th>...</th>\n",
       "      <th>m_VLF_FINE</th>\n",
       "      <th>m_hf_peak_freq</th>\n",
       "      <th>m_hr_avg</th>\n",
       "      <th>m_hr_detection_rate</th>\n",
       "      <th>m_lf_peak_freq</th>\n",
       "      <th>m_mf_peak_freq</th>\n",
       "      <th>m_pRR5</th>\n",
       "      <th>m_pRR50</th>\n",
       "      <th>m_porousness</th>\n",
       "      <th>m_vlf_peak_freq</th>\n",
       "    </tr>\n",
       "  </thead>\n",
       "  <tbody>\n",
       "    <tr>\n",
       "      <th>count</th>\n",
       "      <td>51.000000</td>\n",
       "      <td>54.000000</td>\n",
       "      <td>54.000000</td>\n",
       "      <td>54.000000</td>\n",
       "      <td>54.000000</td>\n",
       "      <td>54.000000</td>\n",
       "      <td>54.000000</td>\n",
       "      <td>30.000000</td>\n",
       "      <td>30.000000</td>\n",
       "      <td>30.000000</td>\n",
       "      <td>...</td>\n",
       "      <td>5.300000e+01</td>\n",
       "      <td>53.000000</td>\n",
       "      <td>54.000000</td>\n",
       "      <td>54.000000</td>\n",
       "      <td>53.000000</td>\n",
       "      <td>53.000000</td>\n",
       "      <td>54.000000</td>\n",
       "      <td>54.000000</td>\n",
       "      <td>54.000000</td>\n",
       "      <td>53.000000</td>\n",
       "    </tr>\n",
       "    <tr>\n",
       "      <th>mean</th>\n",
       "      <td>1792.960784</td>\n",
       "      <td>166.087778</td>\n",
       "      <td>73.007481</td>\n",
       "      <td>26.555556</td>\n",
       "      <td>-631.481481</td>\n",
       "      <td>28.462963</td>\n",
       "      <td>36.904765</td>\n",
       "      <td>2.233333</td>\n",
       "      <td>0.833333</td>\n",
       "      <td>0.100000</td>\n",
       "      <td>...</td>\n",
       "      <td>3.788604e+07</td>\n",
       "      <td>0.528456</td>\n",
       "      <td>87.056862</td>\n",
       "      <td>0.916774</td>\n",
       "      <td>0.047558</td>\n",
       "      <td>0.154143</td>\n",
       "      <td>74.165838</td>\n",
       "      <td>12.382827</td>\n",
       "      <td>0.000323</td>\n",
       "      <td>0.000827</td>\n",
       "    </tr>\n",
       "    <tr>\n",
       "      <th>std</th>\n",
       "      <td>12.404775</td>\n",
       "      <td>8.023340</td>\n",
       "      <td>19.045074</td>\n",
       "      <td>6.936196</td>\n",
       "      <td>46.880314</td>\n",
       "      <td>3.694529</td>\n",
       "      <td>1.225449</td>\n",
       "      <td>1.304722</td>\n",
       "      <td>0.833908</td>\n",
       "      <td>0.305129</td>\n",
       "      <td>...</td>\n",
       "      <td>3.771592e+07</td>\n",
       "      <td>0.036218</td>\n",
       "      <td>11.228556</td>\n",
       "      <td>0.086658</td>\n",
       "      <td>0.017660</td>\n",
       "      <td>0.004803</td>\n",
       "      <td>18.678977</td>\n",
       "      <td>11.301592</td>\n",
       "      <td>0.000874</td>\n",
       "      <td>0.001367</td>\n",
       "    </tr>\n",
       "    <tr>\n",
       "      <th>min</th>\n",
       "      <td>1773.000000</td>\n",
       "      <td>149.860000</td>\n",
       "      <td>48.526100</td>\n",
       "      <td>18.000000</td>\n",
       "      <td>-700.000000</td>\n",
       "      <td>22.000000</td>\n",
       "      <td>35.142900</td>\n",
       "      <td>1.000000</td>\n",
       "      <td>0.000000</td>\n",
       "      <td>0.000000</td>\n",
       "      <td>...</td>\n",
       "      <td>3.569133e+04</td>\n",
       "      <td>0.500104</td>\n",
       "      <td>64.001948</td>\n",
       "      <td>0.500000</td>\n",
       "      <td>0.030200</td>\n",
       "      <td>0.150043</td>\n",
       "      <td>24.397738</td>\n",
       "      <td>0.196657</td>\n",
       "      <td>0.000044</td>\n",
       "      <td>0.000042</td>\n",
       "    </tr>\n",
       "    <tr>\n",
       "      <th>25%</th>\n",
       "      <td>1783.000000</td>\n",
       "      <td>162.560000</td>\n",
       "      <td>63.605475</td>\n",
       "      <td>23.475000</td>\n",
       "      <td>-700.000000</td>\n",
       "      <td>26.000000</td>\n",
       "      <td>36.000000</td>\n",
       "      <td>1.000000</td>\n",
       "      <td>0.000000</td>\n",
       "      <td>0.000000</td>\n",
       "      <td>...</td>\n",
       "      <td>1.370945e+07</td>\n",
       "      <td>0.504258</td>\n",
       "      <td>77.959559</td>\n",
       "      <td>0.886906</td>\n",
       "      <td>0.032412</td>\n",
       "      <td>0.150339</td>\n",
       "      <td>66.381834</td>\n",
       "      <td>3.004591</td>\n",
       "      <td>0.000066</td>\n",
       "      <td>0.000145</td>\n",
       "    </tr>\n",
       "    <tr>\n",
       "      <th>50%</th>\n",
       "      <td>1793.000000</td>\n",
       "      <td>165.100000</td>\n",
       "      <td>67.346950</td>\n",
       "      <td>25.000000</td>\n",
       "      <td>-600.000000</td>\n",
       "      <td>28.000000</td>\n",
       "      <td>36.571400</td>\n",
       "      <td>2.000000</td>\n",
       "      <td>1.000000</td>\n",
       "      <td>0.000000</td>\n",
       "      <td>...</td>\n",
       "      <td>2.694029e+07</td>\n",
       "      <td>0.514871</td>\n",
       "      <td>86.735852</td>\n",
       "      <td>0.942002</td>\n",
       "      <td>0.038222</td>\n",
       "      <td>0.152368</td>\n",
       "      <td>81.335638</td>\n",
       "      <td>9.109874</td>\n",
       "      <td>0.000090</td>\n",
       "      <td>0.000340</td>\n",
       "    </tr>\n",
       "    <tr>\n",
       "      <th>75%</th>\n",
       "      <td>1803.500000</td>\n",
       "      <td>170.180000</td>\n",
       "      <td>74.829900</td>\n",
       "      <td>26.900000</td>\n",
       "      <td>-600.000000</td>\n",
       "      <td>30.750000</td>\n",
       "      <td>38.000000</td>\n",
       "      <td>3.000000</td>\n",
       "      <td>1.000000</td>\n",
       "      <td>0.000000</td>\n",
       "      <td>...</td>\n",
       "      <td>5.029038e+07</td>\n",
       "      <td>0.533004</td>\n",
       "      <td>92.845716</td>\n",
       "      <td>0.974368</td>\n",
       "      <td>0.060770</td>\n",
       "      <td>0.156338</td>\n",
       "      <td>87.344020</td>\n",
       "      <td>21.875454</td>\n",
       "      <td>0.000195</td>\n",
       "      <td>0.000758</td>\n",
       "    </tr>\n",
       "    <tr>\n",
       "      <th>max</th>\n",
       "      <td>1814.000000</td>\n",
       "      <td>185.420000</td>\n",
       "      <td>155.102000</td>\n",
       "      <td>57.000000</td>\n",
       "      <td>-600.000000</td>\n",
       "      <td>38.000000</td>\n",
       "      <td>41.000000</td>\n",
       "      <td>7.000000</td>\n",
       "      <td>3.000000</td>\n",
       "      <td>1.000000</td>\n",
       "      <td>...</td>\n",
       "      <td>1.841464e+08</td>\n",
       "      <td>0.634159</td>\n",
       "      <td>114.034857</td>\n",
       "      <td>0.995395</td>\n",
       "      <td>0.093311</td>\n",
       "      <td>0.170611</td>\n",
       "      <td>91.630799</td>\n",
       "      <td>46.787821</td>\n",
       "      <td>0.006250</td>\n",
       "      <td>0.008528</td>\n",
       "    </tr>\n",
       "  </tbody>\n",
       "</table>\n",
       "<p>8 rows × 148 columns</p>\n",
       "</div>"
      ],
      "text/plain": [
       "          study_id  body_meas_height  body_meas_prior_pregnancy_weight  \\\n",
       "count    51.000000         54.000000                         54.000000   \n",
       "mean   1792.960784        166.087778                         73.007481   \n",
       "std      12.404775          8.023340                         19.045074   \n",
       "min    1773.000000        149.860000                         48.526100   \n",
       "25%    1783.000000        162.560000                         63.605475   \n",
       "50%    1793.000000        165.100000                         67.346950   \n",
       "75%    1803.500000        170.180000                         74.829900   \n",
       "max    1814.000000        185.420000                        155.102000   \n",
       "\n",
       "       body_meas_bmi  mon_sess_time_zone_diff  dem_det_age  \\\n",
       "count      54.000000                54.000000    54.000000   \n",
       "mean       26.555556              -631.481481    28.462963   \n",
       "std         6.936196                46.880314     3.694529   \n",
       "min        18.000000              -700.000000    22.000000   \n",
       "25%        23.475000              -700.000000    26.000000   \n",
       "50%        25.000000              -600.000000    28.000000   \n",
       "75%        26.900000              -600.000000    30.750000   \n",
       "max        57.000000              -600.000000    38.000000   \n",
       "\n",
       "       dem_det_pregnancy_week  dem_det_num_total_pregnancies  \\\n",
       "count               54.000000                      30.000000   \n",
       "mean                36.904765                       2.233333   \n",
       "std                  1.225449                       1.304722   \n",
       "min                 35.142900                       1.000000   \n",
       "25%                 36.000000                       1.000000   \n",
       "50%                 36.571400                       2.000000   \n",
       "75%                 38.000000                       3.000000   \n",
       "max                 41.000000                       7.000000   \n",
       "\n",
       "       dem_det_num_term_birth  dem_det_num_preterm_births  ...    m_VLF_FINE  \\\n",
       "count               30.000000                   30.000000  ...  5.300000e+01   \n",
       "mean                 0.833333                    0.100000  ...  3.788604e+07   \n",
       "std                  0.833908                    0.305129  ...  3.771592e+07   \n",
       "min                  0.000000                    0.000000  ...  3.569133e+04   \n",
       "25%                  0.000000                    0.000000  ...  1.370945e+07   \n",
       "50%                  1.000000                    0.000000  ...  2.694029e+07   \n",
       "75%                  1.000000                    0.000000  ...  5.029038e+07   \n",
       "max                  3.000000                    1.000000  ...  1.841464e+08   \n",
       "\n",
       "       m_hf_peak_freq    m_hr_avg  m_hr_detection_rate  m_lf_peak_freq  \\\n",
       "count       53.000000   54.000000            54.000000       53.000000   \n",
       "mean         0.528456   87.056862             0.916774        0.047558   \n",
       "std          0.036218   11.228556             0.086658        0.017660   \n",
       "min          0.500104   64.001948             0.500000        0.030200   \n",
       "25%          0.504258   77.959559             0.886906        0.032412   \n",
       "50%          0.514871   86.735852             0.942002        0.038222   \n",
       "75%          0.533004   92.845716             0.974368        0.060770   \n",
       "max          0.634159  114.034857             0.995395        0.093311   \n",
       "\n",
       "       m_mf_peak_freq     m_pRR5    m_pRR50  m_porousness  m_vlf_peak_freq  \n",
       "count       53.000000  54.000000  54.000000     54.000000        53.000000  \n",
       "mean         0.154143  74.165838  12.382827      0.000323         0.000827  \n",
       "std          0.004803  18.678977  11.301592      0.000874         0.001367  \n",
       "min          0.150043  24.397738   0.196657      0.000044         0.000042  \n",
       "25%          0.150339  66.381834   3.004591      0.000066         0.000145  \n",
       "50%          0.152368  81.335638   9.109874      0.000090         0.000340  \n",
       "75%          0.156338  87.344020  21.875454      0.000195         0.000758  \n",
       "max          0.170611  91.630799  46.787821      0.006250         0.008528  \n",
       "\n",
       "[8 rows x 148 columns]"
      ]
     },
     "metadata": {},
     "output_type": "display_data"
    },
    {
     "name": "stdout",
     "output_type": "stream",
     "text": [
      "Summary Statistics for categorical columns:\n"
     ]
    },
    {
     "data": {
      "text/html": [
       "<div>\n",
       "<style scoped>\n",
       "    .dataframe tbody tr th:only-of-type {\n",
       "        vertical-align: middle;\n",
       "    }\n",
       "\n",
       "    .dataframe tbody tr th {\n",
       "        vertical-align: top;\n",
       "    }\n",
       "\n",
       "    .dataframe thead th {\n",
       "        text-align: right;\n",
       "    }\n",
       "</style>\n",
       "<table border=\"1\" class=\"dataframe\">\n",
       "  <thead>\n",
       "    <tr style=\"text-align: right;\">\n",
       "      <th></th>\n",
       "      <th>session_id</th>\n",
       "      <th>subject_id</th>\n",
       "      <th>mon_sess_date</th>\n",
       "      <th>mon_sess_start_time</th>\n",
       "      <th>mon_sess_duration</th>\n",
       "      <th>f_LTI</th>\n",
       "      <th>f_LTI_10</th>\n",
       "      <th>f_LTI_25</th>\n",
       "      <th>f_LTI_50</th>\n",
       "      <th>f_LTI_IBI</th>\n",
       "      <th>f_STI</th>\n",
       "      <th>f_STI_10</th>\n",
       "      <th>f_STI_25</th>\n",
       "      <th>f_STI_50</th>\n",
       "      <th>f_STI_IBI</th>\n",
       "      <th>m_LTI</th>\n",
       "      <th>m_LTI_IBI</th>\n",
       "      <th>m_STI</th>\n",
       "      <th>m_STI_IBI</th>\n",
       "    </tr>\n",
       "  </thead>\n",
       "  <tbody>\n",
       "    <tr>\n",
       "      <th>count</th>\n",
       "      <td>54</td>\n",
       "      <td>54</td>\n",
       "      <td>54</td>\n",
       "      <td>54</td>\n",
       "      <td>54</td>\n",
       "      <td>53</td>\n",
       "      <td>53</td>\n",
       "      <td>53</td>\n",
       "      <td>53</td>\n",
       "      <td>42</td>\n",
       "      <td>53</td>\n",
       "      <td>53</td>\n",
       "      <td>53</td>\n",
       "      <td>53</td>\n",
       "      <td>42</td>\n",
       "      <td>53</td>\n",
       "      <td>52</td>\n",
       "      <td>53</td>\n",
       "      <td>52</td>\n",
       "    </tr>\n",
       "    <tr>\n",
       "      <th>unique</th>\n",
       "      <td>54</td>\n",
       "      <td>33</td>\n",
       "      <td>33</td>\n",
       "      <td>54</td>\n",
       "      <td>53</td>\n",
       "      <td>53</td>\n",
       "      <td>53</td>\n",
       "      <td>53</td>\n",
       "      <td>53</td>\n",
       "      <td>42</td>\n",
       "      <td>53</td>\n",
       "      <td>53</td>\n",
       "      <td>53</td>\n",
       "      <td>53</td>\n",
       "      <td>42</td>\n",
       "      <td>53</td>\n",
       "      <td>52</td>\n",
       "      <td>53</td>\n",
       "      <td>52</td>\n",
       "    </tr>\n",
       "    <tr>\n",
       "      <th>top</th>\n",
       "      <td>fd5dbc76-93b9-4186-9080-c7014fc4a4da</td>\n",
       "      <td>65e33be7-ebea-417a-a203-32eb097ad67f</td>\n",
       "      <td>12/10/2020</td>\n",
       "      <td>18:17:12</td>\n",
       "      <td>0:20:00</td>\n",
       "      <td>[181.660531074026, 199.434696325533]</td>\n",
       "      <td>[184.697348942423, 196.795455098179]</td>\n",
       "      <td>[189.699643000348, 197.899868812508]</td>\n",
       "      <td>[186.400473763549, 193.91441618596]</td>\n",
       "      <td>[575.600173856466, 639.291512270653]</td>\n",
       "      <td>[0.785270339785092, 0.785878782712646]</td>\n",
       "      <td>[0.784749576750573, 0.786097249642284]</td>\n",
       "      <td>[0.783977955559199, 0.786879176973674]</td>\n",
       "      <td>[0.78445118972765, 0.786498874805712]</td>\n",
       "      <td>[0.776382255269679, 0.792474049115819]</td>\n",
       "      <td>[142.860883145199, 153.777084766824]</td>\n",
       "      <td>[875.887009820751, 951.444218075599]</td>\n",
       "      <td>[0.785010456926383, 0.785805061183854]</td>\n",
       "      <td>[0.768377572913465, 0.801867066814141]</td>\n",
       "    </tr>\n",
       "    <tr>\n",
       "      <th>freq</th>\n",
       "      <td>1</td>\n",
       "      <td>5</td>\n",
       "      <td>5</td>\n",
       "      <td>1</td>\n",
       "      <td>2</td>\n",
       "      <td>1</td>\n",
       "      <td>1</td>\n",
       "      <td>1</td>\n",
       "      <td>1</td>\n",
       "      <td>1</td>\n",
       "      <td>1</td>\n",
       "      <td>1</td>\n",
       "      <td>1</td>\n",
       "      <td>1</td>\n",
       "      <td>1</td>\n",
       "      <td>1</td>\n",
       "      <td>1</td>\n",
       "      <td>1</td>\n",
       "      <td>1</td>\n",
       "    </tr>\n",
       "  </tbody>\n",
       "</table>\n",
       "</div>"
      ],
      "text/plain": [
       "                                  session_id  \\\n",
       "count                                     54   \n",
       "unique                                    54   \n",
       "top     fd5dbc76-93b9-4186-9080-c7014fc4a4da   \n",
       "freq                                       1   \n",
       "\n",
       "                                  subject_id mon_sess_date  \\\n",
       "count                                     54            54   \n",
       "unique                                    33            33   \n",
       "top     65e33be7-ebea-417a-a203-32eb097ad67f    12/10/2020   \n",
       "freq                                       5             5   \n",
       "\n",
       "       mon_sess_start_time mon_sess_duration  \\\n",
       "count                   54                54   \n",
       "unique                  54                53   \n",
       "top               18:17:12           0:20:00   \n",
       "freq                     1                 2   \n",
       "\n",
       "                                       f_LTI  \\\n",
       "count                                     53   \n",
       "unique                                    53   \n",
       "top     [181.660531074026, 199.434696325533]   \n",
       "freq                                       1   \n",
       "\n",
       "                                    f_LTI_10  \\\n",
       "count                                     53   \n",
       "unique                                    53   \n",
       "top     [184.697348942423, 196.795455098179]   \n",
       "freq                                       1   \n",
       "\n",
       "                                    f_LTI_25  \\\n",
       "count                                     53   \n",
       "unique                                    53   \n",
       "top     [189.699643000348, 197.899868812508]   \n",
       "freq                                       1   \n",
       "\n",
       "                                   f_LTI_50  \\\n",
       "count                                    53   \n",
       "unique                                   53   \n",
       "top     [186.400473763549, 193.91441618596]   \n",
       "freq                                      1   \n",
       "\n",
       "                                   f_LTI_IBI  \\\n",
       "count                                     42   \n",
       "unique                                    42   \n",
       "top     [575.600173856466, 639.291512270653]   \n",
       "freq                                       1   \n",
       "\n",
       "                                         f_STI  \\\n",
       "count                                       53   \n",
       "unique                                      53   \n",
       "top     [0.785270339785092, 0.785878782712646]   \n",
       "freq                                         1   \n",
       "\n",
       "                                      f_STI_10  \\\n",
       "count                                       53   \n",
       "unique                                      53   \n",
       "top     [0.784749576750573, 0.786097249642284]   \n",
       "freq                                         1   \n",
       "\n",
       "                                      f_STI_25  \\\n",
       "count                                       53   \n",
       "unique                                      53   \n",
       "top     [0.783977955559199, 0.786879176973674]   \n",
       "freq                                         1   \n",
       "\n",
       "                                     f_STI_50  \\\n",
       "count                                      53   \n",
       "unique                                     53   \n",
       "top     [0.78445118972765, 0.786498874805712]   \n",
       "freq                                        1   \n",
       "\n",
       "                                     f_STI_IBI  \\\n",
       "count                                       42   \n",
       "unique                                      42   \n",
       "top     [0.776382255269679, 0.792474049115819]   \n",
       "freq                                         1   \n",
       "\n",
       "                                       m_LTI  \\\n",
       "count                                     53   \n",
       "unique                                    53   \n",
       "top     [142.860883145199, 153.777084766824]   \n",
       "freq                                       1   \n",
       "\n",
       "                                   m_LTI_IBI  \\\n",
       "count                                     52   \n",
       "unique                                    52   \n",
       "top     [875.887009820751, 951.444218075599]   \n",
       "freq                                       1   \n",
       "\n",
       "                                         m_STI  \\\n",
       "count                                       53   \n",
       "unique                                      53   \n",
       "top     [0.785010456926383, 0.785805061183854]   \n",
       "freq                                         1   \n",
       "\n",
       "                                     m_STI_IBI  \n",
       "count                                       52  \n",
       "unique                                      52  \n",
       "top     [0.768377572913465, 0.801867066814141]  \n",
       "freq                                         1  "
      ]
     },
     "metadata": {},
     "output_type": "display_data"
    },
    {
     "name": "stdout",
     "output_type": "stream",
     "text": [
      "    \n",
      "Rows count = 54    \n",
      "Null count:    \n",
      "study_id                            3\n",
      "session_id                          0\n",
      "subject_id                          0\n",
      "body_meas_height                    0\n",
      "body_meas_prior_pregnancy_weight    0\n",
      "                                   ..\n",
      "m_mf_peak_freq                      1\n",
      "m_pRR5                              0\n",
      "m_pRR50                             0\n",
      "m_porousness                        0\n",
      "m_vlf_peak_freq                     1\n",
      "Length: 167, dtype: int64    \n",
      "    \n",
      "Overall missing values in data: 537    \n",
      "\n",
      "Duplicated Rows: 0    \n",
      "\n",
      "Unique values count:    \n",
      "study_id                            31\n",
      "session_id                          54\n",
      "subject_id                          33\n",
      "body_meas_height                    12\n",
      "body_meas_prior_pregnancy_weight    27\n",
      "                                    ..\n",
      "m_mf_peak_freq                      53\n",
      "m_pRR5                              54\n",
      "m_pRR50                             54\n",
      "m_porousness                        52\n",
      "m_vlf_peak_freq                     53\n",
      "Length: 167, dtype: int64    \n",
      "\n",
      "Data types in dataset:    \n",
      "float64    139\n",
      "object      19\n",
      "int64        9\n",
      "dtype: int64\n"
     ]
    }
   ],
   "source": [
    "basic_eda(df_sessions)"
   ]
  },
  {
   "cell_type": "markdown",
   "id": "c05f6a15",
   "metadata": {},
   "source": [
    "#### Removing sessions with duration of less than 5 minutes:"
   ]
  },
  {
   "cell_type": "code",
   "execution_count": 37,
   "id": "50274554",
   "metadata": {
    "ExecuteTime": {
     "end_time": "2021-07-19T16:22:45.095315Z",
     "start_time": "2021-07-19T16:22:45.088404Z"
    }
   },
   "outputs": [
    {
     "name": "stdout",
     "output_type": "stream",
     "text": [
      "Sessions dropped:\n",
      "\n",
      "f6d67ea5-54d7-4fda-8e1f-45d77d65982c\n",
      "e8013bf8-f905-448e-901e-49891b8507fd\n"
     ]
    }
   ],
   "source": [
    "sessions_to_drop = []\n",
    "\n",
    "print('Sessions dropped:')\n",
    "print()\n",
    "for i in range(len(df['mon_sess_duration'])-1):\n",
    "    session = datetime.strptime(df['mon_sess_duration'].iloc[i], '%H:%M:%S').time()\n",
    "    if session.hour == 0 and session.minute < 5:\n",
    "        sessions_to_drop.append(df['session_id'].iloc[i])\n",
    "        print(df['session_id'].iloc[i])\n",
    "        \n",
    "df = df[~df.session_id.isin(sessions_to_drop)]"
   ]
  },
  {
   "cell_type": "code",
   "execution_count": 38,
   "id": "b6154962",
   "metadata": {
    "ExecuteTime": {
     "end_time": "2021-07-19T16:22:45.103326Z",
     "start_time": "2021-07-19T16:22:45.096315Z"
    }
   },
   "outputs": [
    {
     "data": {
      "text/plain": [
       "(47, 208)"
      ]
     },
     "execution_count": 38,
     "metadata": {},
     "output_type": "execute_result"
    }
   ],
   "source": [
    "df.shape"
   ]
  },
  {
   "cell_type": "markdown",
   "id": "9ceba795",
   "metadata": {},
   "source": [
    "#### Checking if measurements are equal in both datasets:"
   ]
  },
  {
   "cell_type": "markdown",
   "id": "ce0bba63",
   "metadata": {},
   "source": [
    "#### Height:"
   ]
  },
  {
   "cell_type": "code",
   "execution_count": 39,
   "id": "2723b907",
   "metadata": {
    "ExecuteTime": {
     "end_time": "2021-07-19T16:22:45.113814Z",
     "start_time": "2021-07-19T16:22:45.104312Z"
    },
    "hide_input": false
   },
   "outputs": [
    {
     "data": {
      "text/html": [
       "<div>\n",
       "<style scoped>\n",
       "    .dataframe tbody tr th:only-of-type {\n",
       "        vertical-align: middle;\n",
       "    }\n",
       "\n",
       "    .dataframe tbody tr th {\n",
       "        vertical-align: top;\n",
       "    }\n",
       "\n",
       "    .dataframe thead th {\n",
       "        text-align: right;\n",
       "    }\n",
       "</style>\n",
       "<table border=\"1\" class=\"dataframe\">\n",
       "  <thead>\n",
       "    <tr style=\"text-align: right;\">\n",
       "      <th></th>\n",
       "      <th>study_id</th>\n",
       "      <th>body_meas_height</th>\n",
       "      <th>current_height_cm</th>\n",
       "      <th>current_height</th>\n",
       "    </tr>\n",
       "  </thead>\n",
       "  <tbody>\n",
       "    <tr>\n",
       "      <th>0</th>\n",
       "      <td>1773.0</td>\n",
       "      <td>165.10</td>\n",
       "      <td>162.56</td>\n",
       "      <td>64.0</td>\n",
       "    </tr>\n",
       "    <tr>\n",
       "      <th>1</th>\n",
       "      <td>1773.0</td>\n",
       "      <td>165.10</td>\n",
       "      <td>162.56</td>\n",
       "      <td>64.0</td>\n",
       "    </tr>\n",
       "    <tr>\n",
       "      <th>2</th>\n",
       "      <td>1773.0</td>\n",
       "      <td>165.10</td>\n",
       "      <td>162.56</td>\n",
       "      <td>64.0</td>\n",
       "    </tr>\n",
       "    <tr>\n",
       "      <th>3</th>\n",
       "      <td>1773.0</td>\n",
       "      <td>165.10</td>\n",
       "      <td>162.56</td>\n",
       "      <td>64.0</td>\n",
       "    </tr>\n",
       "    <tr>\n",
       "      <th>5</th>\n",
       "      <td>1778.0</td>\n",
       "      <td>172.72</td>\n",
       "      <td>162.56</td>\n",
       "      <td>64.0</td>\n",
       "    </tr>\n",
       "    <tr>\n",
       "      <th>6</th>\n",
       "      <td>1779.0</td>\n",
       "      <td>172.72</td>\n",
       "      <td>172.72</td>\n",
       "      <td>68.0</td>\n",
       "    </tr>\n",
       "    <tr>\n",
       "      <th>7</th>\n",
       "      <td>1779.0</td>\n",
       "      <td>172.72</td>\n",
       "      <td>172.72</td>\n",
       "      <td>68.0</td>\n",
       "    </tr>\n",
       "    <tr>\n",
       "      <th>8</th>\n",
       "      <td>1780.0</td>\n",
       "      <td>165.10</td>\n",
       "      <td>165.10</td>\n",
       "      <td>65.0</td>\n",
       "    </tr>\n",
       "    <tr>\n",
       "      <th>9</th>\n",
       "      <td>1780.0</td>\n",
       "      <td>165.10</td>\n",
       "      <td>165.10</td>\n",
       "      <td>65.0</td>\n",
       "    </tr>\n",
       "    <tr>\n",
       "      <th>10</th>\n",
       "      <td>1781.0</td>\n",
       "      <td>165.10</td>\n",
       "      <td>165.10</td>\n",
       "      <td>65.0</td>\n",
       "    </tr>\n",
       "  </tbody>\n",
       "</table>\n",
       "</div>"
      ],
      "text/plain": [
       "    study_id  body_meas_height  current_height_cm  current_height\n",
       "0     1773.0            165.10             162.56            64.0\n",
       "1     1773.0            165.10             162.56            64.0\n",
       "2     1773.0            165.10             162.56            64.0\n",
       "3     1773.0            165.10             162.56            64.0\n",
       "5     1778.0            172.72             162.56            64.0\n",
       "6     1779.0            172.72             172.72            68.0\n",
       "7     1779.0            172.72             172.72            68.0\n",
       "8     1780.0            165.10             165.10            65.0\n",
       "9     1780.0            165.10             165.10            65.0\n",
       "10    1781.0            165.10             165.10            65.0"
      ]
     },
     "execution_count": 39,
     "metadata": {},
     "output_type": "execute_result"
    }
   ],
   "source": [
    "FEET_TO_CM = 2.54\n",
    "\n",
    "df['current_height_cm'] = df['current_height']*FEET_TO_CM\n",
    "\n",
    "df[['study_id', 'body_meas_height', 'current_height_cm', 'current_height']].head(10)"
   ]
  },
  {
   "cell_type": "code",
   "execution_count": 40,
   "id": "3af731d7",
   "metadata": {
    "ExecuteTime": {
     "end_time": "2021-07-19T16:22:45.119313Z",
     "start_time": "2021-07-19T16:22:45.114816Z"
    }
   },
   "outputs": [
    {
     "data": {
      "text/plain": [
       "False"
      ]
     },
     "execution_count": 40,
     "metadata": {},
     "output_type": "execute_result"
    }
   ],
   "source": [
    "df['body_meas_height'].equals(df['current_height_cm'])"
   ]
  },
  {
   "cell_type": "code",
   "execution_count": 41,
   "id": "723d51c8",
   "metadata": {
    "ExecuteTime": {
     "end_time": "2021-07-19T16:22:45.124313Z",
     "start_time": "2021-07-19T16:22:45.120313Z"
    }
   },
   "outputs": [
    {
     "name": "stdout",
     "output_type": "stream",
     "text": [
      "Study Id's which have unmatched height measurements between datasets\n",
      "[1773 1778 1787 1797 1798 1799 1800 1805 1809]\n"
     ]
    }
   ],
   "source": [
    "print(\"Study Id's which have unmatched height measurements between datasets\")\n",
    "print(df['study_id'][df['body_meas_height'] != df['current_height_cm']].unique().astype(int))"
   ]
  },
  {
   "cell_type": "markdown",
   "id": "cdd07bf0",
   "metadata": {},
   "source": [
    "#### Prior weight:"
   ]
  },
  {
   "cell_type": "code",
   "execution_count": 42,
   "id": "765b35c9",
   "metadata": {
    "ExecuteTime": {
     "end_time": "2021-07-19T16:22:45.136312Z",
     "start_time": "2021-07-19T16:22:45.125314Z"
    }
   },
   "outputs": [
    {
     "data": {
      "text/html": [
       "<div>\n",
       "<style scoped>\n",
       "    .dataframe tbody tr th:only-of-type {\n",
       "        vertical-align: middle;\n",
       "    }\n",
       "\n",
       "    .dataframe tbody tr th {\n",
       "        vertical-align: top;\n",
       "    }\n",
       "\n",
       "    .dataframe thead th {\n",
       "        text-align: right;\n",
       "    }\n",
       "</style>\n",
       "<table border=\"1\" class=\"dataframe\">\n",
       "  <thead>\n",
       "    <tr style=\"text-align: right;\">\n",
       "      <th></th>\n",
       "      <th>study_id</th>\n",
       "      <th>body_meas_prior_pregnancy_weight</th>\n",
       "      <th>weight_before_kg</th>\n",
       "      <th>weight_before</th>\n",
       "    </tr>\n",
       "  </thead>\n",
       "  <tbody>\n",
       "    <tr>\n",
       "      <th>0</th>\n",
       "      <td>1773.0</td>\n",
       "      <td>68.0272</td>\n",
       "      <td>68.03880</td>\n",
       "      <td>150.0</td>\n",
       "    </tr>\n",
       "    <tr>\n",
       "      <th>1</th>\n",
       "      <td>1773.0</td>\n",
       "      <td>68.0272</td>\n",
       "      <td>68.03880</td>\n",
       "      <td>150.0</td>\n",
       "    </tr>\n",
       "    <tr>\n",
       "      <th>2</th>\n",
       "      <td>1773.0</td>\n",
       "      <td>68.0272</td>\n",
       "      <td>68.03880</td>\n",
       "      <td>150.0</td>\n",
       "    </tr>\n",
       "    <tr>\n",
       "      <th>3</th>\n",
       "      <td>1773.0</td>\n",
       "      <td>68.0272</td>\n",
       "      <td>68.03880</td>\n",
       "      <td>150.0</td>\n",
       "    </tr>\n",
       "    <tr>\n",
       "      <th>5</th>\n",
       "      <td>1778.0</td>\n",
       "      <td>68.0272</td>\n",
       "      <td>68.03880</td>\n",
       "      <td>150.0</td>\n",
       "    </tr>\n",
       "    <tr>\n",
       "      <th>6</th>\n",
       "      <td>1779.0</td>\n",
       "      <td>65.7596</td>\n",
       "      <td>65.77084</td>\n",
       "      <td>145.0</td>\n",
       "    </tr>\n",
       "    <tr>\n",
       "      <th>7</th>\n",
       "      <td>1779.0</td>\n",
       "      <td>65.7596</td>\n",
       "      <td>65.77084</td>\n",
       "      <td>145.0</td>\n",
       "    </tr>\n",
       "    <tr>\n",
       "      <th>8</th>\n",
       "      <td>1780.0</td>\n",
       "      <td>70.2948</td>\n",
       "      <td>70.30676</td>\n",
       "      <td>155.0</td>\n",
       "    </tr>\n",
       "    <tr>\n",
       "      <th>9</th>\n",
       "      <td>1780.0</td>\n",
       "      <td>70.2948</td>\n",
       "      <td>70.30676</td>\n",
       "      <td>155.0</td>\n",
       "    </tr>\n",
       "    <tr>\n",
       "      <th>10</th>\n",
       "      <td>1781.0</td>\n",
       "      <td>155.1020</td>\n",
       "      <td>136.07760</td>\n",
       "      <td>300.0</td>\n",
       "    </tr>\n",
       "  </tbody>\n",
       "</table>\n",
       "</div>"
      ],
      "text/plain": [
       "    study_id  body_meas_prior_pregnancy_weight  weight_before_kg  \\\n",
       "0     1773.0                           68.0272          68.03880   \n",
       "1     1773.0                           68.0272          68.03880   \n",
       "2     1773.0                           68.0272          68.03880   \n",
       "3     1773.0                           68.0272          68.03880   \n",
       "5     1778.0                           68.0272          68.03880   \n",
       "6     1779.0                           65.7596          65.77084   \n",
       "7     1779.0                           65.7596          65.77084   \n",
       "8     1780.0                           70.2948          70.30676   \n",
       "9     1780.0                           70.2948          70.30676   \n",
       "10    1781.0                          155.1020         136.07760   \n",
       "\n",
       "    weight_before  \n",
       "0           150.0  \n",
       "1           150.0  \n",
       "2           150.0  \n",
       "3           150.0  \n",
       "5           150.0  \n",
       "6           145.0  \n",
       "7           145.0  \n",
       "8           155.0  \n",
       "9           155.0  \n",
       "10          300.0  "
      ]
     },
     "execution_count": 42,
     "metadata": {},
     "output_type": "execute_result"
    }
   ],
   "source": [
    "df['weight_before_kg'] = df['weight_before']*LBS_TO_KG\n",
    "\n",
    "df[['study_id', 'body_meas_prior_pregnancy_weight', 'weight_before_kg', 'weight_before']].head(10)"
   ]
  },
  {
   "cell_type": "code",
   "execution_count": 43,
   "id": "19b0b643",
   "metadata": {
    "ExecuteTime": {
     "end_time": "2021-07-19T16:22:45.140814Z",
     "start_time": "2021-07-19T16:22:45.137313Z"
    }
   },
   "outputs": [
    {
     "data": {
      "text/plain": [
       "False"
      ]
     },
     "execution_count": 43,
     "metadata": {},
     "output_type": "execute_result"
    }
   ],
   "source": [
    "df['body_meas_prior_pregnancy_weight'].equals(df['weight_before_kg'])"
   ]
  },
  {
   "cell_type": "code",
   "execution_count": 44,
   "id": "2b2494e8",
   "metadata": {
    "ExecuteTime": {
     "end_time": "2021-07-19T16:22:45.145315Z",
     "start_time": "2021-07-19T16:22:45.141816Z"
    }
   },
   "outputs": [
    {
     "name": "stdout",
     "output_type": "stream",
     "text": [
      "Study Id's which have unmatched prior_weight measurements between datasets\n",
      "[1781 1786 1791 1792 1795 1798 1805 1809]\n"
     ]
    }
   ],
   "source": [
    "print(\"Study Id's which have unmatched prior_weight measurements between datasets\")\n",
    "print(df['study_id'][np.floor(df['body_meas_prior_pregnancy_weight']) != np.floor(df['weight_before_kg'])].unique().astype(int))"
   ]
  },
  {
   "cell_type": "markdown",
   "id": "8b7758d2",
   "metadata": {},
   "source": [
    "#### Current Weight:"
   ]
  },
  {
   "cell_type": "code",
   "execution_count": 45,
   "id": "ce5016f6",
   "metadata": {
    "ExecuteTime": {
     "end_time": "2021-07-19T16:22:45.155313Z",
     "start_time": "2021-07-19T16:22:45.146315Z"
    }
   },
   "outputs": [
    {
     "data": {
      "text/html": [
       "<div>\n",
       "<style scoped>\n",
       "    .dataframe tbody tr th:only-of-type {\n",
       "        vertical-align: middle;\n",
       "    }\n",
       "\n",
       "    .dataframe tbody tr th {\n",
       "        vertical-align: top;\n",
       "    }\n",
       "\n",
       "    .dataframe thead th {\n",
       "        text-align: right;\n",
       "    }\n",
       "</style>\n",
       "<table border=\"1\" class=\"dataframe\">\n",
       "  <thead>\n",
       "    <tr style=\"text-align: right;\">\n",
       "      <th></th>\n",
       "      <th>study_id</th>\n",
       "      <th>body_meas_prior_pregnancy_weight</th>\n",
       "      <th>body_meas_current_weight</th>\n",
       "      <th>current_weight_kg</th>\n",
       "      <th>current_weight</th>\n",
       "    </tr>\n",
       "  </thead>\n",
       "  <tbody>\n",
       "    <tr>\n",
       "      <th>0</th>\n",
       "      <td>1773.0</td>\n",
       "      <td>68.0272</td>\n",
       "      <td>68.0272</td>\n",
       "      <td>82.100152</td>\n",
       "      <td>181.0</td>\n",
       "    </tr>\n",
       "    <tr>\n",
       "      <th>1</th>\n",
       "      <td>1773.0</td>\n",
       "      <td>68.0272</td>\n",
       "      <td>68.0272</td>\n",
       "      <td>82.100152</td>\n",
       "      <td>181.0</td>\n",
       "    </tr>\n",
       "    <tr>\n",
       "      <th>2</th>\n",
       "      <td>1773.0</td>\n",
       "      <td>68.0272</td>\n",
       "      <td>68.0272</td>\n",
       "      <td>82.100152</td>\n",
       "      <td>181.0</td>\n",
       "    </tr>\n",
       "    <tr>\n",
       "      <th>3</th>\n",
       "      <td>1773.0</td>\n",
       "      <td>68.0272</td>\n",
       "      <td>68.0272</td>\n",
       "      <td>82.100152</td>\n",
       "      <td>181.0</td>\n",
       "    </tr>\n",
       "    <tr>\n",
       "      <th>5</th>\n",
       "      <td>1778.0</td>\n",
       "      <td>68.0272</td>\n",
       "      <td>68.0272</td>\n",
       "      <td>82.100152</td>\n",
       "      <td>181.0</td>\n",
       "    </tr>\n",
       "  </tbody>\n",
       "</table>\n",
       "</div>"
      ],
      "text/plain": [
       "   study_id  body_meas_prior_pregnancy_weight  body_meas_current_weight  \\\n",
       "0    1773.0                           68.0272                   68.0272   \n",
       "1    1773.0                           68.0272                   68.0272   \n",
       "2    1773.0                           68.0272                   68.0272   \n",
       "3    1773.0                           68.0272                   68.0272   \n",
       "5    1778.0                           68.0272                   68.0272   \n",
       "\n",
       "   current_weight_kg  current_weight  \n",
       "0          82.100152           181.0  \n",
       "1          82.100152           181.0  \n",
       "2          82.100152           181.0  \n",
       "3          82.100152           181.0  \n",
       "5          82.100152           181.0  "
      ]
     },
     "execution_count": 45,
     "metadata": {},
     "output_type": "execute_result"
    }
   ],
   "source": [
    "df['current_weight_kg'] = df['current_weight']*LBS_TO_KG\n",
    "\n",
    "df[['study_id', 'body_meas_prior_pregnancy_weight', 'body_meas_current_weight', \n",
    "    'current_weight_kg', 'current_weight']].head()"
   ]
  },
  {
   "cell_type": "markdown",
   "id": "875c827f",
   "metadata": {},
   "source": [
    "The `body_meas_prior_pregnancy_weight` and the `body_meas_current_weight` is equal, so we'll use the CAN `current_weight_kg` column."
   ]
  },
  {
   "cell_type": "code",
   "execution_count": 46,
   "id": "c13c9aa7",
   "metadata": {
    "ExecuteTime": {
     "end_time": "2021-07-19T16:22:45.160314Z",
     "start_time": "2021-07-19T16:22:45.156313Z"
    }
   },
   "outputs": [
    {
     "data": {
      "text/plain": [
       "False"
      ]
     },
     "execution_count": 46,
     "metadata": {},
     "output_type": "execute_result"
    }
   ],
   "source": [
    "df['age'].equals(df['dem_det_age'])"
   ]
  },
  {
   "cell_type": "code",
   "execution_count": 47,
   "id": "8221ae5e",
   "metadata": {
    "ExecuteTime": {
     "end_time": "2021-07-19T16:22:45.164813Z",
     "start_time": "2021-07-19T16:22:45.161313Z"
    }
   },
   "outputs": [
    {
     "name": "stdout",
     "output_type": "stream",
     "text": [
      "Study Id's which have unmatched age between datasets\n",
      "[1778]\n"
     ]
    }
   ],
   "source": [
    "print(\"Study Id's which have unmatched age between datasets\")\n",
    "print(df['study_id'][np.floor(df['age']) != np.floor(df['dem_det_age'])].unique().astype(int))"
   ]
  },
  {
   "cell_type": "code",
   "execution_count": 48,
   "id": "94abafb8",
   "metadata": {
    "ExecuteTime": {
     "end_time": "2021-07-19T16:22:45.175311Z",
     "start_time": "2021-07-19T16:22:45.165812Z"
    }
   },
   "outputs": [
    {
     "data": {
      "text/html": [
       "<div>\n",
       "<style scoped>\n",
       "    .dataframe tbody tr th:only-of-type {\n",
       "        vertical-align: middle;\n",
       "    }\n",
       "\n",
       "    .dataframe tbody tr th {\n",
       "        vertical-align: top;\n",
       "    }\n",
       "\n",
       "    .dataframe thead th {\n",
       "        text-align: right;\n",
       "    }\n",
       "</style>\n",
       "<table border=\"1\" class=\"dataframe\">\n",
       "  <thead>\n",
       "    <tr style=\"text-align: right;\">\n",
       "      <th></th>\n",
       "      <th>study_id</th>\n",
       "      <th>dem_det_num_total_pregnancies</th>\n",
       "      <th>dem_det_num_term_birth</th>\n",
       "      <th>dem_det_num_preterm_births</th>\n",
       "      <th>dem_det_num_abortions</th>\n",
       "      <th>birth_order</th>\n",
       "    </tr>\n",
       "  </thead>\n",
       "  <tbody>\n",
       "    <tr>\n",
       "      <th>0</th>\n",
       "      <td>1773.0</td>\n",
       "      <td>NaN</td>\n",
       "      <td>NaN</td>\n",
       "      <td>NaN</td>\n",
       "      <td>NaN</td>\n",
       "      <td>2.0</td>\n",
       "    </tr>\n",
       "    <tr>\n",
       "      <th>1</th>\n",
       "      <td>1773.0</td>\n",
       "      <td>NaN</td>\n",
       "      <td>NaN</td>\n",
       "      <td>NaN</td>\n",
       "      <td>NaN</td>\n",
       "      <td>2.0</td>\n",
       "    </tr>\n",
       "    <tr>\n",
       "      <th>2</th>\n",
       "      <td>1773.0</td>\n",
       "      <td>NaN</td>\n",
       "      <td>NaN</td>\n",
       "      <td>NaN</td>\n",
       "      <td>NaN</td>\n",
       "      <td>2.0</td>\n",
       "    </tr>\n",
       "    <tr>\n",
       "      <th>3</th>\n",
       "      <td>1773.0</td>\n",
       "      <td>NaN</td>\n",
       "      <td>NaN</td>\n",
       "      <td>NaN</td>\n",
       "      <td>NaN</td>\n",
       "      <td>2.0</td>\n",
       "    </tr>\n",
       "    <tr>\n",
       "      <th>5</th>\n",
       "      <td>1778.0</td>\n",
       "      <td>NaN</td>\n",
       "      <td>NaN</td>\n",
       "      <td>NaN</td>\n",
       "      <td>NaN</td>\n",
       "      <td>2.0</td>\n",
       "    </tr>\n",
       "    <tr>\n",
       "      <th>6</th>\n",
       "      <td>1779.0</td>\n",
       "      <td>NaN</td>\n",
       "      <td>NaN</td>\n",
       "      <td>NaN</td>\n",
       "      <td>NaN</td>\n",
       "      <td>2.0</td>\n",
       "    </tr>\n",
       "    <tr>\n",
       "      <th>7</th>\n",
       "      <td>1779.0</td>\n",
       "      <td>NaN</td>\n",
       "      <td>NaN</td>\n",
       "      <td>NaN</td>\n",
       "      <td>NaN</td>\n",
       "      <td>2.0</td>\n",
       "    </tr>\n",
       "    <tr>\n",
       "      <th>8</th>\n",
       "      <td>1780.0</td>\n",
       "      <td>NaN</td>\n",
       "      <td>NaN</td>\n",
       "      <td>NaN</td>\n",
       "      <td>NaN</td>\n",
       "      <td>3.0</td>\n",
       "    </tr>\n",
       "    <tr>\n",
       "      <th>9</th>\n",
       "      <td>1780.0</td>\n",
       "      <td>NaN</td>\n",
       "      <td>NaN</td>\n",
       "      <td>NaN</td>\n",
       "      <td>NaN</td>\n",
       "      <td>3.0</td>\n",
       "    </tr>\n",
       "    <tr>\n",
       "      <th>10</th>\n",
       "      <td>1781.0</td>\n",
       "      <td>NaN</td>\n",
       "      <td>NaN</td>\n",
       "      <td>NaN</td>\n",
       "      <td>NaN</td>\n",
       "      <td>2.0</td>\n",
       "    </tr>\n",
       "  </tbody>\n",
       "</table>\n",
       "</div>"
      ],
      "text/plain": [
       "    study_id  dem_det_num_total_pregnancies  dem_det_num_term_birth  \\\n",
       "0     1773.0                            NaN                     NaN   \n",
       "1     1773.0                            NaN                     NaN   \n",
       "2     1773.0                            NaN                     NaN   \n",
       "3     1773.0                            NaN                     NaN   \n",
       "5     1778.0                            NaN                     NaN   \n",
       "6     1779.0                            NaN                     NaN   \n",
       "7     1779.0                            NaN                     NaN   \n",
       "8     1780.0                            NaN                     NaN   \n",
       "9     1780.0                            NaN                     NaN   \n",
       "10    1781.0                            NaN                     NaN   \n",
       "\n",
       "    dem_det_num_preterm_births  dem_det_num_abortions  birth_order  \n",
       "0                          NaN                    NaN          2.0  \n",
       "1                          NaN                    NaN          2.0  \n",
       "2                          NaN                    NaN          2.0  \n",
       "3                          NaN                    NaN          2.0  \n",
       "5                          NaN                    NaN          2.0  \n",
       "6                          NaN                    NaN          2.0  \n",
       "7                          NaN                    NaN          2.0  \n",
       "8                          NaN                    NaN          3.0  \n",
       "9                          NaN                    NaN          3.0  \n",
       "10                         NaN                    NaN          2.0  "
      ]
     },
     "execution_count": 48,
     "metadata": {},
     "output_type": "execute_result"
    }
   ],
   "source": [
    "df[['study_id', 'dem_det_num_total_pregnancies', 'dem_det_num_term_birth', 'dem_det_num_preterm_births', \n",
    "    'dem_det_num_abortions', 'birth_order']].head(10)"
   ]
  },
  {
   "cell_type": "markdown",
   "id": "de7bec52",
   "metadata": {},
   "source": [
    "The above columns have many missing values, we will drop them and settle for the `birth_order` feature."
   ]
  },
  {
   "cell_type": "markdown",
   "id": "6d8bbde0",
   "metadata": {},
   "source": [
    "#### Observving missing data for study ids:"
   ]
  },
  {
   "cell_type": "code",
   "execution_count": 49,
   "id": "246d7ace",
   "metadata": {
    "ExecuteTime": {
     "end_time": "2021-07-19T16:22:45.181813Z",
     "start_time": "2021-07-19T16:22:45.176313Z"
    },
    "hide_input": true
   },
   "outputs": [
    {
     "name": "stdout",
     "output_type": "stream",
     "text": [
      "Study ID's which have CAN questionnaires but missing sessions data:\n",
      "{1807, 1810, 1784, 1785, 1788, 1790}\n",
      "\n",
      "Study ID's which have sessions data but missing CAN questionnaires:\n",
      "{1811, 1814}\n",
      "\n",
      "There are 2 missing study id's, below are their matching subject id's:\n",
      "['7bbb35b1-981a-4177-b885-2801a1d6938e'\n",
      " 'b140d947-736d-438a-93bb-e956d2175f7e']\n",
      "\n",
      "The above study ids have been removed from the data for anaylsis\n"
     ]
    }
   ],
   "source": [
    "print(\"Study ID's which have CAN questionnaires but missing sessions data:\")\n",
    "print(set(df_can.MasterID.unique().astype(int)).difference(df.study_id.unique()))\n",
    "\n",
    "#df_temp = df_sessions.merge(df_can, how= 'left', left_on='study_id', right_on='MasterID')\n",
    "print()\n",
    "print(\"Study ID's which have sessions data but missing CAN questionnaires:\")\n",
    "print(set(df_sessions.study_id[df_sessions.study_id.notna()].unique().astype(int)).difference(df_can.MasterID.unique()))\n",
    "\n",
    "missing_study_ids = df_sessions.subject_id[df_sessions.study_id.isna()].unique()\n",
    "print()\n",
    "print(f\"There are {len(missing_study_ids)} missing study id's, below are their matching subject id's:\")\n",
    "print(missing_study_ids)\n",
    "\n",
    "print()\n",
    "print(\"The above study ids have been removed from the data for anaylsis\")"
   ]
  },
  {
   "cell_type": "markdown",
   "id": "26868c0d",
   "metadata": {},
   "source": [
    "#### Dropping unnecessary columns:"
   ]
  },
  {
   "cell_type": "code",
   "execution_count": 50,
   "id": "8219db6b",
   "metadata": {
    "ExecuteTime": {
     "end_time": "2021-07-19T16:22:45.186312Z",
     "start_time": "2021-07-19T16:22:45.182812Z"
    }
   },
   "outputs": [],
   "source": [
    "df.drop(columns = ['body_meas_height', 'body_meas_bmi', 'body_meas_prior_pregnancy_weight', 'body_meas_prior_pregnancy_weight', \n",
    "                   'mon_sess_time_zone_diff', 'mon_sess_date', 'mon_sess_start_time', 'mon_sess_duration', 'dem_det_age', \n",
    "                   'subject_id', 'session_id', 'current_weight_kg', 'weight_before_kg', 'current_height_cm', \n",
    "                   'body_meas_current_weight', 'MasterID'], inplace = True)"
   ]
  },
  {
   "cell_type": "markdown",
   "id": "8b7da76a",
   "metadata": {},
   "source": [
    "#### Dropping features with a high portion of missing values:"
   ]
  },
  {
   "cell_type": "code",
   "execution_count": 51,
   "id": "87dd5efd",
   "metadata": {
    "ExecuteTime": {
     "end_time": "2021-07-19T16:22:45.214813Z",
     "start_time": "2021-07-19T16:22:45.187313Z"
    }
   },
   "outputs": [
    {
     "name": "stdout",
     "output_type": "stream",
     "text": [
      "Features dropped:\n",
      "\n",
      "dem_det_num_total_pregnancies 0.468\n",
      "dem_det_num_term_birth 0.468\n",
      "dem_det_num_preterm_births 0.468\n",
      "dem_det_num_abortions 0.468\n",
      "dem_det_num_living_children 0.468\n",
      "f_ALPHA_SI 0.362\n",
      "f_RMSSD5 0.362\n",
      "f_SDARR5 0.362\n",
      "f_SDRRI5 0.362\n"
     ]
    }
   ],
   "source": [
    "THRESHOLD = 0.33\n",
    "\n",
    "cols_to_drop = []\n",
    "\n",
    "print('Features dropped:')\n",
    "print()\n",
    "for column in df.columns:\n",
    "    if df[column].isna().sum()/len(df[column]) > THRESHOLD:\n",
    "        cols_to_drop.append(column)\n",
    "        print(column, round(df[column].isna().sum()/len(df[column]), 3))\n",
    "        \n",
    "df.drop(columns = cols_to_drop, inplace = True)"
   ]
  },
  {
   "cell_type": "markdown",
   "id": "eed4a7cd",
   "metadata": {},
   "source": [
    "#### Checking portions of missing values in ML-BI features:"
   ]
  },
  {
   "cell_type": "code",
   "execution_count": 52,
   "id": "81a88b04",
   "metadata": {
    "ExecuteTime": {
     "end_time": "2021-07-19T16:22:45.240917Z",
     "start_time": "2021-07-19T16:22:45.215812Z"
    }
   },
   "outputs": [
    {
     "name": "stdout",
     "output_type": "stream",
     "text": [
      "f_II_IBI 0.149\n",
      "f_LTI_IBI 0.191\n",
      "f_LTV_IBI 0.149\n",
      "f_RMSSD1 0.149\n",
      "f_RMSSD_30sec 0.128\n",
      "f_SDARR1 0.149\n",
      "f_SDARR_30sec 0.128\n",
      "f_SDRRI1 0.149\n",
      "f_SDRRI_30sec 0.128\n",
      "f_STI_IBI 0.191\n",
      "f_STV_IBI 0.149\n"
     ]
    }
   ],
   "source": [
    "T = 0.1\n",
    "\n",
    "for column in df.columns:\n",
    "    if df[column].isna().sum()/len(df[column]) > T:\n",
    "        print(column, round(df[column].isna().sum()/len(df[column]), 3))"
   ]
  },
  {
   "cell_type": "markdown",
   "id": "3773e1c9",
   "metadata": {},
   "source": [
    "#### Configuring LTI_STI features: (values are given as a string of two values, we will take the difference between them)"
   ]
  },
  {
   "cell_type": "code",
   "execution_count": 53,
   "id": "3e48f4d8",
   "metadata": {
    "ExecuteTime": {
     "end_time": "2021-07-19T16:22:45.258330Z",
     "start_time": "2021-07-19T16:22:45.241813Z"
    }
   },
   "outputs": [],
   "source": [
    "lti_sti_features = [col for col in df.columns if 'LTI' in col or 'STI' in col]\n",
    "\n",
    "for feat in lti_sti_features:\n",
    "    df[feat] = df[feat].map(lambda x: eval(x)[1] - eval(x)[0] if x==x else x)"
   ]
  },
  {
   "cell_type": "markdown",
   "id": "b5c91f40",
   "metadata": {},
   "source": [
    "#### And filling their missing values:"
   ]
  },
  {
   "cell_type": "code",
   "execution_count": 54,
   "id": "45610e21",
   "metadata": {
    "ExecuteTime": {
     "end_time": "2021-07-19T16:22:45.290434Z",
     "start_time": "2021-07-19T16:22:45.259312Z"
    }
   },
   "outputs": [
    {
     "data": {
      "text/html": [
       "<div>\n",
       "<style scoped>\n",
       "    .dataframe tbody tr th:only-of-type {\n",
       "        vertical-align: middle;\n",
       "    }\n",
       "\n",
       "    .dataframe tbody tr th {\n",
       "        vertical-align: top;\n",
       "    }\n",
       "\n",
       "    .dataframe thead th {\n",
       "        text-align: right;\n",
       "    }\n",
       "</style>\n",
       "<table border=\"1\" class=\"dataframe\">\n",
       "  <thead>\n",
       "    <tr style=\"text-align: right;\">\n",
       "      <th></th>\n",
       "      <th>study_id</th>\n",
       "      <th>dem_det_pregnancy_week</th>\n",
       "      <th>f_DELTA_TOTAL</th>\n",
       "      <th>f_HF_COARSE</th>\n",
       "      <th>f_HF_FINE</th>\n",
       "      <th>f_HF_FINE_NORM</th>\n",
       "      <th>f_HR_HIST_MAX</th>\n",
       "      <th>f_HR_HIST_MEAN</th>\n",
       "      <th>f_HR_HIST_MEDIAN</th>\n",
       "      <th>f_HR_HIST_MIN</th>\n",
       "      <th>...</th>\n",
       "      <th>cesdsevmA</th>\n",
       "      <th>DERSnamA</th>\n",
       "      <th>DERSgmA</th>\n",
       "      <th>DERSimpmA</th>\n",
       "      <th>DERSawmA</th>\n",
       "      <th>DERSstgmA</th>\n",
       "      <th>DERSclrmA</th>\n",
       "      <th>DERStotmA</th>\n",
       "      <th>num_of_prior_diseases</th>\n",
       "      <th>body_BMI</th>\n",
       "    </tr>\n",
       "  </thead>\n",
       "  <tbody>\n",
       "    <tr>\n",
       "      <th>0</th>\n",
       "      <td>1773.0</td>\n",
       "      <td>36.0</td>\n",
       "      <td>62.196171</td>\n",
       "      <td>5.170254e+06</td>\n",
       "      <td>1989.800415</td>\n",
       "      <td>0.000098</td>\n",
       "      <td>132.666127</td>\n",
       "      <td>0.002475</td>\n",
       "      <td>0.001522</td>\n",
       "      <td>149.004163</td>\n",
       "      <td>...</td>\n",
       "      <td>1.0</td>\n",
       "      <td>10.0</td>\n",
       "      <td>8.0</td>\n",
       "      <td>6.0</td>\n",
       "      <td>12.0</td>\n",
       "      <td>10.0</td>\n",
       "      <td>8.0</td>\n",
       "      <td>54.0</td>\n",
       "      <td>1.0</td>\n",
       "      <td>31.068235</td>\n",
       "    </tr>\n",
       "    <tr>\n",
       "      <th>1</th>\n",
       "      <td>1773.0</td>\n",
       "      <td>36.0</td>\n",
       "      <td>39.735609</td>\n",
       "      <td>1.028159e+06</td>\n",
       "      <td>811.331360</td>\n",
       "      <td>0.000174</td>\n",
       "      <td>138.633414</td>\n",
       "      <td>0.003968</td>\n",
       "      <td>0.001838</td>\n",
       "      <td>140.749948</td>\n",
       "      <td>...</td>\n",
       "      <td>1.0</td>\n",
       "      <td>10.0</td>\n",
       "      <td>8.0</td>\n",
       "      <td>6.0</td>\n",
       "      <td>12.0</td>\n",
       "      <td>10.0</td>\n",
       "      <td>8.0</td>\n",
       "      <td>54.0</td>\n",
       "      <td>1.0</td>\n",
       "      <td>31.068235</td>\n",
       "    </tr>\n",
       "    <tr>\n",
       "      <th>2</th>\n",
       "      <td>1773.0</td>\n",
       "      <td>36.0</td>\n",
       "      <td>57.518621</td>\n",
       "      <td>5.483358e+05</td>\n",
       "      <td>198.404724</td>\n",
       "      <td>0.000074</td>\n",
       "      <td>136.990166</td>\n",
       "      <td>0.002481</td>\n",
       "      <td>0.001324</td>\n",
       "      <td>156.443626</td>\n",
       "      <td>...</td>\n",
       "      <td>1.0</td>\n",
       "      <td>10.0</td>\n",
       "      <td>8.0</td>\n",
       "      <td>6.0</td>\n",
       "      <td>12.0</td>\n",
       "      <td>10.0</td>\n",
       "      <td>8.0</td>\n",
       "      <td>54.0</td>\n",
       "      <td>1.0</td>\n",
       "      <td>31.068235</td>\n",
       "    </tr>\n",
       "    <tr>\n",
       "      <th>3</th>\n",
       "      <td>1773.0</td>\n",
       "      <td>36.0</td>\n",
       "      <td>53.646547</td>\n",
       "      <td>5.352804e+05</td>\n",
       "      <td>114.825485</td>\n",
       "      <td>0.000030</td>\n",
       "      <td>132.434035</td>\n",
       "      <td>0.002778</td>\n",
       "      <td>0.001317</td>\n",
       "      <td>139.040884</td>\n",
       "      <td>...</td>\n",
       "      <td>1.0</td>\n",
       "      <td>10.0</td>\n",
       "      <td>8.0</td>\n",
       "      <td>6.0</td>\n",
       "      <td>12.0</td>\n",
       "      <td>10.0</td>\n",
       "      <td>8.0</td>\n",
       "      <td>54.0</td>\n",
       "      <td>1.0</td>\n",
       "      <td>31.068235</td>\n",
       "    </tr>\n",
       "    <tr>\n",
       "      <th>4</th>\n",
       "      <td>1778.0</td>\n",
       "      <td>39.0</td>\n",
       "      <td>110.463725</td>\n",
       "      <td>8.983147e+05</td>\n",
       "      <td>232.927063</td>\n",
       "      <td>0.000063</td>\n",
       "      <td>126.991279</td>\n",
       "      <td>0.003195</td>\n",
       "      <td>0.000972</td>\n",
       "      <td>125.122193</td>\n",
       "      <td>...</td>\n",
       "      <td>3.0</td>\n",
       "      <td>19.0</td>\n",
       "      <td>14.0</td>\n",
       "      <td>7.0</td>\n",
       "      <td>21.0</td>\n",
       "      <td>13.0</td>\n",
       "      <td>7.0</td>\n",
       "      <td>81.0</td>\n",
       "      <td>1.0</td>\n",
       "      <td>31.068235</td>\n",
       "    </tr>\n",
       "  </tbody>\n",
       "</table>\n",
       "<p>5 rows × 187 columns</p>\n",
       "</div>"
      ],
      "text/plain": [
       "   study_id  dem_det_pregnancy_week  f_DELTA_TOTAL   f_HF_COARSE    f_HF_FINE  \\\n",
       "0    1773.0                    36.0      62.196171  5.170254e+06  1989.800415   \n",
       "1    1773.0                    36.0      39.735609  1.028159e+06   811.331360   \n",
       "2    1773.0                    36.0      57.518621  5.483358e+05   198.404724   \n",
       "3    1773.0                    36.0      53.646547  5.352804e+05   114.825485   \n",
       "4    1778.0                    39.0     110.463725  8.983147e+05   232.927063   \n",
       "\n",
       "   f_HF_FINE_NORM  f_HR_HIST_MAX  f_HR_HIST_MEAN  f_HR_HIST_MEDIAN  \\\n",
       "0        0.000098     132.666127        0.002475          0.001522   \n",
       "1        0.000174     138.633414        0.003968          0.001838   \n",
       "2        0.000074     136.990166        0.002481          0.001324   \n",
       "3        0.000030     132.434035        0.002778          0.001317   \n",
       "4        0.000063     126.991279        0.003195          0.000972   \n",
       "\n",
       "   f_HR_HIST_MIN  ...  cesdsevmA  DERSnamA  DERSgmA  DERSimpmA  DERSawmA  \\\n",
       "0     149.004163  ...        1.0      10.0      8.0        6.0      12.0   \n",
       "1     140.749948  ...        1.0      10.0      8.0        6.0      12.0   \n",
       "2     156.443626  ...        1.0      10.0      8.0        6.0      12.0   \n",
       "3     139.040884  ...        1.0      10.0      8.0        6.0      12.0   \n",
       "4     125.122193  ...        3.0      19.0     14.0        7.0      21.0   \n",
       "\n",
       "   DERSstgmA  DERSclrmA  DERStotmA  num_of_prior_diseases   body_BMI  \n",
       "0       10.0        8.0       54.0                    1.0  31.068235  \n",
       "1       10.0        8.0       54.0                    1.0  31.068235  \n",
       "2       10.0        8.0       54.0                    1.0  31.068235  \n",
       "3       10.0        8.0       54.0                    1.0  31.068235  \n",
       "4       13.0        7.0       81.0                    1.0  31.068235  \n",
       "\n",
       "[5 rows x 187 columns]"
      ]
     },
     "execution_count": 54,
     "metadata": {},
     "output_type": "execute_result"
    }
   ],
   "source": [
    "imp_mean = SimpleImputer(missing_values=np.nan, strategy='mean')\n",
    "\n",
    "_ = imp_mean.fit(df)\n",
    "\n",
    "df = pd.DataFrame(imp_mean.transform(df), columns = df.columns)\n",
    "\n",
    "df.head()"
   ]
  },
  {
   "cell_type": "markdown",
   "id": "3d15f9db",
   "metadata": {},
   "source": [
    "#### One-Hot encoding demographic features:"
   ]
  },
  {
   "cell_type": "code",
   "execution_count": 55,
   "id": "d7d8b6f6",
   "metadata": {
    "ExecuteTime": {
     "end_time": "2021-07-19T16:22:45.305614Z",
     "start_time": "2021-07-19T16:22:45.292181Z"
    }
   },
   "outputs": [],
   "source": [
    "demographs = ['ethnicity', 'race']\n",
    "\n",
    "dicts = [ethnicity_dict, race_dict]\n",
    "\n",
    "for i, feat in enumerate(demographs):\n",
    "    dct = dicts[i]\n",
    "    df[feat] = df[feat].map(lambda x: dct[x])\n",
    "    df_one_hot = pd.get_dummies(df[feat], prefix = [feat])\n",
    "    df = pd.concat([df, df_one_hot], axis = 1)\n",
    "    df.drop(columns = [feat], inplace=True)"
   ]
  },
  {
   "cell_type": "markdown",
   "id": "7bf87915",
   "metadata": {},
   "source": [
    "#### Creating a features-only dataframe:"
   ]
  },
  {
   "cell_type": "code",
   "execution_count": 56,
   "id": "fc69ff51",
   "metadata": {
    "ExecuteTime": {
     "end_time": "2021-07-19T16:22:45.321431Z",
     "start_time": "2021-07-19T16:22:45.306618Z"
    }
   },
   "outputs": [],
   "source": [
    "all_targets = [\"DERSclrmA\", \"DERStotmA\", \"DERSstgmA\", \"DERSawmA\", \"DERSimpmA\", \"DERSgmA\", \"DERSnamA\", \"psaavmA\", \"psatotmA\", \n",
    "               \"cesdtotmA\", \"cesdclinmA\", \"cesdsevmA\"]\n",
    "\n",
    "df_feats = df.drop(columns = all_targets)"
   ]
  },
  {
   "cell_type": "markdown",
   "id": "ae1c0d4e",
   "metadata": {},
   "source": [
    "#### And a dataframe of targets only:"
   ]
  },
  {
   "cell_type": "code",
   "execution_count": 57,
   "id": "61c1f204",
   "metadata": {
    "ExecuteTime": {
     "end_time": "2021-07-19T16:22:45.337588Z",
     "start_time": "2021-07-19T16:22:45.322436Z"
    }
   },
   "outputs": [],
   "source": [
    "df_targets = df[all_targets]"
   ]
  },
  {
   "cell_type": "markdown",
   "id": "43910383",
   "metadata": {},
   "source": [
    "#### Dropping features with low cardinality:"
   ]
  },
  {
   "cell_type": "code",
   "execution_count": 58,
   "id": "6f57a055",
   "metadata": {
    "ExecuteTime": {
     "end_time": "2021-07-19T16:22:45.368342Z",
     "start_time": "2021-07-19T16:22:45.339117Z"
    }
   },
   "outputs": [
    {
     "name": "stdout",
     "output_type": "stream",
     "text": [
      "Shape before: (47, 182)\n",
      "Shape after: (47, 176)\n"
     ]
    }
   ],
   "source": [
    "df_feats_temp = df_feats.copy()\n",
    "\n",
    "scaler = RobustScaler()\n",
    "scaler.fit(df_feats_temp)\n",
    "\n",
    "df_feats_temp = pd.DataFrame(scaler.transform(df_feats_temp), columns=df_feats_temp.columns)\n",
    "\n",
    "CAR_THRESHOLD = 0.03\n",
    "\n",
    "print(f'Shape before: {df_feats_temp.shape}')\n",
    "\n",
    "selector = VarianceThreshold(CAR_THRESHOLD)\n",
    "\n",
    "df_feats_temp = pd.DataFrame(selector.fit_transform(df_feats_temp), \n",
    "                            columns = df_feats_temp.columns[selector.get_support(indices=True)])\n",
    "\n",
    "print(f'Shape after: {df_feats_temp.shape}')"
   ]
  },
  {
   "cell_type": "code",
   "execution_count": 59,
   "id": "64c8990c",
   "metadata": {
    "ExecuteTime": {
     "end_time": "2021-07-19T16:22:45.383562Z",
     "start_time": "2021-07-19T16:22:45.370263Z"
    }
   },
   "outputs": [
    {
     "data": {
      "text/plain": [
       "(47, 176)"
      ]
     },
     "execution_count": 59,
     "metadata": {},
     "output_type": "execute_result"
    }
   ],
   "source": [
    "df_feats = df_feats.filter(items=df_feats_temp.columns)\n",
    "df_feats.shape"
   ]
  },
  {
   "cell_type": "markdown",
   "id": "6a4c4e0c",
   "metadata": {},
   "source": [
    "### Distributions of ML-BI features:"
   ]
  },
  {
   "cell_type": "code",
   "execution_count": 60,
   "id": "fe6d2c48",
   "metadata": {
    "ExecuteTime": {
     "end_time": "2021-07-19T16:22:45.399303Z",
     "start_time": "2021-07-19T16:22:45.384577Z"
    }
   },
   "outputs": [],
   "source": [
    "example_feats = [\"f_HF_FINE\", \"dem_det_pregnancy_week\", \"f_HR_HIST_NMAX\", \"f_LF_MFHF_RATIO\", \"f_LTV_IBI\", \"f_MAXRR\", \"m_SDARR1\"]"
   ]
  },
  {
   "cell_type": "code",
   "execution_count": 67,
   "id": "cc743f2d",
   "metadata": {
    "ExecuteTime": {
     "end_time": "2021-07-19T16:33:19.589763Z",
     "start_time": "2021-07-19T16:33:18.428844Z"
    },
    "hide_input": false,
    "scrolled": false
   },
   "outputs": [
    {
     "data": {
      "image/png": "[encoded data removed]",
      "text/plain": [
       "<Figure size 360x360 with 1 Axes>"
      ]
     },
     "metadata": {
      "needs_background": "light"
     },
     "output_type": "display_data"
    },
    {
     "data": {
      "image/png": "[encoded data removed]",
      "text/plain": [
       "<Figure size 360x360 with 1 Axes>"
      ]
     },
     "metadata": {
      "needs_background": "light"
     },
     "output_type": "display_data"
    },
    {
     "data": {
      "image/png": "[encoded data removed]",
      "text/plain": [
       "<Figure size 360x360 with 1 Axes>"
      ]
     },
     "metadata": {
      "needs_background": "light"
     },
     "output_type": "display_data"
    },
    {
     "data": {
      "image/png": "[encoded data removed]",
      "text/plain": [
       "<Figure size 360x360 with 1 Axes>"
      ]
     },
     "metadata": {
      "needs_background": "light"
     },
     "output_type": "display_data"
    },
    {
     "data": {
      "image/png": "[encoded data removed]",
      "text/plain": [
       "<Figure size 360x360 with 1 Axes>"
      ]
     },
     "metadata": {
      "needs_background": "light"
     },
     "output_type": "display_data"
    },
    {
     "data": {
      "image/png": "[encoded data removed]",
      "text/plain": [
       "<Figure size 360x360 with 1 Axes>"
      ]
     },
     "metadata": {
      "needs_background": "light"
     },
     "output_type": "display_data"
    },
    {
     "data": {
      "image/png": "[encoded data removed]",
      "text/plain": [
       "<Figure size 360x360 with 1 Axes>"
      ]
     },
     "metadata": {
      "needs_background": "light"
     },
     "output_type": "display_data"
    }
   ],
   "source": [
    "for feat in example_feats:\n",
    "    if feat == \"f_HF_FINE\":\n",
    "        sns.displot(x = df[feat], data=df, bins=60)\n",
    "        plt.title(f'{feat} distribution')\n",
    "    else:\n",
    "        sns.displot(x = df[feat], data=df, bins=20)\n",
    "        plt.title(f'{feat} distribution');"
   ]
  },
  {
   "cell_type": "markdown",
   "id": "c0f232ea",
   "metadata": {},
   "source": [
    "#### Exporting to CSV:"
   ]
  },
  {
   "cell_type": "code",
   "execution_count": 62,
   "id": "97cc1ccc",
   "metadata": {
    "ExecuteTime": {
     "end_time": "2021-07-19T16:22:46.537621Z",
     "start_time": "2021-07-19T16:22:46.522647Z"
    }
   },
   "outputs": [],
   "source": [
    "df_feats.to_csv('df_feats.csv', index=False)\n",
    "df_targets.to_csv('df_targets.csv', index=False)"
   ]
  },
  {
   "cell_type": "code",
   "execution_count": null,
   "id": "e5e3604b",
   "metadata": {},
   "outputs": [],
   "source": []
  }
 ],
 "metadata": {
  "kernelspec": {
   "display_name": "Python 3",
   "language": "python",
   "name": "python3"
  },
  "language_info": {
   "codemirror_mode": {
    "name": "ipython",
    "version": 3
   },
   "file_extension": ".py",
   "mimetype": "text/x-python",
   "name": "python",
   "nbconvert_exporter": "python",
   "pygments_lexer": "ipython3",
   "version": "3.7.4"
  }
 },
 "nbformat": 4,
 "nbformat_minor": 5
}
